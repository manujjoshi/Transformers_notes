{
 "cells": [
  {
   "cell_type": "code",
   "execution_count": 2,
   "id": "d2411dbc",
   "metadata": {},
   "outputs": [],
   "source": [
    "# !pip install ohmeow-blurr -q\n",
    "# !pip install bert-score -q"
   ]
  },
  {
   "cell_type": "code",
   "execution_count": 5,
   "id": "badd9e59",
   "metadata": {},
   "outputs": [],
   "source": [
    "# !pip install fastai2"
   ]
  },
  {
   "cell_type": "code",
   "execution_count": 6,
   "id": "5b6e012a",
   "metadata": {},
   "outputs": [
    {
     "data": {
      "application/vnd.jupyter.widget-view+json": {
       "model_id": "e3d16ada2b3649ff82c6f6d2fd2db333",
       "version_major": 2,
       "version_minor": 0
      },
      "text/plain": [
       "Downloading builder script:   0%|          | 0.00/1.72k [00:00<?, ?B/s]"
      ]
     },
     "metadata": {},
     "output_type": "display_data"
    },
    {
     "data": {
      "application/vnd.jupyter.widget-view+json": {
       "model_id": "ed14810884374e13be6addad76fe5f99",
       "version_major": 2,
       "version_minor": 0
      },
      "text/plain": [
       "Downloading extra modules:   0%|          | 0.00/1.12k [00:00<?, ?B/s]"
      ]
     },
     "metadata": {},
     "output_type": "display_data"
    }
   ],
   "source": [
    "from fastai.text.all import *\n",
    "from blurr.text.data.all import *\n",
    "from blurr.text.modeling.all import *\n",
    "import transformers"
   ]
  },
  {
   "cell_type": "code",
   "execution_count": 10,
   "id": "b019b7ca",
   "metadata": {},
   "outputs": [],
   "source": [
    "import pathlib\n",
    "temp = pathlib.PosixPath\n",
    "pathlib.PosixPath = pathlib.WindowsPath"
   ]
  },
  {
   "cell_type": "code",
   "execution_count": 34,
   "id": "730130dc",
   "metadata": {},
   "outputs": [],
   "source": [
    "inf_learn = load_learner(fname='D:\\Celebel_Tech\\\\ft_cnndm_export_orig.pkl')"
   ]
  },
  {
   "cell_type": "code",
   "execution_count": 12,
   "id": "02a07b1c",
   "metadata": {},
   "outputs": [
    {
     "data": {
      "text/plain": [
       "[{'summary_texts': \"'I am a good boy' is the message of a young boy's message to his good boy. 'I am not a bad boy' says the boy who is good and tells him he is a good person and is good to the boy's mother and father.\"}]"
      ]
     },
     "execution_count": 12,
     "metadata": {},
     "output_type": "execute_result"
    }
   ],
   "source": [
    "inf_learn.blurr_summarize('I am a good boy')"
   ]
  },
  {
   "cell_type": "code",
   "execution_count": 13,
   "id": "e682035f",
   "metadata": {},
   "outputs": [],
   "source": [
    "import pandas as pd"
   ]
  },
  {
   "cell_type": "code",
   "execution_count": 16,
   "id": "86799117",
   "metadata": {},
   "outputs": [],
   "source": [
    "data_file = r'our_data.json'\n",
    "df = pd.read_json(data_file)"
   ]
  },
  {
   "cell_type": "code",
   "execution_count": 17,
   "id": "f9122f7e",
   "metadata": {},
   "outputs": [],
   "source": [
    "summ = []\n",
    "for i in df.dialogue:\n",
    "    summary = inf_learn.blurr_summarize(i)\n",
    "    summ.append(summary)"
   ]
  },
  {
   "cell_type": "code",
   "execution_count": 18,
   "id": "6a363966",
   "metadata": {},
   "outputs": [],
   "source": [
    "df['prediction'] = summ"
   ]
  },
  {
   "cell_type": "code",
   "execution_count": 19,
   "id": "04e8f1ff",
   "metadata": {},
   "outputs": [
    {
     "data": {
      "text/html": [
       "<div>\n",
       "<style scoped>\n",
       "    .dataframe tbody tr th:only-of-type {\n",
       "        vertical-align: middle;\n",
       "    }\n",
       "\n",
       "    .dataframe tbody tr th {\n",
       "        vertical-align: top;\n",
       "    }\n",
       "\n",
       "    .dataframe thead th {\n",
       "        text-align: right;\n",
       "    }\n",
       "</style>\n",
       "<table border=\"1\" class=\"dataframe\">\n",
       "  <thead>\n",
       "    <tr style=\"text-align: right;\">\n",
       "      <th></th>\n",
       "      <th>id</th>\n",
       "      <th>summ</th>\n",
       "      <th>dialogue</th>\n",
       "      <th>prediction</th>\n",
       "    </tr>\n",
       "  </thead>\n",
       "  <tbody>\n",
       "    <tr>\n",
       "      <th>0</th>\n",
       "      <td>10</td>\n",
       "      <td>manuj wanted to know about the renewal of his policy. his mobile number is 9998887776, date of birth is 25th august 2021, prashanth has send him the renewal payemt link.</td>\n",
       "      <td>prashanth: welcome to celebal tech ivr automation demo. hi how are you? manuj: i'm fine. prashanth: thank you for calling city health insurance my name is prashanth. how can i help you today? manuj: i have an health policy with you. i wanted to know do i need to renew the policy?\\nprashanth: of course i can do that. could you please confirm few details before i give you the necessary information? could you please tell me your registered mobile number? manuj: yeah sure it's 9998887776. i can confirm that you have active health insurance policy with us. can you confirm your name and date of ...</td>\n",
       "      <td>[{'summary_texts': ' manuj calls city health insurance to renew his health insurance policy. prashanth will send him a payment link of renewal for the 2 year option. manuj will receive the payment link on his registered mobile number and email address and will share the link with him shortly.'}]</td>\n",
       "    </tr>\n",
       "    <tr>\n",
       "      <th>1</th>\n",
       "      <td>12</td>\n",
       "      <td>manuj has made a transaction of 42000 on flipkart on 16th oct 2021 through your credit card, he is ready to pay full payment.</td>\n",
       "      <td>prashanth: welcome to celebal technologies ivr automation demo. i can help with bank related queries. manuj:hello. prashanth:hello, i'm prashanth calling from celebal bank. am i talking to mr manuj? manuj:yes you are. prashanth:thanks for confirming your name mr manuj. this call is being recorded by celebal tech bank. for security reasons, please do not share your cvv and otp with anyone.\\nmanuj: okay. prashanth:i can see that you have recently done the transaction of 42,000 from flipkart on 16th oct 2021 through your credit card. you can instantly get this amount converted into emi. would...</td>\n",
       "      <td>[{'summary_texts': ' mr manuj calls prashanth from celebal bank to ask about converting the 42,000 from flipkart transaction into emi. by opting for emi, manuj won't block a big amount and it won't affect his monthly budget.'}]</td>\n",
       "    </tr>\n",
       "    <tr>\n",
       "      <th>2</th>\n",
       "      <td>13</td>\n",
       "      <td>manuj is not interested in emi option service and he wanted to talk to an agent</td>\n",
       "      <td>prashanth: hi, i am prashanth calling you from sellable check bank. we have and emi offer specially created for you. would you like to know more about the offers? manuj: no i am not interested. prashanth: i respect that, sir, but by opting for an emi you are not blocking huge cash which makes your personal budgeting for the month easier. you can also get to know precisely how much money you need to pay towards the emi each month. would you like to know about the offer? manuj: no , i wolud like to talk to your agent. prashanth: please wait while we are transferring your call to our agent.</td>\n",
       "      <td>[{'summary_texts': ' manuj calls prashanth from sellable check bank to talk about an emi offer specially created for manuj. prashant tells manuj that by opting for the emi you are not blocking huge cash which makes budgeting for the month easier. manuj prefers to talk to the agent.'}]</td>\n",
       "    </tr>\n",
       "    <tr>\n",
       "      <th>3</th>\n",
       "      <td>14</td>\n",
       "      <td>manuj has made a transaction of 35000 on amazona and he is ready to full payment.</td>\n",
       "      <td>prashanth: hi, i'm prashanth calling you from celebal tech bank. we have and emi offer specially created for you. would you like to know more about the offer?\\nmanuj: yes sure.\\nprashanth: this call is being recorded by celebal tech bank. for security reasons, please do not share your cvv and otp with anyone. as i can see a transaction of 35,000 done on amazon. would you like to convert this into emi? manuj:yes, convert this one. prashanth :that's a great choice, sir. could you please confirm at what tenure would you be interested in?\\nmanuj: tell me the monthly payment for the tenure of 6...</td>\n",
       "      <td>[{'summary_texts': ' prashanth calls manuj from celebal tech bank to suggest an emi offer specially created for manuj to convert a transaction of 35,000 done on amazon into emi. manuj is happy to pay full payment and will keep banking with celebal bank.'}]</td>\n",
       "    </tr>\n",
       "    <tr>\n",
       "      <th>4</th>\n",
       "      <td>15</td>\n",
       "      <td>manuj wanted to know bout his loan application, his mobile number is 9998887776, his date of birth is 20 june 1999, he have an active loan application and he had received a payment link on his email address</td>\n",
       "      <td>prashanth: welcome to celebal tech bank. manuj: hi how are you? prashanth: i'm fine. thank you for calling us my name is prashanth. how can i help you today? manuj: i have an loan application with you. i wanted to know the status of it ? prashanth: of course i can do that. could you please confirm few details before i give you the necessary information? could you please tell me your registered mobile number? manuj: yeah sure it's 9998887776. i can confirm that you have active loan applictation with us. can you confirm your name and date of birth for authentication? manuj: sure my name is m...</td>\n",
       "      <td>[{'summary_texts': ' prashanth calls manuj to confirm the status of the loan application with celebal tech bank. manuj confirms that the application is accepted and will send the payment link to prashath's mobile number and email to manuj's email address to confirm payment.'}]</td>\n",
       "    </tr>\n",
       "  </tbody>\n",
       "</table>\n",
       "</div>"
      ],
      "text/plain": [
       "   id  \\\n",
       "0  10   \n",
       "1  12   \n",
       "2  13   \n",
       "3  14   \n",
       "4  15   \n",
       "\n",
       "                                                                                                                                                                                                             summ  \\\n",
       "0                                       manuj wanted to know about the renewal of his policy. his mobile number is 9998887776, date of birth is 25th august 2021, prashanth has send him the renewal payemt link.   \n",
       "1                                                                                   manuj has made a transaction of 42000 on flipkart on 16th oct 2021 through your credit card, he is ready to pay full payment.   \n",
       "2                                                                                                                                 manuj is not interested in emi option service and he wanted to talk to an agent   \n",
       "3                                                                                                                               manuj has made a transaction of 35000 on amazona and he is ready to full payment.   \n",
       "4  manuj wanted to know bout his loan application, his mobile number is 9998887776, his date of birth is 20 june 1999, he have an active loan application and he had received a payment link on his email address   \n",
       "\n",
       "                                                                                                                                                                                                                                                                                                                                                                                                                                                                                                                                                                                                                  dialogue  \\\n",
       "0  prashanth: welcome to celebal tech ivr automation demo. hi how are you? manuj: i'm fine. prashanth: thank you for calling city health insurance my name is prashanth. how can i help you today? manuj: i have an health policy with you. i wanted to know do i need to renew the policy?\\nprashanth: of course i can do that. could you please confirm few details before i give you the necessary information? could you please tell me your registered mobile number? manuj: yeah sure it's 9998887776. i can confirm that you have active health insurance policy with us. can you confirm your name and date of ...   \n",
       "1  prashanth: welcome to celebal technologies ivr automation demo. i can help with bank related queries. manuj:hello. prashanth:hello, i'm prashanth calling from celebal bank. am i talking to mr manuj? manuj:yes you are. prashanth:thanks for confirming your name mr manuj. this call is being recorded by celebal tech bank. for security reasons, please do not share your cvv and otp with anyone.\\nmanuj: okay. prashanth:i can see that you have recently done the transaction of 42,000 from flipkart on 16th oct 2021 through your credit card. you can instantly get this amount converted into emi. would...   \n",
       "2       prashanth: hi, i am prashanth calling you from sellable check bank. we have and emi offer specially created for you. would you like to know more about the offers? manuj: no i am not interested. prashanth: i respect that, sir, but by opting for an emi you are not blocking huge cash which makes your personal budgeting for the month easier. you can also get to know precisely how much money you need to pay towards the emi each month. would you like to know about the offer? manuj: no , i wolud like to talk to your agent. prashanth: please wait while we are transferring your call to our agent.   \n",
       "3  prashanth: hi, i'm prashanth calling you from celebal tech bank. we have and emi offer specially created for you. would you like to know more about the offer?\\nmanuj: yes sure.\\nprashanth: this call is being recorded by celebal tech bank. for security reasons, please do not share your cvv and otp with anyone. as i can see a transaction of 35,000 done on amazon. would you like to convert this into emi? manuj:yes, convert this one. prashanth :that's a great choice, sir. could you please confirm at what tenure would you be interested in?\\nmanuj: tell me the monthly payment for the tenure of 6...   \n",
       "4  prashanth: welcome to celebal tech bank. manuj: hi how are you? prashanth: i'm fine. thank you for calling us my name is prashanth. how can i help you today? manuj: i have an loan application with you. i wanted to know the status of it ? prashanth: of course i can do that. could you please confirm few details before i give you the necessary information? could you please tell me your registered mobile number? manuj: yeah sure it's 9998887776. i can confirm that you have active loan applictation with us. can you confirm your name and date of birth for authentication? manuj: sure my name is m...   \n",
       "\n",
       "                                                                                                                                                                                                                                                                                                 prediction  \n",
       "0  [{'summary_texts': ' manuj calls city health insurance to renew his health insurance policy. prashanth will send him a payment link of renewal for the 2 year option. manuj will receive the payment link on his registered mobile number and email address and will share the link with him shortly.'}]  \n",
       "1                                                                       [{'summary_texts': ' mr manuj calls prashanth from celebal bank to ask about converting the 42,000 from flipkart transaction into emi. by opting for emi, manuj won't block a big amount and it won't affect his monthly budget.'}]  \n",
       "2             [{'summary_texts': ' manuj calls prashanth from sellable check bank to talk about an emi offer specially created for manuj. prashant tells manuj that by opting for the emi you are not blocking huge cash which makes budgeting for the month easier. manuj prefers to talk to the agent.'}]  \n",
       "3                                          [{'summary_texts': ' prashanth calls manuj from celebal tech bank to suggest an emi offer specially created for manuj to convert a transaction of 35,000 done on amazon into emi. manuj is happy to pay full payment and will keep banking with celebal bank.'}]  \n",
       "4                     [{'summary_texts': ' prashanth calls manuj to confirm the status of the loan application with celebal tech bank. manuj confirms that the application is accepted and will send the payment link to prashath's mobile number and email to manuj's email address to confirm payment.'}]  "
      ]
     },
     "execution_count": 19,
     "metadata": {},
     "output_type": "execute_result"
    }
   ],
   "source": [
    "df.head()"
   ]
  },
  {
   "cell_type": "code",
   "execution_count": 20,
   "id": "40bacec1",
   "metadata": {},
   "outputs": [],
   "source": [
    "df.to_csv('with_prediction.csv')"
   ]
  },
  {
   "cell_type": "markdown",
   "id": "f958a9b9",
   "metadata": {},
   "source": [
    "# `--------------------------------------------------`\n",
    "# `Integration (trained on 1000 documents) ------------`\n",
    "# `--------------------------------------------------`"
   ]
  },
  {
   "cell_type": "code",
   "execution_count": 23,
   "id": "5845d6fb",
   "metadata": {},
   "outputs": [],
   "source": [
    "import docx"
   ]
  },
  {
   "cell_type": "code",
   "execution_count": 21,
   "id": "fb37c0e0",
   "metadata": {},
   "outputs": [],
   "source": [
    "def conv_stamp_secs(ti):\n",
    "    time, ms = ti.split(\".\")\n",
    "    hr, mins, secs = time.split(\":\")\n",
    "    secs = str(int(hr)*3600 + int(mins)*60 + int(secs)) + '.' + ms\n",
    "    return float(secs)"
   ]
  },
  {
   "cell_type": "code",
   "execution_count": 22,
   "id": "91e49527",
   "metadata": {},
   "outputs": [],
   "source": [
    "def extract_text(doc_text_with_ts):\n",
    "    text = []\n",
    "    for i in doc_text_with_ts:\n",
    "        text.append(f\"{i[0]}: {i[2]}\")\n",
    "    return preprocess(' '.join(map(str, text)))\n"
   ]
  },
  {
   "cell_type": "code",
   "execution_count": 24,
   "id": "8ee25709",
   "metadata": {},
   "outputs": [],
   "source": [
    "def split_speakers(text):\n",
    "    lines = text.split(\":\")\n",
    "    prevline = lines[0]\n",
    "    speaker_trans = {}\n",
    "\n",
    "    for each_line in lines[1:]:\n",
    "        speaker = prevline.split(\" \")[-1].lower()\n",
    "        line = \" \".join(each_line.split(\" \")[:-1]).strip()\n",
    "        if speaker not in speaker_trans:\n",
    "            speaker_trans[speaker] = [line]\n",
    "        else:\n",
    "            speaker_trans[speaker].append(line)\n",
    "        prevline = each_line\n",
    "    return speaker_trans"
   ]
  },
  {
   "cell_type": "code",
   "execution_count": 25,
   "id": "7b0b53b3",
   "metadata": {},
   "outputs": [],
   "source": [
    "def preprocess(text):\n",
    "    text = text.replace(\"Kashetti Prashanth\", \"Prashanth\").replace(\"Manuj Kumar Joshi\", \"Manuj\")\n",
    "    return text"
   ]
  },
  {
   "cell_type": "code",
   "execution_count": 26,
   "id": "a61ea9a4",
   "metadata": {},
   "outputs": [],
   "source": [
    "def process_timestamp(ts):\n",
    "    start, end = ts.split(\" --> \")\n",
    "    conv_stamp_secs(start), conv_stamp_secs(end)\n",
    "    return [conv_stamp_secs(start), conv_stamp_secs(end)]"
   ]
  },
  {
   "cell_type": "code",
   "execution_count": 27,
   "id": "b5fdeab5",
   "metadata": {},
   "outputs": [],
   "source": [
    "import docx\n",
    "def preprocess_transcript(doc_path):\n",
    "    doc = docx.Document(doc_path)\n",
    "    speakers = []\n",
    "    resp = []\n",
    "    new_paras = [p.text for p in doc.paragraphs if p.text]\n",
    "    speaker_map = {'Agent': None, 'Customer': None}\n",
    "    for n,i in enumerate(new_paras):\n",
    "        a = i.split('\\n')\n",
    "        if n==0:\n",
    "            speaker_map['Agent'] = a[1]\n",
    "            \n",
    "        new_paras_better = f\"{a[2]}\".replace(\"Kashetti Prashanth\", \"Prashanth\").replace(\"Manuj Kumar Joshi\", \"Manuj\")\n",
    "        resp.append([ a[1], process_timestamp(a[0]), new_paras_better])\n",
    "        \n",
    "    return resp, speaker_map"
   ]
  },
  {
   "cell_type": "code",
   "execution_count": 32,
   "id": "e7aecb01",
   "metadata": {},
   "outputs": [],
   "source": [
    "def integrate(file):\n",
    "    doc_text_with_ts, speaker_map = preprocess_transcript(file)\n",
    "    txt = extract_text(doc_text_with_ts)\n",
    "    bot = list(split_speakers(txt).keys())[0]\n",
    "    customer = list(split_speakers(txt).keys())[1]\n",
    "    bot = split_speakers(txt)[bot]\n",
    "    customer = split_speakers(txt)[customer]\n",
    "    bot = '.'.join(bot)\n",
    "    customer = '.'.join(customer)\n",
    "    overall_sum =  inf_learn.blurr_summarize(txt)\n",
    "    bot_sum = inf_learn.blurr_summarize(bot)\n",
    "    customer_sum = inf_learn.blurr_summarize(customer)\n",
    "    return {\"GENERAL SUMMARY\":overall_sum,\"BOT SUMMARY\":bot_sum,\"CUSTOMER SUMMARY\":customer_sum}"
   ]
  },
  {
   "cell_type": "code",
   "execution_count": 35,
   "id": "817011b1",
   "metadata": {},
   "outputs": [
    {
     "data": {
      "text/plain": [
       "{'GENERAL SUMMARY': [{'summary_texts': 'Manuj calls syllable tech bank to get a personal loan. Prashanth records the call and asks Manuj to convert the transaction of 30,000 on Snapdeal into an EMI offer specially created for him. Manuj is happy to do so and will contact the customer service.'}],\n",
       " 'BOT SUMMARY': [{'summary_texts': 'Prashanth calls syllable tech bank to ask about an EMI offer specially created for you. Please do not share your CVV and OTP with anyone and customer service representative will contact you soon. keep banking with sellable tech Bank. Thank you.'}],\n",
       " 'CUSTOMER SUMMARY': [{'summary_texts': 'I want a loan..But a personal loan..I need 10 Lac rupees. Hi..Yes, go on..I want to ask for a loan.Thank you very very very much for the loan. Thank you very much, and go on with the loan request.'}]}"
      ]
     },
     "execution_count": 35,
     "metadata": {},
     "output_type": "execute_result"
    }
   ],
   "source": [
    "integrate('21.docx')"
   ]
  },
  {
   "cell_type": "code",
   "execution_count": 42,
   "id": "904ab4e2",
   "metadata": {},
   "outputs": [
    {
     "data": {
      "text/plain": [
       "{'GENERAL SUMMARY': [{'summary_texts': \" CT can't confirm that you have active health insurance policy with CT. Manuj wants to know when do I need to renew the policy. CT generates a payment link for renewal of the one year or two year option and will share the link with Manuj shortly.\"}],\n",
       " 'BOT SUMMARY': [{'summary_texts': \"Prashanth calls CT to renew his health insurance policy. Prashanth's current policy is due for renewal on 25th August 2021. CT will send a payment link on your registered mobile number and email address for the renewal of the one year or two year option.\"}],\n",
       " 'CUSTOMER SUMMARY': [{'summary_texts': \"Manoj calls 999-666-8887 to renew the health policy with Manoj's health insurance. Manoj wants to go for two policies but has a doubt about the tenure option. Can Manoj send the payment link to Manoj and Manoj will send it to him.\"}]}"
      ]
     },
     "execution_count": 42,
     "metadata": {},
     "output_type": "execute_result"
    }
   ],
   "source": [
    "integrate('10.docx')"
   ]
  },
  {
   "cell_type": "code",
   "execution_count": 43,
   "id": "21744480",
   "metadata": {},
   "outputs": [
    {
     "data": {
      "text/plain": [
       "{'GENERAL SUMMARY': [{'summary_texts': \" celebrity tech bank has an EMI offer specially created for you. Manuj doesn't want to go for the EMI option. Prashanth suggests him to convert this one and asks for the monthly payment for the tenure of six months, the monthly amount payable will be 4714.\"}],\n",
       " 'BOT SUMMARY': [{'summary_texts': 'Prashanth calls Celebrity Tech Bank to suggest an EMI offer specially created for you. The monthly amount payable will be 4714. It will consist of 12% plus tax on the interest amount and will reduce your one time payment burden. Prashanth recommends to keep banking with syllable bank.'}],\n",
       " 'CUSTOMER SUMMARY': [{'summary_texts': ' is happy to pay full payment for the tenure of six months and will convert it to a monthly payment for six months. Yes, sure..Yes, convert this one and will pay the full payment to pay the monthly payment to buy a house and to pay for a six-month tenure and to buy the house.'}]}"
      ]
     },
     "execution_count": 43,
     "metadata": {},
     "output_type": "execute_result"
    }
   ],
   "source": [
    "integrate('14.docx')"
   ]
  },
  {
   "cell_type": "markdown",
   "id": "30b0a336",
   "metadata": {},
   "source": [
    "# `---------------------------------------------`\n",
    "# `Data needs some cleaning`\n",
    "# `---------------------------------------------`"
   ]
  },
  {
   "cell_type": "code",
   "execution_count": 59,
   "id": "ae4af34b",
   "metadata": {},
   "outputs": [],
   "source": [
    "def integrate2(file):\n",
    "    doc_text_with_ts, speaker_map = preprocess_transcript(file)\n",
    "    txt = extract_text(doc_text_with_ts)\n",
    "    clean = preprocess(txt)  ## cleaning\n",
    "    bot = list(split_speakers(txt).keys())[0]\n",
    "    customer = list(split_speakers(txt).keys())[1]\n",
    "    bot = split_speakers(txt)[bot]\n",
    "    customer = split_speakers(txt)[customer]\n",
    "    bot = ''.join(bot)\n",
    "    customer = ''.join(customer)\n",
    "    bot = inf_learn.blurr_summarize(bot)\n",
    "    customer = inf_learn.blurr_summarize(customer)\n",
    "    overall = inf_learn.blurr_summarize(clean)\n",
    "    return {\"GENERAL SUMMARY\":overall,\"BOT SUMMARY\":bot,\"CUSTOMER SUMMARY\":customer}"
   ]
  },
  {
   "cell_type": "code",
   "execution_count": 60,
   "id": "9e4b646e",
   "metadata": {},
   "outputs": [
    {
     "data": {
      "text/plain": [
       "{'GENERAL SUMMARY': [{'summary_texts': 'Manuj calls syllable tech bank to get a personal loan. Prashanth records the call and asks Manuj to convert the transaction of 30,000 on Snapdeal into an EMI offer specially created for him. Manuj is happy to do so and will contact the customer service.'}],\n",
       " 'BOT SUMMARY': [{'summary_texts': 'Prashanth calls syllable tech bank to offer an EMI offer specially created for you. Prashanth records the IVR automation for banking is powered by sellable technologies. Please do not share your CVV and OTP with anyone and customer service representative will contact you.'}],\n",
       " 'CUSTOMER SUMMARY': [{'summary_texts': 'I want a loan.But a personal loan.I need 10 Lac rupees. Hi.Yes, go on.Thank you very very much for the loan and the time spent with the loan officer and thank you for the information and the support and advice.'}]}"
      ]
     },
     "execution_count": 60,
     "metadata": {},
     "output_type": "execute_result"
    }
   ],
   "source": [
    "integrate2('21.docx')"
   ]
  },
  {
   "cell_type": "code",
   "execution_count": 61,
   "id": "ca9599b3",
   "metadata": {},
   "outputs": [
    {
     "data": {
      "text/plain": [
       "{'GENERAL SUMMARY': [{'summary_texts': \" CT can't confirm that you have active health insurance policy with CT. Manuj wants to know when do I need to renew the policy. CT generates a payment link for renewal of the one year or two year option and will share the link with Manuj shortly.\"}],\n",
       " 'BOT SUMMARY': [{'summary_texts': \" CT can't confirm that you have active health insurance policy with CT. Prashanth will generate a payment link for renewal of this option and will share the link with you shortly. Your current policy covers you, your spouse, and your parent and is due for renewal on 25th August 2021.\"}],\n",
       " 'CUSTOMER SUMMARY': [{'summary_texts': \"Manoj calls 999-666-8887 to renew his health policy. Manoj wants to go for two years tenure option and will send the payment link to Manoj's family as well as the phone number to pay for the policy with the money. 999-636-8888.\"}]}"
      ]
     },
     "execution_count": 61,
     "metadata": {},
     "output_type": "execute_result"
    }
   ],
   "source": [
    "integrate2('10.docx')"
   ]
  },
  {
   "cell_type": "code",
   "execution_count": 62,
   "id": "78659dee",
   "metadata": {},
   "outputs": [
    {
     "data": {
      "text/plain": [
       "{'GENERAL SUMMARY': [{'summary_texts': \" celebrity tech bank has an EMI offer specially created for you. Manuj doesn't want to go for the EMI option. Prashanth suggests him to convert this one and asks for the monthly payment for the tenure of six months, the monthly amount payable will be 4714.\"}],\n",
       " 'BOT SUMMARY': [{'summary_texts': ' Prashanth calls Celebrity Tech Bank to suggest an EMI offer specially created for you. The monthly amount payable will be 4714. It will consist of 12% plus tax on the interest amount and will reduce your one time payment burden, so please allow me to suggest you a great offer.'}],\n",
       " 'CUSTOMER SUMMARY': [{'summary_texts': \" tell me the monthly payment for the tenure of six months. Yes, sure. I'm happy to pay full payment. I don't want to go for EMI option.No. I have changed my mind and will pay the full payment instead of the EMI.\"}]}"
      ]
     },
     "execution_count": 62,
     "metadata": {},
     "output_type": "execute_result"
    }
   ],
   "source": [
    "integrate2('14.docx')"
   ]
  },
  {
   "cell_type": "markdown",
   "id": "d5311d2e",
   "metadata": {},
   "source": [
    "# `Integration on DataFrame ---------------------------`"
   ]
  },
  {
   "cell_type": "code",
   "execution_count": 94,
   "id": "ca0b7717",
   "metadata": {},
   "outputs": [
    {
     "data": {
      "text/html": [
       "<div>\n",
       "<style scoped>\n",
       "    .dataframe tbody tr th:only-of-type {\n",
       "        vertical-align: middle;\n",
       "    }\n",
       "\n",
       "    .dataframe tbody tr th {\n",
       "        vertical-align: top;\n",
       "    }\n",
       "\n",
       "    .dataframe thead th {\n",
       "        text-align: right;\n",
       "    }\n",
       "</style>\n",
       "<table border=\"1\" class=\"dataframe\">\n",
       "  <thead>\n",
       "    <tr style=\"text-align: right;\">\n",
       "      <th></th>\n",
       "      <th>id</th>\n",
       "      <th>summ</th>\n",
       "      <th>dialogue</th>\n",
       "      <th>prediction</th>\n",
       "    </tr>\n",
       "  </thead>\n",
       "  <tbody>\n",
       "    <tr>\n",
       "      <th>0</th>\n",
       "      <td>10</td>\n",
       "      <td>manuj wanted to know about the renewal of his policy. his mobile number is 9998887776, date of birth is 25th august 2021, prashanth has send him the renewal payemt link.</td>\n",
       "      <td>prashanth: welcome to celebal tech ivr automation demo. hi how are you? manuj: i'm fine. prashanth: thank you for calling city health insurance my name is prashanth. how can i help you today? manuj: i have an health policy with you. i wanted to know do i need to renew the policy?\\nprashanth: of course i can do that. could you please confirm few details before i give you the necessary information? could you please tell me your registered mobile number? manuj: yeah sure it's 9998887776. i can confirm that you have active health insurance policy with us. can you confirm your name and date of ...</td>\n",
       "      <td>[{'summary_texts': ' manuj calls city health insurance to renew his health insurance policy. prashanth will send him a payment link of renewal for the 2 year option. manuj will receive the payment link on his registered mobile number and email address and will share the link with him shortly.'}]</td>\n",
       "    </tr>\n",
       "  </tbody>\n",
       "</table>\n",
       "</div>"
      ],
      "text/plain": [
       "   id  \\\n",
       "0  10   \n",
       "\n",
       "                                                                                                                                                                        summ  \\\n",
       "0  manuj wanted to know about the renewal of his policy. his mobile number is 9998887776, date of birth is 25th august 2021, prashanth has send him the renewal payemt link.   \n",
       "\n",
       "                                                                                                                                                                                                                                                                                                                                                                                                                                                                                                                                                                                                                  dialogue  \\\n",
       "0  prashanth: welcome to celebal tech ivr automation demo. hi how are you? manuj: i'm fine. prashanth: thank you for calling city health insurance my name is prashanth. how can i help you today? manuj: i have an health policy with you. i wanted to know do i need to renew the policy?\\nprashanth: of course i can do that. could you please confirm few details before i give you the necessary information? could you please tell me your registered mobile number? manuj: yeah sure it's 9998887776. i can confirm that you have active health insurance policy with us. can you confirm your name and date of ...   \n",
       "\n",
       "                                                                                                                                                                                                                                                                                                 prediction  \n",
       "0  [{'summary_texts': ' manuj calls city health insurance to renew his health insurance policy. prashanth will send him a payment link of renewal for the 2 year option. manuj will receive the payment link on his registered mobile number and email address and will share the link with him shortly.'}]  "
      ]
     },
     "execution_count": 94,
     "metadata": {},
     "output_type": "execute_result"
    }
   ],
   "source": [
    "df.head(1)"
   ]
  },
  {
   "cell_type": "code",
   "execution_count": 141,
   "id": "17474154",
   "metadata": {},
   "outputs": [],
   "source": [
    "bot = list(split_speakers(df.dialogue[0]).keys())[0]\n",
    "customer = list(split_speakers(df.dialogue[0]).keys())[1]\n",
    "bot = split_speakers(txt)[bot]\n",
    "customer = split_speakers(txt)[customer]"
   ]
  },
  {
   "cell_type": "code",
   "execution_count": 81,
   "id": "968875e0",
   "metadata": {},
   "outputs": [],
   "source": [
    "customer = \"\".join(customer)\n",
    "customer = inf_learn.blurr_summarize(customer)"
   ]
  },
  {
   "cell_type": "code",
   "execution_count": 83,
   "id": "3720db57",
   "metadata": {},
   "outputs": [],
   "source": [
    "general = \"\".join(txt)\n",
    "general = inf_learn.blurr_summarize(general)"
   ]
  },
  {
   "cell_type": "code",
   "execution_count": 93,
   "id": "617fcec7",
   "metadata": {},
   "outputs": [
    {
     "name": "stdout",
     "output_type": "stream",
     "text": [
      "BOT [{'summary_texts': 'Prashanth calls syllable tech bank to offer an EMI offer specially created for you. Prashanth records the IVR automation for banking is powered by sellable technologies. Please do not share your CVV and OTP with anyone and customer service representative will contact you.'}] \n",
      "CUSTOMER [{'summary_texts': 'I want a loan.But a personal loan.I need 10 Lac rupees. Hi.Yes, go on.Thank you very very much for the loan and the time spent with the loan officer and thank you for the information and the support and advice.'}] \n",
      "GENERAL [{'summary_texts': 'Manuj calls syllable tech bank to get a personal loan. Prashanth records the call and asks Manuj to convert the transaction of 30,000 on Snapdeal into an EMI offer specially created for him. Manuj is happy to do so and will contact the customer service.'}]\n"
     ]
    }
   ],
   "source": [
    "print('BOT',bot,'\\nCUSTOMER',customer,'\\nGENERAL',general)"
   ]
  },
  {
   "cell_type": "markdown",
   "id": "d80d4e51",
   "metadata": {},
   "source": [
    "# 1. `Text POST-Processing, small change`"
   ]
  },
  {
   "cell_type": "code",
   "execution_count": 142,
   "id": "11d36a79",
   "metadata": {},
   "outputs": [],
   "source": [
    "bott = []\n",
    "for i in bot:\n",
    "    bott.append(i.replace('Prashanth',''))"
   ]
  },
  {
   "cell_type": "code",
   "execution_count": 143,
   "id": "63765eb2",
   "metadata": {},
   "outputs": [],
   "source": [
    "bot = \"\".join(bott)\n",
    "bot = inf_learn.blurr_summarize(bot)"
   ]
  },
  {
   "cell_type": "code",
   "execution_count": 144,
   "id": "97a82cee",
   "metadata": {},
   "outputs": [
    {
     "data": {
      "text/plain": [
       "[{'summary_texts': \"This call is being recorded by sellable tech bank. Please do not share your CVV and OTP with anyone and customer service representative will contact you soon. keep banking with sellable technology bank and don't share the CVV or OTP to anyone.\"}]"
      ]
     },
     "execution_count": 144,
     "metadata": {},
     "output_type": "execute_result"
    }
   ],
   "source": [
    "bot"
   ]
  },
  {
   "cell_type": "code",
   "execution_count": 135,
   "id": "e8691e65",
   "metadata": {},
   "outputs": [],
   "source": [
    "# bott = []\n",
    "# for i in bot:\n",
    "#     bott.append(i.replace('Prashanth',''))"
   ]
  },
  {
   "cell_type": "code",
   "execution_count": 149,
   "id": "1b580a31",
   "metadata": {},
   "outputs": [],
   "source": [
    "def integrate3(file):\n",
    "    doc_text_with_ts, speaker_map = preprocess_transcript(file)\n",
    "    txt = extract_text(doc_text_with_ts)\n",
    "    clean = preprocess(txt)  ## cleaning\n",
    "    bot = list(split_speakers(txt).keys())[0]\n",
    "    customer_1 = list(split_speakers(txt).keys())[1]\n",
    "    \n",
    "    bot = split_speakers(txt)[bot]\n",
    "    bott = []\n",
    "    for i in bot:\n",
    "        bott.append(i.replace('Prashanth',''))   #remove bot context\n",
    "    \n",
    "    customer_4 = split_speakers(txt)[customer_1]\n",
    "    \n",
    "    bot = ''.join(bott)\n",
    "    customer_2 = ''.join(customer_4)\n",
    "    \n",
    "    bot = inf_learn.blurr_summarize(bot)\n",
    "    customer_3 = inf_learn.blurr_summarize(customer_2)\n",
    "    overall = inf_learn.blurr_summarize(clean)\n",
    "    return {\"GENERAL SUMMARY\":overall,\"BOT SUMMARY\":bot,\"CUSTOMER SUMMARY\":customer_3}"
   ]
  },
  {
   "cell_type": "code",
   "execution_count": 150,
   "id": "200d9e55",
   "metadata": {},
   "outputs": [
    {
     "data": {
      "text/plain": [
       "{'GENERAL SUMMARY': [{'summary_texts': 'Manuj calls syllable tech bank to get a personal loan. Prashanth records the call and asks Manuj to convert the transaction of 30,000 on Snapdeal into an EMI offer specially created for him. Manuj is happy to do so and will contact the customer service.'}],\n",
       " 'BOT SUMMARY': [{'summary_texts': \"This call is being recorded by sellable tech bank. Please do not share your CVV and OTP with anyone and customer service representative will contact you soon. keep banking with sellable technology bank and don't share the CVV or OTP to anyone.\"}],\n",
       " 'CUSTOMER SUMMARY': [{'summary_texts': 'I want a loan.But a personal loan.I need 10 Lac rupees. Hi.Yes, go on.Thank you very very much for the loan and the time spent with the loan officer and thank you for the information and the support and advice.'}]}"
      ]
     },
     "execution_count": 150,
     "metadata": {},
     "output_type": "execute_result"
    }
   ],
   "source": [
    "integrate3('21.docx')"
   ]
  },
  {
   "cell_type": "code",
   "execution_count": 151,
   "id": "2d264ce3",
   "metadata": {},
   "outputs": [
    {
     "data": {
      "text/plain": [
       "{'GENERAL SUMMARY': [{'summary_texts': \" CT can't confirm that you have active health insurance policy with CT. Manuj wants to know when do I need to renew the policy. CT generates a payment link for renewal of the one year or two year option and will share the link with Manuj shortly.\"}],\n",
       " 'BOT SUMMARY': [{'summary_texts': \" CT can't confirm that you have active health insurance policy with CT. You will receive a payment link on your registered mobile number and email address and will share the link with you shortly. The one year option is.2020.3690, and the two-year option is in two weeks.\"}],\n",
       " 'CUSTOMER SUMMARY': [{'summary_texts': \"Manoj calls 999-666-8887 to renew his health policy. Manoj wants to go for two years tenure option and will send the payment link to Manoj's family as well as the phone number to pay for the policy with the money. 999-636-8888.\"}]}"
      ]
     },
     "execution_count": 151,
     "metadata": {},
     "output_type": "execute_result"
    }
   ],
   "source": [
    "integrate3('10.docx')"
   ]
  },
  {
   "cell_type": "markdown",
   "id": "bb64db75",
   "metadata": {},
   "source": [
    "# `Applying changes to Data Frame -------------------------`"
   ]
  },
  {
   "cell_type": "code",
   "execution_count": 199,
   "id": "03fb6bf1",
   "metadata": {},
   "outputs": [],
   "source": [
    "bot_sum = []\n",
    "cust_sum = []\n",
    "text = []\n",
    "for i in range(6):\n",
    "    txt = df.dialogue[i]\n",
    "    clean = preprocess(txt)  ## cleaning\n",
    "    bot = list(split_speakers(txt).keys())[0]\n",
    "    customer_1 = list(split_speakers(txt).keys())[1]\n",
    "\n",
    "    bot = split_speakers(txt)[bot]\n",
    "    bott = []\n",
    "    for i in bot:\n",
    "        bott.append(i.replace(' prashanth',''))   #remove bot context\n",
    "\n",
    "    customer_4 = split_speakers(txt)[customer_1]\n",
    "\n",
    "    bot = ''.join(bot)\n",
    "    customer_2 = ''.join(customer_4)\n",
    "\n",
    "    bot = inf_learn.blurr_summarize(bot)\n",
    "    customer_3 = inf_learn.blurr_summarize(customer_2)\n",
    "    over_all = inf_learn.blurr_summarize(clean)\n",
    "    bot_sum.append(bot)\n",
    "    cust_sum.append(customer_3)\n",
    "    text.append(over_all)"
   ]
  },
  {
   "cell_type": "code",
   "execution_count": 200,
   "id": "1269d942",
   "metadata": {},
   "outputs": [
    {
     "data": {
      "text/html": [
       "<div>\n",
       "<style scoped>\n",
       "    .dataframe tbody tr th:only-of-type {\n",
       "        vertical-align: middle;\n",
       "    }\n",
       "\n",
       "    .dataframe tbody tr th {\n",
       "        vertical-align: top;\n",
       "    }\n",
       "\n",
       "    .dataframe thead th {\n",
       "        text-align: right;\n",
       "    }\n",
       "</style>\n",
       "<table border=\"1\" class=\"dataframe\">\n",
       "  <thead>\n",
       "    <tr style=\"text-align: right;\">\n",
       "      <th></th>\n",
       "      <th>id</th>\n",
       "      <th>summ</th>\n",
       "      <th>dialogue</th>\n",
       "      <th>prediction</th>\n",
       "    </tr>\n",
       "  </thead>\n",
       "  <tbody>\n",
       "    <tr>\n",
       "      <th>0</th>\n",
       "      <td>10</td>\n",
       "      <td>manuj wanted to know about the renewal of his policy. his mobile number is 9998887776, date of birth is 25th august 2021, prashanth has send him the renewal payemt link.</td>\n",
       "      <td>prashanth: welcome to celebal tech ivr automation demo. hi how are you? manuj: i'm fine. prashanth: thank you for calling city health insurance my name is prashanth. how can i help you today? manuj: i have an health policy with you. i wanted to know do i need to renew the policy?\\nprashanth: of course i can do that. could you please confirm few details before i give you the necessary information? could you please tell me your registered mobile number? manuj: yeah sure it's 9998887776. i can confirm that you have active health insurance policy with us. can you confirm your name and date of ...</td>\n",
       "      <td>[{'summary_texts': ' manuj calls city health insurance to renew his health insurance policy. prashanth will send him a payment link of renewal for the 2 year option. manuj will receive the payment link on his registered mobile number and email address and will share the link with him shortly.'}]</td>\n",
       "    </tr>\n",
       "    <tr>\n",
       "      <th>1</th>\n",
       "      <td>12</td>\n",
       "      <td>manuj has made a transaction of 42000 on flipkart on 16th oct 2021 through your credit card, he is ready to pay full payment.</td>\n",
       "      <td>prashanth: welcome to celebal technologies ivr automation demo. i can help with bank related queries. manuj:hello. prashanth:hello, i'm prashanth calling from celebal bank. am i talking to mr manuj? manuj:yes you are. prashanth:thanks for confirming your name mr manuj. this call is being recorded by celebal tech bank. for security reasons, please do not share your cvv and otp with anyone.\\nmanuj: okay. prashanth:i can see that you have recently done the transaction of 42,000 from flipkart on 16th oct 2021 through your credit card. you can instantly get this amount converted into emi. would...</td>\n",
       "      <td>[{'summary_texts': ' mr manuj calls prashanth from celebal bank to ask about converting the 42,000 from flipkart transaction into emi. by opting for emi, manuj won't block a big amount and it won't affect his monthly budget.'}]</td>\n",
       "    </tr>\n",
       "    <tr>\n",
       "      <th>2</th>\n",
       "      <td>13</td>\n",
       "      <td>manuj is not interested in emi option service and he wanted to talk to an agent</td>\n",
       "      <td>prashanth: hi, i am prashanth calling you from sellable check bank. we have and emi offer specially created for you. would you like to know more about the offers? manuj: no i am not interested. prashanth: i respect that, sir, but by opting for an emi you are not blocking huge cash which makes your personal budgeting for the month easier. you can also get to know precisely how much money you need to pay towards the emi each month. would you like to know about the offer? manuj: no , i wolud like to talk to your agent. prashanth: please wait while we are transferring your call to our agent.</td>\n",
       "      <td>[{'summary_texts': ' manuj calls prashanth from sellable check bank to talk about an emi offer specially created for manuj. prashant tells manuj that by opting for the emi you are not blocking huge cash which makes budgeting for the month easier. manuj prefers to talk to the agent.'}]</td>\n",
       "    </tr>\n",
       "    <tr>\n",
       "      <th>3</th>\n",
       "      <td>14</td>\n",
       "      <td>manuj has made a transaction of 35000 on amazona and he is ready to full payment.</td>\n",
       "      <td>prashanth: hi, i'm prashanth calling you from celebal tech bank. we have and emi offer specially created for you. would you like to know more about the offer?\\nmanuj: yes sure.\\nprashanth: this call is being recorded by celebal tech bank. for security reasons, please do not share your cvv and otp with anyone. as i can see a transaction of 35,000 done on amazon. would you like to convert this into emi? manuj:yes, convert this one. prashanth :that's a great choice, sir. could you please confirm at what tenure would you be interested in?\\nmanuj: tell me the monthly payment for the tenure of 6...</td>\n",
       "      <td>[{'summary_texts': ' prashanth calls manuj from celebal tech bank to suggest an emi offer specially created for manuj to convert a transaction of 35,000 done on amazon into emi. manuj is happy to pay full payment and will keep banking with celebal bank.'}]</td>\n",
       "    </tr>\n",
       "    <tr>\n",
       "      <th>4</th>\n",
       "      <td>15</td>\n",
       "      <td>manuj wanted to know bout his loan application, his mobile number is 9998887776, his date of birth is 20 june 1999, he have an active loan application and he had received a payment link on his email address</td>\n",
       "      <td>prashanth: welcome to celebal tech bank. manuj: hi how are you? prashanth: i'm fine. thank you for calling us my name is prashanth. how can i help you today? manuj: i have an loan application with you. i wanted to know the status of it ? prashanth: of course i can do that. could you please confirm few details before i give you the necessary information? could you please tell me your registered mobile number? manuj: yeah sure it's 9998887776. i can confirm that you have active loan applictation with us. can you confirm your name and date of birth for authentication? manuj: sure my name is m...</td>\n",
       "      <td>[{'summary_texts': ' prashanth calls manuj to confirm the status of the loan application with celebal tech bank. manuj confirms that the application is accepted and will send the payment link to prashath's mobile number and email to manuj's email address to confirm payment.'}]</td>\n",
       "    </tr>\n",
       "  </tbody>\n",
       "</table>\n",
       "</div>"
      ],
      "text/plain": [
       "   id  \\\n",
       "0  10   \n",
       "1  12   \n",
       "2  13   \n",
       "3  14   \n",
       "4  15   \n",
       "\n",
       "                                                                                                                                                                                                             summ  \\\n",
       "0                                       manuj wanted to know about the renewal of his policy. his mobile number is 9998887776, date of birth is 25th august 2021, prashanth has send him the renewal payemt link.   \n",
       "1                                                                                   manuj has made a transaction of 42000 on flipkart on 16th oct 2021 through your credit card, he is ready to pay full payment.   \n",
       "2                                                                                                                                 manuj is not interested in emi option service and he wanted to talk to an agent   \n",
       "3                                                                                                                               manuj has made a transaction of 35000 on amazona and he is ready to full payment.   \n",
       "4  manuj wanted to know bout his loan application, his mobile number is 9998887776, his date of birth is 20 june 1999, he have an active loan application and he had received a payment link on his email address   \n",
       "\n",
       "                                                                                                                                                                                                                                                                                                                                                                                                                                                                                                                                                                                                                  dialogue  \\\n",
       "0  prashanth: welcome to celebal tech ivr automation demo. hi how are you? manuj: i'm fine. prashanth: thank you for calling city health insurance my name is prashanth. how can i help you today? manuj: i have an health policy with you. i wanted to know do i need to renew the policy?\\nprashanth: of course i can do that. could you please confirm few details before i give you the necessary information? could you please tell me your registered mobile number? manuj: yeah sure it's 9998887776. i can confirm that you have active health insurance policy with us. can you confirm your name and date of ...   \n",
       "1  prashanth: welcome to celebal technologies ivr automation demo. i can help with bank related queries. manuj:hello. prashanth:hello, i'm prashanth calling from celebal bank. am i talking to mr manuj? manuj:yes you are. prashanth:thanks for confirming your name mr manuj. this call is being recorded by celebal tech bank. for security reasons, please do not share your cvv and otp with anyone.\\nmanuj: okay. prashanth:i can see that you have recently done the transaction of 42,000 from flipkart on 16th oct 2021 through your credit card. you can instantly get this amount converted into emi. would...   \n",
       "2       prashanth: hi, i am prashanth calling you from sellable check bank. we have and emi offer specially created for you. would you like to know more about the offers? manuj: no i am not interested. prashanth: i respect that, sir, but by opting for an emi you are not blocking huge cash which makes your personal budgeting for the month easier. you can also get to know precisely how much money you need to pay towards the emi each month. would you like to know about the offer? manuj: no , i wolud like to talk to your agent. prashanth: please wait while we are transferring your call to our agent.   \n",
       "3  prashanth: hi, i'm prashanth calling you from celebal tech bank. we have and emi offer specially created for you. would you like to know more about the offer?\\nmanuj: yes sure.\\nprashanth: this call is being recorded by celebal tech bank. for security reasons, please do not share your cvv and otp with anyone. as i can see a transaction of 35,000 done on amazon. would you like to convert this into emi? manuj:yes, convert this one. prashanth :that's a great choice, sir. could you please confirm at what tenure would you be interested in?\\nmanuj: tell me the monthly payment for the tenure of 6...   \n",
       "4  prashanth: welcome to celebal tech bank. manuj: hi how are you? prashanth: i'm fine. thank you for calling us my name is prashanth. how can i help you today? manuj: i have an loan application with you. i wanted to know the status of it ? prashanth: of course i can do that. could you please confirm few details before i give you the necessary information? could you please tell me your registered mobile number? manuj: yeah sure it's 9998887776. i can confirm that you have active loan applictation with us. can you confirm your name and date of birth for authentication? manuj: sure my name is m...   \n",
       "\n",
       "                                                                                                                                                                                                                                                                                                 prediction  \n",
       "0  [{'summary_texts': ' manuj calls city health insurance to renew his health insurance policy. prashanth will send him a payment link of renewal for the 2 year option. manuj will receive the payment link on his registered mobile number and email address and will share the link with him shortly.'}]  \n",
       "1                                                                       [{'summary_texts': ' mr manuj calls prashanth from celebal bank to ask about converting the 42,000 from flipkart transaction into emi. by opting for emi, manuj won't block a big amount and it won't affect his monthly budget.'}]  \n",
       "2             [{'summary_texts': ' manuj calls prashanth from sellable check bank to talk about an emi offer specially created for manuj. prashant tells manuj that by opting for the emi you are not blocking huge cash which makes budgeting for the month easier. manuj prefers to talk to the agent.'}]  \n",
       "3                                          [{'summary_texts': ' prashanth calls manuj from celebal tech bank to suggest an emi offer specially created for manuj to convert a transaction of 35,000 done on amazon into emi. manuj is happy to pay full payment and will keep banking with celebal bank.'}]  \n",
       "4                     [{'summary_texts': ' prashanth calls manuj to confirm the status of the loan application with celebal tech bank. manuj confirms that the application is accepted and will send the payment link to prashath's mobile number and email to manuj's email address to confirm payment.'}]  "
      ]
     },
     "execution_count": 200,
     "metadata": {},
     "output_type": "execute_result"
    }
   ],
   "source": [
    "df.head()"
   ]
  },
  {
   "cell_type": "code",
   "execution_count": 201,
   "id": "5829d6ec",
   "metadata": {},
   "outputs": [
    {
     "name": "stdout",
     "output_type": "stream",
     "text": [
      "GENERAL==> [{'summary_texts': ' manuj calls city health insurance to renew his health insurance policy. prashanth will send him a payment link of renewal for the 2 year option. manuj will receive the payment link on his registered mobile number and email address and will share the link with him shortly.'}]\n",
      "BOT==> [{'summary_texts': \" prashanth calls celebal tech ivr automation to renew city health insurance for one year or two year option. prashath will share a payment link of renewal for this option with prashth's phone number and email address to send the payment link to prashant.\"}]\n",
      "CUSTOMER==> [{'summary_texts': ' manuj wants to renew his health insurance policy with 9998887776. can you confirm his name and date of birth for authentication?sure my name is manuj and my date ofBirth is 20 june 1999 and i want to opt for 2 year option.'}]\n",
      "\n",
      "\n",
      "GENERAL==> [{'summary_texts': \" mr manuj calls prashanth from celebal bank to ask about converting the 42,000 from flipkart transaction into emi. by opting for emi, manuj won't block a big amount and it won't affect his monthly budget.\"}]\n",
      "BOT==> [{'summary_texts': ' prashanth calls mr manuj to convert 42,000 from flipkart transaction into emi. for security reasons, please do not share your cvv and otp with celebal tech bank. prashath calls celebal technologies ivr automation demo to help with bank related queries.'}]\n",
      "CUSTOMER==> [{'summary_texts': \"yes you are. prashanththank is ready to pay full amount. hello. i'm ready to paid full amount and will send the money to prashantthank. thank you for the support and good wishes prashanththank and prashththank are happy to pay.\"}]\n",
      "\n",
      "\n",
      "GENERAL==> [{'summary_texts': ' manuj calls prashanth from sellable check bank to talk about an emi offer specially created for manuj. prashant tells manuj that by opting for the emi you are not blocking huge cash which makes budgeting for the month easier. manuj prefers to talk to the agent.'}]\n",
      "BOT==> [{'summary_texts': ' prashanth calls from sellable check bank to tell you about the emi offer specially created for you. by opting for an emi you are not blocking huge cash which makes your personal budgeting for the month easier. would you like to know about the offer? please wait while we are transferring your call to our.'}]\n",
      "CUSTOMER==> [{'summary_texts': \"no i am not interested. i wolud like to talk to your agent. no i'm not interested, but i'll talk to the agent if you want to talk about it. no. no, i'm happy to talk with your agent, but not interested in the job.\"}]\n",
      "\n",
      "\n",
      "GENERAL==> [{'summary_texts': ' prashanth calls manuj from celebal tech bank to suggest an emi offer specially created for manuj to convert a transaction of 35,000 done on amazon into emi. manuj is happy to pay full payment and will keep banking with celebal bank.'}]\n",
      "BOT==> [{'summary_texts': ' prashanth calls celebal tech bank to tell you about the emi offer specially created for you. according to the tenure period of 6 months, the monthly amount payable will be 4314. it will consist of 12% plus tax on the interest amount. keep banking with celebal bank.'}]\n",
      "CUSTOMER==> [{'summary_texts': ' yes yes yes and yes. yes yes. no. yes. and yes yes to yes. the yes yes of yes to the yes of the yes and no of yes. to yes yes, and yes to. yes, yes, the yes. of yes and the yes'}]\n",
      "\n",
      "\n",
      "GENERAL==> [{'summary_texts': \" prashanth calls manuj to confirm the status of the loan application with celebal tech bank. manuj confirms that the application is accepted and will send the payment link to prashath's mobile number and email to manuj's email address to confirm payment.\"}]\n",
      "BOT==> [{'summary_texts': \" prashanth calls celebal tech bank to help him apply for celebal's tech bank. Prashanth will send a payment link on your registered mobile number and email address and will confirm that your application is accepted and will give you the necessary information to give to celebal.\"}]\n",
      "CUSTOMER==> [{'summary_texts': \" manuj calls 9998887776 to confirm that he has an active loan application with us. can you confirm his name and date of birth for authentication? can you send me the details to my email? please send them to manuj's email to 999887776.\"}]\n",
      "\n",
      "\n",
      "GENERAL==> [{'summary_texts': ' neerja calls sellable tech bank to convert a transaction of 12,000 on flipkart into an emi. manuj asks for details like credit limit and date of birth. prashanth tells manuj the emi amount will be temporarily kept on hold in your credit card limit and when you pay your emi the limit will be released.'}]\n",
      "BOT==> [{'summary_texts': ' neerja calls syllable tech bank to convert a transaction of 12,000 on flipkart into emi. the emi amount will be temporarily kept on hold in your credit card limit and when you pay your emi the limit will be released.'}]\n",
      "CUSTOMER==> [{'summary_texts': ' hi,yes i want to know about theno, not this one. can you repeat?hold on for a second.yes, what were youi want 6 month emi option.what will happen if i pre close this.but you told me not to share any details.'}]\n",
      "\n",
      "\n"
     ]
    }
   ],
   "source": [
    "for i in range(6):\n",
    "    print('GENERAL==>',text[i])\n",
    "    print('BOT==>',bot_sum[i])\n",
    "    print('CUSTOMER==>',cust_sum[i])\n",
    "    print()\n",
    "    print()"
   ]
  },
  {
   "cell_type": "code",
   "execution_count": null,
   "id": "94c591c0",
   "metadata": {},
   "outputs": [],
   "source": []
  },
  {
   "cell_type": "markdown",
   "id": "711b3d6f",
   "metadata": {},
   "source": [
    "# 2. `Learn to train models on BATCH --------------------------`"
   ]
  },
  {
   "cell_type": "code",
   "execution_count": null,
   "id": "eef5c696",
   "metadata": {},
   "outputs": [],
   "source": []
  }
 ],
 "metadata": {
  "kernelspec": {
   "display_name": "Python 3 (ipykernel)",
   "language": "python",
   "name": "python3"
  },
  "language_info": {
   "codemirror_mode": {
    "name": "ipython",
    "version": 3
   },
   "file_extension": ".py",
   "mimetype": "text/x-python",
   "name": "python",
   "nbconvert_exporter": "python",
   "pygments_lexer": "ipython3",
   "version": "3.9.12"
  }
 },
 "nbformat": 4,
 "nbformat_minor": 5
}

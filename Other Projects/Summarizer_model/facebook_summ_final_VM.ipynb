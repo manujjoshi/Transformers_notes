{
 "cells": [
  {
   "cell_type": "markdown",
   "id": "4796be38-074c-4b38-9bb9-f82931ca1b27",
   "metadata": {},
   "source": [
    "## `facebook/bart-large-cnn` \n",
    "### `pipeline`"
   ]
  },
  {
   "cell_type": "code",
   "execution_count": 1,
   "id": "f7bd9259-9ca1-44d5-9544-508258a717f7",
   "metadata": {},
   "outputs": [
    {
     "name": "stderr",
     "output_type": "stream",
     "text": [
      "2022-06-14 08:48:48.790156: I tensorflow/core/platform/cpu_feature_guard.cc:151] This TensorFlow binary is optimized with oneAPI Deep Neural Network Library (oneDNN) to use the following CPU instructions in performance-critical operations:  AVX2 FMA\n",
      "To enable them in other operations, rebuild TensorFlow with the appropriate compiler flags.\n",
      "2022-06-14 08:48:49.433280: I tensorflow/core/common_runtime/gpu/gpu_device.cc:1525] Created device /job:localhost/replica:0/task:0/device:GPU:0 with 10794 MB memory:  -> device: 0, name: Tesla K80, pci bus id: 0001:00:00.0, compute capability: 3.7\n"
     ]
    }
   ],
   "source": [
    "from transformers import pipeline\n",
    "\n",
    "summarizer = pipeline(\"summarization\", model=\"facebook/bart-large-cnn\")\n",
    "\n",
    "ARTICLE = \"\"\" New York (CNN)When Liana Barrientos was 23 years old, she got married in Westchester County, New York.\n",
    "A year later, she got married again in Westchester County, but to a different man and without divorcing her first husband.\n",
    "Only 18 days after that marriage, she got hitched yet again. Then, Barrientos declared \"I do\" five more times, sometimes only within two weeks of each other.\n",
    "In 2010, she married once more, this time in the Bronx. In an application for a marriage license, she stated it was her \"first and only\" marriage.\n",
    "Barrientos, now 39, is facing two criminal counts of \"offering a false instrument for filing in the first degree,\" referring to her false statements on the\n",
    "2010 marriage license application, according to court documents.\n",
    "Prosecutors said the marriages were part of an immigration scam.\n",
    "On Friday, she pleaded not guilty at State Supreme Court in the Bronx, according to her attorney, Christopher Wright, who declined to comment further.\n",
    "After leaving court, Barrientos was arrested and charged with theft of service and criminal trespass for allegedly sneaking into the New York subway through an emergency exit, said Detective\n",
    "Annette Markowski, a police spokeswoman. In total, Barrientos has been married 10 times, with nine of her marriages occurring between 1999 and 2002.\n",
    "All occurred either in Westchester County, Long Island, New Jersey or the Bronx. She is believed to still be married to four men, and at one time, she was married to eight men at once, prosecutors say.\n",
    "Prosecutors said the immigration scam involved some of her husbands, who filed for permanent residence status shortly after the marriages.\n",
    "Any divorces happened only after such filings were approved. It was unclear whether any of the men will be prosecuted.\n",
    "The case was referred to the Bronx District Attorney\\'s Office by Immigration and Customs Enforcement and the Department of Homeland Security\\'s\n",
    "Investigation Division. Seven of the men are from so-called \"red-flagged\" countries, including Egypt, Turkey, Georgia, Pakistan and Mali.\n",
    "Her eighth husband, Rashid Rajput, was deported in 2006 to his native Pakistan after an investigation by the Joint Terrorism Task Force.\n",
    "If convicted, Barrientos faces up to four years in prison.  Her next court appearance is scheduled for May 18.\n",
    "\"\"\""
   ]
  },
  {
   "cell_type": "code",
   "execution_count": 2,
   "id": "6627038b-6da4-42f4-b72b-2a1fffe91d24",
   "metadata": {},
   "outputs": [
    {
     "name": "stdout",
     "output_type": "stream",
     "text": [
      "[{'summary_text': 'Liana Barrientos, 39, is charged with two counts of \"offering a false instrument for filing in the first degree\" In total, she has been married 10 times, with nine of her marriages occurring between 1999 and 2002. She is believed to still be married to four men.'}]\n"
     ]
    }
   ],
   "source": [
    "print(summarizer(ARTICLE, max_length=130, min_length=30, do_sample=False))"
   ]
  },
  {
   "cell_type": "markdown",
   "id": "faa3ebf0-9af7-449f-8d30-897fb923b631",
   "metadata": {},
   "source": [
    "### `fine tuning this model on my data`"
   ]
  },
  {
   "cell_type": "code",
   "execution_count": 1,
   "id": "27c50d86-3021-4b9d-886a-4559b465cab2",
   "metadata": {},
   "outputs": [],
   "source": [
    "import pandas as pd"
   ]
  },
  {
   "cell_type": "code",
   "execution_count": 2,
   "id": "bbe22aa6-49bd-4342-a4b0-c71c17fb204a",
   "metadata": {},
   "outputs": [],
   "source": [
    "data_file = r'response-dialog-sum-all.json'\n",
    "df = pd.read_json(data_file).drop(columns=['id'])\n",
    "df = df[:1000]"
   ]
  },
  {
   "cell_type": "code",
   "execution_count": 3,
   "id": "7607179b",
   "metadata": {},
   "outputs": [
    {
     "data": {
      "text/html": [
       "<div>\n",
       "<style scoped>\n",
       "    .dataframe tbody tr th:only-of-type {\n",
       "        vertical-align: middle;\n",
       "    }\n",
       "\n",
       "    .dataframe tbody tr th {\n",
       "        vertical-align: top;\n",
       "    }\n",
       "\n",
       "    .dataframe thead th {\n",
       "        text-align: right;\n",
       "    }\n",
       "</style>\n",
       "<table border=\"1\" class=\"dataframe\">\n",
       "  <thead>\n",
       "    <tr style=\"text-align: right;\">\n",
       "      <th></th>\n",
       "      <th>summ</th>\n",
       "      <th>dialogue</th>\n",
       "    </tr>\n",
       "  </thead>\n",
       "  <tbody>\n",
       "    <tr>\n",
       "      <th>0</th>\n",
       "      <td>manuj wanted to know about the renewal of his ...</td>\n",
       "      <td>prashanth: welcome to celebal tech ivr automat...</td>\n",
       "    </tr>\n",
       "    <tr>\n",
       "      <th>1</th>\n",
       "      <td>manuj has made a transaction of 42000 on flipk...</td>\n",
       "      <td>prashanth: welcome to celebal technologies ivr...</td>\n",
       "    </tr>\n",
       "    <tr>\n",
       "      <th>2</th>\n",
       "      <td>manuj is not interested in emi option service ...</td>\n",
       "      <td>prashanth: hi, i am prashanth calling you from...</td>\n",
       "    </tr>\n",
       "    <tr>\n",
       "      <th>3</th>\n",
       "      <td>manuj has made a transaction of 35000 on amazo...</td>\n",
       "      <td>prashanth: hi, i'm prashanth calling you from ...</td>\n",
       "    </tr>\n",
       "    <tr>\n",
       "      <th>4</th>\n",
       "      <td>manuj wanted to know bout his loan application...</td>\n",
       "      <td>prashanth: welcome to celebal tech bank. manuj...</td>\n",
       "    </tr>\n",
       "  </tbody>\n",
       "</table>\n",
       "</div>"
      ],
      "text/plain": [
       "                                                summ  \\\n",
       "0  manuj wanted to know about the renewal of his ...   \n",
       "1  manuj has made a transaction of 42000 on flipk...   \n",
       "2  manuj is not interested in emi option service ...   \n",
       "3  manuj has made a transaction of 35000 on amazo...   \n",
       "4  manuj wanted to know bout his loan application...   \n",
       "\n",
       "                                            dialogue  \n",
       "0  prashanth: welcome to celebal tech ivr automat...  \n",
       "1  prashanth: welcome to celebal technologies ivr...  \n",
       "2  prashanth: hi, i am prashanth calling you from...  \n",
       "3  prashanth: hi, i'm prashanth calling you from ...  \n",
       "4  prashanth: welcome to celebal tech bank. manuj...  "
      ]
     },
     "execution_count": 3,
     "metadata": {},
     "output_type": "execute_result"
    }
   ],
   "source": [
    "data = pd.read_json('response-sum.json').drop('id',axis=1)\n",
    "data.head()"
   ]
  },
  {
   "cell_type": "code",
   "execution_count": 4,
   "id": "53383092",
   "metadata": {},
   "outputs": [
    {
     "name": "stderr",
     "output_type": "stream",
     "text": [
      "/tmp/ipykernel_25934/2877896904.py:1: FutureWarning: The frame.append method is deprecated and will be removed from pandas in a future version. Use pandas.concat instead.\n",
      "  data_new = data.append(df)\n"
     ]
    }
   ],
   "source": [
    "data_new = data.append(df)"
   ]
  },
  {
   "cell_type": "code",
   "execution_count": 15,
   "id": "c98cfc30-8a57-4f6e-8685-b9be27dfb370",
   "metadata": {},
   "outputs": [
    {
     "data": {
      "text/plain": [
       "(1020, 2)"
      ]
     },
     "execution_count": 15,
     "metadata": {},
     "output_type": "execute_result"
    }
   ],
   "source": [
    "data_new.shape"
   ]
  },
  {
   "cell_type": "code",
   "execution_count": 16,
   "id": "c1835706",
   "metadata": {},
   "outputs": [
    {
     "data": {
      "text/html": [
       "<div>\n",
       "<style scoped>\n",
       "    .dataframe tbody tr th:only-of-type {\n",
       "        vertical-align: middle;\n",
       "    }\n",
       "\n",
       "    .dataframe tbody tr th {\n",
       "        vertical-align: top;\n",
       "    }\n",
       "\n",
       "    .dataframe thead th {\n",
       "        text-align: right;\n",
       "    }\n",
       "</style>\n",
       "<table border=\"1\" class=\"dataframe\">\n",
       "  <thead>\n",
       "    <tr style=\"text-align: right;\">\n",
       "      <th></th>\n",
       "      <th>summ</th>\n",
       "      <th>dialogue</th>\n",
       "    </tr>\n",
       "  </thead>\n",
       "  <tbody>\n",
       "    <tr>\n",
       "      <th>0</th>\n",
       "      <td>manuj wanted to know about the renewal of his ...</td>\n",
       "      <td>prashanth: welcome to celebal tech ivr automat...</td>\n",
       "    </tr>\n",
       "    <tr>\n",
       "      <th>1</th>\n",
       "      <td>manuj has made a transaction of 42000 on flipk...</td>\n",
       "      <td>prashanth: welcome to celebal technologies ivr...</td>\n",
       "    </tr>\n",
       "    <tr>\n",
       "      <th>2</th>\n",
       "      <td>manuj is not interested in emi option service ...</td>\n",
       "      <td>prashanth: hi, i am prashanth calling you from...</td>\n",
       "    </tr>\n",
       "    <tr>\n",
       "      <th>3</th>\n",
       "      <td>manuj has made a transaction of 35000 on amazo...</td>\n",
       "      <td>prashanth: hi, i'm prashanth calling you from ...</td>\n",
       "    </tr>\n",
       "    <tr>\n",
       "      <th>4</th>\n",
       "      <td>manuj wanted to know bout his loan application...</td>\n",
       "      <td>prashanth: welcome to celebal tech bank. manuj...</td>\n",
       "    </tr>\n",
       "  </tbody>\n",
       "</table>\n",
       "</div>"
      ],
      "text/plain": [
       "                                                summ  \\\n",
       "0  manuj wanted to know about the renewal of his ...   \n",
       "1  manuj has made a transaction of 42000 on flipk...   \n",
       "2  manuj is not interested in emi option service ...   \n",
       "3  manuj has made a transaction of 35000 on amazo...   \n",
       "4  manuj wanted to know bout his loan application...   \n",
       "\n",
       "                                            dialogue  \n",
       "0  prashanth: welcome to celebal tech ivr automat...  \n",
       "1  prashanth: welcome to celebal technologies ivr...  \n",
       "2  prashanth: hi, i am prashanth calling you from...  \n",
       "3  prashanth: hi, i'm prashanth calling you from ...  \n",
       "4  prashanth: welcome to celebal tech bank. manuj...  "
      ]
     },
     "execution_count": 16,
     "metadata": {},
     "output_type": "execute_result"
    }
   ],
   "source": [
    "data_new.head()"
   ]
  },
  {
   "cell_type": "code",
   "execution_count": 4,
   "id": "a80ae7a6-4a2d-47cf-81cb-54566630f8ef",
   "metadata": {},
   "outputs": [
    {
     "data": {
      "text/html": [
       "<div>\n",
       "<style scoped>\n",
       "    .dataframe tbody tr th:only-of-type {\n",
       "        vertical-align: middle;\n",
       "    }\n",
       "\n",
       "    .dataframe tbody tr th {\n",
       "        vertical-align: top;\n",
       "    }\n",
       "\n",
       "    .dataframe thead th {\n",
       "        text-align: right;\n",
       "    }\n",
       "</style>\n",
       "<table border=\"1\" class=\"dataframe\">\n",
       "  <thead>\n",
       "    <tr style=\"text-align: right;\">\n",
       "      <th></th>\n",
       "      <th>summary</th>\n",
       "      <th>text</th>\n",
       "    </tr>\n",
       "  </thead>\n",
       "  <tbody>\n",
       "    <tr>\n",
       "      <th>0</th>\n",
       "      <td>mr. smith's getting a check-up, and doctor haw...</td>\n",
       "      <td>person1: hi, mr. smith. i'm doctor hawkins. wh...</td>\n",
       "    </tr>\n",
       "    <tr>\n",
       "      <th>1</th>\n",
       "      <td>mrs parker takes ricky for his vaccines. dr. p...</td>\n",
       "      <td>person1: hello mrs. parker, how have you been?...</td>\n",
       "    </tr>\n",
       "    <tr>\n",
       "      <th>2</th>\n",
       "      <td>person1's looking for a set of keys and asks f...</td>\n",
       "      <td>person1: excuse me, did you see a set of keys?...</td>\n",
       "    </tr>\n",
       "    <tr>\n",
       "      <th>3</th>\n",
       "      <td>person1's angry because person2 didn't tell pe...</td>\n",
       "      <td>person1: why didn't you tell me you had a girl...</td>\n",
       "    </tr>\n",
       "    <tr>\n",
       "      <th>4</th>\n",
       "      <td>malik invites nikki to dance. nikki agrees if ...</td>\n",
       "      <td>person1: watsup, ladies! y'll looking'fine ton...</td>\n",
       "    </tr>\n",
       "  </tbody>\n",
       "</table>\n",
       "</div>"
      ],
      "text/plain": [
       "                                             summary  \\\n",
       "0  mr. smith's getting a check-up, and doctor haw...   \n",
       "1  mrs parker takes ricky for his vaccines. dr. p...   \n",
       "2  person1's looking for a set of keys and asks f...   \n",
       "3  person1's angry because person2 didn't tell pe...   \n",
       "4  malik invites nikki to dance. nikki agrees if ...   \n",
       "\n",
       "                                                text  \n",
       "0  person1: hi, mr. smith. i'm doctor hawkins. wh...  \n",
       "1  person1: hello mrs. parker, how have you been?...  \n",
       "2  person1: excuse me, did you see a set of keys?...  \n",
       "3  person1: why didn't you tell me you had a girl...  \n",
       "4  person1: watsup, ladies! y'll looking'fine ton...  "
      ]
     },
     "execution_count": 4,
     "metadata": {},
     "output_type": "execute_result"
    }
   ],
   "source": [
    "# df.columns = ['summary','text']\n",
    "# df = df.dropna()\n",
    "# df.head()"
   ]
  },
  {
   "cell_type": "code",
   "execution_count": 5,
   "id": "c3af0d39-a1c5-4d3e-ae06-59982ed514a4",
   "metadata": {},
   "outputs": [],
   "source": [
    "# df = df[:1000]"
   ]
  },
  {
   "cell_type": "code",
   "execution_count": 18,
   "id": "b164fca6-bf91-4043-ac8a-25fa6bb96629",
   "metadata": {},
   "outputs": [
    {
     "data": {
      "text/plain": [
       "((850, 2), (150, 2))"
      ]
     },
     "execution_count": 18,
     "metadata": {},
     "output_type": "execute_result"
    }
   ],
   "source": [
    "from sklearn.model_selection import train_test_split\n",
    "train_df,test_df = train_test_split(df,test_size=0.15)\n",
    "train_df.shape,test_df.shape"
   ]
  },
  {
   "cell_type": "code",
   "execution_count": 19,
   "id": "ab68e00e-2673-40f1-82ae-2be5e0fc035a",
   "metadata": {},
   "outputs": [
    {
     "data": {
      "text/plain": [
       "True"
      ]
     },
     "execution_count": 19,
     "metadata": {},
     "output_type": "execute_result"
    }
   ],
   "source": [
    "import datasets\n",
    "import pandas as pd\n",
    "from fastai.text.all import *\n",
    "#from transformers import *\n",
    "\n",
    "from blurr.text.data.all import *\n",
    "from blurr.text.modeling.all import *\n",
    "\n",
    "import nltk\n",
    "nltk.download('punkt', quiet=True)"
   ]
  },
  {
   "cell_type": "code",
   "execution_count": 20,
   "id": "669fd70a-ba4d-4800-9a73-a6552aba00ce",
   "metadata": {},
   "outputs": [],
   "source": [
    "import transformers\n",
    "from transformers import BartForConditionalGeneration"
   ]
  },
  {
   "cell_type": "code",
   "execution_count": 21,
   "id": "8ffc92d2-9296-431a-a7a0-bdbfe18d0071",
   "metadata": {},
   "outputs": [],
   "source": [
    "pretrained_model_name = \"facebook/bart-large-cnn\"\n",
    "hf_arch, hf_config, hf_tokenizer, hf_model = get_hf_objects(pretrained_model_name, \n",
    "                                                                  model_cls=BartForConditionalGeneration)"
   ]
  },
  {
   "cell_type": "code",
   "execution_count": 22,
   "id": "59516a96-fc5c-4e1a-8486-5d0470dbeda8",
   "metadata": {},
   "outputs": [],
   "source": [
    "hf_batch_tfm = Seq2SeqBatchTokenizeTransform(hf_arch, hf_config, hf_tokenizer, hf_model, \n",
    "    task='summarization',\n",
    "    text_gen_kwargs=\n",
    " {'max_length': 248,'min_length': 56,'do_sample': False, 'early_stopping': True, 'num_beams': 4, 'temperature': 1.0, \n",
    "  'top_k': 50, 'top_p': 1.0, 'repetition_penalty': 1.0, 'bad_words_ids': None, 'bos_token_id': 0, 'pad_token_id': 1,\n",
    " 'eos_token_id': 2, 'length_penalty': 2.0, 'no_repeat_ngram_size': 3, 'encoder_no_repeat_ngram_size': 0,\n",
    " 'num_return_sequences': 1, 'decoder_start_token_id': 2, 'use_cache': True, 'num_beam_groups': 1,\n",
    " 'diversity_penalty': 0.0, 'output_attentions': False, 'output_hidden_states': False, 'output_scores': False,\n",
    " 'return_dict_in_generate': False, 'forced_bos_token_id': 0, 'forced_eos_token_id': 2, 'remove_invalid_values': False})\n"
   ]
  },
  {
   "cell_type": "code",
   "execution_count": 23,
   "id": "e96b669d-47a4-49a6-b80c-70e78a442be9",
   "metadata": {},
   "outputs": [
    {
     "data": {
      "text/plain": [
       "(<blurr.text.data.seq2seq.core.Seq2SeqTextBlock at 0x7f7f1fd74760>,\n",
       " <function fastai.imports.noop(x=None, *args, **kwargs)>)"
      ]
     },
     "execution_count": 23,
     "metadata": {},
     "output_type": "execute_result"
    }
   ],
   "source": [
    "blocks = (Seq2SeqTextBlock(batch_tokenize_tfm=hf_batch_tfm), noop)\n",
    "blocks"
   ]
  },
  {
   "cell_type": "code",
   "execution_count": 25,
   "id": "a71fcdde-501b-4d49-a600-48b320f09ed7",
   "metadata": {},
   "outputs": [],
   "source": [
    "dblock = DataBlock(blocks=blocks, get_x=ColReader('dialogue'), get_y=ColReader('summ'), splitter=RandomSplitter())\n",
    "dls = dblock.dataloaders(df, batch_size = 16)"
   ]
  },
  {
   "cell_type": "code",
   "execution_count": 26,
   "id": "917242b6-7831-4651-8a58-5330744b5347",
   "metadata": {},
   "outputs": [],
   "source": [
    "seq2seq_metrics = {\n",
    "        'rouge': {\n",
    "            'compute_kwargs': { 'rouge_types': [\"rouge1\", \"rouge2\", \"rougeL\"], 'use_stemmer': True },\n",
    "            'returns': [\"rouge1\", \"rouge2\", \"rougeL\"]\n",
    "        },\n",
    "        'bertscore': {\n",
    "            'compute_kwargs': { 'lang': 'en' },\n",
    "            'returns': [\"precision\", \"recall\", \"f1\"]\n",
    "        }\n",
    "    }"
   ]
  },
  {
   "cell_type": "code",
   "execution_count": 27,
   "id": "4f700e85",
   "metadata": {},
   "outputs": [],
   "source": [
    "# !pip install bert_score"
   ]
  },
  {
   "cell_type": "code",
   "execution_count": 28,
   "id": "e06c3e00-9fa1-48ef-bd33-4e24d5386e2b",
   "metadata": {},
   "outputs": [],
   "source": [
    "model = BaseModelWrapper(hf_model)\n",
    "learn_cbs = [BaseModelCallback]\n",
    "fit_cbs = [Seq2SeqMetricsCallback(custom_metrics=seq2seq_metrics)]\n",
    "\n",
    "learn = Learner(dls, \n",
    "                model,\n",
    "                opt_func=ranger,\n",
    "                loss_func=CrossEntropyLossFlat(),\n",
    "                cbs=learn_cbs,\n",
    "                splitter=partial(blurr_seq2seq_splitter, arch=hf_arch)).to_fp16()\n",
    "\n",
    "learn.create_opt() \n",
    "learn.freeze()"
   ]
  },
  {
   "cell_type": "code",
   "execution_count": null,
   "id": "c93f72e2-53ff-47d7-95d2-3a69cec331f7",
   "metadata": {},
   "outputs": [
    {
     "name": "stderr",
     "output_type": "stream",
     "text": [
      "/home/harshvardhan-pathak/Workspace/Customer_analytics/canalytics_env/lib/python3.8/site-packages/torch/amp/autocast_mode.py:198: UserWarning: User provided device_type of 'cuda', but CUDA is not available. Disabling\n",
      "  warnings.warn('User provided device_type of \\'cuda\\', but CUDA is not available. Disabling')\n",
      "/home/harshvardhan-pathak/Workspace/Customer_analytics/canalytics_env/lib/python3.8/site-packages/torch/cuda/amp/grad_scaler.py:115: UserWarning: torch.cuda.amp.GradScaler is enabled, but CUDA is not available.  Disabling.\n",
      "  warnings.warn(\"torch.cuda.amp.GradScaler is enabled, but CUDA is not available.  Disabling.\")\n"
     ]
    },
    {
     "data": {
      "text/html": [
       "\n",
       "<style>\n",
       "    /* Turns off some styling */\n",
       "    progress {\n",
       "        /* gets rid of default border in Firefox and Opera. */\n",
       "        border: none;\n",
       "        /* Needs to be in here for Safari polyfill so background images work as expected. */\n",
       "        background-size: auto;\n",
       "    }\n",
       "    .progress-bar-interrupted, .progress-bar-interrupted::-webkit-progress-bar {\n",
       "        background: #F44336;\n",
       "    }\n",
       "</style>\n"
      ],
      "text/plain": [
       "<IPython.core.display.HTML object>"
      ]
     },
     "metadata": {},
     "output_type": "display_data"
    },
    {
     "data": {
      "text/html": [
       "\n",
       "    <div>\n",
       "      <progress value='0' class='' max='10' style='width:300px; height:20px; vertical-align: middle;'></progress>\n",
       "      0.00% [0/10 00:00<00:00]\n",
       "    </div>\n",
       "    \n",
       "<table border=\"1\" class=\"dataframe\">\n",
       "  <thead>\n",
       "    <tr style=\"text-align: left;\">\n",
       "      <th>epoch</th>\n",
       "      <th>train_loss</th>\n",
       "      <th>valid_loss</th>\n",
       "      <th>rouge1</th>\n",
       "      <th>rouge2</th>\n",
       "      <th>rougeL</th>\n",
       "      <th>bertscore_precision</th>\n",
       "      <th>bertscore_recall</th>\n",
       "      <th>bertscore_f1</th>\n",
       "      <th>time</th>\n",
       "    </tr>\n",
       "  </thead>\n",
       "  <tbody>\n",
       "  </tbody>\n",
       "</table><p>\n",
       "\n",
       "    <div>\n",
       "      <progress value='30' class='' max='50' style='width:300px; height:20px; vertical-align: middle;'></progress>\n",
       "      60.00% [30/50 05:10<03:26 2.4526]\n",
       "    </div>\n",
       "    "
      ],
      "text/plain": [
       "<IPython.core.display.HTML object>"
      ]
     },
     "metadata": {},
     "output_type": "display_data"
    },
    {
     "name": "stdout",
     "output_type": "stream",
     "text": [
      "huggingface/tokenizers: The current process just got forked, after parallelism has already been used. Disabling parallelism to avoid deadlocks...\n",
      "To disable this warning, you can either:\n",
      "\t- Avoid using `tokenizers` before the fork if possible\n",
      "\t- Explicitly set the environment variable TOKENIZERS_PARALLELISM=(true | false)\n",
      "huggingface/tokenizers: The current process just got forked, after parallelism has already been used. Disabling parallelism to avoid deadlocks...\n",
      "To disable this warning, you can either:\n",
      "\t- Avoid using `tokenizers` before the fork if possible\n",
      "\t- Explicitly set the environment variable TOKENIZERS_PARALLELISM=(true | false)\n",
      "huggingface/tokenizers: The current process just got forked, after parallelism has already been used. Disabling parallelism to avoid deadlocks...\n",
      "To disable this warning, you can either:\n",
      "\t- Avoid using `tokenizers` before the fork if possible\n",
      "\t- Explicitly set the environment variable TOKENIZERS_PARALLELISM=(true | false)\n",
      "huggingface/tokenizers: The current process just got forked, after parallelism has already been used. Disabling parallelism to avoid deadlocks...\n",
      "To disable this warning, you can either:\n",
      "\t- Avoid using `tokenizers` before the fork if possible\n",
      "\t- Explicitly set the environment variable TOKENIZERS_PARALLELISM=(true | false)\n",
      "huggingface/tokenizers: The current process just got forked, after parallelism has already been used. Disabling parallelism to avoid deadlocks...\n",
      "To disable this warning, you can either:\n",
      "\t- Avoid using `tokenizers` before the fork if possible\n",
      "\t- Explicitly set the environment variable TOKENIZERS_PARALLELISM=(true | false)\n",
      "huggingface/tokenizers: The current process just got forked, after parallelism has already been used. Disabling parallelism to avoid deadlocks...\n",
      "To disable this warning, you can either:\n",
      "\t- Avoid using `tokenizers` before the fork if possible\n",
      "\t- Explicitly set the environment variable TOKENIZERS_PARALLELISM=(true | false)\n"
     ]
    }
   ],
   "source": [
    "learn.fit_one_cycle(10, lr_max=3e-5, cbs=fit_cbs)"
   ]
  },
  {
   "cell_type": "code",
   "execution_count": null,
   "id": "0b4ac7b4-8029-4794-b4cd-b03ec402dc6e",
   "metadata": {},
   "outputs": [],
   "source": [
    "learn.show_results(learner=learn, max_n=2)"
   ]
  },
  {
   "cell_type": "code",
   "execution_count": null,
   "id": "dab6475e-f779-4f11-a6bf-4e2314c601da",
   "metadata": {},
   "outputs": [],
   "source": [
    "test_article = \"\"\"\n",
    "The past 12 months have been the worst for aviation fatalities so far this decade - with the total of number of people killed if airline \n",
    "crashes reaching 1,050 even before the Air Asia plane vanished. Two incidents involving Malaysia Airlines planes - one over eastern Ukraine and the other in the Indian Ocean - led to the deaths of 537 people, while an Air Algerie crash in Mali killed 116 and TransAsia Airways crash in Taiwan killed a further 49 people. The remaining 456 fatalities were largely in incidents involving small commercial planes or private aircraft operating on behalf of companies, governments or organisations. Despite 2014 having the highest number of fatalities so far this decade, the total number of crashes was in fact the lowest since the first commercial jet airliner took off in 1949 - totalling just 111 across the whole world over the past 12 months. The all-time deadliest year for aviation was 1972 when a staggering 2,429 people were killed in a total of 55 plane crashes - including the crash of Aeroflot Flight 217, which killed 174 people in Russia, and Convair 990 Coronado, which claimed 155 lives in Spain. However this year's total death count of 1,212, including those presumed dead on board the missing Air Asia flight, marks a significant rise on the very low 265 fatalities in 2013 - which led to it being named the safest year in aviation since the end of the Second World War. Scroll down for videos. Deadly: The past 12 months have been the worst for aviation fatalities so far this decade - with the total of number of people killed if airline crashes reaching 1,158 even before the Air Asia plane (pictured) vanished. Fatal: Two incidents involving Malaysia Airlines planes - one over eastern Ukraine (pictured) and the other in the Indian Ocean - led to the deaths of 537 people. Surprising: Despite 2014 having the highest number of fatalities so far this decade, the total number of crashes was in fact the lowest since the first commercial jet airliner took off in 1949. 2014 has been a horrific year for Malaysia-based airlines, with 537 people dying on Malaysia Airlines planes, and a further 162 people missing and feared dead in this week's Air Asia incident. In total more than half the people killed in aviation incidents this year had been flying on board Malaysia-registered planes. In January a total of 12 people lost their lives in five separate incidents, while the same number of crashes in February killed 107. \n",
    "\"\"\""
   ]
  },
  {
   "cell_type": "code",
   "execution_count": null,
   "id": "ed05a36d-3f61-4287-b8d7-a11311cbc964",
   "metadata": {},
   "outputs": [],
   "source": [
    "print('The past 12 months have been the worst for aviation fatalities so far this decade - with the total of number of people killed if airline crashes reaching 1,050 even before the Air Asia plane vanished. Two incidents involving Malaysia Airlines planes - one over eastern Ukraine and the other in the Indian Ocean - led to the deaths of 537 people, while an Air Algerie crash in Mali killed 116 and TransAsia Airways crash in Taiwan killed a further 49 people. The remaining 456 fatalities were largely in incidents involving small commercial planes or private aircraft operating on behalf of companies, governments or organisations. Despite 2014 having the highest number of fatalities so far this decade, the total number of crashes was in fact the lowest since the first commercial jet airliner took off in 1949 - totalling just 111 across the whole world over the past 12 months. The all-time deadliest year for aviation was 1972 when a staggering 2,429 people were killed in a total of 55 plane crashes - including the crash of Aeroflot Flight 217, which killed 174 people in Russia, and Convair 990 Coronado, which claimed 155 lives in Spain. However this years total death count of 1,212, including those presumed dead on board the missing Air Asia flight, marks a significant rise on the very low 265 fatalities in 2013 - which led to it being named the safest year in aviation since the end of the Second World War. Scroll down for videos. Deadly: The past 12 months have been the worst for aviation fatalities so far this decade - with the total of number of people killed if airline crashes reaching 1,158 even before the Air Asia plane (pictured) vanished. Fatal: Two incidents involving Malaysia Airlines planes - one over eastern Ukraine (pictured) and the other in the Indian Ocean - led to the deaths of 537 people. Surprising: Despite 2014 having the highest number of fatalities so far this decade, the total number of crashes was in fact the lowest since the first commercial jet airliner took off in 1949. 2014 has been a horrific year for Malaysia-based airlines, with 537 people dying on Malaysia Airlines planes, and a further 162 people missing and feared dead in this weeks Air Asia incident. In total more than half the people killed in aviation incidents this year had been flying on board Malaysia-registered planes. In January a total of 12 people lost their lives in five separate incidents, while the same number of crashes in February killed 107.') "
   ]
  },
  {
   "cell_type": "code",
   "execution_count": null,
   "id": "0ad11640-dbd1-48ae-a420-a4b2453daa02",
   "metadata": {},
   "outputs": [],
   "source": [
    "outputs = learn.blurr_summarize(test_article, early_stopping=True, num_beams=4, num_return_sequences=3)\n",
    "\n",
    "for idx, o in enumerate(outputs):\n",
    "    print(f'=== Prediction {idx+1} ===\\n{o}\\n')"
   ]
  },
  {
   "cell_type": "code",
   "execution_count": null,
   "id": "6c7ac90a-17ab-4934-ab52-c77a6fc324cb",
   "metadata": {},
   "outputs": [],
   "source": [
    "learn.metrics = None\n",
    "learn.export(fname='ft_cnndm_export.pkl')"
   ]
  },
  {
   "cell_type": "code",
   "execution_count": null,
   "id": "f3fba688-587c-48e4-bcea-505b675aee32",
   "metadata": {},
   "outputs": [],
   "source": [
    "inf_learn = load_learner(fname='ft_cnndm_export.pkl')\n",
    "inf_learn.blurr_summarize(test_article)"
   ]
  },
  {
   "cell_type": "markdown",
   "id": "019cec0f-60ff-4d58-911d-496ed39d1d0e",
   "metadata": {},
   "source": [
    "# On our data"
   ]
  },
  {
   "cell_type": "code",
   "execution_count": null,
   "id": "e7d33295-a976-4e3d-819a-9a381aed39c7",
   "metadata": {},
   "outputs": [],
   "source": [
    "data_file = r'our_data.json'\n",
    "df = pd.read_json(data_file)"
   ]
  },
  {
   "cell_type": "code",
   "execution_count": null,
   "id": "fb7b0ea8-adf2-431e-b5d4-f83b2eded93d",
   "metadata": {},
   "outputs": [],
   "source": [
    "df.head()"
   ]
  },
  {
   "cell_type": "code",
   "execution_count": null,
   "id": "486fd4af-4dc0-436f-ae88-00e4011d6a81",
   "metadata": {},
   "outputs": [],
   "source": [
    "summ = []\n",
    "for i in df.dialogue:\n",
    "    summary = inf_learn.blurr_summarize(i)\n",
    "    summ.append(summary)"
   ]
  },
  {
   "cell_type": "code",
   "execution_count": 15,
   "id": "0ff7aed9-6f95-430a-a281-bf490fbe0bd1",
   "metadata": {},
   "outputs": [],
   "source": [
    "df['prediction'] = summ"
   ]
  },
  {
   "cell_type": "code",
   "execution_count": 16,
   "id": "85674b40-2918-42f1-843e-569799176047",
   "metadata": {},
   "outputs": [
    {
     "data": {
      "text/html": [
       "<div>\n",
       "<style scoped>\n",
       "    .dataframe tbody tr th:only-of-type {\n",
       "        vertical-align: middle;\n",
       "    }\n",
       "\n",
       "    .dataframe tbody tr th {\n",
       "        vertical-align: top;\n",
       "    }\n",
       "\n",
       "    .dataframe thead th {\n",
       "        text-align: right;\n",
       "    }\n",
       "</style>\n",
       "<table border=\"1\" class=\"dataframe\">\n",
       "  <thead>\n",
       "    <tr style=\"text-align: right;\">\n",
       "      <th></th>\n",
       "      <th>id</th>\n",
       "      <th>summ</th>\n",
       "      <th>dialogue</th>\n",
       "      <th>prediction</th>\n",
       "    </tr>\n",
       "  </thead>\n",
       "  <tbody>\n",
       "    <tr>\n",
       "      <th>0</th>\n",
       "      <td>10</td>\n",
       "      <td>manuj wanted to know about the renewal of his policy. his mobile number is 9998887776, date of birth is 25th august 2021, prashanth has send him the renewal payemt link.</td>\n",
       "      <td>prashanth: welcome to celebal tech ivr automation demo. hi how are you? manuj: i'm fine. prashanth: thank you for calling city health insurance my name is prashanth. how can i help you today? manuj: i have an health policy with you. i wanted to know do i need to renew the policy?\\nprashanth: of course i can do that. could you please confirm few details before i give you the necessary information? could you please tell me your registered mobile number? manuj: yeah sure it's 9998887776. i can confirm that you have active health insurance policy with us. can you confirm your name and date of ...</td>\n",
       "      <td>[{'summary_texts': ' manuj calls city health insurance to renew his health insurance policy. prashanth will send him a payment link of renewal for the 2 year option. manuj will receive the payment link on his registered mobile number and email address and will share the link with him shortly.'}]</td>\n",
       "    </tr>\n",
       "    <tr>\n",
       "      <th>1</th>\n",
       "      <td>12</td>\n",
       "      <td>manuj has made a transaction of 42000 on flipkart on 16th oct 2021 through your credit card, he is ready to pay full payment.</td>\n",
       "      <td>prashanth: welcome to celebal technologies ivr automation demo. i can help with bank related queries. manuj:hello. prashanth:hello, i'm prashanth calling from celebal bank. am i talking to mr manuj? manuj:yes you are. prashanth:thanks for confirming your name mr manuj. this call is being recorded by celebal tech bank. for security reasons, please do not share your cvv and otp with anyone.\\nmanuj: okay. prashanth:i can see that you have recently done the transaction of 42,000 from flipkart on 16th oct 2021 through your credit card. you can instantly get this amount converted into emi. would...</td>\n",
       "      <td>[{'summary_texts': ' mr manuj calls prashanth from celebal bank to ask about converting the 42,000 from flipkart transaction into emi. by opting for emi, manuj won't block a big amount and it won't affect his monthly budget.'}]</td>\n",
       "    </tr>\n",
       "    <tr>\n",
       "      <th>2</th>\n",
       "      <td>13</td>\n",
       "      <td>manuj is not interested in emi option service and he wanted to talk to an agent</td>\n",
       "      <td>prashanth: hi, i am prashanth calling you from sellable check bank. we have and emi offer specially created for you. would you like to know more about the offers? manuj: no i am not interested. prashanth: i respect that, sir, but by opting for an emi you are not blocking huge cash which makes your personal budgeting for the month easier. you can also get to know precisely how much money you need to pay towards the emi each month. would you like to know about the offer? manuj: no , i wolud like to talk to your agent. prashanth: please wait while we are transferring your call to our agent.</td>\n",
       "      <td>[{'summary_texts': ' manuj calls prashanth from sellable check bank to talk about an emi offer specially created for manuj. prashant tells manuj that by opting for the emi you are not blocking huge cash which makes budgeting for the month easier. manuj prefers to talk to the agent.'}]</td>\n",
       "    </tr>\n",
       "    <tr>\n",
       "      <th>3</th>\n",
       "      <td>14</td>\n",
       "      <td>manuj has made a transaction of 35000 on amazona and he is ready to full payment.</td>\n",
       "      <td>prashanth: hi, i'm prashanth calling you from celebal tech bank. we have and emi offer specially created for you. would you like to know more about the offer?\\nmanuj: yes sure.\\nprashanth: this call is being recorded by celebal tech bank. for security reasons, please do not share your cvv and otp with anyone. as i can see a transaction of 35,000 done on amazon. would you like to convert this into emi? manuj:yes, convert this one. prashanth :that's a great choice, sir. could you please confirm at what tenure would you be interested in?\\nmanuj: tell me the monthly payment for the tenure of 6...</td>\n",
       "      <td>[{'summary_texts': ' prashanth calls manuj from celebal tech bank to suggest an emi offer specially created for manuj to convert a transaction of 35,000 done on amazon into emi. manuj is happy to pay full payment and will keep banking with celebal bank.'}]</td>\n",
       "    </tr>\n",
       "    <tr>\n",
       "      <th>4</th>\n",
       "      <td>15</td>\n",
       "      <td>manuj wanted to know bout his loan application, his mobile number is 9998887776, his date of birth is 20 june 1999, he have an active loan application and he had received a payment link on his email address</td>\n",
       "      <td>prashanth: welcome to celebal tech bank. manuj: hi how are you? prashanth: i'm fine. thank you for calling us my name is prashanth. how can i help you today? manuj: i have an loan application with you. i wanted to know the status of it ? prashanth: of course i can do that. could you please confirm few details before i give you the necessary information? could you please tell me your registered mobile number? manuj: yeah sure it's 9998887776. i can confirm that you have active loan applictation with us. can you confirm your name and date of birth for authentication? manuj: sure my name is m...</td>\n",
       "      <td>[{'summary_texts': ' prashanth calls manuj to confirm the status of the loan application with celebal tech bank. manuj confirms that the application is accepted and will send the payment link to prashath's mobile number and email to manuj's email address to confirm payment.'}]</td>\n",
       "    </tr>\n",
       "  </tbody>\n",
       "</table>\n",
       "</div>"
      ],
      "text/plain": [
       "   id  \\\n",
       "0  10   \n",
       "1  12   \n",
       "2  13   \n",
       "3  14   \n",
       "4  15   \n",
       "\n",
       "                                                                                                                                                                                                             summ  \\\n",
       "0                                       manuj wanted to know about the renewal of his policy. his mobile number is 9998887776, date of birth is 25th august 2021, prashanth has send him the renewal payemt link.   \n",
       "1                                                                                   manuj has made a transaction of 42000 on flipkart on 16th oct 2021 through your credit card, he is ready to pay full payment.   \n",
       "2                                                                                                                                 manuj is not interested in emi option service and he wanted to talk to an agent   \n",
       "3                                                                                                                               manuj has made a transaction of 35000 on amazona and he is ready to full payment.   \n",
       "4  manuj wanted to know bout his loan application, his mobile number is 9998887776, his date of birth is 20 june 1999, he have an active loan application and he had received a payment link on his email address   \n",
       "\n",
       "                                                                                                                                                                                                                                                                                                                                                                                                                                                                                                                                                                                                                  dialogue  \\\n",
       "0  prashanth: welcome to celebal tech ivr automation demo. hi how are you? manuj: i'm fine. prashanth: thank you for calling city health insurance my name is prashanth. how can i help you today? manuj: i have an health policy with you. i wanted to know do i need to renew the policy?\\nprashanth: of course i can do that. could you please confirm few details before i give you the necessary information? could you please tell me your registered mobile number? manuj: yeah sure it's 9998887776. i can confirm that you have active health insurance policy with us. can you confirm your name and date of ...   \n",
       "1  prashanth: welcome to celebal technologies ivr automation demo. i can help with bank related queries. manuj:hello. prashanth:hello, i'm prashanth calling from celebal bank. am i talking to mr manuj? manuj:yes you are. prashanth:thanks for confirming your name mr manuj. this call is being recorded by celebal tech bank. for security reasons, please do not share your cvv and otp with anyone.\\nmanuj: okay. prashanth:i can see that you have recently done the transaction of 42,000 from flipkart on 16th oct 2021 through your credit card. you can instantly get this amount converted into emi. would...   \n",
       "2       prashanth: hi, i am prashanth calling you from sellable check bank. we have and emi offer specially created for you. would you like to know more about the offers? manuj: no i am not interested. prashanth: i respect that, sir, but by opting for an emi you are not blocking huge cash which makes your personal budgeting for the month easier. you can also get to know precisely how much money you need to pay towards the emi each month. would you like to know about the offer? manuj: no , i wolud like to talk to your agent. prashanth: please wait while we are transferring your call to our agent.   \n",
       "3  prashanth: hi, i'm prashanth calling you from celebal tech bank. we have and emi offer specially created for you. would you like to know more about the offer?\\nmanuj: yes sure.\\nprashanth: this call is being recorded by celebal tech bank. for security reasons, please do not share your cvv and otp with anyone. as i can see a transaction of 35,000 done on amazon. would you like to convert this into emi? manuj:yes, convert this one. prashanth :that's a great choice, sir. could you please confirm at what tenure would you be interested in?\\nmanuj: tell me the monthly payment for the tenure of 6...   \n",
       "4  prashanth: welcome to celebal tech bank. manuj: hi how are you? prashanth: i'm fine. thank you for calling us my name is prashanth. how can i help you today? manuj: i have an loan application with you. i wanted to know the status of it ? prashanth: of course i can do that. could you please confirm few details before i give you the necessary information? could you please tell me your registered mobile number? manuj: yeah sure it's 9998887776. i can confirm that you have active loan applictation with us. can you confirm your name and date of birth for authentication? manuj: sure my name is m...   \n",
       "\n",
       "                                                                                                                                                                                                                                                                                                 prediction  \n",
       "0  [{'summary_texts': ' manuj calls city health insurance to renew his health insurance policy. prashanth will send him a payment link of renewal for the 2 year option. manuj will receive the payment link on his registered mobile number and email address and will share the link with him shortly.'}]  \n",
       "1                                                                       [{'summary_texts': ' mr manuj calls prashanth from celebal bank to ask about converting the 42,000 from flipkart transaction into emi. by opting for emi, manuj won't block a big amount and it won't affect his monthly budget.'}]  \n",
       "2             [{'summary_texts': ' manuj calls prashanth from sellable check bank to talk about an emi offer specially created for manuj. prashant tells manuj that by opting for the emi you are not blocking huge cash which makes budgeting for the month easier. manuj prefers to talk to the agent.'}]  \n",
       "3                                          [{'summary_texts': ' prashanth calls manuj from celebal tech bank to suggest an emi offer specially created for manuj to convert a transaction of 35,000 done on amazon into emi. manuj is happy to pay full payment and will keep banking with celebal bank.'}]  \n",
       "4                     [{'summary_texts': ' prashanth calls manuj to confirm the status of the loan application with celebal tech bank. manuj confirms that the application is accepted and will send the payment link to prashath's mobile number and email to manuj's email address to confirm payment.'}]  "
      ]
     },
     "execution_count": 16,
     "metadata": {},
     "output_type": "execute_result"
    }
   ],
   "source": [
    "df.head()"
   ]
  },
  {
   "cell_type": "code",
   "execution_count": 17,
   "id": "e7c4fffa-ae9a-48a7-bc60-8b0434fda4b8",
   "metadata": {},
   "outputs": [],
   "source": [
    "df.to_csv('with_prediction.csv')"
   ]
  },
  {
   "cell_type": "code",
   "execution_count": 18,
   "id": "a67d828e-c216-4e34-ae77-393caaa76721",
   "metadata": {},
   "outputs": [],
   "source": [
    "dicts = {}\n",
    "lists = []\n",
    "for i in range(len(df)):\n",
    "    dicts = {\"id\":i,\n",
    "             \"summary\":df.summ[i],\n",
    "             \"prediction\":df.prediction[i]\n",
    "            }\n",
    "    lists.append(dicts)"
   ]
  },
  {
   "cell_type": "code",
   "execution_count": 19,
   "id": "cf0044c6-a41d-4983-b199-b6108d1962f0",
   "metadata": {},
   "outputs": [
    {
     "name": "stdout",
     "output_type": "stream",
     "text": [
      "{'id': 0, 'summary': 'manuj wanted to know about the renewal of his policy. his mobile number is 9998887776, date of birth is 25th august 2021, prashanth has send him the renewal payemt link.', 'prediction': [{'summary_texts': ' manuj calls city health insurance to renew his health insurance policy. prashanth will send him a payment link of renewal for the 2 year option. manuj will receive the payment link on his registered mobile number and email address and will share the link with him shortly.'}]}\n",
      "----------------------------------------------------------------------------------------------------\n",
      "----------------------------------------------------------------------------------------------------\n",
      "----------------------------------------------------------------------------------------------------\n",
      "{'id': 1, 'summary': 'manuj has made a transaction of 42000 on flipkart on 16th oct 2021 through your credit card, he is ready to pay full payment.', 'prediction': [{'summary_texts': \" mr manuj calls prashanth from celebal bank to ask about converting the 42,000 from flipkart transaction into emi. by opting for emi, manuj won't block a big amount and it won't affect his monthly budget.\"}]}\n",
      "----------------------------------------------------------------------------------------------------\n",
      "----------------------------------------------------------------------------------------------------\n",
      "----------------------------------------------------------------------------------------------------\n",
      "{'id': 2, 'summary': 'manuj is not interested in emi option service and he wanted to talk to an agent', 'prediction': [{'summary_texts': ' manuj calls prashanth from sellable check bank to talk about an emi offer specially created for manuj. prashant tells manuj that by opting for the emi you are not blocking huge cash which makes budgeting for the month easier. manuj prefers to talk to the agent.'}]}\n",
      "----------------------------------------------------------------------------------------------------\n",
      "----------------------------------------------------------------------------------------------------\n",
      "----------------------------------------------------------------------------------------------------\n",
      "{'id': 3, 'summary': 'manuj has made a transaction of 35000 on amazona and he is ready to full payment.', 'prediction': [{'summary_texts': ' prashanth calls manuj from celebal tech bank to suggest an emi offer specially created for manuj to convert a transaction of 35,000 done on amazon into emi. manuj is happy to pay full payment and will keep banking with celebal bank.'}]}\n",
      "----------------------------------------------------------------------------------------------------\n",
      "----------------------------------------------------------------------------------------------------\n",
      "----------------------------------------------------------------------------------------------------\n",
      "{'id': 4, 'summary': 'manuj wanted to know bout his loan application, his mobile number is 9998887776, his date of birth is 20 june 1999, he have an active loan application and he had received a payment link on his email address', 'prediction': [{'summary_texts': \" prashanth calls manuj to confirm the status of the loan application with celebal tech bank. manuj confirms that the application is accepted and will send the payment link to prashath's mobile number and email to manuj's email address to confirm payment.\"}]}\n",
      "----------------------------------------------------------------------------------------------------\n",
      "----------------------------------------------------------------------------------------------------\n",
      "----------------------------------------------------------------------------------------------------\n",
      "{'id': 5, 'summary': 'manuj has made a transaction of 40000 on myntra but he do not wanted to convert this int emi, he wanted to convert his 25000 transaction on nyka into emi and he also wanted to cconvert his 12000 transaction on flipkart into emi which is a 6 month emi with payment of 2171 per month and a processing fees of 450, his cresdit limit is 90000 ,his date of birth is 2 may 1975 and postal code is 263139.', 'prediction': [{'summary_texts': ' neerja calls sellable tech bank to convert a transaction of 12,000 on flipkart into an emi. manuj asks for details like credit limit and date of birth. prashanth tells manuj the emi amount will be temporarily kept on hold in your credit card limit and when you pay your emi the limit will be released.'}]}\n",
      "----------------------------------------------------------------------------------------------------\n",
      "----------------------------------------------------------------------------------------------------\n",
      "----------------------------------------------------------------------------------------------------\n",
      "{'id': 6, 'summary': 'manuj has done a transaction of 30000 on snapdeal and he do not wanted this to convert into emi, but he wanted a personal loan of 1000000', 'prediction': [{'summary_texts': \" manuj calls prashanth to ask for a personal loan. prashant will contact manuj soon with details of the loan and will send a person to personuj's details soon with the details of a loan to manuj's personal loan to pay for the loan.\"}]}\n",
      "----------------------------------------------------------------------------------------------------\n",
      "----------------------------------------------------------------------------------------------------\n",
      "----------------------------------------------------------------------------------------------------\n",
      "{'id': 7, 'summary': 'manuj has done a transaction of 14000 on flipkart and he do not want to convert this into emi, he want a home loan of 2500000', 'prediction': [{'summary_texts': ' manuj needs a loan from sellable tech bank. prashanth records the call and asks manuj to convert the transaction of 14,000 on flipkart into emi. prasanth will reach out to manuj soon with the details of the loan.'}]}\n",
      "----------------------------------------------------------------------------------------------------\n",
      "----------------------------------------------------------------------------------------------------\n",
      "----------------------------------------------------------------------------------------------------\n",
      "{'id': 8, 'summary': 'manuj had made a transaction of 40000 at flipkart but he do not want to convert this into emi, he wanted a study loan of 300000', 'prediction': [{'summary_texts': ' manuj calls celebal tech bank to get a loan. prashanth records the call and asks manuj to convert it into emi. manuj will need 300,000 to get the loan and will be contacted soon by a customer representative of celebal technology bank.'}]}\n",
      "----------------------------------------------------------------------------------------------------\n",
      "----------------------------------------------------------------------------------------------------\n",
      "----------------------------------------------------------------------------------------------------\n",
      "{'id': 9, 'summary': 'manuj had done a transaction of 60,000 done on boohoo but he do not want to convrt this into emi, he wanted to convert his 35000 transaction on snapdeal to emi of 6 months.', 'prediction': [{'summary_texts': ' celebal tech bank has and emi offer specially created for you. prashanth calls manuj and asks him to convert a transaction done on boohoo and snapdeal into emi. he asks manuj to tell him the tenure period and the monthly payment for 6 month emi option.'}]}\n",
      "----------------------------------------------------------------------------------------------------\n",
      "----------------------------------------------------------------------------------------------------\n",
      "----------------------------------------------------------------------------------------------------\n",
      "{'id': 10, 'summary': 'manuj has an active health insurance plan with city insurance that will be costing 3256 and will be renewed every 2 years. manuj wants payment reminders', 'prediction': [{'summary_texts': \" rahul calls city insurance to renew his health insurance policy. prashanth will send a payment link of renewal for the 2 year option and will share the link with manuj shortly. manuj will receive the payment link on manuj's registered mobile number.\"}]}\n",
      "----------------------------------------------------------------------------------------------------\n",
      "----------------------------------------------------------------------------------------------------\n",
      "----------------------------------------------------------------------------------------------------\n",
      "{'id': 11, 'summary': 'manuj acquires axis bank credit card holder benefit by availing a emi on 35,000 at the rate of 3196 for 10 months. Interest are taxable, tax-inclusive processing charges of 300 on the first installment and pre-closure charges on the oustanding are applicable.', 'prediction': [{'summary_texts': \" mr soumya calls celebal technologies ivr automation to book a special emi facility on axis bank credit card. mr Soumya's transaction of 75,000 from flipkart is converted into emi with an interest rate starting from 14% per annum.\"}]}\n",
      "----------------------------------------------------------------------------------------------------\n",
      "----------------------------------------------------------------------------------------------------\n",
      "----------------------------------------------------------------------------------------------------\n",
      "{'id': 12, 'summary': 'manuj upgrades his credit card online transaction limit from 2,00,000 to 2,50,000', 'prediction': [{'summary_texts': ' manuj calls celebal technologies ivr automation demo to update his online transaction limit. prashanth helps manuj update the limit for online transactions to 250,000 and asks manuj to talk to an agent to update the new limit to 50,000.'}]}\n",
      "----------------------------------------------------------------------------------------------------\n",
      "----------------------------------------------------------------------------------------------------\n",
      "----------------------------------------------------------------------------------------------------\n",
      "{'id': 13, 'summary': 'raghav wanted to know his loan application status which was accepted and was active at that moment. he will receive loan re-pay link', 'prediction': [{'summary_texts': \" raghav calls celebal tech bank to apply for a loan. prashanth confirms that the loan is accepted and will send the details link to manuj's registered mobile number and email address to send the payment link on the phone number and the email address of manuj.\"}]}\n",
      "----------------------------------------------------------------------------------------------------\n",
      "----------------------------------------------------------------------------------------------------\n",
      "----------------------------------------------------------------------------------------------------\n",
      "{'id': 14, 'summary': 'manuj acquires celebal bank credit card holder benefit by availing a 4 month emi plan on 42,000 flipkart puchase made on 16th october 2021 at the rate of 10,670 with the interest rate of 12%. Interest are taxable, tax-exclusive processing charges of 250 on the first installment and pre-closure charges on the oustanding are applicable.manuj upgrades his credit card online transaction limit from 95,000 to 180,000. call transferred to human agent on user request due to unsatisfactory conversation quality.', 'prediction': [{'summary_texts': ' mr manuj calls celebal tech bank to convert 42,000 from flipkart into emi. prashanth suggests an emi offer which will reduce the one time payment burden. manuj asks for details like credit limit and postal code before he book his emi option.'}]}\n",
      "----------------------------------------------------------------------------------------------------\n",
      "----------------------------------------------------------------------------------------------------\n",
      "----------------------------------------------------------------------------------------------------\n",
      "{'id': 15, 'summary': 'manuj applied for car loan of 7,00,000 instead of availing the emi offer on the 57,000 flipkart purchase.', 'prediction': [{'summary_texts': ' prashanth calls manuj from celebal tech bank to convert an emi offer into a loan. manuj wants a car loan instead. prashath records the call and asks manuj how much amount he will need for this loan and locks his details.'}]}\n",
      "----------------------------------------------------------------------------------------------------\n",
      "----------------------------------------------------------------------------------------------------\n",
      "----------------------------------------------------------------------------------------------------\n",
      "{'id': 16, 'summary': 'credit card online transaction limit upgrade request cancelled by user manuj. call transferred to human agent on user request', 'prediction': [{'summary_texts': ' manuj wants to update his online transaction limit for his credit card. prashanth helps him update the transaction limit on the credit card to 50,000. manuj cancels the update limit request and wants to talk to an agent to update the credit limit to 35,000 for online transactions.'}]}\n",
      "----------------------------------------------------------------------------------------------------\n",
      "----------------------------------------------------------------------------------------------------\n",
      "----------------------------------------------------------------------------------------------------\n",
      "{'id': 17, 'summary': 'credit card online transaction limit upgrade request cancelled by user manuj. call transferred to human agent on user request', 'prediction': [{'summary_texts': ' manuj wants to update his online transaction limit to 60,000 for online transactions. celebal technologies ivr automation can help with bank related queries. manuj cancels the update limit request and calls an agent to talk to the agent to update the credit limit.'}]}\n",
      "----------------------------------------------------------------------------------------------------\n",
      "----------------------------------------------------------------------------------------------------\n",
      "----------------------------------------------------------------------------------------------------\n",
      "{'id': 18, 'summary': 'manuj acquires celebal bank  credit card holder benefit by availing a emi on 30,000 at the rate of 3196 for 10 months. Interest are taxable, tax-inclusive processing charges of 300 on the first installment and pre-closure charges on the oustanding are applicable. manuj upgrades his credit card online transaction limit from 80,000 to 1,50,000. call transferred to human agent on user request.', 'prediction': [{'summary_texts': ' mr rahul calls celebal bank credit card to book a special emi facility on celebal credit card. mr mr will get an interest rate starting from 14% per annum for the 10 years, 10 months tenure period and the monthly emi will be 3196 for the tenure of 10 months.'}]}\n",
      "----------------------------------------------------------------------------------------------------\n",
      "----------------------------------------------------------------------------------------------------\n",
      "----------------------------------------------------------------------------------------------------\n",
      "{'id': 19, 'summary': 'manuj acquires celebal bank  credit card holder benefit by availing a emi on 20,000 at the rate of 2276 for 10 months. Interest are taxable, tax-inclusive processing charges of 450 on the first installment and pre-closure charges on the oustanding are applicable. manuj upgrades his credit card online transaction limit from 60,000 to 90,000.', 'prediction': [{'summary_texts': ' mr rahul uses celebal bank credit card to convert purchases above 2500 into easy monthly installments and enjoy paying back and easy in settlements. celebal offers a special emi facility on your card so that you can convert your purchases. add an interest rate starting from 14% per annum and a special interest rate for 10 month tenure period.'}]}\n",
      "----------------------------------------------------------------------------------------------------\n",
      "----------------------------------------------------------------------------------------------------\n",
      "----------------------------------------------------------------------------------------------------\n"
     ]
    }
   ],
   "source": [
    "for i in lists:\n",
    "    print(i)\n",
    "    print('--'*50)\n",
    "    print('--'*50)\n",
    "    print('--'*50)"
   ]
  },
  {
   "cell_type": "markdown",
   "id": "03758b6f-a9da-4a30-b8b1-496575f548ea",
   "metadata": {},
   "source": [
    "## `Integration -------------------------------------------------`"
   ]
  },
  {
   "cell_type": "code",
   "execution_count": 5,
   "id": "3f44c1ce-62f5-4fea-b356-970f2703f737",
   "metadata": {},
   "outputs": [],
   "source": [
    "import docx"
   ]
  },
  {
   "cell_type": "code",
   "execution_count": 6,
   "id": "b7d1b4fe-6459-44e4-8212-e869467f4aab",
   "metadata": {},
   "outputs": [
    {
     "data": {
      "text/plain": [
       "<module 'docx' from '/anaconda/envs/py38_pytorch/lib/python3.8/site-packages/docx.py'>"
      ]
     },
     "execution_count": 6,
     "metadata": {},
     "output_type": "execute_result"
    }
   ],
   "source": [
    "docx"
   ]
  },
  {
   "cell_type": "code",
   "execution_count": 24,
   "id": "809ffdcb-44f2-4288-8761-44a7c909c81c",
   "metadata": {},
   "outputs": [
    {
     "ename": "ModuleNotFoundError",
     "evalue": "No module named 'docx.document'; 'docx' is not a package",
     "output_type": "error",
     "traceback": [
      "\u001b[0;31m---------------------------------------------------------------------------\u001b[0m",
      "\u001b[0;31mModuleNotFoundError\u001b[0m                       Traceback (most recent call last)",
      "\u001b[0;32m/tmp/ipykernel_29267/1067574215.py\u001b[0m in \u001b[0;36m<module>\u001b[0;34m\u001b[0m\n\u001b[0;32m----> 1\u001b[0;31m \u001b[0;32mimport\u001b[0m \u001b[0mdocx\u001b[0m\u001b[0;34m.\u001b[0m\u001b[0mdocument\u001b[0m\u001b[0;34m\u001b[0m\u001b[0;34m\u001b[0m\u001b[0m\n\u001b[0m",
      "\u001b[0;31mModuleNotFoundError\u001b[0m: No module named 'docx.document'; 'docx' is not a package"
     ]
    }
   ],
   "source": [
    "import docx.document"
   ]
  },
  {
   "cell_type": "code",
   "execution_count": 22,
   "id": "67e18efd-48c3-4445-a74c-8330c6a7ffa0",
   "metadata": {},
   "outputs": [],
   "source": [
    "import docx\n",
    "def preprocess_transcript(doc_path):\n",
    "    doc = docx.Document(doc_path)\n",
    "    speakers = []\n",
    "    resp = []\n",
    "    new_paras = [p.text for p in doc.paragraphs if p.text]\n",
    "    speaker_map = {'Agent': None, 'Customer': None}\n",
    "    for n,i in enumerate(new_paras):\n",
    "        a = i.split('\\n')\n",
    "        if n==0:\n",
    "            speaker_map['Agent'] = a[1]\n",
    "            \n",
    "        new_paras_better = f\"{a[2]}\".replace(\"Kashetti Prashanth\", \"Prashanth\").replace(\"Manuj Kumar Joshi\", \"Manuj\")\n",
    "        resp.append([ a[1], process_timestamp(a[0]), new_paras_better])\n",
    "        \n",
    "    return resp, speaker_map"
   ]
  },
  {
   "cell_type": "code",
   "execution_count": 23,
   "id": "32cb1c24-92d1-45a6-aca9-3cc251da4512",
   "metadata": {},
   "outputs": [
    {
     "ename": "AttributeError",
     "evalue": "module 'docx' has no attribute 'Document'",
     "output_type": "error",
     "traceback": [
      "\u001b[0;31m---------------------------------------------------------------------------\u001b[0m",
      "\u001b[0;31mAttributeError\u001b[0m                            Traceback (most recent call last)",
      "\u001b[0;32m/tmp/ipykernel_29267/2941001084.py\u001b[0m in \u001b[0;36m<module>\u001b[0;34m\u001b[0m\n\u001b[0;32m----> 1\u001b[0;31m \u001b[0mdoc_text_with_ts\u001b[0m\u001b[0;34m,\u001b[0m \u001b[0mspeaker_map\u001b[0m \u001b[0;34m=\u001b[0m \u001b[0mpreprocess_transcript\u001b[0m\u001b[0;34m(\u001b[0m\u001b[0;34m'21.docx'\u001b[0m\u001b[0;34m)\u001b[0m\u001b[0;34m\u001b[0m\u001b[0;34m\u001b[0m\u001b[0m\n\u001b[0m",
      "\u001b[0;32m/tmp/ipykernel_29267/1648986684.py\u001b[0m in \u001b[0;36mpreprocess_transcript\u001b[0;34m(doc_path)\u001b[0m\n\u001b[1;32m      1\u001b[0m \u001b[0;32mimport\u001b[0m \u001b[0mdocx\u001b[0m\u001b[0;34m\u001b[0m\u001b[0;34m\u001b[0m\u001b[0m\n\u001b[1;32m      2\u001b[0m \u001b[0;32mdef\u001b[0m \u001b[0mpreprocess_transcript\u001b[0m\u001b[0;34m(\u001b[0m\u001b[0mdoc_path\u001b[0m\u001b[0;34m)\u001b[0m\u001b[0;34m:\u001b[0m\u001b[0;34m\u001b[0m\u001b[0;34m\u001b[0m\u001b[0m\n\u001b[0;32m----> 3\u001b[0;31m     \u001b[0mdoc\u001b[0m \u001b[0;34m=\u001b[0m \u001b[0mdocx\u001b[0m\u001b[0;34m.\u001b[0m\u001b[0mDocument\u001b[0m\u001b[0;34m(\u001b[0m\u001b[0mdoc_path\u001b[0m\u001b[0;34m)\u001b[0m\u001b[0;34m\u001b[0m\u001b[0;34m\u001b[0m\u001b[0m\n\u001b[0m\u001b[1;32m      4\u001b[0m     \u001b[0mspeakers\u001b[0m \u001b[0;34m=\u001b[0m \u001b[0;34m[\u001b[0m\u001b[0;34m]\u001b[0m\u001b[0;34m\u001b[0m\u001b[0;34m\u001b[0m\u001b[0m\n\u001b[1;32m      5\u001b[0m     \u001b[0mresp\u001b[0m \u001b[0;34m=\u001b[0m \u001b[0;34m[\u001b[0m\u001b[0;34m]\u001b[0m\u001b[0;34m\u001b[0m\u001b[0;34m\u001b[0m\u001b[0m\n",
      "\u001b[0;31mAttributeError\u001b[0m: module 'docx' has no attribute 'Document'"
     ]
    }
   ],
   "source": [
    "doc_text_with_ts, speaker_map = preprocess_transcript('21.docx')"
   ]
  },
  {
   "cell_type": "code",
   "execution_count": 60,
   "id": "90b22b4f-de48-4934-b673-b43769baba20",
   "metadata": {},
   "outputs": [],
   "source": [
    "def extract_text(doc_text_with_ts):\n",
    "    text = []\n",
    "    for i in doc_text_with_ts:\n",
    "        text.append(f\"{i[0]}: {i[2]}\")\n",
    "    return preprocess(' '.join(map(str, text)))"
   ]
  },
  {
   "cell_type": "code",
   "execution_count": 57,
   "id": "e15ba7eb-934e-4b12-990d-c5a241da46e0",
   "metadata": {},
   "outputs": [
    {
     "ename": "NameError",
     "evalue": "name 'doc_text_with_ts' is not defined",
     "output_type": "error",
     "traceback": [
      "\u001b[0;31m---------------------------------------------------------------------------\u001b[0m",
      "\u001b[0;31mNameError\u001b[0m                                 Traceback (most recent call last)",
      "\u001b[0;32m/tmp/ipykernel_23373/3426416628.py\u001b[0m in \u001b[0;36m<module>\u001b[0;34m\u001b[0m\n\u001b[0;32m----> 1\u001b[0;31m \u001b[0mtxt\u001b[0m \u001b[0;34m=\u001b[0m \u001b[0mextract_text\u001b[0m\u001b[0;34m(\u001b[0m\u001b[0mdoc_text_with_ts\u001b[0m\u001b[0;34m)\u001b[0m\u001b[0;34m\u001b[0m\u001b[0;34m\u001b[0m\u001b[0m\n\u001b[0m",
      "\u001b[0;31mNameError\u001b[0m: name 'doc_text_with_ts' is not defined"
     ]
    }
   ],
   "source": [
    "txt = extract_text(doc_text_with_ts)"
   ]
  },
  {
   "cell_type": "code",
   "execution_count": null,
   "id": "bb3fdf7b-9b18-48f2-a6de-d924a31e14d9",
   "metadata": {},
   "outputs": [],
   "source": []
  }
 ],
 "metadata": {
  "kernelspec": {
   "display_name": "Python 3 (ipykernel)",
   "language": "python",
   "name": "python3"
  },
  "language_info": {
   "codemirror_mode": {
    "name": "ipython",
    "version": 3
   },
   "file_extension": ".py",
   "mimetype": "text/x-python",
   "name": "python",
   "nbconvert_exporter": "python",
   "pygments_lexer": "ipython3",
   "version": "3.8.0"
  }
 },
 "nbformat": 4,
 "nbformat_minor": 5
}

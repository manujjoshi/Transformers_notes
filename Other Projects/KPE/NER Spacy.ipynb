{
 "cells": [
  {
   "cell_type": "markdown",
   "id": "daa39087",
   "metadata": {},
   "source": [
    "## `Keywords`"
   ]
  },
  {
   "cell_type": "code",
   "execution_count": 6,
   "id": "f404d104",
   "metadata": {},
   "outputs": [],
   "source": [
    "# !pip install spacy\n",
    "#!python -m spacy download en_core_web_sm"
   ]
  },
  {
   "cell_type": "code",
   "execution_count": 9,
   "id": "b2142395",
   "metadata": {},
   "outputs": [
    {
     "name": "stdout",
     "output_type": "stream",
     "text": [
      "managers\n",
      "email\n",
      "mobile\n",
      "contact\n",
      "problem\n",
      "payment\n",
      "site\n",
      "datbase\n",
      "higher\n",
      "yash\n"
     ]
    }
   ],
   "source": [
    "import spacy\n",
    "from collections import Counter\n",
    "from string import punctuation\n",
    "nlp = spacy.load(\"en_core_web_sm\")\n",
    "def get_hotwords(text):\n",
    "    result = []\n",
    "    pos_tag = ['PROPN', 'ADJ', 'NOUN'] \n",
    "    doc = nlp(text.lower()) \n",
    "    for token in doc:\n",
    "        if(token.text in nlp.Defaults.stop_words or token.text in punctuation):\n",
    "            continue\n",
    "        if(token.pos_ in pos_tag):\n",
    "            result.append(token.text)\n",
    "    return result\n",
    "new_text = \"\"\"\n",
    "Yash is here to assist you to solve your problem and will escalate the problem to higher managers. To check the datbase for your mentioned policy I need the contact number registered with us. Yash will provide the payment link on your registered mobile number or email address from our site.\n",
    "\"\"\"\n",
    "output = set(get_hotwords(new_text))\n",
    "most_common_list = Counter(output).most_common(10)\n",
    "for item in most_common_list:\n",
    "  print(item[0])"
   ]
  },
  {
   "cell_type": "markdown",
   "id": "181a5d83",
   "metadata": {},
   "source": [
    "## `Key-phrase`"
   ]
  },
  {
   "cell_type": "code",
   "execution_count": 12,
   "id": "e178da86",
   "metadata": {},
   "outputs": [
    {
     "name": "stdout",
     "output_type": "stream",
     "text": [
      "Yash Yash nsubj is\n",
      "you you dobj assist\n",
      "your problem problem dobj solve\n",
      "the problem problem dobj escalate\n",
      "higher managers managers pobj to\n",
      "the datbase datbase dobj check\n",
      "your mentioned policy policy pobj for\n",
      "I I nsubj need\n",
      "the contact number number dobj need\n",
      "us us pobj with\n",
      "Yash Yash nsubj provide\n",
      "the payment link link dobj provide\n",
      "your registered mobile number number pobj on\n",
      "email address address conj number\n",
      "our site site pobj from\n"
     ]
    }
   ],
   "source": [
    "import spacy\n",
    "\n",
    "nlp = spacy.load(\"en_core_web_sm\")\n",
    "doc = nlp(\"Yash is here to assist you to solve your problem and will escalate the problem to higher managers. To check the datbase for your mentioned policy I need the contact number registered with us. Yash will provide the payment link on your registered mobile number or email address from our site.\")\n",
    "for chunk in doc.noun_chunks:\n",
    "    print(chunk.text, chunk.root.text, chunk.root.dep_,chunk.root.head.text)"
   ]
  },
  {
   "cell_type": "markdown",
   "id": "07754289",
   "metadata": {},
   "source": [
    "## `Key phrase`\n",
    "### [Reference](https://towardsdatascience.com/keyword-extraction-process-in-python-with-natural-language-processing-nlp-d769a9069d5c)"
   ]
  },
  {
   "cell_type": "code",
   "execution_count": 14,
   "id": "1c08bc6e",
   "metadata": {},
   "outputs": [
    {
     "name": "stdout",
     "output_type": "stream",
     "text": [
      "Collecting yake\n",
      "  Downloading yake-0.4.8-py2.py3-none-any.whl (60 kB)\n",
      "Requirement already satisfied: click>=6.0 in c:\\users\\manuj\\anaconda3\\lib\\site-packages (from yake) (8.0.4)\n",
      "Collecting jellyfish\n",
      "  Downloading jellyfish-0.9.0-cp39-cp39-win_amd64.whl (26 kB)\n",
      "Requirement already satisfied: numpy in c:\\users\\manuj\\anaconda3\\lib\\site-packages (from yake) (1.21.5)\n",
      "Collecting segtok\n",
      "  Downloading segtok-1.5.11-py3-none-any.whl (24 kB)\n",
      "Requirement already satisfied: tabulate in c:\\users\\manuj\\anaconda3\\lib\\site-packages (from yake) (0.8.9)\n",
      "Requirement already satisfied: networkx in c:\\users\\manuj\\anaconda3\\lib\\site-packages (from yake) (2.7.1)\n",
      "Requirement already satisfied: colorama in c:\\users\\manuj\\anaconda3\\lib\\site-packages (from click>=6.0->yake) (0.4.4)\n",
      "Requirement already satisfied: regex in c:\\users\\manuj\\anaconda3\\lib\\site-packages (from segtok->yake) (2022.3.15)\n",
      "Installing collected packages: segtok, jellyfish, yake\n",
      "Successfully installed jellyfish-0.9.0 segtok-1.5.11 yake-0.4.8\n"
     ]
    }
   ],
   "source": [
    "!pip install yake"
   ]
  },
  {
   "cell_type": "code",
   "execution_count": 16,
   "id": "86756f18",
   "metadata": {},
   "outputs": [
    {
     "name": "stdout",
     "output_type": "stream",
     "text": [
      "('higher managers', 0.02434682071387024)\n",
      "('solve your problem', 0.08116092132725569)\n",
      "('escalate the problem', 0.08116092132725569)\n",
      "('problem to higher', 0.08116092132725569)\n",
      "('problem', 0.09534323283793816)\n",
      "('Yash', 0.10348696000284793)\n",
      "('managers', 0.1321568838285348)\n",
      "('contact number registered', 0.15782632766798307)\n",
      "('assist', 0.1798479302236855)\n",
      "('solve', 0.1798479302236855)\n",
      "('escalate', 0.1798479302236855)\n",
      "('higher', 0.1798479302236855)\n",
      "('registered mobile number', 0.20889349511461283)\n",
      "('number', 0.22914146323647436)\n",
      "('registered', 0.22914146323647436)\n",
      "('check the datbase', 0.22987838200066998)\n",
      "('mentioned policy', 0.22987838200066998)\n",
      "('Yash will provide', 0.23222329484531817)\n",
      "('contact number', 0.2470859465397032)\n",
      "('number registered', 0.2658600246440299)\n"
     ]
    }
   ],
   "source": [
    "import yake\n",
    "kw_extractor = yake.KeywordExtractor()\n",
    "text = \"\"\"\"Yash is here to assist you to solve your problem and will escalate the problem to higher managers. To check the datbase for your mentioned policy I need the contact number registered with us. Yash will provide the payment link on your registered mobile number or email address from our site.\")\n",
    "\"\"\"\n",
    "language = \"en\"\n",
    "max_ngram_size = 3\n",
    "deduplication_threshold = 0.9\n",
    "numOfKeywords = 20\n",
    "custom_kw_extractor = yake.KeywordExtractor(lan=language, n=max_ngram_size, dedupLim=deduplication_threshold, top=numOfKeywords, features=None)\n",
    "keywords = custom_kw_extractor.extract_keywords(text)\n",
    "for kw in keywords:\n",
    "    print(kw)"
   ]
  },
  {
   "cell_type": "code",
   "execution_count": null,
   "id": "ceb51441",
   "metadata": {},
   "outputs": [],
   "source": []
  }
 ],
 "metadata": {
  "kernelspec": {
   "display_name": "Python 3 (ipykernel)",
   "language": "python",
   "name": "python3"
  },
  "language_info": {
   "codemirror_mode": {
    "name": "ipython",
    "version": 3
   },
   "file_extension": ".py",
   "mimetype": "text/x-python",
   "name": "python",
   "nbconvert_exporter": "python",
   "pygments_lexer": "ipython3",
   "version": "3.9.12"
  }
 },
 "nbformat": 4,
 "nbformat_minor": 5
}

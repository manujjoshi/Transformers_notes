{
 "cells": [
  {
   "cell_type": "markdown",
   "id": "9e554f05",
   "metadata": {},
   "source": [
    "## [Playlist Link](https://www.youtube.com/watch?v=6stDhEA0wFQ&list=PLZbbT5o_s2xrfNyHZsM6ufI0iZENK9xgG&index=4)"
   ]
  },
  {
   "cell_type": "code",
   "execution_count": 1,
   "id": "79191798",
   "metadata": {},
   "outputs": [],
   "source": [
    "import torch"
   ]
  },
  {
   "cell_type": "code",
   "execution_count": 2,
   "id": "d1fb2819",
   "metadata": {},
   "outputs": [
    {
     "name": "stdout",
     "output_type": "stream",
     "text": [
      "1.11.0+cpu\n"
     ]
    }
   ],
   "source": [
    "print(torch.__version__)"
   ]
  },
  {
   "cell_type": "code",
   "execution_count": 3,
   "id": "f944df13",
   "metadata": {},
   "outputs": [
    {
     "data": {
      "text/plain": [
       "False"
      ]
     },
     "execution_count": 3,
     "metadata": {},
     "output_type": "execute_result"
    }
   ],
   "source": [
    "torch.cuda.is_available()"
   ]
  },
  {
   "cell_type": "markdown",
   "id": "e03228cc",
   "metadata": {},
   "source": [
    "## `Using CUDA`"
   ]
  },
  {
   "cell_type": "code",
   "execution_count": 4,
   "id": "caf9e3b6",
   "metadata": {},
   "outputs": [
    {
     "data": {
      "text/plain": [
       "tensor([1, 2, 3])"
      ]
     },
     "execution_count": 4,
     "metadata": {},
     "output_type": "execute_result"
    }
   ],
   "source": [
    "t = torch.tensor([1,2,3])\n",
    "t"
   ]
  },
  {
   "cell_type": "code",
   "execution_count": 5,
   "id": "58113fd3",
   "metadata": {},
   "outputs": [],
   "source": [
    "# t = t.cuda()\n",
    "# t   # cuda not enabled"
   ]
  },
  {
   "cell_type": "markdown",
   "id": "5e9d474c",
   "metadata": {},
   "source": [
    "## `Tensors`"
   ]
  },
  {
   "cell_type": "code",
   "execution_count": 6,
   "id": "57aeb6a3",
   "metadata": {},
   "outputs": [
    {
     "data": {
      "text/plain": [
       "torch.Tensor"
      ]
     },
     "execution_count": 6,
     "metadata": {},
     "output_type": "execute_result"
    }
   ],
   "source": [
    "t = torch.Tensor()\n",
    "type(t)"
   ]
  },
  {
   "cell_type": "code",
   "execution_count": 7,
   "id": "0d8506b2",
   "metadata": {},
   "outputs": [
    {
     "name": "stdout",
     "output_type": "stream",
     "text": [
      "torch.float32\n",
      "cpu\n",
      "torch.strided\n"
     ]
    }
   ],
   "source": [
    "print(t.dtype)\n",
    "print(t.device)\n",
    "print(t.layout)"
   ]
  },
  {
   "cell_type": "markdown",
   "id": "6672849d",
   "metadata": {},
   "source": [
    "### [Broadcasting in tensors](https://www.youtube.com/watch?v=QscEWm0QTRY&list=PLZbbT5o_s2xrfNyHZsM6ufI0iZENK9xgG&index=12)"
   ]
  },
  {
   "cell_type": "code",
   "execution_count": null,
   "id": "85c3c483",
   "metadata": {},
   "outputs": [],
   "source": []
  }
 ],
 "metadata": {
  "kernelspec": {
   "display_name": "Python 3 (ipykernel)",
   "language": "python",
   "name": "python3"
  },
  "language_info": {
   "codemirror_mode": {
    "name": "ipython",
    "version": 3
   },
   "file_extension": ".py",
   "mimetype": "text/x-python",
   "name": "python",
   "nbconvert_exporter": "python",
   "pygments_lexer": "ipython3",
   "version": "3.9.12"
  }
 },
 "nbformat": 4,
 "nbformat_minor": 5
}

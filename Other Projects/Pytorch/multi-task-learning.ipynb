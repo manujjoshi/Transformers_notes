{
 "cells": [
  {
   "cell_type": "code",
   "execution_count": 1,
   "metadata": {},
   "outputs": [],
   "source": [
    "import torch\n",
    "import torch.nn as nn\n",
    "import numpy as np\n",
    "import transformers\n",
    "import matplotlib.pyplot as plt\n",
    "import seaborn as sns\n",
    "from transformers import BertModel, BertTokenizer, AdamW, get_linear_schedule_with_warmup\n",
    "from torch.utils.data import Dataset, DataLoader\n"
   ]
  },
  {
   "cell_type": "code",
   "execution_count": 2,
   "metadata": {},
   "outputs": [
    {
     "data": {
      "text/html": [
       "<div>\n",
       "<style scoped>\n",
       "    .dataframe tbody tr th:only-of-type {\n",
       "        vertical-align: middle;\n",
       "    }\n",
       "\n",
       "    .dataframe tbody tr th {\n",
       "        vertical-align: top;\n",
       "    }\n",
       "\n",
       "    .dataframe thead th {\n",
       "        text-align: right;\n",
       "    }\n",
       "</style>\n",
       "<table border=\"1\" class=\"dataframe\">\n",
       "  <thead>\n",
       "    <tr style=\"text-align: right;\">\n",
       "      <th></th>\n",
       "      <th>summary</th>\n",
       "      <th>sentiment</th>\n",
       "    </tr>\n",
       "  </thead>\n",
       "  <tbody>\n",
       "    <tr>\n",
       "      <th>0</th>\n",
       "      <td>cash-strapped smallsat operator astrocast anno...</td>\n",
       "      <td>-1</td>\n",
       "    </tr>\n",
       "    <tr>\n",
       "      <th>1</th>\n",
       "      <td>sierra space announced may 31 strategic partne...</td>\n",
       "      <td>0</td>\n",
       "    </tr>\n",
       "    <tr>\n",
       "      <th>2</th>\n",
       "      <td>long march 5b rocket arrived wenchang spacepor...</td>\n",
       "      <td>0</td>\n",
       "    </tr>\n",
       "    <tr>\n",
       "      <th>3</th>\n",
       "      <td>appears tit-for-tat move quad nations launch s...</td>\n",
       "      <td>0</td>\n",
       "    </tr>\n",
       "    <tr>\n",
       "      <th>4</th>\n",
       "      <td>members house science committee used hearing p...</td>\n",
       "      <td>1</td>\n",
       "    </tr>\n",
       "  </tbody>\n",
       "</table>\n",
       "</div>"
      ],
      "text/plain": [
       "                                             summary  sentiment\n",
       "0  cash-strapped smallsat operator astrocast anno...         -1\n",
       "1  sierra space announced may 31 strategic partne...          0\n",
       "2  long march 5b rocket arrived wenchang spacepor...          0\n",
       "3  appears tit-for-tat move quad nations launch s...          0\n",
       "4  members house science committee used hearing p...          1"
      ]
     },
     "execution_count": 2,
     "metadata": {},
     "output_type": "execute_result"
    }
   ],
   "source": [
    "# Data Collection\n",
    "import pandas as pd\n",
    "import os \n",
    "data_file = os.path.join('.', 'data', 'spacenews_preprocessed.csv')\n",
    "\n",
    "data_df = pd.read_csv(data_file)\n",
    "\n",
    "# Adding random sentiments to data_df\n",
    "import random\n",
    "data_df['sentiment'] = [random.randint(-1, 1) for i in range(len(data_df))]\n",
    "\n",
    "# Filtering data_df only for sentiment analysis\n",
    "\n",
    "data_req_df = data_df[['summary', 'sentiment']].dropna()\n",
    "data_req_df.head()"
   ]
  },
  {
   "cell_type": "code",
   "execution_count": 3,
   "metadata": {},
   "outputs": [
    {
     "data": {
      "image/png": "[encoded data removed]",
      "text/plain": [
       "<Figure size 360x360 with 1 Axes>"
      ]
     },
     "metadata": {
      "needs_background": "light"
     },
     "output_type": "display_data"
    }
   ],
   "source": [
    "# Data pre-processing\n",
    "tokenizer = BertTokenizer.from_pretrained('bert-base-cased')\n",
    "\n"
   ]
  },
  {
   "cell_type": "code",
   "execution_count": null,
   "metadata": {},
   "outputs": [],
   "source": [
    "# Analysing data for maximum token length\n",
    "token_lens = []\n",
    "for txt in data_req_df['summary']:\n",
    "  tokens = tokenizer.encode(txt, max_length=200, truncation=True)\n",
    "  token_lens.append(len(tokens))\n",
    "\n",
    "sns.displot(token_lens)\n",
    "plt.xlim([0, 256])\n",
    "plt.xlabel('Token count')\n",
    "plt.title('Token Count Distribution')\n",
    "plt.show()\n"
   ]
  },
  {
   "cell_type": "code",
   "execution_count": 4,
   "metadata": {},
   "outputs": [],
   "source": [
    "# Designing custom dataset and dataloader class\n",
    "class CustomDataset(Dataset):\n",
    "    def __init__(self, reviews, targets, tokenizer, max_len):\n",
    "        self.reviews = reviews\n",
    "        self.targets = targets\n",
    "        self.tokenizer = tokenizer\n",
    "        self.max_len = max_len\n",
    "    def __len__(self):\n",
    "        return len(self.reviews)\n",
    "    def __getitem__(self, item):\n",
    "        review = str(self.reviews[item])\n",
    "        target = self.targets[item]\n",
    "        encoding = self.tokenizer.encode_plus(\n",
    "        review,\n",
    "        add_special_tokens=True,\n",
    "        max_length=self.max_len,\n",
    "        return_token_type_ids=False,\n",
    "        pad_to_max_length=True,\n",
    "        return_attention_mask=True,\n",
    "        return_tensors='pt',\n",
    "        )\n",
    "        return {\n",
    "        'review_text': review,\n",
    "        'input_ids': encoding['input_ids'].flatten(),\n",
    "        'attention_mask': encoding['attention_mask'].flatten(),\n",
    "        'targets': torch.tensor(target, dtype=torch.long)\n",
    "        }\n",
    "def create_data_loader(df, tokenizer, max_len, batch_size):\n",
    "    ds = CustomDataset(reviews=df['summary'].to_numpy(), targets=df.sentiment.to_numpy(),\n",
    "                    tokenizer=tokenizer, max_len=max_len)\n",
    "    return DataLoader(ds,batch_size=batch_size, num_workers=4)"
   ]
  },
  {
   "cell_type": "code",
   "execution_count": 5,
   "metadata": {},
   "outputs": [],
   "source": [
    "# Train-Test-Evaluation Split\n",
    "from sklearn.model_selection import train_test_split\n",
    "RANDOM_SEED = 42\n",
    "\n",
    "df_train, df_test = train_test_split(data_req_df,test_size=0.1,random_state=RANDOM_SEED)\n",
    "df_val, df_test = train_test_split(df_test,test_size=0.5,random_state=RANDOM_SEED)"
   ]
  },
  {
   "cell_type": "code",
   "execution_count": 6,
   "metadata": {},
   "outputs": [],
   "source": [
    "# Using CustomDataset class to create model compatible data\n",
    "BATCH_SIZE = 1\n",
    "MAX_LEN = 60\n",
    "train_data_loader = create_data_loader(df_train, tokenizer, MAX_LEN, BATCH_SIZE)\n",
    "val_data_loader = create_data_loader(df_val, tokenizer, MAX_LEN, BATCH_SIZE)\n",
    "test_data_loader = create_data_loader(df_test, tokenizer, MAX_LEN, BATCH_SIZE)"
   ]
  },
  {
   "cell_type": "code",
   "execution_count": 7,
   "metadata": {},
   "outputs": [],
   "source": [
    "# Sample data from dataloader\n",
    "data = next(iter(train_data_loader))\n",
    "print(data['input_ids'].shape)\n",
    "print(data['attention_mask'].shape)\n",
    "print(data['targets'].shape)"
   ]
  },
  {
   "cell_type": "code",
   "execution_count": null,
   "metadata": {},
   "outputs": [],
   "source": [
    "class MultiTaskModel(nn.Module):\n",
    "    def __init__(self):\n",
    "        super(MultiTaskModel,self).__init__()\n",
    "        # BERT Encoder Layer\n",
    "        self.bert = BertModel.from_pretrained('bert-base-cased')\n",
    "        \n",
    "        # Decoder Layers for Sentiment Classifier\n",
    "        self.sc_drop = nn.Dropout(0.3)\n",
    "        self.sc_out = nn.Linear(self.bert.config.hidden_size, 3)\n",
    "\n",
    "        # Decoder Layers for Summarization\n",
    "        \n",
    "\n",
    "    def forward(self, input_ids, attention_mask):\n",
    "        # BERT Encoder\n",
    "        bert_output = self.bert(input_ids= input_ids, attention_mask=attention_mask, return_dict=False)\n",
    "        pooled_output = bert_output[\"pooler_output\"]\n",
    "        \n",
    "        # Decoder for Sentiment Classifier\n",
    "        sc_output = self.sc_drop(pooled_output)\n",
    "        sc_output = self.sc_out(sc_output)\n",
    "\n",
    "        # Decoder for Text Summarization\n",
    "        \n",
    "\n",
    "        return [sc_output] "
   ]
  }
 ],
 "metadata": {
  "kernelspec": {
   "display_name": "Python 3 (ipykernel)",
   "language": "python",
   "name": "python3"
  },
  "language_info": {
   "codemirror_mode": {
    "name": "ipython",
    "version": 3
   },
   "file_extension": ".py",
   "mimetype": "text/x-python",
   "name": "python",
   "nbconvert_exporter": "python",
   "pygments_lexer": "ipython3",
   "version": "3.9.12"
  },
  "vscode": {
   "interpreter": {
    "hash": "9f0c5379dda1edf5146c2249f323cd4ca3e28d985a1d2e31d49ac7d12ba60ff5"
   }
  }
 },
 "nbformat": 4,
 "nbformat_minor": 2
}

{
 "cells": [
  {
   "cell_type": "markdown",
   "id": "40a02d02",
   "metadata": {},
   "source": [
    "### FOLLOWED: [Blog link](https://analyticsindiamag.com/guide-to-sentiment-analysis-using-bert/)\n",
    "- [Colab Repo](https://colab.research.google.com/drive/1atPVaDV02AIhr26nbNKVcX-9sLB5mOPu#scrollTo=xm8xlPqLmIYG)\n",
    "## `Joined all data ---------------------------------------`"
   ]
  },
  {
   "cell_type": "code",
   "execution_count": 794,
   "id": "b1b7030c",
   "metadata": {},
   "outputs": [],
   "source": [
    "import pandas as pd"
   ]
  },
  {
   "cell_type": "markdown",
   "id": "f815607a",
   "metadata": {},
   "source": [
    "#### sample csv"
   ]
  },
  {
   "cell_type": "code",
   "execution_count": 795,
   "id": "a2808471",
   "metadata": {},
   "outputs": [
    {
     "data": {
      "text/plain": [
       "(18, 2)"
      ]
     },
     "execution_count": 795,
     "metadata": {},
     "output_type": "execute_result"
    }
   ],
   "source": [
    "data = pd.read_csv(r'D:\\Celebel_Tech\\files\\1.csv').iloc[:,1:]\n",
    "data.shape"
   ]
  },
  {
   "cell_type": "code",
   "execution_count": 796,
   "id": "4e0e64e9",
   "metadata": {},
   "outputs": [
    {
     "data": {
      "text/plain": [
       "(594, 4)"
      ]
     },
     "execution_count": 796,
     "metadata": {},
     "output_type": "execute_result"
    }
   ],
   "source": [
    "import pandas as pd\n",
    "import glob\n",
    "import os\n",
    "  \n",
    "# merging the files\n",
    "joined_files = os.path.join(r\"D:\\Celebel_Tech\\files\\\\\", \"*.csv\")\n",
    "  \n",
    "# A list of all joined files is returned\n",
    "joined_list = glob.glob(joined_files)\n",
    "  \n",
    "# Finally, the files are joined\n",
    "data_all = pd.concat(map(pd.read_csv, joined_list), ignore_index=True)\n",
    "data_all.shape"
   ]
  },
  {
   "cell_type": "code",
   "execution_count": 797,
   "id": "4ebe78e9",
   "metadata": {},
   "outputs": [],
   "source": [
    "data_all.drop(['Tag','Unnamed: 0'],axis=1,inplace=True)"
   ]
  },
  {
   "cell_type": "code",
   "execution_count": 798,
   "id": "b85fc370",
   "metadata": {},
   "outputs": [
    {
     "data": {
      "text/html": [
       "<div>\n",
       "<style scoped>\n",
       "    .dataframe tbody tr th:only-of-type {\n",
       "        vertical-align: middle;\n",
       "    }\n",
       "\n",
       "    .dataframe tbody tr th {\n",
       "        vertical-align: top;\n",
       "    }\n",
       "\n",
       "    .dataframe thead th {\n",
       "        text-align: right;\n",
       "    }\n",
       "</style>\n",
       "<table border=\"1\" class=\"dataframe\">\n",
       "  <thead>\n",
       "    <tr style=\"text-align: right;\">\n",
       "      <th></th>\n",
       "      <th>sentence</th>\n",
       "      <th>tag</th>\n",
       "    </tr>\n",
       "  </thead>\n",
       "  <tbody>\n",
       "    <tr>\n",
       "      <th>0</th>\n",
       "      <td>Welcome to celebal tech,IVR automation demo.</td>\n",
       "      <td>Neutral</td>\n",
       "    </tr>\n",
       "    <tr>\n",
       "      <th>1</th>\n",
       "      <td>Hello. Hi, how are you?</td>\n",
       "      <td>Neutral</td>\n",
       "    </tr>\n",
       "    <tr>\n",
       "      <th>2</th>\n",
       "      <td>I'm fine. Thank you for calling CT,Health insu...</td>\n",
       "      <td>Positive</td>\n",
       "    </tr>\n",
       "    <tr>\n",
       "      <th>3</th>\n",
       "      <td>I have an health policy with you. I wanted to ...</td>\n",
       "      <td>Neutral</td>\n",
       "    </tr>\n",
       "    <tr>\n",
       "      <th>4</th>\n",
       "      <td>Of course I can do that,Could you please confi...</td>\n",
       "      <td>Neutral</td>\n",
       "    </tr>\n",
       "  </tbody>\n",
       "</table>\n",
       "</div>"
      ],
      "text/plain": [
       "                                            sentence       tag\n",
       "0       Welcome to celebal tech,IVR automation demo.   Neutral\n",
       "1                            Hello. Hi, how are you?   Neutral\n",
       "2  I'm fine. Thank you for calling CT,Health insu...  Positive\n",
       "3  I have an health policy with you. I wanted to ...   Neutral\n",
       "4  Of course I can do that,Could you please confi...   Neutral"
      ]
     },
     "execution_count": 798,
     "metadata": {},
     "output_type": "execute_result"
    }
   ],
   "source": [
    "data_all.head()"
   ]
  },
  {
   "cell_type": "code",
   "execution_count": 799,
   "id": "3e4f7edc",
   "metadata": {},
   "outputs": [
    {
     "data": {
      "text/html": [
       "<div>\n",
       "<style scoped>\n",
       "    .dataframe tbody tr th:only-of-type {\n",
       "        vertical-align: middle;\n",
       "    }\n",
       "\n",
       "    .dataframe tbody tr th {\n",
       "        vertical-align: top;\n",
       "    }\n",
       "\n",
       "    .dataframe thead th {\n",
       "        text-align: right;\n",
       "    }\n",
       "</style>\n",
       "<table border=\"1\" class=\"dataframe\">\n",
       "  <thead>\n",
       "    <tr style=\"text-align: right;\">\n",
       "      <th></th>\n",
       "      <th>sentence</th>\n",
       "      <th>tag</th>\n",
       "    </tr>\n",
       "  </thead>\n",
       "  <tbody>\n",
       "    <tr>\n",
       "      <th>589</th>\n",
       "      <td>That's no issue.</td>\n",
       "      <td>Positive</td>\n",
       "    </tr>\n",
       "    <tr>\n",
       "      <th>590</th>\n",
       "      <td>You have unlocked a special credit card upgrad...</td>\n",
       "      <td>Positive</td>\n",
       "    </tr>\n",
       "    <tr>\n",
       "      <th>591</th>\n",
       "      <td>Yes, I want the credit limit,Upgraded.</td>\n",
       "      <td>Positive</td>\n",
       "    </tr>\n",
       "    <tr>\n",
       "      <th>592</th>\n",
       "      <td>Congratulations, your credit limit is upgraded...</td>\n",
       "      <td>Positive</td>\n",
       "    </tr>\n",
       "    <tr>\n",
       "      <th>593</th>\n",
       "      <td>Thank you.</td>\n",
       "      <td>Positive</td>\n",
       "    </tr>\n",
       "  </tbody>\n",
       "</table>\n",
       "</div>"
      ],
      "text/plain": [
       "                                              sentence       tag\n",
       "589                                   That's no issue.  Positive\n",
       "590  You have unlocked a special credit card upgrad...  Positive\n",
       "591             Yes, I want the credit limit,Upgraded.  Positive\n",
       "592  Congratulations, your credit limit is upgraded...  Positive\n",
       "593                                         Thank you.  Positive"
      ]
     },
     "execution_count": 799,
     "metadata": {},
     "output_type": "execute_result"
    }
   ],
   "source": [
    "data_all.tail()"
   ]
  },
  {
   "cell_type": "code",
   "execution_count": 800,
   "id": "fbe21157",
   "metadata": {},
   "outputs": [
    {
     "data": {
      "text/plain": [
       "Neutral     263\n",
       "Positive    245\n",
       "Negative     55\n",
       "Neutal       14\n",
       "positive      1\n",
       "Name: tag, dtype: int64"
      ]
     },
     "execution_count": 800,
     "metadata": {},
     "output_type": "execute_result"
    }
   ],
   "source": [
    "data_all.tag.value_counts()"
   ]
  },
  {
   "cell_type": "markdown",
   "id": "50796f8d",
   "metadata": {},
   "source": [
    "## `Cleaning -----------------------------------------`"
   ]
  },
  {
   "cell_type": "code",
   "execution_count": 801,
   "id": "62690e81",
   "metadata": {},
   "outputs": [],
   "source": [
    "data_all = data_all.replace('positive','Positive')"
   ]
  },
  {
   "cell_type": "code",
   "execution_count": 802,
   "id": "7c1d304b",
   "metadata": {},
   "outputs": [],
   "source": [
    "data_all = data_all.replace('Neutal','Neutral')"
   ]
  },
  {
   "cell_type": "code",
   "execution_count": 803,
   "id": "2104d3ce",
   "metadata": {},
   "outputs": [
    {
     "data": {
      "text/plain": [
       "Neutral     277\n",
       "Positive    246\n",
       "Negative     55\n",
       "Name: tag, dtype: int64"
      ]
     },
     "execution_count": 803,
     "metadata": {},
     "output_type": "execute_result"
    }
   ],
   "source": [
    "data_all.tag.value_counts()"
   ]
  },
  {
   "cell_type": "code",
   "execution_count": 804,
   "id": "51aa520c",
   "metadata": {},
   "outputs": [],
   "source": [
    "data_all.to_csv('complete.csv')"
   ]
  },
  {
   "cell_type": "markdown",
   "id": "652ab4cc",
   "metadata": {},
   "source": [
    "# `Distribution`"
   ]
  },
  {
   "cell_type": "code",
   "execution_count": 805,
   "id": "67a7a436",
   "metadata": {},
   "outputs": [
    {
     "data": {
      "text/plain": [
       "<AxesSubplot:xlabel='tag', ylabel='count'>"
      ]
     },
     "execution_count": 805,
     "metadata": {},
     "output_type": "execute_result"
    },
    {
     "data": {
      "image/png": "[encoded data removed]",
      "text/plain": [
       "<Figure size 864x576 with 1 Axes>"
      ]
     },
     "metadata": {
      "image/png": {
       "height": 487,
       "width": 732
      }
     },
     "output_type": "display_data"
    }
   ],
   "source": [
    "import seaborn as sns\n",
    "import warnings\n",
    "warnings.filterwarnings('ignore')\n",
    "sns.countplot(data_all.tag)"
   ]
  },
  {
   "cell_type": "markdown",
   "id": "7a0b8c91",
   "metadata": {},
   "source": [
    "### `In Percentages`"
   ]
  },
  {
   "cell_type": "code",
   "execution_count": 806,
   "id": "97cec5c5",
   "metadata": {},
   "outputs": [
    {
     "data": {
      "text/plain": [
       "198.0"
      ]
     },
     "execution_count": 806,
     "metadata": {},
     "output_type": "execute_result"
    }
   ],
   "source": [
    "data_all.shape[0]/3"
   ]
  },
  {
   "cell_type": "code",
   "execution_count": 807,
   "id": "8599f8e2",
   "metadata": {},
   "outputs": [
    {
     "data": {
      "text/plain": [
       "Neutral     277\n",
       "Positive    246\n",
       "Negative     55\n",
       "Name: tag, dtype: int64"
      ]
     },
     "execution_count": 807,
     "metadata": {},
     "output_type": "execute_result"
    }
   ],
   "source": [
    "data_all['tag'].value_counts()"
   ]
  },
  {
   "cell_type": "code",
   "execution_count": 808,
   "id": "42b8f7b8",
   "metadata": {},
   "outputs": [
    {
     "data": {
      "text/plain": [
       "Neutral     0.466330\n",
       "Positive    0.414141\n",
       "Negative    0.092593\n",
       "Name: tag, dtype: float64"
      ]
     },
     "execution_count": 808,
     "metadata": {},
     "output_type": "execute_result"
    }
   ],
   "source": [
    "data_all['tag'].value_counts()/data_all.shape[0]"
   ]
  },
  {
   "cell_type": "markdown",
   "id": "0cee62c9",
   "metadata": {},
   "source": [
    "## `Sample modelling ------------------------------------------`"
   ]
  },
  {
   "cell_type": "code",
   "execution_count": 809,
   "id": "5434cc5b",
   "metadata": {},
   "outputs": [
    {
     "data": {
      "text/plain": [
       "device(type='cpu')"
      ]
     },
     "execution_count": 809,
     "metadata": {},
     "output_type": "execute_result"
    }
   ],
   "source": [
    "import transformers\n",
    "from transformers import BertModel, BertTokenizer, AdamW, get_linear_schedule_with_warmup\n",
    "import torch\n",
    "import gc\n",
    "gc.collect()\n",
    "torch.cuda.empty_cache()\n",
    "import numpy as np\n",
    "from pylab import rcParams\n",
    "import matplotlib.pyplot as plt\n",
    "from matplotlib import rc\n",
    "from sklearn.model_selection import train_test_split\n",
    "from sklearn.metrics import confusion_matrix, classification_report\n",
    "from collections import defaultdict\n",
    "from textwrap import wrap\n",
    "from torch import nn, optim\n",
    "from torch.utils.data import Dataset, DataLoader\n",
    "import torch.nn.functional as F\n",
    "%matplotlib inline\n",
    "%config InlineBackend.figure_format='retina'\n",
    "sns.set(style='whitegrid', palette='muted', font_scale=1.2)\n",
    "HAPPY_COLORS_PALETTE = [\"#01BEFE\", \"#FFDD00\", \"#FF7D00\", \"#FF006D\", \"#ADFF02\", \"#8F00FF\"]\n",
    "sns.set_palette(sns.color_palette(HAPPY_COLORS_PALETTE))\n",
    "rcParams['figure.figsize'] = 12, 8\n",
    "RANDOM_SEED = 42\n",
    "np.random.seed(RANDOM_SEED)\n",
    "torch.manual_seed(RANDOM_SEED)\n",
    "device = torch.device(\"cuda:0\" if torch.cuda.is_available() else \"cpu\")\n",
    "device "
   ]
  },
  {
   "cell_type": "code",
   "execution_count": 810,
   "id": "4020103c",
   "metadata": {},
   "outputs": [],
   "source": [
    "PRE_TRAINED_MODEL_NAME = 'bert-base-cased'\n",
    "tokenizer = BertTokenizer.from_pretrained(PRE_TRAINED_MODEL_NAME)"
   ]
  },
  {
   "cell_type": "markdown",
   "id": "a7988a0d",
   "metadata": {},
   "source": [
    "### sample trial"
   ]
  },
  {
   "cell_type": "code",
   "execution_count": 811,
   "id": "c3c57628",
   "metadata": {},
   "outputs": [],
   "source": [
    "sample_txt = 'Best place that I have visited? Iceland was the most beautiful and I consider myself lucky to have visited Iceland at such an early age.'"
   ]
  },
  {
   "cell_type": "code",
   "execution_count": 812,
   "id": "2133cef7",
   "metadata": {},
   "outputs": [],
   "source": [
    "tokens = tokenizer.tokenize(sample_txt)"
   ]
  },
  {
   "cell_type": "code",
   "execution_count": 813,
   "id": "ac749648",
   "metadata": {},
   "outputs": [
    {
     "name": "stdout",
     "output_type": "stream",
     "text": [
      "['Best', 'place', 'that', 'I', 'have', 'visited', '?', 'Iceland', 'was', 'the', 'most', 'beautiful', 'and', 'I', 'consider', 'myself', 'lucky', 'to', 'have', 'visited', 'Iceland', 'at', 'such', 'an', 'early', 'age', '.']\n"
     ]
    }
   ],
   "source": [
    "print(tokens)"
   ]
  },
  {
   "cell_type": "code",
   "execution_count": 814,
   "id": "08b217fc",
   "metadata": {},
   "outputs": [
    {
     "name": "stdout",
     "output_type": "stream",
     "text": [
      "  Sentence: Best place that I have visited? Iceland was the most beautiful and I consider myself lucky to have visited Iceland at such an early age.\n",
      "\n",
      "  Tokens: ['Best', 'place', 'that', 'I', 'have', 'visited', '?', 'Iceland', 'was', 'the', 'most', 'beautiful', 'and', 'I', 'consider', 'myself', 'lucky', 'to', 'have', 'visited', 'Iceland', 'at', 'such', 'an', 'early', 'age', '.']\n",
      "\n",
      "  Token IDs: [1798, 1282, 1115, 146, 1138, 3891, 136, 10271, 1108, 1103, 1211, 2712, 1105, 146, 4615, 1991, 6918, 1106, 1138, 3891, 10271, 1120, 1216, 1126, 1346, 1425, 119]\n"
     ]
    }
   ],
   "source": [
    "token_ids = tokenizer.convert_tokens_to_ids(tokens)\n",
    "print(f'  Sentence: {sample_txt}')\n",
    "print(f'\\n  Tokens: {tokens}')\n",
    "print(f'\\n  Token IDs: {token_ids}')"
   ]
  },
  {
   "cell_type": "markdown",
   "id": "bceb19c3",
   "metadata": {},
   "source": [
    "## `Tokenization`\n",
    "- Here we will initialise the special tokens required at the start and end of each sequence. We also need to add padding to make sure each sequence has the same length. By plotting a plot, we can check how are the data points in our dataset, when converted to tokens, show their length. "
   ]
  },
  {
   "cell_type": "code",
   "execution_count": 815,
   "id": "ae359aa6",
   "metadata": {},
   "outputs": [
    {
     "name": "stdout",
     "output_type": "stream",
     "text": [
      "[SEP] 102\n",
      "[CLS] 101\n",
      "[PAD] 0\n",
      "[UNK] 100\n"
     ]
    }
   ],
   "source": [
    "print(tokenizer.sep_token, tokenizer.sep_token_id)\n",
    "print(tokenizer.cls_token, tokenizer.cls_token_id)\n",
    "print(tokenizer.pad_token, tokenizer.pad_token_id)\n",
    "print(tokenizer.unk_token, tokenizer.unk_token_id)"
   ]
  },
  {
   "cell_type": "code",
   "execution_count": 816,
   "id": "8b774dfb",
   "metadata": {},
   "outputs": [
    {
     "name": "stderr",
     "output_type": "stream",
     "text": [
      "Truncation was not explicitly activated but `max_length` is provided a specific value, please use `truncation=True` to explicitly truncate examples to max length. Defaulting to 'longest_first' truncation strategy. If you encode pairs of sequences (GLUE-style) with the tokenizer you can select this strategy more precisely by providing a specific strategy to `truncation`.\n"
     ]
    }
   ],
   "source": [
    "encoding_test = tokenizer.encode_plus(\n",
    "  sample_txt,\n",
    "  max_length=32,           # sequence length\n",
    "  add_special_tokens=True, # Add '[CLS]' and '[SEP]'\n",
    "  return_token_type_ids=False,\n",
    "  pad_to_max_length=True,\n",
    "  return_attention_mask=True,\n",
    "  return_tensors='pt',  # Return PyTorch tensors(use tf for tensorflow and keras)\n",
    ")"
   ]
  },
  {
   "cell_type": "code",
   "execution_count": 817,
   "id": "923b6152",
   "metadata": {},
   "outputs": [
    {
     "data": {
      "text/plain": [
       "{'input_ids': tensor([[  101,  1798,  1282,  1115,   146,  1138,  3891,   136, 10271,  1108,\n",
       "          1103,  1211,  2712,  1105,   146,  4615,  1991,  6918,  1106,  1138,\n",
       "          3891, 10271,  1120,  1216,  1126,  1346,  1425,   119,   102,     0,\n",
       "             0,     0]]), 'attention_mask': tensor([[1, 1, 1, 1, 1, 1, 1, 1, 1, 1, 1, 1, 1, 1, 1, 1, 1, 1, 1, 1, 1, 1, 1, 1,\n",
       "         1, 1, 1, 1, 1, 0, 0, 0]])}"
      ]
     },
     "execution_count": 817,
     "metadata": {},
     "output_type": "execute_result"
    }
   ],
   "source": [
    "encoding_test"
   ]
  },
  {
   "cell_type": "code",
   "execution_count": 818,
   "id": "3aab1323",
   "metadata": {},
   "outputs": [
    {
     "data": {
      "text/plain": [
       "dict_keys(['input_ids', 'attention_mask'])"
      ]
     },
     "execution_count": 818,
     "metadata": {},
     "output_type": "execute_result"
    }
   ],
   "source": [
    "encoding_test.keys()"
   ]
  },
  {
   "cell_type": "code",
   "execution_count": 819,
   "id": "c76505e5",
   "metadata": {},
   "outputs": [
    {
     "name": "stdout",
     "output_type": "stream",
     "text": [
      " length of the first sequence is :   32\n",
      "\n",
      " The input id's are : \n",
      " tensor([  101,  1798,  1282,  1115,   146,  1138,  3891,   136, 10271,  1108,\n",
      "         1103,  1211,  2712,  1105,   146,  4615,  1991,  6918,  1106,  1138,\n",
      "         3891, 10271,  1120,  1216,  1126,  1346,  1425,   119,   102,     0,\n",
      "            0,     0])\n",
      "\n",
      " The attention mask generated is :  tensor([1, 1, 1, 1, 1, 1, 1, 1, 1, 1, 1, 1, 1, 1, 1, 1, 1, 1, 1, 1, 1, 1, 1, 1,\n",
      "        1, 1, 1, 1, 1, 0, 0, 0])\n"
     ]
    }
   ],
   "source": [
    "print(' length of the first sequence is :  ', len(encoding_test['input_ids'][0]))\n",
    "print('\\n The input id\\'s are : \\n', encoding_test['input_ids'][0])\n",
    "print('\\n The attention mask generated is : ', encoding_test['attention_mask'][0])"
   ]
  },
  {
   "cell_type": "code",
   "execution_count": 820,
   "id": "59694c87",
   "metadata": {},
   "outputs": [
    {
     "data": {
      "text/plain": [
       "['[CLS]',\n",
       " 'Best',\n",
       " 'place',\n",
       " 'that',\n",
       " 'I',\n",
       " 'have',\n",
       " 'visited',\n",
       " '?',\n",
       " 'Iceland',\n",
       " 'was',\n",
       " 'the',\n",
       " 'most',\n",
       " 'beautiful',\n",
       " 'and',\n",
       " 'I',\n",
       " 'consider',\n",
       " 'myself',\n",
       " 'lucky',\n",
       " 'to',\n",
       " 'have',\n",
       " 'visited',\n",
       " 'Iceland',\n",
       " 'at',\n",
       " 'such',\n",
       " 'an',\n",
       " 'early',\n",
       " 'age',\n",
       " '.',\n",
       " '[SEP]',\n",
       " '[PAD]',\n",
       " '[PAD]',\n",
       " '[PAD]']"
      ]
     },
     "execution_count": 820,
     "metadata": {},
     "output_type": "execute_result"
    }
   ],
   "source": [
    "tokenizer.convert_ids_to_tokens(encoding_test['input_ids'].flatten())"
   ]
  },
  {
   "cell_type": "markdown",
   "id": "409da4ca",
   "metadata": {},
   "source": [
    "# `------------------------------------------`\n",
    "# `Modelling -------------------------------------------`\n",
    "## `Modelling with our data`\n",
    "# `------------------------------------------`"
   ]
  },
  {
   "cell_type": "code",
   "execution_count": 821,
   "id": "e5dac8ca",
   "metadata": {},
   "outputs": [],
   "source": [
    "def group_sentiment(rating):\n",
    "    if rating == 'Positive':\n",
    "        return 2        \n",
    "    elif rating == 'Neutral':\n",
    "        return 1         \n",
    "    else: \n",
    "        return 0        "
   ]
  },
  {
   "cell_type": "code",
   "execution_count": 822,
   "id": "2252b4f7",
   "metadata": {},
   "outputs": [],
   "source": [
    "data_all['tag'] = data_all.tag.apply(group_sentiment)"
   ]
  },
  {
   "cell_type": "code",
   "execution_count": 823,
   "id": "147b12dc",
   "metadata": {},
   "outputs": [
    {
     "data": {
      "text/html": [
       "<div>\n",
       "<style scoped>\n",
       "    .dataframe tbody tr th:only-of-type {\n",
       "        vertical-align: middle;\n",
       "    }\n",
       "\n",
       "    .dataframe tbody tr th {\n",
       "        vertical-align: top;\n",
       "    }\n",
       "\n",
       "    .dataframe thead th {\n",
       "        text-align: right;\n",
       "    }\n",
       "</style>\n",
       "<table border=\"1\" class=\"dataframe\">\n",
       "  <thead>\n",
       "    <tr style=\"text-align: right;\">\n",
       "      <th></th>\n",
       "      <th>sentence</th>\n",
       "      <th>tag</th>\n",
       "    </tr>\n",
       "  </thead>\n",
       "  <tbody>\n",
       "    <tr>\n",
       "      <th>0</th>\n",
       "      <td>Welcome to celebal tech,IVR automation demo.</td>\n",
       "      <td>1</td>\n",
       "    </tr>\n",
       "    <tr>\n",
       "      <th>1</th>\n",
       "      <td>Hello. Hi, how are you?</td>\n",
       "      <td>1</td>\n",
       "    </tr>\n",
       "    <tr>\n",
       "      <th>2</th>\n",
       "      <td>I'm fine. Thank you for calling CT,Health insu...</td>\n",
       "      <td>2</td>\n",
       "    </tr>\n",
       "    <tr>\n",
       "      <th>3</th>\n",
       "      <td>I have an health policy with you. I wanted to ...</td>\n",
       "      <td>1</td>\n",
       "    </tr>\n",
       "    <tr>\n",
       "      <th>4</th>\n",
       "      <td>Of course I can do that,Could you please confi...</td>\n",
       "      <td>1</td>\n",
       "    </tr>\n",
       "    <tr>\n",
       "      <th>5</th>\n",
       "      <td>Yeah, sure, my mobile number is 9996668887.</td>\n",
       "      <td>2</td>\n",
       "    </tr>\n",
       "    <tr>\n",
       "      <th>6</th>\n",
       "      <td>I can confirm that you have active health insu...</td>\n",
       "      <td>2</td>\n",
       "    </tr>\n",
       "    <tr>\n",
       "      <th>7</th>\n",
       "      <td>Sure. My name is Manoj and my date of birth is...</td>\n",
       "      <td>2</td>\n",
       "    </tr>\n",
       "    <tr>\n",
       "      <th>8</th>\n",
       "      <td>Thanks for confirmation,I can see that your po...</td>\n",
       "      <td>2</td>\n",
       "    </tr>\n",
       "    <tr>\n",
       "      <th>9</th>\n",
       "      <td>I want to go for two,year option.</td>\n",
       "      <td>2</td>\n",
       "    </tr>\n",
       "  </tbody>\n",
       "</table>\n",
       "</div>"
      ],
      "text/plain": [
       "                                            sentence  tag\n",
       "0       Welcome to celebal tech,IVR automation demo.    1\n",
       "1                            Hello. Hi, how are you?    1\n",
       "2  I'm fine. Thank you for calling CT,Health insu...    2\n",
       "3  I have an health policy with you. I wanted to ...    1\n",
       "4  Of course I can do that,Could you please confi...    1\n",
       "5        Yeah, sure, my mobile number is 9996668887.    2\n",
       "6  I can confirm that you have active health insu...    2\n",
       "7  Sure. My name is Manoj and my date of birth is...    2\n",
       "8  Thanks for confirmation,I can see that your po...    2\n",
       "9                  I want to go for two,year option.    2"
      ]
     },
     "execution_count": 823,
     "metadata": {},
     "output_type": "execute_result"
    }
   ],
   "source": [
    "data_all.head(10)"
   ]
  },
  {
   "cell_type": "code",
   "execution_count": 824,
   "id": "5604c83d",
   "metadata": {},
   "outputs": [],
   "source": [
    "# data_all.loc[data_all.sentence.isnull()]"
   ]
  },
  {
   "cell_type": "code",
   "execution_count": 825,
   "id": "43004487",
   "metadata": {},
   "outputs": [],
   "source": [
    "# data = data_all[data_all.sentence.notna()]\n",
    "# data.head()"
   ]
  },
  {
   "cell_type": "code",
   "execution_count": 826,
   "id": "60167980",
   "metadata": {},
   "outputs": [
    {
     "data": {
      "text/plain": [
       "(594, 2)"
      ]
     },
     "execution_count": 826,
     "metadata": {},
     "output_type": "execute_result"
    }
   ],
   "source": [
    "data_all.shape"
   ]
  },
  {
   "cell_type": "code",
   "execution_count": 827,
   "id": "e149f270",
   "metadata": {},
   "outputs": [],
   "source": [
    "data = data_all"
   ]
  },
  {
   "cell_type": "code",
   "execution_count": 828,
   "id": "3a039faa",
   "metadata": {},
   "outputs": [],
   "source": [
    "token_lens = []\n",
    "for text in data.sentence:\n",
    "    tokens_data = tokenizer.encode(text, max_length=512)   # Max possible length for the BERT model.\n",
    "    token_lens.append(len(tokens_data))"
   ]
  },
  {
   "cell_type": "code",
   "execution_count": 829,
   "id": "1e13103f",
   "metadata": {},
   "outputs": [
    {
     "data": {
      "text/plain": [
       "[14,\n",
       " 10,\n",
       " 31,\n",
       " 23,\n",
       " 33,\n",
       " 20,\n",
       " 28,\n",
       " 20,\n",
       " 60,\n",
       " 12,\n",
       " 18,\n",
       " 6,\n",
       " 13,\n",
       " 16,\n",
       " 17,\n",
       " 12,\n",
       " 19,\n",
       " 5,\n",
       " 19,\n",
       " 4,\n",
       " 38,\n",
       " 9,\n",
       " 57,\n",
       " 8,\n",
       " 30,\n",
       " 12,\n",
       " 31,\n",
       " 13,\n",
       " 30,\n",
       " 8,\n",
       " 16,\n",
       " 9,\n",
       " 35,\n",
       " 6,\n",
       " 25,\n",
       " 7,\n",
       " 35,\n",
       " 14,\n",
       " 39,\n",
       " 9,\n",
       " 74,\n",
       " 14,\n",
       " 60,\n",
       " 6,\n",
       " 53,\n",
       " 7,\n",
       " 55,\n",
       " 12,\n",
       " 26,\n",
       " 4,\n",
       " 13,\n",
       " 10,\n",
       " 19,\n",
       " 10,\n",
       " 20,\n",
       " 6,\n",
       " 33,\n",
       " 5,\n",
       " 19,\n",
       " 4,\n",
       " 39,\n",
       " 6,\n",
       " 62,\n",
       " 8,\n",
       " 10,\n",
       " 11,\n",
       " 12,\n",
       " 8,\n",
       " 33,\n",
       " 7,\n",
       " 14,\n",
       " 11,\n",
       " 4,\n",
       " 16,\n",
       " 11,\n",
       " 6,\n",
       " 11,\n",
       " 30,\n",
       " 6,\n",
       " 31,\n",
       " 12,\n",
       " 12,\n",
       " 10,\n",
       " 9,\n",
       " 25,\n",
       " 15,\n",
       " 28,\n",
       " 7,\n",
       " 4,\n",
       " 10,\n",
       " 28,\n",
       " 5,\n",
       " 19,\n",
       " 4,\n",
       " 39,\n",
       " 6,\n",
       " 55,\n",
       " 8,\n",
       " 25,\n",
       " 14,\n",
       " 40,\n",
       " 13,\n",
       " 16,\n",
       " 24,\n",
       " 18,\n",
       " 49,\n",
       " 17,\n",
       " 21,\n",
       " 4,\n",
       " 37,\n",
       " 13,\n",
       " 14,\n",
       " 23,\n",
       " 4,\n",
       " 27,\n",
       " 6,\n",
       " 42,\n",
       " 4,\n",
       " 51,\n",
       " 12,\n",
       " 32,\n",
       " 15,\n",
       " 34,\n",
       " 6,\n",
       " 39,\n",
       " 9,\n",
       " 33,\n",
       " 14,\n",
       " 41,\n",
       " 15,\n",
       " 40,\n",
       " 9,\n",
       " 76,\n",
       " 10,\n",
       " 19,\n",
       " 10,\n",
       " 29,\n",
       " 9,\n",
       " 77,\n",
       " 12,\n",
       " 21,\n",
       " 9,\n",
       " 13,\n",
       " 10,\n",
       " 19,\n",
       " 10,\n",
       " 70,\n",
       " 4,\n",
       " 42,\n",
       " 4,\n",
       " 41,\n",
       " 11,\n",
       " 42,\n",
       " 19,\n",
       " 15,\n",
       " 15,\n",
       " 8,\n",
       " 28,\n",
       " 26,\n",
       " 29,\n",
       " 18,\n",
       " 30,\n",
       " 21,\n",
       " 43,\n",
       " 13,\n",
       " 19,\n",
       " 6,\n",
       " 13,\n",
       " 10,\n",
       " 17,\n",
       " 12,\n",
       " 20,\n",
       " 5,\n",
       " 26,\n",
       " 4,\n",
       " 26,\n",
       " 7,\n",
       " 41,\n",
       " 6,\n",
       " 38,\n",
       " 11,\n",
       " 32,\n",
       " 16,\n",
       " 28,\n",
       " 13,\n",
       " 17,\n",
       " 5,\n",
       " 27,\n",
       " 4,\n",
       " 34,\n",
       " 12,\n",
       " 10,\n",
       " 6,\n",
       " 13,\n",
       " 7,\n",
       " 13,\n",
       " 13,\n",
       " 17,\n",
       " 8,\n",
       " 12,\n",
       " 16,\n",
       " 26,\n",
       " 5,\n",
       " 17,\n",
       " 6,\n",
       " 24,\n",
       " 12,\n",
       " 27,\n",
       " 17,\n",
       " 18,\n",
       " 20,\n",
       " 46,\n",
       " 13,\n",
       " 16,\n",
       " 4,\n",
       " 13,\n",
       " 14,\n",
       " 16,\n",
       " 11,\n",
       " 17,\n",
       " 23,\n",
       " 4,\n",
       " 26,\n",
       " 6,\n",
       " 39,\n",
       " 6,\n",
       " 12,\n",
       " 13,\n",
       " 58,\n",
       " 10,\n",
       " 32,\n",
       " 15,\n",
       " 33,\n",
       " 12,\n",
       " 28,\n",
       " 5,\n",
       " 35,\n",
       " 9,\n",
       " 34,\n",
       " 14,\n",
       " 16,\n",
       " 37,\n",
       " 9,\n",
       " 36,\n",
       " 7,\n",
       " 52,\n",
       " 8,\n",
       " 25,\n",
       " 15,\n",
       " 30,\n",
       " 8,\n",
       " 27,\n",
       " 13,\n",
       " 25,\n",
       " 8,\n",
       " 21,\n",
       " 22,\n",
       " 30,\n",
       " 16,\n",
       " 25,\n",
       " 10,\n",
       " 38,\n",
       " 7,\n",
       " 42,\n",
       " 8,\n",
       " 16,\n",
       " 7,\n",
       " 52,\n",
       " 10,\n",
       " 34,\n",
       " 13,\n",
       " 26,\n",
       " 7,\n",
       " 13,\n",
       " 10,\n",
       " 19,\n",
       " 10,\n",
       " 20,\n",
       " 7,\n",
       " 25,\n",
       " 28,\n",
       " 15,\n",
       " 12,\n",
       " 17,\n",
       " 50,\n",
       " 14,\n",
       " 18,\n",
       " 4,\n",
       " 24,\n",
       " 10,\n",
       " 37,\n",
       " 13,\n",
       " 19,\n",
       " 9,\n",
       " 22,\n",
       " 12,\n",
       " 12,\n",
       " 39,\n",
       " 6,\n",
       " 59,\n",
       " 8,\n",
       " 24,\n",
       " 14,\n",
       " 26,\n",
       " 20,\n",
       " 32,\n",
       " 16,\n",
       " 28,\n",
       " 12,\n",
       " 17,\n",
       " 5,\n",
       " 51,\n",
       " 7,\n",
       " 16,\n",
       " 8,\n",
       " 33,\n",
       " 8,\n",
       " 43,\n",
       " 15,\n",
       " 43,\n",
       " 11,\n",
       " 29,\n",
       " 8,\n",
       " 49,\n",
       " 7,\n",
       " 42,\n",
       " 11,\n",
       " 16,\n",
       " 9,\n",
       " 87,\n",
       " 8,\n",
       " 37,\n",
       " 13,\n",
       " 12,\n",
       " 17,\n",
       " 26,\n",
       " 5,\n",
       " 18,\n",
       " 4,\n",
       " 39,\n",
       " 9,\n",
       " 43,\n",
       " 8,\n",
       " 27,\n",
       " 14,\n",
       " 31,\n",
       " 13,\n",
       " 30,\n",
       " 8,\n",
       " 16,\n",
       " 9,\n",
       " 36,\n",
       " 6,\n",
       " 16,\n",
       " 8,\n",
       " 30,\n",
       " 16,\n",
       " 31,\n",
       " 11,\n",
       " 46,\n",
       " 11,\n",
       " 41,\n",
       " 7,\n",
       " 30,\n",
       " 6,\n",
       " 33,\n",
       " 13,\n",
       " 27,\n",
       " 4,\n",
       " 13,\n",
       " 10,\n",
       " 19,\n",
       " 10,\n",
       " 20,\n",
       " 6,\n",
       " 20,\n",
       " 18,\n",
       " 23,\n",
       " 5,\n",
       " 18,\n",
       " 4,\n",
       " 37,\n",
       " 6,\n",
       " 33,\n",
       " 12,\n",
       " 10,\n",
       " 12,\n",
       " 12,\n",
       " 8,\n",
       " 18,\n",
       " 7,\n",
       " 18,\n",
       " 4,\n",
       " 35,\n",
       " 6,\n",
       " 32,\n",
       " 7,\n",
       " 10,\n",
       " 5,\n",
       " 12,\n",
       " 10,\n",
       " 22,\n",
       " 7,\n",
       " 18,\n",
       " 4,\n",
       " 35,\n",
       " 6,\n",
       " 52,\n",
       " 8,\n",
       " 23,\n",
       " 14,\n",
       " 31,\n",
       " 12,\n",
       " 14,\n",
       " 17,\n",
       " 15,\n",
       " 51,\n",
       " 15,\n",
       " 21,\n",
       " 4,\n",
       " 36,\n",
       " 12,\n",
       " 12,\n",
       " 40,\n",
       " 4,\n",
       " 60,\n",
       " 8,\n",
       " 9,\n",
       " 7,\n",
       " 13,\n",
       " 5,\n",
       " 12,\n",
       " 13,\n",
       " 16,\n",
       " 8,\n",
       " 27,\n",
       " 5,\n",
       " 26,\n",
       " 4,\n",
       " 25,\n",
       " 7,\n",
       " 45,\n",
       " 6,\n",
       " 41,\n",
       " 11,\n",
       " 34,\n",
       " 14,\n",
       " 31,\n",
       " 7,\n",
       " 32,\n",
       " 10,\n",
       " 31,\n",
       " 20,\n",
       " 37,\n",
       " 13,\n",
       " 30,\n",
       " 11,\n",
       " 34,\n",
       " 10,\n",
       " 15,\n",
       " 10,\n",
       " 27,\n",
       " 9,\n",
       " 30,\n",
       " 13,\n",
       " 21,\n",
       " 11,\n",
       " 13,\n",
       " 10,\n",
       " 19,\n",
       " 10,\n",
       " 43,\n",
       " 4,\n",
       " 35,\n",
       " 4,\n",
       " 40,\n",
       " 10,\n",
       " 28,\n",
       " 19,\n",
       " 14,\n",
       " 13,\n",
       " 8,\n",
       " 31,\n",
       " 13,\n",
       " 34,\n",
       " 17,\n",
       " 28,\n",
       " 20,\n",
       " 59,\n",
       " 12,\n",
       " 17,\n",
       " 4,\n",
       " 13,\n",
       " 13,\n",
       " 16,\n",
       " 11,\n",
       " 16,\n",
       " 39,\n",
       " 9,\n",
       " 65,\n",
       " 15,\n",
       " 22,\n",
       " 37,\n",
       " 9,\n",
       " 62,\n",
       " 7,\n",
       " 57,\n",
       " 8,\n",
       " 27,\n",
       " 15,\n",
       " 31,\n",
       " 8,\n",
       " 36,\n",
       " 13,\n",
       " 35,\n",
       " 7,\n",
       " 33,\n",
       " 13,\n",
       " 40,\n",
       " 14,\n",
       " 40,\n",
       " 9,\n",
       " 71,\n",
       " 6,\n",
       " 62,\n",
       " 8,\n",
       " 16,\n",
       " 6,\n",
       " 66,\n",
       " 7,\n",
       " 56,\n",
       " 12,\n",
       " 26,\n",
       " 7,\n",
       " 13,\n",
       " 10,\n",
       " 19,\n",
       " 10,\n",
       " 20,\n",
       " 6,\n",
       " 31,\n",
       " 23,\n",
       " 15,\n",
       " 47,\n",
       " 16,\n",
       " 19,\n",
       " 4,\n",
       " 34,\n",
       " 10,\n",
       " 47,\n",
       " 14,\n",
       " 19,\n",
       " 9,\n",
       " 20,\n",
       " 13,\n",
       " 14,\n",
       " 39,\n",
       " 6,\n",
       " 58,\n",
       " 8,\n",
       " 25,\n",
       " 14,\n",
       " 40,\n",
       " 19,\n",
       " 32,\n",
       " 15,\n",
       " 31,\n",
       " 12,\n",
       " 28,\n",
       " 5,\n",
       " 56,\n",
       " 7,\n",
       " 14,\n",
       " 9,\n",
       " 69,\n",
       " 8,\n",
       " 53,\n",
       " 15,\n",
       " 55,\n",
       " 11,\n",
       " 38,\n",
       " 12,\n",
       " 54,\n",
       " 8,\n",
       " 127,\n",
       " 6,\n",
       " 23,\n",
       " 9,\n",
       " 129,\n",
       " 8,\n",
       " 37,\n",
       " 13,\n",
       " 42,\n",
       " 5]"
      ]
     },
     "execution_count": 829,
     "metadata": {},
     "output_type": "execute_result"
    }
   ],
   "source": [
    "token_lens"
   ]
  },
  {
   "cell_type": "code",
   "execution_count": 830,
   "id": "827e66c6",
   "metadata": {},
   "outputs": [
    {
     "data": {
      "image/png": "[encoded data removed]",
      "text/plain": [
       "<Figure size 864x576 with 1 Axes>"
      ]
     },
     "metadata": {
      "image/png": {
       "height": 487,
       "width": 736
      }
     },
     "output_type": "display_data"
    }
   ],
   "source": [
    "sns.distplot(token_lens)\n",
    "plt.xlim([0, 256]);\n",
    "plt.xlabel('Token count');"
   ]
  },
  {
   "cell_type": "code",
   "execution_count": 831,
   "id": "5f864c43",
   "metadata": {},
   "outputs": [],
   "source": [
    "MAX_LEN = 150"
   ]
  },
  {
   "cell_type": "markdown",
   "id": "fba111f3",
   "metadata": {},
   "source": [
    "## `Pytorch Dataset`"
   ]
  },
  {
   "cell_type": "code",
   "execution_count": 832,
   "id": "06d48499",
   "metadata": {},
   "outputs": [],
   "source": [
    "class GPReviewDataset(Dataset):\n",
    "\n",
    "    def __init__(self, reviews, targets, tokenizer, max_len):\n",
    "        self.reviews = reviews         # Reviews is content column.\n",
    "        self.targets = targets         # Target is the sentiment column.\n",
    "        self.tokenizer = tokenizer     # Tokenizer is the BERT_Tokanizer.\n",
    "        self.max_len = max_len         # max_length of each sequence.\n",
    "\n",
    "    def __len__(self):\n",
    "        return len(self.reviews)       # Len of each review.\n",
    "  \n",
    "    def __getitem__(self, item):\n",
    "        review = str(self.reviews[item])   # returns the string of reviews at the index = 'items'\n",
    "        target = self.targets[item]        # returns the string of targets at the index = 'items'\n",
    "\n",
    "        encoding = self.tokenizer.encode_plus(\n",
    "          review,\n",
    "          add_special_tokens=True,\n",
    "          max_length=self.max_len,\n",
    "          return_token_type_ids=False,\n",
    "          pad_to_max_length=True,\n",
    "          return_attention_mask=True,\n",
    "          return_tensors='pt',\n",
    "        )\n",
    "\n",
    "        return {\n",
    "          'review_text': review,                                   \n",
    "          'input_ids': encoding['input_ids'].flatten(),\n",
    "          'attention_mask': encoding['attention_mask'].flatten(),\n",
    "          'targets': torch.tensor(target, dtype=torch.long)            # dictionary containing all the features is returned.\n",
    "        }"
   ]
  },
  {
   "cell_type": "markdown",
   "id": "a6fb6677",
   "metadata": {},
   "source": [
    "# `NLP Aug`: Data Augmentation\n",
    "- [Click Here](https://www.analyticsvidhya.com/blog/2021/08/nlpaug-a-python-library-to-augment-your-text-data/)\n",
    "- [CLick Here](https://towardsdatascience.com/powerful-text-augmentation-using-nlpaug-5851099b4e97)"
   ]
  },
  {
   "cell_type": "code",
   "execution_count": 833,
   "id": "3b9fdd3a",
   "metadata": {},
   "outputs": [],
   "source": [
    "#!pip install nlpaug"
   ]
  },
  {
   "cell_type": "code",
   "execution_count": 834,
   "id": "7cb47a35",
   "metadata": {},
   "outputs": [
    {
     "data": {
      "text/plain": [
       "sentence    object\n",
       "tag          int64\n",
       "dtype: object"
      ]
     },
     "execution_count": 834,
     "metadata": {},
     "output_type": "execute_result"
    }
   ],
   "source": [
    "data_all.dtypes"
   ]
  },
  {
   "cell_type": "code",
   "execution_count": 835,
   "id": "38323a47",
   "metadata": {},
   "outputs": [
    {
     "name": "stderr",
     "output_type": "stream",
     "text": [
      "[nltk_data] Downloading package averaged_perceptron_tagger to\n",
      "[nltk_data]     C:\\Users\\manuj\\AppData\\Roaming\\nltk_data...\n",
      "[nltk_data]   Package averaged_perceptron_tagger is already up-to-\n",
      "[nltk_data]       date!\n",
      "[nltk_data] Downloading package omw-1.4 to\n",
      "[nltk_data]     C:\\Users\\manuj\\AppData\\Roaming\\nltk_data...\n",
      "[nltk_data]   Package omw-1.4 is already up-to-date!\n"
     ]
    }
   ],
   "source": [
    "import nltk\n",
    "nltk.download('averaged_perceptron_tagger')\n",
    "nltk.download('omw-1.4')\n",
    "import nlpaug\n",
    "import nlpaug.augmenter.word as naw"
   ]
  },
  {
   "cell_type": "code",
   "execution_count": 836,
   "id": "c701b910",
   "metadata": {},
   "outputs": [
    {
     "data": {
      "text/plain": [
       "['Misdirect review article. Worst coffee ever have, and sorely disappointing vibe.',\n",
       " 'Misleading reviews. Worst coffee ever have, and sorely disappointing vibration.',\n",
       " 'Lead astray inspection. Worst coffee ever have, and sorely disappointing vibe.']"
      ]
     },
     "execution_count": 836,
     "metadata": {},
     "output_type": "execute_result"
    }
   ],
   "source": [
    "aug = naw.SynonymAug(aug_src='wordnet',aug_max=3)\n",
    "aug.augment(\"Misleading reviews. Worst coffee ever had, and sorely disappointing vibe.\",n=3)"
   ]
  },
  {
   "cell_type": "code",
   "execution_count": 837,
   "id": "d97bcdcc",
   "metadata": {},
   "outputs": [],
   "source": [
    "data_neg = data_all[data_all.loc[:,'tag'] == 0]"
   ]
  },
  {
   "cell_type": "code",
   "execution_count": 838,
   "id": "a5f8e781",
   "metadata": {},
   "outputs": [
    {
     "data": {
      "text/plain": [
       "71"
      ]
     },
     "execution_count": 838,
     "metadata": {},
     "output_type": "execute_result"
    }
   ],
   "source": [
    "len(data_neg)"
   ]
  },
  {
   "cell_type": "code",
   "execution_count": 839,
   "id": "0840a440",
   "metadata": {},
   "outputs": [
    {
     "data": {
      "text/html": [
       "<div>\n",
       "<style scoped>\n",
       "    .dataframe tbody tr th:only-of-type {\n",
       "        vertical-align: middle;\n",
       "    }\n",
       "\n",
       "    .dataframe tbody tr th {\n",
       "        vertical-align: top;\n",
       "    }\n",
       "\n",
       "    .dataframe thead th {\n",
       "        text-align: right;\n",
       "    }\n",
       "</style>\n",
       "<table border=\"1\" class=\"dataframe\">\n",
       "  <thead>\n",
       "    <tr style=\"text-align: right;\">\n",
       "      <th></th>\n",
       "      <th>sentence</th>\n",
       "      <th>tag</th>\n",
       "    </tr>\n",
       "  </thead>\n",
       "  <tbody>\n",
       "    <tr>\n",
       "      <th>13</th>\n",
       "      <td>I have a doubt. Will this policy cover my fami...</td>\n",
       "      <td>0</td>\n",
       "    </tr>\n",
       "    <tr>\n",
       "      <th>23</th>\n",
       "      <td>No, not this one.</td>\n",
       "      <td>0</td>\n",
       "    </tr>\n",
       "    <tr>\n",
       "      <th>27</th>\n",
       "      <td>I didn't get you. Can you repeat?</td>\n",
       "      <td>0</td>\n",
       "    </tr>\n",
       "    <tr>\n",
       "      <th>29</th>\n",
       "      <td>Hold on for a second.</td>\n",
       "      <td>0</td>\n",
       "    </tr>\n",
       "    <tr>\n",
       "      <th>41</th>\n",
       "      <td>What will happen,If I preclose this EMI.</td>\n",
       "      <td>0</td>\n",
       "    </tr>\n",
       "  </tbody>\n",
       "</table>\n",
       "</div>"
      ],
      "text/plain": [
       "                                             sentence  tag\n",
       "13  I have a doubt. Will this policy cover my fami...    0\n",
       "23                                  No, not this one.    0\n",
       "27                  I didn't get you. Can you repeat?    0\n",
       "29                              Hold on for a second.    0\n",
       "41           What will happen,If I preclose this EMI.    0"
      ]
     },
     "execution_count": 839,
     "metadata": {},
     "output_type": "execute_result"
    }
   ],
   "source": [
    "data_neg.head()"
   ]
  },
  {
   "cell_type": "code",
   "execution_count": 840,
   "id": "1f18e799",
   "metadata": {},
   "outputs": [],
   "source": [
    "lists = []\n",
    "aug = naw.SynonymAug(aug_src='wordnet',aug_max=5)\n",
    "for i in data_neg.sentence:\n",
    "    lists.append(aug.augment(i,n=3))"
   ]
  },
  {
   "cell_type": "markdown",
   "id": "29bcef72",
   "metadata": {},
   "source": [
    "# `Augmentation -----------------------------------------`"
   ]
  },
  {
   "cell_type": "code",
   "execution_count": 841,
   "id": "31cce18c",
   "metadata": {},
   "outputs": [],
   "source": [
    "sent = []\n",
    "for i in lists:\n",
    "    for j in i:\n",
    "        sent.append(j)"
   ]
  },
  {
   "cell_type": "code",
   "execution_count": 842,
   "id": "c7cdd546",
   "metadata": {},
   "outputs": [
    {
     "data": {
      "text/plain": [
       "213"
      ]
     },
     "execution_count": 842,
     "metadata": {},
     "output_type": "execute_result"
    }
   ],
   "source": [
    "len(sent)"
   ]
  },
  {
   "cell_type": "code",
   "execution_count": 843,
   "id": "2da8f62d",
   "metadata": {},
   "outputs": [
    {
     "data": {
      "text/plain": [
       "['1 have a doubt. Bequeath this policy cover my fellowship every bit well?',\n",
       " 'I have a question. Leave this policy hide my phratry as well?',\n",
       " 'I have a dubiety. Bequeath this policy cover my folk as easily?',\n",
       " 'No, non this i.',\n",
       " 'No, non this ace.',\n",
       " 'No, non this unity.',\n",
       " \"Single didn ' t get you. Can you repeat?\",\n",
       " \"I didn ' t get you. Butt you recur?\",\n",
       " \"I didn ' t get you. Posterior you repeat?\",\n",
       " 'Withstand on for a 2d.',\n",
       " 'Halt on for a second.',\n",
       " 'Hold on for a 2nd.',\n",
       " 'What will find, If One preclose this EMI.',\n",
       " 'What will happen, If One preclose this EMI.',\n",
       " 'What will happen, If Ace preclose this EMI.',\n",
       " 'Bottom you repeat over again?',\n",
       " 'Seat you repeat again?',\n",
       " 'Hindquarters you repeat again?',\n",
       " 'But you order me non to share any item.',\n",
       " 'But you told maine non to share any detail.',\n",
       " 'Simply you told maine not to share any detail.',\n",
       " 'I need a loan or else.',\n",
       " 'I require a loanword instead.',\n",
       " 'Single desire a loan instead.',\n",
       " 'This call is being recorded by celebal Bank for security reasonableness. Delight do non share your CVV and OTP with anyone.',\n",
       " 'This call is being recorded by celebal Bank for certificate reasons. Please do not share your CVV and OTP with anyone.',\n",
       " 'This call is be recorded by celebal Bank for security measures ground. Please do not share your CVV and OTP with anyone.',\n",
       " 'I am ready to make up full defrayment.',\n",
       " 'I embody quick to pay total payment.',\n",
       " 'I am ready to pay up full requital.',\n",
       " \"No, I don ' t require to break down for EMI selection.\",\n",
       " \"No, 1 assume ' thymine desire to go for EMI option.\",\n",
       " \"No, 1 get into ' t need to go for EMI option.\",\n",
       " 'No.',\n",
       " 'No.',\n",
       " 'No.',\n",
       " 'No, Ane want to verbalize to your, Agent.',\n",
       " 'No, I want to speak to your, Factor.',\n",
       " 'No, I want to tattle to your, Factor.',\n",
       " \"No, Ane put on ' deoxythymidine monophosphate want to opt for EMI.\",\n",
       " \"No, Iodin don ' thyroxin desire to choose for EMI.\",\n",
       " \"No, Unity don ' t require to prefer for EMI.\",\n",
       " 'Buns you repeat the details once again?',\n",
       " 'Seat you repeat the detail once again?',\n",
       " 'Can you reduplicate the item over again?',\n",
       " 'Simply you told me non to share any detail.',\n",
       " 'But you told pine tree state non to share any details.',\n",
       " 'But you recount me not to share any item.',\n",
       " '1 be non happy with current conversation. I want to babble to your, Agent.',\n",
       " 'I am non happy with current conversation. Unity want to talk to your, Factor.',\n",
       " 'I am not happy with current conversation. I want to talk to your, Agent.',\n",
       " \"No, One wear ' metric ton desire to go for the EMI route.\",\n",
       " \"No, I don ' metric ton require to go for the EMI path.\",\n",
       " \"No, I get into ' thymine need to go for the EMI road.\",\n",
       " 'No, Unity be content with the complete payment method acting.',\n",
       " 'No, I am contented with the pure defrayment method acting.',\n",
       " 'No, 1 am content with the complete defrayal method acting.',\n",
       " 'Hello, I am Prashanth from Celebal Tech Bank. What set you like to see about the offer?',\n",
       " 'Hello, I comprise Prashanth from Celebal Technical school Bank. What do you like to hear astir the offer?',\n",
       " 'Hello, One am Prashanth from Celebal Tech Bank. What suffice you like to take heed about the go?',\n",
       " 'Yes.',\n",
       " 'Yes.',\n",
       " 'Yes.',\n",
       " 'This call is be record by a Celebal tech bank, simply please do not reveal your CVV and OTP with anyone, as shown here.',\n",
       " 'This shout is be recorded by a Celebal tech bank, but please do not reveal your CVV and OTP with anyone, as establish here.',\n",
       " 'This call is being recorded by a Celebal technical school savings bank, but please do not reveal your CVV and OTP with anyone, as shown here.',\n",
       " 'Rather than a mortgage, Unity require a loan.',\n",
       " 'Sooner than a mortgage, Iodine want a loan.',\n",
       " 'Sort of than a mortgage, I want a loanword.',\n",
       " 'What form of loanword do you postulate?',\n",
       " 'What kind of loan do you need?',\n",
       " 'What kind of loanword do you postulate?',\n",
       " 'Can you reduplicate?',\n",
       " 'Fire you repeat?',\n",
       " 'Can you take over?',\n",
       " 'Yes, Sir, what variety of loan you necessitate?',\n",
       " 'Yes, Sir, what kind of loan you ask?',\n",
       " 'Yes, Sir, what kind of loanword you need?',\n",
       " 'Car loanword be available.',\n",
       " 'Car loan be uncommitted.',\n",
       " 'Elevator car loanword is available.',\n",
       " \"How much money you ' ll need for this loan?\",\n",
       " \"How much money you ' ll need for this loanword?\",\n",
       " \"How much money you ' ll postulate for this loan?\",\n",
       " \"I didn ' t get you. Canful you retell?\",\n",
       " \"Iodin didn ' t get you. Can you repeat?\",\n",
       " \"I didn ' t get you. Give the axe you repeat?\",\n",
       " \"Yes, Sir, how much money you ' ll demand for this loan?\",\n",
       " \"Yes, Sir, how much money you ' ll need for this loan?\",\n",
       " \"Yes, Sir, how much money you ' ll need for this loanword?\",\n",
       " 'I take about vii Lac.',\n",
       " 'I need about vii Lac.',\n",
       " 'I ask about septet Lac.',\n",
       " 'Could you please order me your record fluid number?',\n",
       " 'Could you please state maine your register mobile number?',\n",
       " 'Could you please tell pine tree state your registered wandering number?',\n",
       " 'Yea, sure, my peregrine act is 9586236435.',\n",
       " 'Yeah, sure, my nomadic phone number is 9586236435.',\n",
       " 'Yeah, indisputable, my fluid turn is 9586236435.',\n",
       " 'Get entered your details, Our client representative will reach out to you shortly, so keep banking with a fame tech bank.',\n",
       " 'Have entered your details, Our customer representative will extend to knocked out to you shortly, so keep banking with a celebrity technical school bank.',\n",
       " 'Have entered your details, Our customer spokesperson will reach out to you in brief, so keep banking with a famous person tech bank.',\n",
       " 'Thank you.',\n",
       " 'Thank you.',\n",
       " 'Thank you.',\n",
       " 'Unity have a dubiety who volition represent covered by this policy.',\n",
       " 'I have a doubt who testament constitute overlay by this policy.',\n",
       " '1 have a doubt who will follow covered by this insurance policy.',\n",
       " \"No, I don ' thymine want to move for EMI alternative.\",\n",
       " \"No, I wear ' deoxythymidine monophosphate want to operate for EMI option.\",\n",
       " \"No, I wear ' triiodothyronine want to go for EMI option.\",\n",
       " 'No, I be well chosen with full payment option.',\n",
       " 'No, 1 am happy with full defrayment option.',\n",
       " 'No, Single am happy with wide requital option.',\n",
       " 'No, Ace am non concerned.',\n",
       " 'No, I be non concerned.',\n",
       " 'No, Atomic number 53 follow not concerned.',\n",
       " 'No, Atomic number 53 am non concerned.',\n",
       " 'No, Iodine be not concerned.',\n",
       " 'No, I be non concerned.',\n",
       " 'No, non this i.',\n",
       " 'No, non this ace.',\n",
       " 'No, non this unity.',\n",
       " 'No, Ace alter my mind.',\n",
       " 'No, I change my idea.',\n",
       " 'No, I interchange my psyche.',\n",
       " \"No, One wear ' mt need to go for the EMI route.\",\n",
       " \"No, I don ' tonne need to go for the EMI itinerary.\",\n",
       " \"No, Ace put on ' t require to go for the EMI route.\",\n",
       " 'No, the pastime rate in Affect is overly gamey.',\n",
       " 'No, the interest charge per unit in Affects comprise likewise high.',\n",
       " 'No, the interestingness pace in Affect is also high.',\n",
       " 'No. This serving rhythm live too long.',\n",
       " 'No. This serve cycle per second is as well long.',\n",
       " 'No. This service hertz be also long.',\n",
       " 'No, non this unity.',\n",
       " 'No, non this 1.',\n",
       " 'No, non this ace.',\n",
       " \"Single didn ' t get you. Toilet you repeat?\",\n",
       " \"I didn ' t get you. Arse you repeat?\",\n",
       " \"Unity didn ' t get you. Crapper you replicate?\",\n",
       " 'Can you duplicate?',\n",
       " 'Tail you repeat?',\n",
       " 'Bum you reduplicate?',\n",
       " 'Withal, you told pine tree state not to unveil any information.',\n",
       " 'However, you say me non to reveal any information.',\n",
       " 'However, you tell me not to bring out any info.',\n",
       " 'Rather than a mortgage, Ane need a loan.',\n",
       " 'Quite than a mortgage, Iodine want a loanword.',\n",
       " 'Rather than a mortgage, I desire a loan.',\n",
       " 'No, I need to talk to your agentive role.',\n",
       " 'No, Iodine want to babble to your agent.',\n",
       " 'No, I require to talk to your factor.',\n",
       " \"I didn ' t get you. Posterior you reiterate?\",\n",
       " \"I didn ' t get you. Can you retell?\",\n",
       " \"I didn ' t get you. Can you repeat?\",\n",
       " \"No, I get into ' thymine require to go for EMI.\",\n",
       " \"No, One don ' liothyronine want to run short for EMI.\",\n",
       " \"No, I assume ' tonne want to go for EMI.\",\n",
       " 'Keister you recapitulate the entropy again?',\n",
       " 'Fundament you reprise the information again?',\n",
       " 'Bottom you duplicate the information once more?',\n",
       " 'Nonetheless, you say me not to discover any data.',\n",
       " 'All the same, you told me not to give away any entropy.',\n",
       " 'However, you told maine non to bring out any data.',\n",
       " '1 embody not happy with the current chat. I need to speak to your agent.',\n",
       " 'Unity be not happy with the current schmooze. I want to talk to your agent.',\n",
       " 'I am non happy with the current confabulation. 1 require to spill to your agent.',\n",
       " '1 have a dubiousness world health organization all will this policy covering?',\n",
       " '1 have a dubiousness world health organization all testament this policy cover?',\n",
       " 'I have a uncertainty world health organization all will this insurance covering fire?',\n",
       " 'No, One be not concerned.',\n",
       " 'No, One am non concerned.',\n",
       " 'No, Single am non concerned.',\n",
       " \"I ' m engaged right now. Can you phone me tomorrow?\",\n",
       " \"I ' mib busy right now. Can you foretell me tomorrow?\",\n",
       " \"I ' m interfering right straight off. Can you bid me tomorrow?\",\n",
       " 'No, Unity am non concerned.',\n",
       " 'No, Ace be not concerned.',\n",
       " 'No, I be non concerned.',\n",
       " 'No, non this i.',\n",
       " 'No, non this unity.',\n",
       " 'No, non this unity.',\n",
       " 'No, I want the dealings do on Snapdeal.',\n",
       " 'No, 1 require the dealings done on Snapdeal.',\n",
       " 'No, Iodine desire the transaction done on Snapdeal.',\n",
       " \"I didn ' t get you. Rear end you repeat?\",\n",
       " \"Iodine didn ' t get you. Can you recapitulate?\",\n",
       " \"1 didn ' t get you. Can you recapitulate?\",\n",
       " 'Just you tell apart me not to share any contingent.',\n",
       " 'But you told pine tree state not to share any detail.',\n",
       " 'But you told me not to contribution any details.',\n",
       " 'No, One transfer my thinker.',\n",
       " 'No, I exchange my psyche.',\n",
       " 'No, Ace changed my judgment.',\n",
       " 'I have cancelled your update demarcation line request, Is at that place anything else Iodine can aid you with?',\n",
       " 'I have cancelled your update demarcation line asking, Is there anything else I throne help you with?',\n",
       " 'One own cancel your update limit request, Is there anything else 1 can help you with?',\n",
       " \"No, One have change my judgement. I ' molar concentration happy to pay full payment.\",\n",
       " \"No, I have change my head. Single ' m happy to pay full defrayment.\",\n",
       " \"No, I have changed my brain. I ' m happy to devote broad requital.\",\n",
       " \"No, I don ' t require to move for EMI option.\",\n",
       " \"No, Atomic number 53 don ' t want to go for EMI alternative.\",\n",
       " \"No, I wear ' t want to go for EMI choice.\",\n",
       " 'No, I be happy to pay wide defrayment.',\n",
       " 'No, I be happy to pay replete defrayment.',\n",
       " 'No, I be felicitous to pay full payment.',\n",
       " \"No, you ' re, An pursuit pace exist too high.\",\n",
       " \"No, you ' atomic number 75, An interest rate be also gamy.\",\n",
       " \"No, you ' re, An interest group rate is likewise mellow.\",\n",
       " 'No. This tenure period represent excessively long.',\n",
       " 'No. This incumbency period is likewise long.',\n",
       " 'No. This tenure period be overly long.']"
      ]
     },
     "execution_count": 843,
     "metadata": {},
     "output_type": "execute_result"
    }
   ],
   "source": [
    "sent"
   ]
  },
  {
   "cell_type": "code",
   "execution_count": 844,
   "id": "351fee26",
   "metadata": {},
   "outputs": [
    {
     "data": {
      "text/html": [
       "<div>\n",
       "<style scoped>\n",
       "    .dataframe tbody tr th:only-of-type {\n",
       "        vertical-align: middle;\n",
       "    }\n",
       "\n",
       "    .dataframe tbody tr th {\n",
       "        vertical-align: top;\n",
       "    }\n",
       "\n",
       "    .dataframe thead th {\n",
       "        text-align: right;\n",
       "    }\n",
       "</style>\n",
       "<table border=\"1\" class=\"dataframe\">\n",
       "  <thead>\n",
       "    <tr style=\"text-align: right;\">\n",
       "      <th></th>\n",
       "      <th>sentence</th>\n",
       "      <th>tag</th>\n",
       "    </tr>\n",
       "  </thead>\n",
       "  <tbody>\n",
       "    <tr>\n",
       "      <th>0</th>\n",
       "      <td>Welcome to celebal tech,IVR automation demo.</td>\n",
       "      <td>1</td>\n",
       "    </tr>\n",
       "    <tr>\n",
       "      <th>1</th>\n",
       "      <td>Hello. Hi, how are you?</td>\n",
       "      <td>1</td>\n",
       "    </tr>\n",
       "    <tr>\n",
       "      <th>2</th>\n",
       "      <td>I'm fine. Thank you for calling CT,Health insu...</td>\n",
       "      <td>2</td>\n",
       "    </tr>\n",
       "    <tr>\n",
       "      <th>3</th>\n",
       "      <td>I have an health policy with you. I wanted to ...</td>\n",
       "      <td>1</td>\n",
       "    </tr>\n",
       "    <tr>\n",
       "      <th>4</th>\n",
       "      <td>Of course I can do that,Could you please confi...</td>\n",
       "      <td>1</td>\n",
       "    </tr>\n",
       "  </tbody>\n",
       "</table>\n",
       "</div>"
      ],
      "text/plain": [
       "                                            sentence  tag\n",
       "0       Welcome to celebal tech,IVR automation demo.    1\n",
       "1                            Hello. Hi, how are you?    1\n",
       "2  I'm fine. Thank you for calling CT,Health insu...    2\n",
       "3  I have an health policy with you. I wanted to ...    1\n",
       "4  Of course I can do that,Could you please confi...    1"
      ]
     },
     "execution_count": 844,
     "metadata": {},
     "output_type": "execute_result"
    }
   ],
   "source": [
    "data_all.head()"
   ]
  },
  {
   "cell_type": "code",
   "execution_count": 845,
   "id": "4129b58e",
   "metadata": {},
   "outputs": [
    {
     "data": {
      "text/plain": [
       "'1 have a doubt. Bequeath this policy cover my fellowship every bit well?'"
      ]
     },
     "execution_count": 845,
     "metadata": {},
     "output_type": "execute_result"
    }
   ],
   "source": [
    "sent[0]"
   ]
  },
  {
   "cell_type": "code",
   "execution_count": 846,
   "id": "c9763399",
   "metadata": {},
   "outputs": [],
   "source": [
    "dataneg = pd.DataFrame(data=sent,columns=['sentence'])"
   ]
  },
  {
   "cell_type": "code",
   "execution_count": 847,
   "id": "00389a64",
   "metadata": {},
   "outputs": [
    {
     "data": {
      "text/html": [
       "<div>\n",
       "<style scoped>\n",
       "    .dataframe tbody tr th:only-of-type {\n",
       "        vertical-align: middle;\n",
       "    }\n",
       "\n",
       "    .dataframe tbody tr th {\n",
       "        vertical-align: top;\n",
       "    }\n",
       "\n",
       "    .dataframe thead th {\n",
       "        text-align: right;\n",
       "    }\n",
       "</style>\n",
       "<table border=\"1\" class=\"dataframe\">\n",
       "  <thead>\n",
       "    <tr style=\"text-align: right;\">\n",
       "      <th></th>\n",
       "      <th>sentence</th>\n",
       "      <th>tag</th>\n",
       "    </tr>\n",
       "  </thead>\n",
       "  <tbody>\n",
       "    <tr>\n",
       "      <th>0</th>\n",
       "      <td>1 have a doubt. Bequeath this policy cover my ...</td>\n",
       "      <td>0</td>\n",
       "    </tr>\n",
       "    <tr>\n",
       "      <th>1</th>\n",
       "      <td>I have a question. Leave this policy hide my p...</td>\n",
       "      <td>0</td>\n",
       "    </tr>\n",
       "    <tr>\n",
       "      <th>2</th>\n",
       "      <td>I have a dubiety. Bequeath this policy cover m...</td>\n",
       "      <td>0</td>\n",
       "    </tr>\n",
       "    <tr>\n",
       "      <th>3</th>\n",
       "      <td>No, non this i.</td>\n",
       "      <td>0</td>\n",
       "    </tr>\n",
       "    <tr>\n",
       "      <th>4</th>\n",
       "      <td>No, non this ace.</td>\n",
       "      <td>0</td>\n",
       "    </tr>\n",
       "  </tbody>\n",
       "</table>\n",
       "</div>"
      ],
      "text/plain": [
       "                                            sentence  tag\n",
       "0  1 have a doubt. Bequeath this policy cover my ...    0\n",
       "1  I have a question. Leave this policy hide my p...    0\n",
       "2  I have a dubiety. Bequeath this policy cover m...    0\n",
       "3                                    No, non this i.    0\n",
       "4                                  No, non this ace.    0"
      ]
     },
     "execution_count": 847,
     "metadata": {},
     "output_type": "execute_result"
    }
   ],
   "source": [
    "dataneg['tag'] = 0\n",
    "dataneg.head()"
   ]
  },
  {
   "cell_type": "code",
   "execution_count": 848,
   "id": "33906be6",
   "metadata": {},
   "outputs": [
    {
     "data": {
      "text/plain": [
       "(807, 2)"
      ]
     },
     "execution_count": 848,
     "metadata": {},
     "output_type": "execute_result"
    }
   ],
   "source": [
    "merged = pd.concat([data_all, dataneg])\n",
    "merged.shape"
   ]
  },
  {
   "cell_type": "code",
   "execution_count": 849,
   "id": "debddf95",
   "metadata": {},
   "outputs": [
    {
     "data": {
      "text/plain": [
       "0    0.351921\n",
       "1    0.343247\n",
       "2    0.304833\n",
       "Name: tag, dtype: float64"
      ]
     },
     "execution_count": 849,
     "metadata": {},
     "output_type": "execute_result"
    }
   ],
   "source": [
    "merged['tag'].value_counts()/merged.shape[0]"
   ]
  },
  {
   "cell_type": "code",
   "execution_count": 850,
   "id": "cb8e186a",
   "metadata": {},
   "outputs": [],
   "source": [
    "merged.to_csv('merged.csv')"
   ]
  },
  {
   "cell_type": "code",
   "execution_count": 851,
   "id": "170dd2ff",
   "metadata": {},
   "outputs": [],
   "source": [
    "data = merged"
   ]
  },
  {
   "cell_type": "code",
   "execution_count": 852,
   "id": "160c5945",
   "metadata": {},
   "outputs": [
    {
     "data": {
      "text/plain": [
       "<AxesSubplot:xlabel='tag', ylabel='count'>"
      ]
     },
     "execution_count": 852,
     "metadata": {},
     "output_type": "execute_result"
    },
    {
     "data": {
      "image/png": "[encoded data removed]",
      "text/plain": [
       "<Figure size 864x576 with 1 Axes>"
      ]
     },
     "metadata": {
      "image/png": {
       "height": 487,
       "width": 732
      }
     },
     "output_type": "display_data"
    }
   ],
   "source": [
    "sns.countplot(merged.tag)"
   ]
  },
  {
   "cell_type": "code",
   "execution_count": 853,
   "id": "a06bb950",
   "metadata": {},
   "outputs": [],
   "source": [
    "df_train, df_test = train_test_split(data, test_size=0.2, random_state=RANDOM_SEED)\n",
    "df_val, df_test = train_test_split(df_test, test_size=0.5, random_state=RANDOM_SEED)"
   ]
  },
  {
   "cell_type": "code",
   "execution_count": 854,
   "id": "329950b7",
   "metadata": {},
   "outputs": [
    {
     "data": {
      "text/plain": [
       "((645, 2), (81, 2), (81, 2))"
      ]
     },
     "execution_count": 854,
     "metadata": {},
     "output_type": "execute_result"
    }
   ],
   "source": [
    "df_train.shape, df_val.shape, df_test.shape"
   ]
  },
  {
   "cell_type": "markdown",
   "id": "78e9d871",
   "metadata": {},
   "source": [
    "## `Data-Loaders`"
   ]
  },
  {
   "cell_type": "code",
   "execution_count": 855,
   "id": "0436a920",
   "metadata": {},
   "outputs": [],
   "source": [
    "def create_data_loader(df, tokenizer, max_len, batch_size):\n",
    "    ds = GPReviewDataset(\n",
    "        reviews=data.sentence.values,\n",
    "        targets=data.tag.values,\n",
    "        tokenizer=tokenizer,\n",
    "        max_len=max_len\n",
    "  )                                  # Dataset would be created which can be used to create and return dataloader.\n",
    "\n",
    "    return DataLoader(\n",
    "    ds,\n",
    "    batch_size=batch_size,\n",
    "    #num_workers=4\n",
    "  )"
   ]
  },
  {
   "cell_type": "code",
   "execution_count": 856,
   "id": "2aeaa811",
   "metadata": {},
   "outputs": [],
   "source": [
    "BATCH_SIZE = 8\n",
    "\n",
    "train_data_loader = create_data_loader(df_train, tokenizer, MAX_LEN, BATCH_SIZE)\n",
    "val_data_loader = create_data_loader(df_val, tokenizer, MAX_LEN, BATCH_SIZE)\n",
    "test_data_loader = create_data_loader(df_test, tokenizer, MAX_LEN, BATCH_SIZE)"
   ]
  },
  {
   "cell_type": "code",
   "execution_count": 857,
   "id": "e34804a1",
   "metadata": {},
   "outputs": [
    {
     "data": {
      "text/plain": [
       "dict_keys(['review_text', 'input_ids', 'attention_mask', 'targets'])"
      ]
     },
     "execution_count": 857,
     "metadata": {},
     "output_type": "execute_result"
    }
   ],
   "source": [
    "data = next(iter(train_data_loader))\n",
    "data.keys()"
   ]
  },
  {
   "cell_type": "code",
   "execution_count": 858,
   "id": "96b0c7ad",
   "metadata": {},
   "outputs": [
    {
     "name": "stdout",
     "output_type": "stream",
     "text": [
      "torch.Size([8, 150])\n",
      "torch.Size([8, 150])\n",
      "torch.Size([8])\n"
     ]
    }
   ],
   "source": [
    "print(data['input_ids'].shape)\n",
    "print(data['attention_mask'].shape)\n",
    "print(data['targets'].shape)"
   ]
  },
  {
   "cell_type": "markdown",
   "id": "fbf1cbb5",
   "metadata": {},
   "source": [
    "## `Sentiment Classification with BERT and Hugging Face`"
   ]
  },
  {
   "cell_type": "code",
   "execution_count": 859,
   "id": "728e88be",
   "metadata": {},
   "outputs": [
    {
     "name": "stderr",
     "output_type": "stream",
     "text": [
      "Some weights of the model checkpoint at bert-base-cased were not used when initializing BertModel: ['cls.predictions.transform.LayerNorm.weight', 'cls.predictions.transform.dense.bias', 'cls.predictions.decoder.weight', 'cls.seq_relationship.bias', 'cls.predictions.bias', 'cls.predictions.transform.LayerNorm.bias', 'cls.predictions.transform.dense.weight', 'cls.seq_relationship.weight']\n",
      "- This IS expected if you are initializing BertModel from the checkpoint of a model trained on another task or with another architecture (e.g. initializing a BertForSequenceClassification model from a BertForPreTraining model).\n",
      "- This IS NOT expected if you are initializing BertModel from the checkpoint of a model that you expect to be exactly identical (initializing a BertForSequenceClassification model from a BertForSequenceClassification model).\n"
     ]
    }
   ],
   "source": [
    "bert_model = BertModel.from_pretrained(PRE_TRAINED_MODEL_NAME)"
   ]
  },
  {
   "cell_type": "code",
   "execution_count": 860,
   "id": "940bc046",
   "metadata": {},
   "outputs": [
    {
     "data": {
      "text/plain": [
       "odict_keys(['last_hidden_state', 'pooler_output'])"
      ]
     },
     "execution_count": 860,
     "metadata": {},
     "output_type": "execute_result"
    }
   ],
   "source": [
    "model_test = bert_model(\n",
    "  input_ids=encoding_test['input_ids'], \n",
    "  attention_mask=encoding_test['attention_mask']\n",
    ")\n",
    "model_test.keys()"
   ]
  },
  {
   "cell_type": "code",
   "execution_count": 861,
   "id": "98419af1",
   "metadata": {},
   "outputs": [],
   "source": [
    "last_hidden_state=model_test['last_hidden_state']\n",
    "pooled_output=model_test['pooler_output']"
   ]
  },
  {
   "cell_type": "code",
   "execution_count": 862,
   "id": "03db1a3e",
   "metadata": {},
   "outputs": [
    {
     "data": {
      "text/plain": [
       "torch.Size([1, 32, 768])"
      ]
     },
     "execution_count": 862,
     "metadata": {},
     "output_type": "execute_result"
    }
   ],
   "source": [
    "last_hidden_state.shape"
   ]
  },
  {
   "cell_type": "code",
   "execution_count": 863,
   "id": "82679162",
   "metadata": {},
   "outputs": [
    {
     "data": {
      "text/plain": [
       "768"
      ]
     },
     "execution_count": 863,
     "metadata": {},
     "output_type": "execute_result"
    }
   ],
   "source": [
    "bert_model.config.hidden_size"
   ]
  },
  {
   "cell_type": "code",
   "execution_count": 864,
   "id": "d7359f71",
   "metadata": {},
   "outputs": [
    {
     "data": {
      "text/plain": [
       "torch.Size([1, 768])"
      ]
     },
     "execution_count": 864,
     "metadata": {},
     "output_type": "execute_result"
    }
   ],
   "source": [
    "pooled_output.shape"
   ]
  },
  {
   "cell_type": "markdown",
   "id": "1ca65e3d",
   "metadata": {},
   "source": [
    "# `---------------------------------------------------------------`\n",
    "# `Model Building and Training ----------------------`\n",
    "# `---------------------------------------------------------------`"
   ]
  },
  {
   "cell_type": "code",
   "execution_count": 865,
   "id": "3200b018",
   "metadata": {},
   "outputs": [],
   "source": [
    "class SentimentClassifier(nn.Module):\n",
    "\n",
    "    def __init__(self, n_classes):\n",
    "        super(SentimentClassifier, self).__init__()\n",
    "        self.bert = BertModel.from_pretrained(PRE_TRAINED_MODEL_NAME)\n",
    "        self.drop = nn.Dropout(p=0.3)                                 ## For regularization with dropout probability 0.3.\n",
    "        self.out = nn.Linear(self.bert.config.hidden_size, n_classes) ## append an Output fully connected layer representing the number of classes\n",
    "\n",
    "    def forward(self, input_ids, attention_mask):\n",
    "        returned = self.bert(\n",
    "          input_ids=input_ids,\n",
    "          attention_mask=attention_mask\n",
    "        )\n",
    "        pooled_output = returned[\"pooler_output\"]\n",
    "        output = self.drop(pooled_output)\n",
    "        return self.out(output)"
   ]
  },
  {
   "cell_type": "code",
   "execution_count": 866,
   "id": "ee2e5a2f",
   "metadata": {},
   "outputs": [
    {
     "name": "stderr",
     "output_type": "stream",
     "text": [
      "Some weights of the model checkpoint at bert-base-cased were not used when initializing BertModel: ['cls.predictions.transform.LayerNorm.weight', 'cls.predictions.transform.dense.bias', 'cls.predictions.decoder.weight', 'cls.seq_relationship.bias', 'cls.predictions.bias', 'cls.predictions.transform.LayerNorm.bias', 'cls.predictions.transform.dense.weight', 'cls.seq_relationship.weight']\n",
      "- This IS expected if you are initializing BertModel from the checkpoint of a model trained on another task or with another architecture (e.g. initializing a BertForSequenceClassification model from a BertForPreTraining model).\n",
      "- This IS NOT expected if you are initializing BertModel from the checkpoint of a model that you expect to be exactly identical (initializing a BertForSequenceClassification model from a BertForSequenceClassification model).\n"
     ]
    }
   ],
   "source": [
    "model = SentimentClassifier(3)\n",
    "model = model.to(device)"
   ]
  },
  {
   "cell_type": "code",
   "execution_count": 867,
   "id": "3f2cd703",
   "metadata": {},
   "outputs": [
    {
     "name": "stdout",
     "output_type": "stream",
     "text": [
      "torch.Size([8, 150])\n",
      "torch.Size([8, 150])\n"
     ]
    }
   ],
   "source": [
    "input_ids = data['input_ids'].to(device)\n",
    "attention_mask = data['attention_mask'].to(device)\n",
    "\n",
    "print(input_ids.shape)      # batch size x seq length\n",
    "print(attention_mask.shape) # batch size x seq length"
   ]
  },
  {
   "cell_type": "code",
   "execution_count": 868,
   "id": "5acd0f48",
   "metadata": {},
   "outputs": [
    {
     "data": {
      "text/plain": [
       "tensor([[0.2004, 0.4055, 0.3941],\n",
       "        [0.1985, 0.3327, 0.4688],\n",
       "        [0.3624, 0.2897, 0.3480],\n",
       "        [0.3439, 0.2798, 0.3764],\n",
       "        [0.2954, 0.4239, 0.2807],\n",
       "        [0.2119, 0.4038, 0.3843],\n",
       "        [0.3386, 0.2291, 0.4323],\n",
       "        [0.2181, 0.2058, 0.5761]], grad_fn=<SoftmaxBackward0>)"
      ]
     },
     "execution_count": 868,
     "metadata": {},
     "output_type": "execute_result"
    }
   ],
   "source": [
    "F.softmax(model(input_ids, attention_mask), dim=1)"
   ]
  },
  {
   "cell_type": "code",
   "execution_count": 869,
   "id": "d7fc2ec5",
   "metadata": {},
   "outputs": [],
   "source": [
    "EPOCHS = 1\n",
    "\n",
    "optimizer = AdamW(model.parameters(), lr=2e-5, correct_bias=False)\n",
    "total_steps = len(train_data_loader) * EPOCHS    # Number of batches * Epochs (Required for the scheduler.)\n",
    " \n",
    "scheduler = get_linear_schedule_with_warmup(\n",
    "  optimizer,\n",
    "  num_warmup_steps=0,     # Recommended in the BERT paper.\n",
    "  num_training_steps=total_steps  \n",
    ")\n",
    "\n",
    "loss_fn = nn.CrossEntropyLoss().to(device)"
   ]
  },
  {
   "cell_type": "code",
   "execution_count": 870,
   "id": "b3ca6ae9",
   "metadata": {},
   "outputs": [],
   "source": [
    "def train_epoch(\n",
    "  model, \n",
    "  data_loader, \n",
    "  loss_fn, \n",
    "  optimizer, \n",
    "  device, \n",
    "  scheduler, \n",
    "  n_examples\n",
    "):\n",
    "  model = model.train()    # To make sure that the droupout and normalization is enabled during the training.\n",
    "\n",
    "  losses = []\n",
    "  correct_predictions = 0\n",
    "  \n",
    "  for d in data_loader:\n",
    "    input_ids = d[\"input_ids\"].to(device)\n",
    "    attention_mask = d[\"attention_mask\"].to(device)\n",
    "    targets = d[\"targets\"].to(device)\n",
    "\n",
    "    outputs = model(\n",
    "      input_ids=input_ids,\n",
    "      attention_mask=attention_mask\n",
    "    )\n",
    "\n",
    "    max_prob, preds = torch.max(outputs, dim=1)    # Returns 2 tensors, one with max_probability and another with the respective predicted label.\n",
    "    loss = loss_fn(outputs, targets)\n",
    "\n",
    "    correct_predictions += torch.sum(preds == targets)\n",
    "    losses.append(loss.item())\n",
    "\n",
    "    loss.backward()     # Back_Propogation\n",
    "    nn.utils.clip_grad_norm_(model.parameters(), max_norm=1.0)  # Recommended by the BERT paper to clip the gradients to avoid exploding gradients.\n",
    "    optimizer.step()\n",
    "    scheduler.step()\n",
    "    optimizer.zero_grad()\n",
    "\n",
    "  return correct_predictions.double() / n_examples, np.mean(losses)     # Return the mean loss and the ratio of correct predictions."
   ]
  },
  {
   "cell_type": "code",
   "execution_count": 871,
   "id": "4e9c6a04",
   "metadata": {},
   "outputs": [],
   "source": [
    "def eval_model(model, data_loader, loss_fn, device, n_examples):\n",
    "  model = model.eval()        # To make sure that the droupout and normalization is disabled during the training.\n",
    "\n",
    "  losses = []\n",
    "  correct_predictions = 0\n",
    "\n",
    "  with torch.no_grad():        # Back propogation is not required. Torch would perform faster. \n",
    "    for d in data_loader:\n",
    "      input_ids = d[\"input_ids\"].to(device)\n",
    "      attention_mask = d[\"attention_mask\"].to(device)\n",
    "      targets = d[\"targets\"].to(device)\n",
    "\n",
    "      outputs = model(\n",
    "        input_ids=input_ids,\n",
    "        attention_mask=attention_mask\n",
    "      )\n",
    "      max_prob, preds = torch.max(outputs, dim=1)\n",
    "\n",
    "      loss = loss_fn(outputs, targets)\n",
    "\n",
    "      correct_predictions += torch.sum(preds == targets)\n",
    "      losses.append(loss.item())\n",
    "\n",
    "  return correct_predictions.double() / n_examples, np.mean(losses)"
   ]
  },
  {
   "cell_type": "code",
   "execution_count": 872,
   "id": "24ccbde5",
   "metadata": {},
   "outputs": [
    {
     "name": "stdout",
     "output_type": "stream",
     "text": [
      "Epoch 1/1\n",
      "----------\n",
      "Train loss 0.7939282774482623 accuracy 0.8248062015503876\n",
      "Val   loss 1.132065880084687 accuracy 5.382716049382716\n",
      "\n",
      "CPU times: total: 1h 18min 51s\n",
      "Wall time: 59min 42s\n"
     ]
    }
   ],
   "source": [
    "%%time\n",
    "\n",
    "history = defaultdict(list)          # Similar to Keras library saves history\n",
    "best_accuracy = 0                    \n",
    "\n",
    "for epoch in range(EPOCHS):\n",
    "\n",
    "  print(f'Epoch {epoch + 1}/{EPOCHS}')\n",
    "  print('-' * 10)\n",
    "\n",
    "  train_acc, train_loss = train_epoch(\n",
    "    model,\n",
    "    train_data_loader,    \n",
    "    loss_fn, \n",
    "    optimizer, \n",
    "    device, \n",
    "    scheduler, \n",
    "    len(df_train)\n",
    "  )\n",
    "\n",
    "  print(f'Train loss {train_loss} accuracy {train_acc}')\n",
    "\n",
    "  val_acc, val_loss = eval_model(\n",
    "    model,\n",
    "    val_data_loader,\n",
    "    loss_fn, \n",
    "    device, \n",
    "    len(df_val)\n",
    "  )\n",
    "\n",
    "  print(f'Val   loss {val_loss} accuracy {val_acc}')\n",
    "  print()\n",
    "\n",
    "  history['train_acc'].append(train_acc)\n",
    "  history['train_loss'].append(train_loss)\n",
    "  history['val_acc'].append(val_acc)\n",
    "  history['val_loss'].append(val_loss)\n",
    "\n",
    "  if val_acc > best_accuracy:\n",
    "    torch.save(model.state_dict(), 'best_model_state.bin')\n",
    "    best_accuracy = val_acc"
   ]
  },
  {
   "cell_type": "markdown",
   "id": "af110154",
   "metadata": {},
   "source": [
    "# `Prediction ----------------------------------------`"
   ]
  },
  {
   "cell_type": "code",
   "execution_count": 907,
   "id": "6af25da0",
   "metadata": {},
   "outputs": [],
   "source": [
    "def predict(text):\n",
    "    review_text = text\n",
    "    encoded_review = tokenizer.encode_plus(\n",
    "      review_text,\n",
    "      max_length=MAX_LEN,\n",
    "      add_special_tokens=True,\n",
    "      return_token_type_ids=False,\n",
    "      pad_to_max_length=True,\n",
    "      return_attention_mask=True,\n",
    "      return_tensors='pt',\n",
    "    )\n",
    "    class_names = ['negative', 'neutral', 'positive']\n",
    "    input_ids = encoded_review['input_ids'].to(device)\n",
    "    attention_mask = encoded_review['attention_mask'].to(device)\n",
    "\n",
    "    output = model(input_ids, attention_mask)\n",
    "    _, prediction = torch.max(output, dim=1)\n",
    "    print(prediction)\n",
    "\n",
    "    print(f'Review text: {review_text}')\n",
    "    print(f'Sentiment  : {class_names[prediction]}')"
   ]
  },
  {
   "cell_type": "code",
   "execution_count": 908,
   "id": "f1525e6a",
   "metadata": {},
   "outputs": [
    {
     "name": "stdout",
     "output_type": "stream",
     "text": [
      "tensor([2])\n",
      "Review text: Hello. Hi, how are you?\n",
      "Sentiment  : positive\n"
     ]
    }
   ],
   "source": [
    "predict('Hello. Hi, how are you?')"
   ]
  },
  {
   "cell_type": "code",
   "execution_count": 909,
   "id": "d838503d",
   "metadata": {},
   "outputs": [
    {
     "name": "stdout",
     "output_type": "stream",
     "text": [
      "tensor([0])\n",
      "Review text: That's no issue\n",
      "Sentiment  : negative\n"
     ]
    }
   ],
   "source": [
    "predict('That\\'s no issue')"
   ]
  },
  {
   "cell_type": "markdown",
   "id": "edfeae72",
   "metadata": {},
   "source": [
    "## `Negative`"
   ]
  },
  {
   "cell_type": "code",
   "execution_count": 910,
   "id": "1e2aff89",
   "metadata": {},
   "outputs": [
    {
     "data": {
      "text/html": [
       "<div>\n",
       "<style scoped>\n",
       "    .dataframe tbody tr th:only-of-type {\n",
       "        vertical-align: middle;\n",
       "    }\n",
       "\n",
       "    .dataframe tbody tr th {\n",
       "        vertical-align: top;\n",
       "    }\n",
       "\n",
       "    .dataframe thead th {\n",
       "        text-align: right;\n",
       "    }\n",
       "</style>\n",
       "<table border=\"1\" class=\"dataframe\">\n",
       "  <thead>\n",
       "    <tr style=\"text-align: right;\">\n",
       "      <th></th>\n",
       "      <th>sentence</th>\n",
       "      <th>tag</th>\n",
       "    </tr>\n",
       "  </thead>\n",
       "  <tbody>\n",
       "    <tr>\n",
       "      <th>13</th>\n",
       "      <td>I have a doubt. Will this policy cover my fami...</td>\n",
       "      <td>0</td>\n",
       "    </tr>\n",
       "    <tr>\n",
       "      <th>23</th>\n",
       "      <td>No, not this one.</td>\n",
       "      <td>0</td>\n",
       "    </tr>\n",
       "    <tr>\n",
       "      <th>27</th>\n",
       "      <td>I didn't get you. Can you repeat?</td>\n",
       "      <td>0</td>\n",
       "    </tr>\n",
       "    <tr>\n",
       "      <th>29</th>\n",
       "      <td>Hold on for a second.</td>\n",
       "      <td>0</td>\n",
       "    </tr>\n",
       "    <tr>\n",
       "      <th>41</th>\n",
       "      <td>What will happen,If I preclose this EMI.</td>\n",
       "      <td>0</td>\n",
       "    </tr>\n",
       "  </tbody>\n",
       "</table>\n",
       "</div>"
      ],
      "text/plain": [
       "                                             sentence  tag\n",
       "13  I have a doubt. Will this policy cover my fami...    0\n",
       "23                                  No, not this one.    0\n",
       "27                  I didn't get you. Can you repeat?    0\n",
       "29                              Hold on for a second.    0\n",
       "41           What will happen,If I preclose this EMI.    0"
      ]
     },
     "execution_count": 910,
     "metadata": {},
     "output_type": "execute_result"
    }
   ],
   "source": [
    "merged[merged.tag == 0][:5]"
   ]
  },
  {
   "cell_type": "code",
   "execution_count": 911,
   "id": "543f57e6",
   "metadata": {},
   "outputs": [
    {
     "name": "stdout",
     "output_type": "stream",
     "text": [
      "tensor([0])\n",
      "Review text: No, not this one\n",
      "Sentiment  : negative\n"
     ]
    }
   ],
   "source": [
    "predict('No, not this one')"
   ]
  },
  {
   "cell_type": "code",
   "execution_count": 912,
   "id": "df03eca5",
   "metadata": {},
   "outputs": [
    {
     "name": "stdout",
     "output_type": "stream",
     "text": [
      "tensor([0])\n",
      "Review text: I didn't get you. Can you repeat?\n",
      "Sentiment  : negative\n"
     ]
    }
   ],
   "source": [
    "predict('I didn\\'t get you. Can you repeat?')"
   ]
  },
  {
   "cell_type": "code",
   "execution_count": 913,
   "id": "e546c47b",
   "metadata": {},
   "outputs": [
    {
     "name": "stdout",
     "output_type": "stream",
     "text": [
      "tensor([0])\n",
      "Review text: Hold on for a second.\n",
      "Sentiment  : negative\n"
     ]
    }
   ],
   "source": [
    "predict('Hold on for a second.')"
   ]
  },
  {
   "cell_type": "markdown",
   "id": "b9a596bb",
   "metadata": {},
   "source": [
    "## `Positive`"
   ]
  },
  {
   "cell_type": "code",
   "execution_count": 914,
   "id": "b149605a",
   "metadata": {},
   "outputs": [
    {
     "data": {
      "text/html": [
       "<div>\n",
       "<style scoped>\n",
       "    .dataframe tbody tr th:only-of-type {\n",
       "        vertical-align: middle;\n",
       "    }\n",
       "\n",
       "    .dataframe tbody tr th {\n",
       "        vertical-align: top;\n",
       "    }\n",
       "\n",
       "    .dataframe thead th {\n",
       "        text-align: right;\n",
       "    }\n",
       "</style>\n",
       "<table border=\"1\" class=\"dataframe\">\n",
       "  <thead>\n",
       "    <tr style=\"text-align: right;\">\n",
       "      <th></th>\n",
       "      <th>sentence</th>\n",
       "      <th>tag</th>\n",
       "    </tr>\n",
       "  </thead>\n",
       "  <tbody>\n",
       "    <tr>\n",
       "      <th>529</th>\n",
       "      <td>Ohk OK proceed.</td>\n",
       "      <td>2</td>\n",
       "    </tr>\n",
       "    <tr>\n",
       "      <th>68</th>\n",
       "      <td>I have locked,You were didn't our customer rep...</td>\n",
       "      <td>2</td>\n",
       "    </tr>\n",
       "    <tr>\n",
       "      <th>423</th>\n",
       "      <td>Hi,I am Prashanth calling you from Celebal Tec...</td>\n",
       "      <td>2</td>\n",
       "    </tr>\n",
       "    <tr>\n",
       "      <th>52</th>\n",
       "      <td>Thanks for confirming your credit limit,Can yo...</td>\n",
       "      <td>2</td>\n",
       "    </tr>\n",
       "    <tr>\n",
       "      <th>419</th>\n",
       "      <td>Yes.</td>\n",
       "      <td>2</td>\n",
       "    </tr>\n",
       "  </tbody>\n",
       "</table>\n",
       "</div>"
      ],
      "text/plain": [
       "                                              sentence  tag\n",
       "529                                    Ohk OK proceed.    2\n",
       "68   I have locked,You were didn't our customer rep...    2\n",
       "423  Hi,I am Prashanth calling you from Celebal Tec...    2\n",
       "52   Thanks for confirming your credit limit,Can yo...    2\n",
       "419                                               Yes.    2"
      ]
     },
     "execution_count": 914,
     "metadata": {},
     "output_type": "execute_result"
    }
   ],
   "source": [
    "merged[merged.tag == 2].sample(5)"
   ]
  },
  {
   "cell_type": "code",
   "execution_count": 915,
   "id": "7e6d6e31",
   "metadata": {},
   "outputs": [
    {
     "name": "stdout",
     "output_type": "stream",
     "text": [
      "tensor([2])\n",
      "Review text: Thank you\n",
      "Sentiment  : positive\n"
     ]
    }
   ],
   "source": [
    "predict('Thank you')"
   ]
  },
  {
   "cell_type": "code",
   "execution_count": 916,
   "id": "5e0dc60f",
   "metadata": {},
   "outputs": [
    {
     "name": "stdout",
     "output_type": "stream",
     "text": [
      "tensor([2])\n",
      "Review text: It's OK,'s fine\n",
      "Sentiment  : positive\n"
     ]
    }
   ],
   "source": [
    "predict('It\\'s OK,\\'s fine')"
   ]
  },
  {
   "cell_type": "code",
   "execution_count": 917,
   "id": "0e602ede",
   "metadata": {},
   "outputs": [
    {
     "name": "stdout",
     "output_type": "stream",
     "text": [
      "tensor([2])\n",
      "Review text: Thanks for confirming your name Manoj\n",
      "Sentiment  : positive\n"
     ]
    }
   ],
   "source": [
    "predict('Thanks for confirming your name Manoj')"
   ]
  },
  {
   "cell_type": "markdown",
   "id": "b69a62ea",
   "metadata": {},
   "source": [
    "## `Neutral`"
   ]
  },
  {
   "cell_type": "code",
   "execution_count": 918,
   "id": "af0efe9e",
   "metadata": {},
   "outputs": [
    {
     "data": {
      "text/html": [
       "<div>\n",
       "<style scoped>\n",
       "    .dataframe tbody tr th:only-of-type {\n",
       "        vertical-align: middle;\n",
       "    }\n",
       "\n",
       "    .dataframe tbody tr th {\n",
       "        vertical-align: top;\n",
       "    }\n",
       "\n",
       "    .dataframe thead th {\n",
       "        text-align: right;\n",
       "    }\n",
       "</style>\n",
       "<table border=\"1\" class=\"dataframe\">\n",
       "  <thead>\n",
       "    <tr style=\"text-align: right;\">\n",
       "      <th></th>\n",
       "      <th>sentence</th>\n",
       "      <th>tag</th>\n",
       "    </tr>\n",
       "  </thead>\n",
       "  <tbody>\n",
       "    <tr>\n",
       "      <th>520</th>\n",
       "      <td>Sure, according to the tenure period of 10 mon...</td>\n",
       "      <td>1</td>\n",
       "    </tr>\n",
       "    <tr>\n",
       "      <th>455</th>\n",
       "      <td>Yes, according to the 12 month tenure, the mon...</td>\n",
       "      <td>1</td>\n",
       "    </tr>\n",
       "    <tr>\n",
       "      <th>225</th>\n",
       "      <td>Sure. OK.</td>\n",
       "      <td>1</td>\n",
       "    </tr>\n",
       "    <tr>\n",
       "      <th>0</th>\n",
       "      <td>Welcome to celebal tech,IVR automation demo.</td>\n",
       "      <td>1</td>\n",
       "    </tr>\n",
       "    <tr>\n",
       "      <th>508</th>\n",
       "      <td>OK, I can also see a transaction of 32,000 don...</td>\n",
       "      <td>1</td>\n",
       "    </tr>\n",
       "  </tbody>\n",
       "</table>\n",
       "</div>"
      ],
      "text/plain": [
       "                                              sentence  tag\n",
       "520  Sure, according to the tenure period of 10 mon...    1\n",
       "455  Yes, according to the 12 month tenure, the mon...    1\n",
       "225                                          Sure. OK.    1\n",
       "0         Welcome to celebal tech,IVR automation demo.    1\n",
       "508  OK, I can also see a transaction of 32,000 don...    1"
      ]
     },
     "execution_count": 918,
     "metadata": {},
     "output_type": "execute_result"
    }
   ],
   "source": [
    "merged[merged.tag == 1].sample(5)"
   ]
  },
  {
   "cell_type": "code",
   "execution_count": 919,
   "id": "f147bfa4",
   "metadata": {},
   "outputs": [
    {
     "name": "stdout",
     "output_type": "stream",
     "text": [
      "tensor([0])\n",
      "Review text: I want to know more about my Insurance policy.\n",
      "Sentiment  : negative\n"
     ]
    }
   ],
   "source": [
    "predict('I want to know more about my Insurance policy.')"
   ]
  },
  {
   "cell_type": "code",
   "execution_count": 920,
   "id": "4c477855",
   "metadata": {},
   "outputs": [
    {
     "name": "stdout",
     "output_type": "stream",
     "text": [
      "tensor([0])\n",
      "Review text: I want to go for a two-year plan\n",
      "Sentiment  : negative\n"
     ]
    }
   ],
   "source": [
    "predict('I want to go for a two-year plan')"
   ]
  },
  {
   "cell_type": "code",
   "execution_count": 921,
   "id": "17f01c48",
   "metadata": {},
   "outputs": [
    {
     "name": "stdout",
     "output_type": "stream",
     "text": [
      "tensor([0])\n",
      "Review text: So should I proceed?\n",
      "Sentiment  : negative\n"
     ]
    }
   ],
   "source": [
    "predict('So should I proceed?')"
   ]
  },
  {
   "cell_type": "code",
   "execution_count": 922,
   "id": "a7a83b67",
   "metadata": {},
   "outputs": [
    {
     "name": "stdout",
     "output_type": "stream",
     "text": [
      "tensor([0])\n",
      "Review text: How much money will you need for this loan?\n",
      "Sentiment  : negative\n"
     ]
    }
   ],
   "source": [
    "predict('How much money will you need for this loan?')"
   ]
  },
  {
   "cell_type": "code",
   "execution_count": 923,
   "id": "3872da61",
   "metadata": {},
   "outputs": [
    {
     "name": "stdout",
     "output_type": "stream",
     "text": [
      "tensor([0])\n",
      "Review text: What is,Tenure period.\n",
      "Sentiment  : negative\n"
     ]
    }
   ],
   "source": [
    "predict('What is,Tenure period.')"
   ]
  },
  {
   "cell_type": "markdown",
   "id": "7c436cae",
   "metadata": {},
   "source": [
    "# NOTE: `Needs more epoch training, atleast 10`"
   ]
  },
  {
   "cell_type": "code",
   "execution_count": null,
   "id": "a7363002",
   "metadata": {},
   "outputs": [],
   "source": []
  }
 ],
 "metadata": {
  "kernelspec": {
   "display_name": "Python 3 (ipykernel)",
   "language": "python",
   "name": "python3"
  },
  "language_info": {
   "codemirror_mode": {
    "name": "ipython",
    "version": 3
   },
   "file_extension": ".py",
   "mimetype": "text/x-python",
   "name": "python",
   "nbconvert_exporter": "python",
   "pygments_lexer": "ipython3",
   "version": "3.9.12"
  }
 },
 "nbformat": 4,
 "nbformat_minor": 5
}

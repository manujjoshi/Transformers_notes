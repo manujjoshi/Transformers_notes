{
 "cells": [
  {
   "cell_type": "markdown",
   "id": "40a02d02",
   "metadata": {},
   "source": [
    "### FOLLOWED: [Blog link](https://analyticsindiamag.com/guide-to-sentiment-analysis-using-bert/)\n",
    "- [Colab Repo](https://colab.research.google.com/drive/1atPVaDV02AIhr26nbNKVcX-9sLB5mOPu#scrollTo=xm8xlPqLmIYG)\n",
    "## `Joined all data ---------------------------------------`"
   ]
  },
  {
   "cell_type": "code",
   "execution_count": 1,
   "id": "b1b7030c",
   "metadata": {},
   "outputs": [],
   "source": [
    "import pandas as pd"
   ]
  },
  {
   "cell_type": "markdown",
   "id": "f815607a",
   "metadata": {},
   "source": [
    "#### sample csv"
   ]
  },
  {
   "cell_type": "code",
   "execution_count": 2,
   "id": "a2808471",
   "metadata": {},
   "outputs": [
    {
     "data": {
      "text/plain": [
       "(18, 2)"
      ]
     },
     "execution_count": 2,
     "metadata": {},
     "output_type": "execute_result"
    }
   ],
   "source": [
    "data = pd.read_csv(r'D:\\Celebel_Tech\\files\\1.csv').iloc[:,1:]\n",
    "data.shape"
   ]
  },
  {
   "cell_type": "code",
   "execution_count": 3,
   "id": "4e0e64e9",
   "metadata": {},
   "outputs": [
    {
     "data": {
      "text/plain": [
       "(594, 4)"
      ]
     },
     "execution_count": 3,
     "metadata": {},
     "output_type": "execute_result"
    }
   ],
   "source": [
    "import pandas as pd\n",
    "import glob\n",
    "import os\n",
    "  \n",
    "# merging the files\n",
    "joined_files = os.path.join(r\"D:\\Celebel_Tech\\files\\\\\", \"*.csv\")\n",
    "  \n",
    "# A list of all joined files is returned\n",
    "joined_list = glob.glob(joined_files)\n",
    "  \n",
    "# Finally, the files are joined\n",
    "data_all = pd.concat(map(pd.read_csv, joined_list), ignore_index=True)\n",
    "data_all.shape"
   ]
  },
  {
   "cell_type": "code",
   "execution_count": 4,
   "id": "4ebe78e9",
   "metadata": {},
   "outputs": [],
   "source": [
    "data_all.drop(['Tag','Unnamed: 0'],axis=1,inplace=True)"
   ]
  },
  {
   "cell_type": "code",
   "execution_count": 5,
   "id": "b85fc370",
   "metadata": {},
   "outputs": [
    {
     "data": {
      "text/html": [
       "<div>\n",
       "<style scoped>\n",
       "    .dataframe tbody tr th:only-of-type {\n",
       "        vertical-align: middle;\n",
       "    }\n",
       "\n",
       "    .dataframe tbody tr th {\n",
       "        vertical-align: top;\n",
       "    }\n",
       "\n",
       "    .dataframe thead th {\n",
       "        text-align: right;\n",
       "    }\n",
       "</style>\n",
       "<table border=\"1\" class=\"dataframe\">\n",
       "  <thead>\n",
       "    <tr style=\"text-align: right;\">\n",
       "      <th></th>\n",
       "      <th>sentence</th>\n",
       "      <th>tag</th>\n",
       "    </tr>\n",
       "  </thead>\n",
       "  <tbody>\n",
       "    <tr>\n",
       "      <th>0</th>\n",
       "      <td>Welcome to celebal tech,IVR automation demo.</td>\n",
       "      <td>Neutral</td>\n",
       "    </tr>\n",
       "    <tr>\n",
       "      <th>1</th>\n",
       "      <td>Hello. Hi, how are you?</td>\n",
       "      <td>Neutral</td>\n",
       "    </tr>\n",
       "    <tr>\n",
       "      <th>2</th>\n",
       "      <td>I'm fine. Thank you for calling CT,Health insu...</td>\n",
       "      <td>Positive</td>\n",
       "    </tr>\n",
       "    <tr>\n",
       "      <th>3</th>\n",
       "      <td>I have an health policy with you. I wanted to ...</td>\n",
       "      <td>Neutral</td>\n",
       "    </tr>\n",
       "    <tr>\n",
       "      <th>4</th>\n",
       "      <td>Of course I can do that,Could you please confi...</td>\n",
       "      <td>Neutral</td>\n",
       "    </tr>\n",
       "  </tbody>\n",
       "</table>\n",
       "</div>"
      ],
      "text/plain": [
       "                                            sentence       tag\n",
       "0       Welcome to celebal tech,IVR automation demo.   Neutral\n",
       "1                            Hello. Hi, how are you?   Neutral\n",
       "2  I'm fine. Thank you for calling CT,Health insu...  Positive\n",
       "3  I have an health policy with you. I wanted to ...   Neutral\n",
       "4  Of course I can do that,Could you please confi...   Neutral"
      ]
     },
     "execution_count": 5,
     "metadata": {},
     "output_type": "execute_result"
    }
   ],
   "source": [
    "data_all.head()"
   ]
  },
  {
   "cell_type": "code",
   "execution_count": 6,
   "id": "3e4f7edc",
   "metadata": {},
   "outputs": [
    {
     "data": {
      "text/html": [
       "<div>\n",
       "<style scoped>\n",
       "    .dataframe tbody tr th:only-of-type {\n",
       "        vertical-align: middle;\n",
       "    }\n",
       "\n",
       "    .dataframe tbody tr th {\n",
       "        vertical-align: top;\n",
       "    }\n",
       "\n",
       "    .dataframe thead th {\n",
       "        text-align: right;\n",
       "    }\n",
       "</style>\n",
       "<table border=\"1\" class=\"dataframe\">\n",
       "  <thead>\n",
       "    <tr style=\"text-align: right;\">\n",
       "      <th></th>\n",
       "      <th>sentence</th>\n",
       "      <th>tag</th>\n",
       "    </tr>\n",
       "  </thead>\n",
       "  <tbody>\n",
       "    <tr>\n",
       "      <th>589</th>\n",
       "      <td>That's no issue.</td>\n",
       "      <td>Positive</td>\n",
       "    </tr>\n",
       "    <tr>\n",
       "      <th>590</th>\n",
       "      <td>You have unlocked a special credit card upgrad...</td>\n",
       "      <td>Positive</td>\n",
       "    </tr>\n",
       "    <tr>\n",
       "      <th>591</th>\n",
       "      <td>Yes, I want the credit limit,Upgraded.</td>\n",
       "      <td>Positive</td>\n",
       "    </tr>\n",
       "    <tr>\n",
       "      <th>592</th>\n",
       "      <td>Congratulations, your credit limit is upgraded...</td>\n",
       "      <td>Positive</td>\n",
       "    </tr>\n",
       "    <tr>\n",
       "      <th>593</th>\n",
       "      <td>Thank you.</td>\n",
       "      <td>Positive</td>\n",
       "    </tr>\n",
       "  </tbody>\n",
       "</table>\n",
       "</div>"
      ],
      "text/plain": [
       "                                              sentence       tag\n",
       "589                                   That's no issue.  Positive\n",
       "590  You have unlocked a special credit card upgrad...  Positive\n",
       "591             Yes, I want the credit limit,Upgraded.  Positive\n",
       "592  Congratulations, your credit limit is upgraded...  Positive\n",
       "593                                         Thank you.  Positive"
      ]
     },
     "execution_count": 6,
     "metadata": {},
     "output_type": "execute_result"
    }
   ],
   "source": [
    "data_all.tail()"
   ]
  },
  {
   "cell_type": "code",
   "execution_count": 7,
   "id": "fbe21157",
   "metadata": {},
   "outputs": [
    {
     "data": {
      "text/plain": [
       "Neutral     263\n",
       "Positive    245\n",
       "Negative     55\n",
       "Neutal       14\n",
       "positive      1\n",
       "Name: tag, dtype: int64"
      ]
     },
     "execution_count": 7,
     "metadata": {},
     "output_type": "execute_result"
    }
   ],
   "source": [
    "data_all.tag.value_counts()"
   ]
  },
  {
   "cell_type": "markdown",
   "id": "50796f8d",
   "metadata": {},
   "source": [
    "## `Cleaning -----------------------------------------`"
   ]
  },
  {
   "cell_type": "code",
   "execution_count": 8,
   "id": "62690e81",
   "metadata": {},
   "outputs": [],
   "source": [
    "data_all = data_all.replace('positive','Positive')"
   ]
  },
  {
   "cell_type": "code",
   "execution_count": 9,
   "id": "7c1d304b",
   "metadata": {},
   "outputs": [],
   "source": [
    "data_all = data_all.replace('Neutal','Neutral')"
   ]
  },
  {
   "cell_type": "code",
   "execution_count": 10,
   "id": "2104d3ce",
   "metadata": {},
   "outputs": [
    {
     "data": {
      "text/plain": [
       "Neutral     277\n",
       "Positive    246\n",
       "Negative     55\n",
       "Name: tag, dtype: int64"
      ]
     },
     "execution_count": 10,
     "metadata": {},
     "output_type": "execute_result"
    }
   ],
   "source": [
    "data_all.tag.value_counts()"
   ]
  },
  {
   "cell_type": "code",
   "execution_count": 11,
   "id": "51aa520c",
   "metadata": {},
   "outputs": [],
   "source": [
    "data_all.to_csv('complete.csv')"
   ]
  },
  {
   "cell_type": "markdown",
   "id": "652ab4cc",
   "metadata": {},
   "source": [
    "# `Distribution`"
   ]
  },
  {
   "cell_type": "code",
   "execution_count": 12,
   "id": "67a7a436",
   "metadata": {},
   "outputs": [
    {
     "data": {
      "text/plain": [
       "<AxesSubplot:xlabel='tag', ylabel='count'>"
      ]
     },
     "execution_count": 12,
     "metadata": {},
     "output_type": "execute_result"
    },
    {
     "data": {
      "image/png": "[encoded data removed]",
      "text/plain": [
       "<Figure size 432x288 with 1 Axes>"
      ]
     },
     "metadata": {
      "needs_background": "light"
     },
     "output_type": "display_data"
    }
   ],
   "source": [
    "import seaborn as sns\n",
    "import warnings\n",
    "warnings.filterwarnings('ignore')\n",
    "sns.countplot(data_all.tag)"
   ]
  },
  {
   "cell_type": "markdown",
   "id": "90b44cb3",
   "metadata": {},
   "source": [
    "### `In Percentages`"
   ]
  },
  {
   "cell_type": "code",
   "execution_count": 13,
   "id": "acdeb2df",
   "metadata": {},
   "outputs": [
    {
     "data": {
      "text/plain": [
       "198.0"
      ]
     },
     "execution_count": 13,
     "metadata": {},
     "output_type": "execute_result"
    }
   ],
   "source": [
    "data_all.shape[0]/3"
   ]
  },
  {
   "cell_type": "code",
   "execution_count": 14,
   "id": "3def6134",
   "metadata": {},
   "outputs": [
    {
     "data": {
      "text/plain": [
       "Neutral     277\n",
       "Positive    246\n",
       "Negative     55\n",
       "Name: tag, dtype: int64"
      ]
     },
     "execution_count": 14,
     "metadata": {},
     "output_type": "execute_result"
    }
   ],
   "source": [
    "data_all['tag'].value_counts()"
   ]
  },
  {
   "cell_type": "code",
   "execution_count": 15,
   "id": "c934eb0c",
   "metadata": {},
   "outputs": [
    {
     "data": {
      "text/plain": [
       "Neutral     0.466330\n",
       "Positive    0.414141\n",
       "Negative    0.092593\n",
       "Name: tag, dtype: float64"
      ]
     },
     "execution_count": 15,
     "metadata": {},
     "output_type": "execute_result"
    }
   ],
   "source": [
    "data_all['tag'].value_counts()/data_all.shape[0]"
   ]
  },
  {
   "cell_type": "markdown",
   "id": "0cee62c9",
   "metadata": {},
   "source": [
    "## `Sample modelling ------------------------------------------`"
   ]
  },
  {
   "cell_type": "code",
   "execution_count": 16,
   "id": "5434cc5b",
   "metadata": {},
   "outputs": [
    {
     "data": {
      "text/plain": [
       "device(type='cpu')"
      ]
     },
     "execution_count": 16,
     "metadata": {},
     "output_type": "execute_result"
    }
   ],
   "source": [
    "import transformers\n",
    "from transformers import BertModel, BertTokenizer, AdamW, get_linear_schedule_with_warmup\n",
    "import torch\n",
    "import gc\n",
    "gc.collect()\n",
    "torch.cuda.empty_cache()\n",
    "import numpy as np\n",
    "from pylab import rcParams\n",
    "import matplotlib.pyplot as plt\n",
    "from matplotlib import rc\n",
    "from sklearn.model_selection import train_test_split\n",
    "from sklearn.metrics import confusion_matrix, classification_report\n",
    "from collections import defaultdict\n",
    "from textwrap import wrap\n",
    "from torch import nn, optim\n",
    "from torch.utils.data import Dataset, DataLoader\n",
    "import torch.nn.functional as F\n",
    "%matplotlib inline\n",
    "%config InlineBackend.figure_format='retina'\n",
    "sns.set(style='whitegrid', palette='muted', font_scale=1.2)\n",
    "HAPPY_COLORS_PALETTE = [\"#01BEFE\", \"#FFDD00\", \"#FF7D00\", \"#FF006D\", \"#ADFF02\", \"#8F00FF\"]\n",
    "sns.set_palette(sns.color_palette(HAPPY_COLORS_PALETTE))\n",
    "rcParams['figure.figsize'] = 12, 8\n",
    "RANDOM_SEED = 42\n",
    "np.random.seed(RANDOM_SEED)\n",
    "torch.manual_seed(RANDOM_SEED)\n",
    "device = torch.device(\"cuda:0\" if torch.cuda.is_available() else \"cpu\")\n",
    "device "
   ]
  },
  {
   "cell_type": "code",
   "execution_count": 17,
   "id": "4020103c",
   "metadata": {},
   "outputs": [],
   "source": [
    "PRE_TRAINED_MODEL_NAME = 'bert-base-cased'\n",
    "tokenizer = BertTokenizer.from_pretrained(PRE_TRAINED_MODEL_NAME)"
   ]
  },
  {
   "cell_type": "markdown",
   "id": "a7988a0d",
   "metadata": {},
   "source": [
    "### sample trial"
   ]
  },
  {
   "cell_type": "code",
   "execution_count": 18,
   "id": "c3c57628",
   "metadata": {},
   "outputs": [],
   "source": [
    "sample_txt = 'Best place that I have visited? Iceland was the most beautiful and I consider myself lucky to have visited Iceland at such an early age.'"
   ]
  },
  {
   "cell_type": "code",
   "execution_count": 19,
   "id": "2133cef7",
   "metadata": {},
   "outputs": [],
   "source": [
    "tokens = tokenizer.tokenize(sample_txt)"
   ]
  },
  {
   "cell_type": "code",
   "execution_count": 20,
   "id": "ac749648",
   "metadata": {},
   "outputs": [
    {
     "name": "stdout",
     "output_type": "stream",
     "text": [
      "['Best', 'place', 'that', 'I', 'have', 'visited', '?', 'Iceland', 'was', 'the', 'most', 'beautiful', 'and', 'I', 'consider', 'myself', 'lucky', 'to', 'have', 'visited', 'Iceland', 'at', 'such', 'an', 'early', 'age', '.']\n"
     ]
    }
   ],
   "source": [
    "print(tokens)"
   ]
  },
  {
   "cell_type": "code",
   "execution_count": 21,
   "id": "08b217fc",
   "metadata": {},
   "outputs": [
    {
     "name": "stdout",
     "output_type": "stream",
     "text": [
      "  Sentence: Best place that I have visited? Iceland was the most beautiful and I consider myself lucky to have visited Iceland at such an early age.\n",
      "\n",
      "  Tokens: ['Best', 'place', 'that', 'I', 'have', 'visited', '?', 'Iceland', 'was', 'the', 'most', 'beautiful', 'and', 'I', 'consider', 'myself', 'lucky', 'to', 'have', 'visited', 'Iceland', 'at', 'such', 'an', 'early', 'age', '.']\n",
      "\n",
      "  Token IDs: [1798, 1282, 1115, 146, 1138, 3891, 136, 10271, 1108, 1103, 1211, 2712, 1105, 146, 4615, 1991, 6918, 1106, 1138, 3891, 10271, 1120, 1216, 1126, 1346, 1425, 119]\n"
     ]
    }
   ],
   "source": [
    "token_ids = tokenizer.convert_tokens_to_ids(tokens)\n",
    "print(f'  Sentence: {sample_txt}')\n",
    "print(f'\\n  Tokens: {tokens}')\n",
    "print(f'\\n  Token IDs: {token_ids}')"
   ]
  },
  {
   "cell_type": "markdown",
   "id": "bceb19c3",
   "metadata": {},
   "source": [
    "## `Tokenization`\n",
    "- Here we will initialise the special tokens required at the start and end of each sequence. We also need to add padding to make sure each sequence has the same length. By plotting a plot, we can check how are the data points in our dataset, when converted to tokens, show their length. "
   ]
  },
  {
   "cell_type": "code",
   "execution_count": 22,
   "id": "ae359aa6",
   "metadata": {},
   "outputs": [
    {
     "name": "stdout",
     "output_type": "stream",
     "text": [
      "[SEP] 102\n",
      "[CLS] 101\n",
      "[PAD] 0\n",
      "[UNK] 100\n"
     ]
    }
   ],
   "source": [
    "print(tokenizer.sep_token, tokenizer.sep_token_id)\n",
    "print(tokenizer.cls_token, tokenizer.cls_token_id)\n",
    "print(tokenizer.pad_token, tokenizer.pad_token_id)\n",
    "print(tokenizer.unk_token, tokenizer.unk_token_id)"
   ]
  },
  {
   "cell_type": "code",
   "execution_count": 23,
   "id": "8b774dfb",
   "metadata": {},
   "outputs": [
    {
     "name": "stderr",
     "output_type": "stream",
     "text": [
      "Truncation was not explicitly activated but `max_length` is provided a specific value, please use `truncation=True` to explicitly truncate examples to max length. Defaulting to 'longest_first' truncation strategy. If you encode pairs of sequences (GLUE-style) with the tokenizer you can select this strategy more precisely by providing a specific strategy to `truncation`.\n"
     ]
    }
   ],
   "source": [
    "encoding_test = tokenizer.encode_plus(\n",
    "  sample_txt,\n",
    "  max_length=32,           # sequence length\n",
    "  add_special_tokens=True, # Add '[CLS]' and '[SEP]'\n",
    "  return_token_type_ids=False,\n",
    "  pad_to_max_length=True,\n",
    "  return_attention_mask=True,\n",
    "  return_tensors='pt',  # Return PyTorch tensors(use tf for tensorflow and keras)\n",
    ")"
   ]
  },
  {
   "cell_type": "code",
   "execution_count": 24,
   "id": "923b6152",
   "metadata": {},
   "outputs": [
    {
     "data": {
      "text/plain": [
       "{'input_ids': tensor([[  101,  1798,  1282,  1115,   146,  1138,  3891,   136, 10271,  1108,\n",
       "          1103,  1211,  2712,  1105,   146,  4615,  1991,  6918,  1106,  1138,\n",
       "          3891, 10271,  1120,  1216,  1126,  1346,  1425,   119,   102,     0,\n",
       "             0,     0]]), 'attention_mask': tensor([[1, 1, 1, 1, 1, 1, 1, 1, 1, 1, 1, 1, 1, 1, 1, 1, 1, 1, 1, 1, 1, 1, 1, 1,\n",
       "         1, 1, 1, 1, 1, 0, 0, 0]])}"
      ]
     },
     "execution_count": 24,
     "metadata": {},
     "output_type": "execute_result"
    }
   ],
   "source": [
    "encoding_test"
   ]
  },
  {
   "cell_type": "code",
   "execution_count": 25,
   "id": "3aab1323",
   "metadata": {},
   "outputs": [
    {
     "data": {
      "text/plain": [
       "dict_keys(['input_ids', 'attention_mask'])"
      ]
     },
     "execution_count": 25,
     "metadata": {},
     "output_type": "execute_result"
    }
   ],
   "source": [
    "encoding_test.keys()"
   ]
  },
  {
   "cell_type": "code",
   "execution_count": 26,
   "id": "c76505e5",
   "metadata": {},
   "outputs": [
    {
     "name": "stdout",
     "output_type": "stream",
     "text": [
      " length of the first sequence is :   32\n",
      "\n",
      " The input id's are : \n",
      " tensor([  101,  1798,  1282,  1115,   146,  1138,  3891,   136, 10271,  1108,\n",
      "         1103,  1211,  2712,  1105,   146,  4615,  1991,  6918,  1106,  1138,\n",
      "         3891, 10271,  1120,  1216,  1126,  1346,  1425,   119,   102,     0,\n",
      "            0,     0])\n",
      "\n",
      " The attention mask generated is :  tensor([1, 1, 1, 1, 1, 1, 1, 1, 1, 1, 1, 1, 1, 1, 1, 1, 1, 1, 1, 1, 1, 1, 1, 1,\n",
      "        1, 1, 1, 1, 1, 0, 0, 0])\n"
     ]
    }
   ],
   "source": [
    "print(' length of the first sequence is :  ', len(encoding_test['input_ids'][0]))\n",
    "print('\\n The input id\\'s are : \\n', encoding_test['input_ids'][0])\n",
    "print('\\n The attention mask generated is : ', encoding_test['attention_mask'][0])"
   ]
  },
  {
   "cell_type": "code",
   "execution_count": 27,
   "id": "59694c87",
   "metadata": {},
   "outputs": [
    {
     "data": {
      "text/plain": [
       "['[CLS]',\n",
       " 'Best',\n",
       " 'place',\n",
       " 'that',\n",
       " 'I',\n",
       " 'have',\n",
       " 'visited',\n",
       " '?',\n",
       " 'Iceland',\n",
       " 'was',\n",
       " 'the',\n",
       " 'most',\n",
       " 'beautiful',\n",
       " 'and',\n",
       " 'I',\n",
       " 'consider',\n",
       " 'myself',\n",
       " 'lucky',\n",
       " 'to',\n",
       " 'have',\n",
       " 'visited',\n",
       " 'Iceland',\n",
       " 'at',\n",
       " 'such',\n",
       " 'an',\n",
       " 'early',\n",
       " 'age',\n",
       " '.',\n",
       " '[SEP]',\n",
       " '[PAD]',\n",
       " '[PAD]',\n",
       " '[PAD]']"
      ]
     },
     "execution_count": 27,
     "metadata": {},
     "output_type": "execute_result"
    }
   ],
   "source": [
    "tokenizer.convert_ids_to_tokens(encoding_test['input_ids'].flatten())"
   ]
  },
  {
   "cell_type": "markdown",
   "id": "409da4ca",
   "metadata": {},
   "source": [
    "# `------------------------------------------`\n",
    "# `Modelling -------------------------------------------`\n",
    "## `Modelling with our data`\n",
    "# `------------------------------------------`"
   ]
  },
  {
   "cell_type": "code",
   "execution_count": 28,
   "id": "e5dac8ca",
   "metadata": {},
   "outputs": [],
   "source": [
    "def group_sentiment(rating):\n",
    "    if rating == 'Positive':\n",
    "        return 2        \n",
    "    elif rating == 'Neutral':\n",
    "        return 1         \n",
    "    else: \n",
    "        return 0        "
   ]
  },
  {
   "cell_type": "code",
   "execution_count": 29,
   "id": "2252b4f7",
   "metadata": {},
   "outputs": [],
   "source": [
    "data_all['tag'] = data_all.tag.apply(group_sentiment)"
   ]
  },
  {
   "cell_type": "code",
   "execution_count": 30,
   "id": "147b12dc",
   "metadata": {},
   "outputs": [
    {
     "data": {
      "text/html": [
       "<div>\n",
       "<style scoped>\n",
       "    .dataframe tbody tr th:only-of-type {\n",
       "        vertical-align: middle;\n",
       "    }\n",
       "\n",
       "    .dataframe tbody tr th {\n",
       "        vertical-align: top;\n",
       "    }\n",
       "\n",
       "    .dataframe thead th {\n",
       "        text-align: right;\n",
       "    }\n",
       "</style>\n",
       "<table border=\"1\" class=\"dataframe\">\n",
       "  <thead>\n",
       "    <tr style=\"text-align: right;\">\n",
       "      <th></th>\n",
       "      <th>sentence</th>\n",
       "      <th>tag</th>\n",
       "    </tr>\n",
       "  </thead>\n",
       "  <tbody>\n",
       "    <tr>\n",
       "      <th>0</th>\n",
       "      <td>Welcome to celebal tech,IVR automation demo.</td>\n",
       "      <td>1</td>\n",
       "    </tr>\n",
       "    <tr>\n",
       "      <th>1</th>\n",
       "      <td>Hello. Hi, how are you?</td>\n",
       "      <td>1</td>\n",
       "    </tr>\n",
       "    <tr>\n",
       "      <th>2</th>\n",
       "      <td>I'm fine. Thank you for calling CT,Health insu...</td>\n",
       "      <td>2</td>\n",
       "    </tr>\n",
       "    <tr>\n",
       "      <th>3</th>\n",
       "      <td>I have an health policy with you. I wanted to ...</td>\n",
       "      <td>1</td>\n",
       "    </tr>\n",
       "    <tr>\n",
       "      <th>4</th>\n",
       "      <td>Of course I can do that,Could you please confi...</td>\n",
       "      <td>1</td>\n",
       "    </tr>\n",
       "    <tr>\n",
       "      <th>5</th>\n",
       "      <td>Yeah, sure, my mobile number is 9996668887.</td>\n",
       "      <td>2</td>\n",
       "    </tr>\n",
       "    <tr>\n",
       "      <th>6</th>\n",
       "      <td>I can confirm that you have active health insu...</td>\n",
       "      <td>2</td>\n",
       "    </tr>\n",
       "    <tr>\n",
       "      <th>7</th>\n",
       "      <td>Sure. My name is Manoj and my date of birth is...</td>\n",
       "      <td>2</td>\n",
       "    </tr>\n",
       "    <tr>\n",
       "      <th>8</th>\n",
       "      <td>Thanks for confirmation,I can see that your po...</td>\n",
       "      <td>2</td>\n",
       "    </tr>\n",
       "    <tr>\n",
       "      <th>9</th>\n",
       "      <td>I want to go for two,year option.</td>\n",
       "      <td>2</td>\n",
       "    </tr>\n",
       "  </tbody>\n",
       "</table>\n",
       "</div>"
      ],
      "text/plain": [
       "                                            sentence  tag\n",
       "0       Welcome to celebal tech,IVR automation demo.    1\n",
       "1                            Hello. Hi, how are you?    1\n",
       "2  I'm fine. Thank you for calling CT,Health insu...    2\n",
       "3  I have an health policy with you. I wanted to ...    1\n",
       "4  Of course I can do that,Could you please confi...    1\n",
       "5        Yeah, sure, my mobile number is 9996668887.    2\n",
       "6  I can confirm that you have active health insu...    2\n",
       "7  Sure. My name is Manoj and my date of birth is...    2\n",
       "8  Thanks for confirmation,I can see that your po...    2\n",
       "9                  I want to go for two,year option.    2"
      ]
     },
     "execution_count": 30,
     "metadata": {},
     "output_type": "execute_result"
    }
   ],
   "source": [
    "data_all.head(10)"
   ]
  },
  {
   "cell_type": "code",
   "execution_count": 31,
   "id": "5604c83d",
   "metadata": {},
   "outputs": [],
   "source": [
    "# data_all.loc[data_all.sentence.isnull()]"
   ]
  },
  {
   "cell_type": "code",
   "execution_count": 32,
   "id": "43004487",
   "metadata": {},
   "outputs": [],
   "source": [
    "# data = data_all[data_all.sentence.notna()]\n",
    "# data.head()"
   ]
  },
  {
   "cell_type": "code",
   "execution_count": 33,
   "id": "60167980",
   "metadata": {},
   "outputs": [
    {
     "data": {
      "text/plain": [
       "(594, 2)"
      ]
     },
     "execution_count": 33,
     "metadata": {},
     "output_type": "execute_result"
    }
   ],
   "source": [
    "data_all.shape"
   ]
  },
  {
   "cell_type": "code",
   "execution_count": 34,
   "id": "e149f270",
   "metadata": {},
   "outputs": [],
   "source": [
    "data = data_all"
   ]
  },
  {
   "cell_type": "code",
   "execution_count": 35,
   "id": "3a039faa",
   "metadata": {},
   "outputs": [],
   "source": [
    "token_lens = []\n",
    "for text in data.sentence:\n",
    "    tokens_data = tokenizer.encode(text, max_length=512)   # Max possible length for the BERT model.\n",
    "    token_lens.append(len(tokens_data))"
   ]
  },
  {
   "cell_type": "code",
   "execution_count": 36,
   "id": "1e13103f",
   "metadata": {},
   "outputs": [
    {
     "data": {
      "text/plain": [
       "[14,\n",
       " 10,\n",
       " 31,\n",
       " 23,\n",
       " 33,\n",
       " 20,\n",
       " 28,\n",
       " 20,\n",
       " 60,\n",
       " 12,\n",
       " 18,\n",
       " 6,\n",
       " 13,\n",
       " 16,\n",
       " 17,\n",
       " 12,\n",
       " 19,\n",
       " 5,\n",
       " 19,\n",
       " 4,\n",
       " 38,\n",
       " 9,\n",
       " 57,\n",
       " 8,\n",
       " 30,\n",
       " 12,\n",
       " 31,\n",
       " 13,\n",
       " 30,\n",
       " 8,\n",
       " 16,\n",
       " 9,\n",
       " 35,\n",
       " 6,\n",
       " 25,\n",
       " 7,\n",
       " 35,\n",
       " 14,\n",
       " 39,\n",
       " 9,\n",
       " 74,\n",
       " 14,\n",
       " 60,\n",
       " 6,\n",
       " 53,\n",
       " 7,\n",
       " 55,\n",
       " 12,\n",
       " 26,\n",
       " 4,\n",
       " 13,\n",
       " 10,\n",
       " 19,\n",
       " 10,\n",
       " 20,\n",
       " 6,\n",
       " 33,\n",
       " 5,\n",
       " 19,\n",
       " 4,\n",
       " 39,\n",
       " 6,\n",
       " 62,\n",
       " 8,\n",
       " 10,\n",
       " 11,\n",
       " 12,\n",
       " 8,\n",
       " 33,\n",
       " 7,\n",
       " 14,\n",
       " 11,\n",
       " 4,\n",
       " 16,\n",
       " 11,\n",
       " 6,\n",
       " 11,\n",
       " 30,\n",
       " 6,\n",
       " 31,\n",
       " 12,\n",
       " 12,\n",
       " 10,\n",
       " 9,\n",
       " 25,\n",
       " 15,\n",
       " 28,\n",
       " 7,\n",
       " 4,\n",
       " 10,\n",
       " 28,\n",
       " 5,\n",
       " 19,\n",
       " 4,\n",
       " 39,\n",
       " 6,\n",
       " 55,\n",
       " 8,\n",
       " 25,\n",
       " 14,\n",
       " 40,\n",
       " 13,\n",
       " 16,\n",
       " 24,\n",
       " 18,\n",
       " 49,\n",
       " 17,\n",
       " 21,\n",
       " 4,\n",
       " 37,\n",
       " 13,\n",
       " 14,\n",
       " 23,\n",
       " 4,\n",
       " 27,\n",
       " 6,\n",
       " 42,\n",
       " 4,\n",
       " 51,\n",
       " 12,\n",
       " 32,\n",
       " 15,\n",
       " 34,\n",
       " 6,\n",
       " 39,\n",
       " 9,\n",
       " 33,\n",
       " 14,\n",
       " 41,\n",
       " 15,\n",
       " 40,\n",
       " 9,\n",
       " 76,\n",
       " 10,\n",
       " 19,\n",
       " 10,\n",
       " 29,\n",
       " 9,\n",
       " 77,\n",
       " 12,\n",
       " 21,\n",
       " 9,\n",
       " 13,\n",
       " 10,\n",
       " 19,\n",
       " 10,\n",
       " 70,\n",
       " 4,\n",
       " 42,\n",
       " 4,\n",
       " 41,\n",
       " 11,\n",
       " 42,\n",
       " 19,\n",
       " 15,\n",
       " 15,\n",
       " 8,\n",
       " 28,\n",
       " 26,\n",
       " 29,\n",
       " 18,\n",
       " 30,\n",
       " 21,\n",
       " 43,\n",
       " 13,\n",
       " 19,\n",
       " 6,\n",
       " 13,\n",
       " 10,\n",
       " 17,\n",
       " 12,\n",
       " 20,\n",
       " 5,\n",
       " 26,\n",
       " 4,\n",
       " 26,\n",
       " 7,\n",
       " 41,\n",
       " 6,\n",
       " 38,\n",
       " 11,\n",
       " 32,\n",
       " 16,\n",
       " 28,\n",
       " 13,\n",
       " 17,\n",
       " 5,\n",
       " 27,\n",
       " 4,\n",
       " 34,\n",
       " 12,\n",
       " 10,\n",
       " 6,\n",
       " 13,\n",
       " 7,\n",
       " 13,\n",
       " 13,\n",
       " 17,\n",
       " 8,\n",
       " 12,\n",
       " 16,\n",
       " 26,\n",
       " 5,\n",
       " 17,\n",
       " 6,\n",
       " 24,\n",
       " 12,\n",
       " 27,\n",
       " 17,\n",
       " 18,\n",
       " 20,\n",
       " 46,\n",
       " 13,\n",
       " 16,\n",
       " 4,\n",
       " 13,\n",
       " 14,\n",
       " 16,\n",
       " 11,\n",
       " 17,\n",
       " 23,\n",
       " 4,\n",
       " 26,\n",
       " 6,\n",
       " 39,\n",
       " 6,\n",
       " 12,\n",
       " 13,\n",
       " 58,\n",
       " 10,\n",
       " 32,\n",
       " 15,\n",
       " 33,\n",
       " 12,\n",
       " 28,\n",
       " 5,\n",
       " 35,\n",
       " 9,\n",
       " 34,\n",
       " 14,\n",
       " 16,\n",
       " 37,\n",
       " 9,\n",
       " 36,\n",
       " 7,\n",
       " 52,\n",
       " 8,\n",
       " 25,\n",
       " 15,\n",
       " 30,\n",
       " 8,\n",
       " 27,\n",
       " 13,\n",
       " 25,\n",
       " 8,\n",
       " 21,\n",
       " 22,\n",
       " 30,\n",
       " 16,\n",
       " 25,\n",
       " 10,\n",
       " 38,\n",
       " 7,\n",
       " 42,\n",
       " 8,\n",
       " 16,\n",
       " 7,\n",
       " 52,\n",
       " 10,\n",
       " 34,\n",
       " 13,\n",
       " 26,\n",
       " 7,\n",
       " 13,\n",
       " 10,\n",
       " 19,\n",
       " 10,\n",
       " 20,\n",
       " 7,\n",
       " 25,\n",
       " 28,\n",
       " 15,\n",
       " 12,\n",
       " 17,\n",
       " 50,\n",
       " 14,\n",
       " 18,\n",
       " 4,\n",
       " 24,\n",
       " 10,\n",
       " 37,\n",
       " 13,\n",
       " 19,\n",
       " 9,\n",
       " 22,\n",
       " 12,\n",
       " 12,\n",
       " 39,\n",
       " 6,\n",
       " 59,\n",
       " 8,\n",
       " 24,\n",
       " 14,\n",
       " 26,\n",
       " 20,\n",
       " 32,\n",
       " 16,\n",
       " 28,\n",
       " 12,\n",
       " 17,\n",
       " 5,\n",
       " 51,\n",
       " 7,\n",
       " 16,\n",
       " 8,\n",
       " 33,\n",
       " 8,\n",
       " 43,\n",
       " 15,\n",
       " 43,\n",
       " 11,\n",
       " 29,\n",
       " 8,\n",
       " 49,\n",
       " 7,\n",
       " 42,\n",
       " 11,\n",
       " 16,\n",
       " 9,\n",
       " 87,\n",
       " 8,\n",
       " 37,\n",
       " 13,\n",
       " 12,\n",
       " 17,\n",
       " 26,\n",
       " 5,\n",
       " 18,\n",
       " 4,\n",
       " 39,\n",
       " 9,\n",
       " 43,\n",
       " 8,\n",
       " 27,\n",
       " 14,\n",
       " 31,\n",
       " 13,\n",
       " 30,\n",
       " 8,\n",
       " 16,\n",
       " 9,\n",
       " 36,\n",
       " 6,\n",
       " 16,\n",
       " 8,\n",
       " 30,\n",
       " 16,\n",
       " 31,\n",
       " 11,\n",
       " 46,\n",
       " 11,\n",
       " 41,\n",
       " 7,\n",
       " 30,\n",
       " 6,\n",
       " 33,\n",
       " 13,\n",
       " 27,\n",
       " 4,\n",
       " 13,\n",
       " 10,\n",
       " 19,\n",
       " 10,\n",
       " 20,\n",
       " 6,\n",
       " 20,\n",
       " 18,\n",
       " 23,\n",
       " 5,\n",
       " 18,\n",
       " 4,\n",
       " 37,\n",
       " 6,\n",
       " 33,\n",
       " 12,\n",
       " 10,\n",
       " 12,\n",
       " 12,\n",
       " 8,\n",
       " 18,\n",
       " 7,\n",
       " 18,\n",
       " 4,\n",
       " 35,\n",
       " 6,\n",
       " 32,\n",
       " 7,\n",
       " 10,\n",
       " 5,\n",
       " 12,\n",
       " 10,\n",
       " 22,\n",
       " 7,\n",
       " 18,\n",
       " 4,\n",
       " 35,\n",
       " 6,\n",
       " 52,\n",
       " 8,\n",
       " 23,\n",
       " 14,\n",
       " 31,\n",
       " 12,\n",
       " 14,\n",
       " 17,\n",
       " 15,\n",
       " 51,\n",
       " 15,\n",
       " 21,\n",
       " 4,\n",
       " 36,\n",
       " 12,\n",
       " 12,\n",
       " 40,\n",
       " 4,\n",
       " 60,\n",
       " 8,\n",
       " 9,\n",
       " 7,\n",
       " 13,\n",
       " 5,\n",
       " 12,\n",
       " 13,\n",
       " 16,\n",
       " 8,\n",
       " 27,\n",
       " 5,\n",
       " 26,\n",
       " 4,\n",
       " 25,\n",
       " 7,\n",
       " 45,\n",
       " 6,\n",
       " 41,\n",
       " 11,\n",
       " 34,\n",
       " 14,\n",
       " 31,\n",
       " 7,\n",
       " 32,\n",
       " 10,\n",
       " 31,\n",
       " 20,\n",
       " 37,\n",
       " 13,\n",
       " 30,\n",
       " 11,\n",
       " 34,\n",
       " 10,\n",
       " 15,\n",
       " 10,\n",
       " 27,\n",
       " 9,\n",
       " 30,\n",
       " 13,\n",
       " 21,\n",
       " 11,\n",
       " 13,\n",
       " 10,\n",
       " 19,\n",
       " 10,\n",
       " 43,\n",
       " 4,\n",
       " 35,\n",
       " 4,\n",
       " 40,\n",
       " 10,\n",
       " 28,\n",
       " 19,\n",
       " 14,\n",
       " 13,\n",
       " 8,\n",
       " 31,\n",
       " 13,\n",
       " 34,\n",
       " 17,\n",
       " 28,\n",
       " 20,\n",
       " 59,\n",
       " 12,\n",
       " 17,\n",
       " 4,\n",
       " 13,\n",
       " 13,\n",
       " 16,\n",
       " 11,\n",
       " 16,\n",
       " 39,\n",
       " 9,\n",
       " 65,\n",
       " 15,\n",
       " 22,\n",
       " 37,\n",
       " 9,\n",
       " 62,\n",
       " 7,\n",
       " 57,\n",
       " 8,\n",
       " 27,\n",
       " 15,\n",
       " 31,\n",
       " 8,\n",
       " 36,\n",
       " 13,\n",
       " 35,\n",
       " 7,\n",
       " 33,\n",
       " 13,\n",
       " 40,\n",
       " 14,\n",
       " 40,\n",
       " 9,\n",
       " 71,\n",
       " 6,\n",
       " 62,\n",
       " 8,\n",
       " 16,\n",
       " 6,\n",
       " 66,\n",
       " 7,\n",
       " 56,\n",
       " 12,\n",
       " 26,\n",
       " 7,\n",
       " 13,\n",
       " 10,\n",
       " 19,\n",
       " 10,\n",
       " 20,\n",
       " 6,\n",
       " 31,\n",
       " 23,\n",
       " 15,\n",
       " 47,\n",
       " 16,\n",
       " 19,\n",
       " 4,\n",
       " 34,\n",
       " 10,\n",
       " 47,\n",
       " 14,\n",
       " 19,\n",
       " 9,\n",
       " 20,\n",
       " 13,\n",
       " 14,\n",
       " 39,\n",
       " 6,\n",
       " 58,\n",
       " 8,\n",
       " 25,\n",
       " 14,\n",
       " 40,\n",
       " 19,\n",
       " 32,\n",
       " 15,\n",
       " 31,\n",
       " 12,\n",
       " 28,\n",
       " 5,\n",
       " 56,\n",
       " 7,\n",
       " 14,\n",
       " 9,\n",
       " 69,\n",
       " 8,\n",
       " 53,\n",
       " 15,\n",
       " 55,\n",
       " 11,\n",
       " 38,\n",
       " 12,\n",
       " 54,\n",
       " 8,\n",
       " 127,\n",
       " 6,\n",
       " 23,\n",
       " 9,\n",
       " 129,\n",
       " 8,\n",
       " 37,\n",
       " 13,\n",
       " 42,\n",
       " 5]"
      ]
     },
     "execution_count": 36,
     "metadata": {},
     "output_type": "execute_result"
    }
   ],
   "source": [
    "token_lens"
   ]
  },
  {
   "cell_type": "code",
   "execution_count": 37,
   "id": "827e66c6",
   "metadata": {},
   "outputs": [
    {
     "data": {
      "image/png": "[encoded data removed]",
      "text/plain": [
       "<Figure size 864x576 with 1 Axes>"
      ]
     },
     "metadata": {
      "image/png": {
       "height": 487,
       "width": 736
      }
     },
     "output_type": "display_data"
    }
   ],
   "source": [
    "sns.distplot(token_lens)\n",
    "plt.xlim([0, 256]);\n",
    "plt.xlabel('Token count');"
   ]
  },
  {
   "cell_type": "code",
   "execution_count": 38,
   "id": "5f864c43",
   "metadata": {},
   "outputs": [],
   "source": [
    "MAX_LEN = 150"
   ]
  },
  {
   "cell_type": "markdown",
   "id": "fba111f3",
   "metadata": {},
   "source": [
    "## `Pytorch Dataset`"
   ]
  },
  {
   "cell_type": "code",
   "execution_count": 39,
   "id": "06d48499",
   "metadata": {},
   "outputs": [],
   "source": [
    "class GPReviewDataset(Dataset):\n",
    "\n",
    "    def __init__(self, reviews, targets, tokenizer, max_len):\n",
    "        self.reviews = reviews         # Reviews is content column.\n",
    "        self.targets = targets         # Target is the sentiment column.\n",
    "        self.tokenizer = tokenizer     # Tokenizer is the BERT_Tokanizer.\n",
    "        self.max_len = max_len         # max_length of each sequence.\n",
    "\n",
    "    def __len__(self):\n",
    "        return len(self.reviews)       # Len of each review.\n",
    "  \n",
    "    def __getitem__(self, item):\n",
    "        review = str(self.reviews[item])   # returns the string of reviews at the index = 'items'\n",
    "        target = self.targets[item]        # returns the string of targets at the index = 'items'\n",
    "\n",
    "        encoding = self.tokenizer.encode_plus(\n",
    "          review,\n",
    "          add_special_tokens=True,\n",
    "          max_length=self.max_len,\n",
    "          return_token_type_ids=False,\n",
    "          pad_to_max_length=True,\n",
    "          return_attention_mask=True,\n",
    "          return_tensors='pt',\n",
    "        )\n",
    "\n",
    "        return {\n",
    "          'review_text': review,                                   \n",
    "          'input_ids': encoding['input_ids'].flatten(),\n",
    "          'attention_mask': encoding['attention_mask'].flatten(),\n",
    "          'targets': torch.tensor(target, dtype=torch.long)            # dictionary containing all the features is returned.\n",
    "        }"
   ]
  },
  {
   "cell_type": "markdown",
   "id": "9d7822c0",
   "metadata": {},
   "source": [
    "# `NLP Aug`: Data Augmentation\n",
    "- [Click Here](https://www.analyticsvidhya.com/blog/2021/08/nlpaug-a-python-library-to-augment-your-text-data/)\n",
    "- [CLick Here](https://towardsdatascience.com/powerful-text-augmentation-using-nlpaug-5851099b4e97)"
   ]
  },
  {
   "cell_type": "code",
   "execution_count": 40,
   "id": "5e860203",
   "metadata": {},
   "outputs": [],
   "source": [
    "#!pip install nlpaug"
   ]
  },
  {
   "cell_type": "code",
   "execution_count": 41,
   "id": "5ef77200",
   "metadata": {},
   "outputs": [
    {
     "data": {
      "text/plain": [
       "sentence    object\n",
       "tag          int64\n",
       "dtype: object"
      ]
     },
     "execution_count": 41,
     "metadata": {},
     "output_type": "execute_result"
    }
   ],
   "source": [
    "data_all.dtypes"
   ]
  },
  {
   "cell_type": "code",
   "execution_count": 42,
   "id": "7a6b322c",
   "metadata": {},
   "outputs": [
    {
     "name": "stderr",
     "output_type": "stream",
     "text": [
      "[nltk_data] Downloading package averaged_perceptron_tagger to\n",
      "[nltk_data]     C:\\Users\\manuj\\AppData\\Roaming\\nltk_data...\n",
      "[nltk_data]   Package averaged_perceptron_tagger is already up-to-\n",
      "[nltk_data]       date!\n",
      "[nltk_data] Downloading package omw-1.4 to\n",
      "[nltk_data]     C:\\Users\\manuj\\AppData\\Roaming\\nltk_data...\n",
      "[nltk_data]   Package omw-1.4 is already up-to-date!\n"
     ]
    }
   ],
   "source": [
    "import nltk\n",
    "nltk.download('averaged_perceptron_tagger')\n",
    "nltk.download('omw-1.4')\n",
    "import nlpaug\n",
    "import nlpaug.augmenter.word as naw"
   ]
  },
  {
   "cell_type": "code",
   "execution_count": 43,
   "id": "6c0d612e",
   "metadata": {},
   "outputs": [
    {
     "data": {
      "text/plain": [
       "['Misleading reviews. Worst coffee berry ever had, and painfully disappointing vibe.',\n",
       " 'Misleading reviews. Worst coffee always sustain, and sorely unsatisfying vibe.',\n",
       " 'Lead astray reviews. Worst coffee tree ever had, and sorely disappointing vibe.']"
      ]
     },
     "execution_count": 43,
     "metadata": {},
     "output_type": "execute_result"
    }
   ],
   "source": [
    "aug = naw.SynonymAug(aug_src='wordnet',aug_max=3)\n",
    "aug.augment(\"Misleading reviews. Worst coffee ever had, and sorely disappointing vibe.\",n=3)"
   ]
  },
  {
   "cell_type": "code",
   "execution_count": 44,
   "id": "a1c30b6d",
   "metadata": {},
   "outputs": [],
   "source": [
    "data_neg = data_all[data_all.loc[:,'tag'] == 0]"
   ]
  },
  {
   "cell_type": "code",
   "execution_count": 45,
   "id": "12ef49a8",
   "metadata": {},
   "outputs": [
    {
     "data": {
      "text/plain": [
       "71"
      ]
     },
     "execution_count": 45,
     "metadata": {},
     "output_type": "execute_result"
    }
   ],
   "source": [
    "len(data_neg)"
   ]
  },
  {
   "cell_type": "code",
   "execution_count": 46,
   "id": "71185eff",
   "metadata": {},
   "outputs": [
    {
     "data": {
      "text/html": [
       "<div>\n",
       "<style scoped>\n",
       "    .dataframe tbody tr th:only-of-type {\n",
       "        vertical-align: middle;\n",
       "    }\n",
       "\n",
       "    .dataframe tbody tr th {\n",
       "        vertical-align: top;\n",
       "    }\n",
       "\n",
       "    .dataframe thead th {\n",
       "        text-align: right;\n",
       "    }\n",
       "</style>\n",
       "<table border=\"1\" class=\"dataframe\">\n",
       "  <thead>\n",
       "    <tr style=\"text-align: right;\">\n",
       "      <th></th>\n",
       "      <th>sentence</th>\n",
       "      <th>tag</th>\n",
       "    </tr>\n",
       "  </thead>\n",
       "  <tbody>\n",
       "    <tr>\n",
       "      <th>13</th>\n",
       "      <td>I have a doubt. Will this policy cover my fami...</td>\n",
       "      <td>0</td>\n",
       "    </tr>\n",
       "    <tr>\n",
       "      <th>23</th>\n",
       "      <td>No, not this one.</td>\n",
       "      <td>0</td>\n",
       "    </tr>\n",
       "    <tr>\n",
       "      <th>27</th>\n",
       "      <td>I didn't get you. Can you repeat?</td>\n",
       "      <td>0</td>\n",
       "    </tr>\n",
       "    <tr>\n",
       "      <th>29</th>\n",
       "      <td>Hold on for a second.</td>\n",
       "      <td>0</td>\n",
       "    </tr>\n",
       "    <tr>\n",
       "      <th>41</th>\n",
       "      <td>What will happen,If I preclose this EMI.</td>\n",
       "      <td>0</td>\n",
       "    </tr>\n",
       "  </tbody>\n",
       "</table>\n",
       "</div>"
      ],
      "text/plain": [
       "                                             sentence  tag\n",
       "13  I have a doubt. Will this policy cover my fami...    0\n",
       "23                                  No, not this one.    0\n",
       "27                  I didn't get you. Can you repeat?    0\n",
       "29                              Hold on for a second.    0\n",
       "41           What will happen,If I preclose this EMI.    0"
      ]
     },
     "execution_count": 46,
     "metadata": {},
     "output_type": "execute_result"
    }
   ],
   "source": [
    "data_neg.head()"
   ]
  },
  {
   "cell_type": "code",
   "execution_count": 47,
   "id": "6bfe3895",
   "metadata": {},
   "outputs": [],
   "source": [
    "lists = []\n",
    "aug = naw.SynonymAug(aug_src='wordnet',aug_max=5)\n",
    "for i in data_neg.sentence:\n",
    "    lists.append(aug.augment(i,n=3))"
   ]
  },
  {
   "cell_type": "markdown",
   "id": "502f2a2e",
   "metadata": {},
   "source": [
    "# `Augmentation -----------------------------------------`"
   ]
  },
  {
   "cell_type": "code",
   "execution_count": 48,
   "id": "bd377221",
   "metadata": {},
   "outputs": [],
   "source": [
    "sent = []\n",
    "for i in lists:\n",
    "    for j in i:\n",
    "        sent.append(j)"
   ]
  },
  {
   "cell_type": "code",
   "execution_count": 49,
   "id": "c07af829",
   "metadata": {},
   "outputs": [
    {
     "data": {
      "text/plain": [
       "213"
      ]
     },
     "execution_count": 49,
     "metadata": {},
     "output_type": "execute_result"
    }
   ],
   "source": [
    "len(sent)"
   ]
  },
  {
   "cell_type": "code",
   "execution_count": 50,
   "id": "6c072119",
   "metadata": {},
   "outputs": [
    {
     "data": {
      "text/plain": [
       "['I have a question. Will this insurance track my family equally intimately?',\n",
       " 'One take a doubt. Will this insurance policy cover my family every bit advantageously?',\n",
       " 'One have a doubt. Testament this insurance policy encompass my family as intimately?',\n",
       " 'No, non this unity.',\n",
       " 'No, non this i.',\n",
       " 'No, non this 1.',\n",
       " \"I didn ' t get you. Rear you repeat?\",\n",
       " \"1 didn ' t get you. Can you iterate?\",\n",
       " \"I didn ' t get you. Bottom you repeat?\",\n",
       " 'Hold on for a 2d.',\n",
       " 'Hold on for a 2nd.',\n",
       " 'Confine on for a second.',\n",
       " 'What bequeath happen, If One preclose this EMI.',\n",
       " 'What volition bump, If I preclose this EMI.',\n",
       " 'What will happen, If One preclose this EMI.',\n",
       " 'Bathroom you recapitulate again?',\n",
       " 'Posterior you repeat again?',\n",
       " 'Can you repeat once more?',\n",
       " 'But you evidence maine not to portion any details.',\n",
       " 'But you told me non to share any point.',\n",
       " 'Simply you told me not to share any point.',\n",
       " 'Iodin need a loan instead.',\n",
       " 'One desire a loan instead.',\n",
       " 'Ane want a loan alternatively.',\n",
       " 'This call is being recorded by celebal Bank for security reasons. Please coif not parcel your CVV and OTP with anyone.',\n",
       " 'This phone call be being recorded by celebal Savings bank for security measure reasons. Please do not share your CVV and OTP with anyone.',\n",
       " 'This call is being recorded by celebal Camber for security reasons. Delight do not portion your CVV and OTP with anyone.',\n",
       " 'I am ready to devote full requital.',\n",
       " 'Atomic number 53 am quick to give full payment.',\n",
       " 'One am ready to pay broad payment.',\n",
       " \"No, Atomic number 53 don ' t require to pass for EMI pick.\",\n",
       " \"No, I don ' deoxythymidine monophosphate need to go for EMI option.\",\n",
       " \"No, I don ' thymine desire to go for EMI choice.\",\n",
       " 'No.',\n",
       " 'No.',\n",
       " 'No.',\n",
       " 'No, I want to talk to your, Broker.',\n",
       " 'No, I need to speak to your, Agent.',\n",
       " 'No, Ace require to verbalize to your, Agent.',\n",
       " \"No, I don ' triiodothyronine require to opt for EMI.\",\n",
       " \"No, I don ' t require to opt for EMI.\",\n",
       " \"No, I assume ' t require to choose for EMI.\",\n",
       " 'Can you reiterate the detail over again?',\n",
       " 'Derriere you recapitulate the contingent again?',\n",
       " 'Behind you echo the details again?',\n",
       " 'But you distinguish me non to share any detail.',\n",
       " 'But you told me non to portion any details.',\n",
       " 'Only you told maine not to share any detail.',\n",
       " 'Atomic number 53 am not happy with current conversation. Unity want to blab to your, Agent.',\n",
       " 'I personify not felicitous with current conversation. 1 desire to talk to your, Agent.',\n",
       " 'I am non happy with current conversation. I want to speak to your, Agent.',\n",
       " \"No, I assume ' t need to cash in one's chips for the EMI road.\",\n",
       " \"No, Atomic number 53 don ' thyroxin want to go for the EMI path.\",\n",
       " \"No, I assume ' t require to work for the EMI route.\",\n",
       " 'No, I am contented with the complete defrayal method acting.',\n",
       " 'No, Iodine make up content with the complete defrayment method.',\n",
       " 'No, I comprise content with the perfect defrayal method acting.',\n",
       " 'Hello, I am Prashanth from Celebal Tech Depository financial institution. What do you alike to listen about the offer?',\n",
       " 'Howdy, I am Prashanth from Celebal Technical school Bank. What do you comparable to hear about the offer?',\n",
       " 'Hello, I am Prashanth from Celebal Tech Bank. What do you similar to hear astir the offer?',\n",
       " 'Yes.',\n",
       " 'Yes.',\n",
       " 'Yes.',\n",
       " 'This call is being recorded by a Celebal tech bank, but please perform non reveal your CVV and OTP with anyone, as shown here.',\n",
       " 'This call is being immortalize by a Celebal tech bank, but delight do not reveal your CVV and OTP with anyone, as indicate here.',\n",
       " 'This call option is being record by a Celebal tech camber, but please do not reveal your CVV and OTP with anyone, as shown here.',\n",
       " 'Kinda than a mortgage, Atomic number 53 want a loan.',\n",
       " 'Rather than a mortgage, Iodin need a loan.',\n",
       " 'Rather than a mortgage, 1 want a loanword.',\n",
       " 'What kind of loanword do you need?',\n",
       " 'What kind of loan get along you demand?',\n",
       " 'What kind of loan do you require?',\n",
       " 'Give the axe you repeat?',\n",
       " 'Put up you repeat?',\n",
       " 'Give notice you repeat?',\n",
       " 'Yes, Sir, what variety of loan you need?',\n",
       " 'Yes, Sir, what kind of loan you ask?',\n",
       " 'Yes, Sir, what sort of loan you require?',\n",
       " 'Railcar loan is useable.',\n",
       " 'Car loanword is usable.',\n",
       " 'Car loanword is uncommitted.',\n",
       " \"How much money you ' ll ask for this loanword?\",\n",
       " \"How much money you ' ll require for this loan?\",\n",
       " \"How much money you ' ll need for this loanword?\",\n",
       " \"Ane didn ' t get you. Can you recur?\",\n",
       " \"One didn ' t get you. Can you duplicate?\",\n",
       " \"I didn ' t get you. Can you retell?\",\n",
       " \"Yes, Sir, how much money you ' ll demand for this loan?\",\n",
       " \"Yes, Sir, how much money you ' ll require for this loanword?\",\n",
       " \"Yes, Sir, how much money you ' ll need for this loan?\",\n",
       " 'I need astir seven Lac.',\n",
       " 'One need astir seven Lac.',\n",
       " 'Iodine need about seven Lac.',\n",
       " 'Could you delight tell me your read nomadic number?',\n",
       " 'Could you please order maine your registered mobile phone number?',\n",
       " 'Could you please tell me your register mobile figure?',\n",
       " 'Yeah, certain, my wandering number is 9586236435.',\n",
       " 'Yea, certain, my mobile identification number is 9586236435.',\n",
       " 'Yea, sure, my fluid turn is 9586236435.',\n",
       " 'Get entered your details, Our client representative will reach forbidden to you in short, thus keep banking with a celebrity tech bank.',\n",
       " 'Have recruit your details, Our client illustration will hand out to you shortly, so keep banking with a celebrity technical school bank.',\n",
       " 'Have entered your details, Our customer representative volition make out to you shortly, so keep banking with a celebrity tech bank.',\n",
       " 'Thank you.',\n",
       " 'Thank you.',\n",
       " 'Thank you.',\n",
       " 'Atomic number 53 get a doubt who will represent underwrite by this policy.',\n",
       " 'Single consume a doubtfulness who will follow covered by this policy.',\n",
       " 'Ace have a dubiety who testament be covered by this insurance.',\n",
       " \"No, I assume ' metric ton need to go for EMI option.\",\n",
       " \"No, I don ' t desire to go for EMI choice.\",\n",
       " \"No, I don ' deoxythymidine monophosphate desire to go for EMI choice.\",\n",
       " 'No, I live happy with broad payment alternative.',\n",
       " 'No, I am felicitous with wide payment choice.',\n",
       " 'No, I am glad with full defrayment option.',\n",
       " 'No, I be non concerned.',\n",
       " 'No, I be non concerned.',\n",
       " 'No, 1 personify non interested.',\n",
       " 'No, I comprise non concerned.',\n",
       " 'No, One am non concerned.',\n",
       " 'No, Ane be non interested.',\n",
       " 'No, non this single.',\n",
       " 'No, non this 1.',\n",
       " 'No, non this ace.',\n",
       " 'No, I alter my creative thinker.',\n",
       " 'No, I deepen my psyche.',\n",
       " 'No, Atomic number 53 change my head.',\n",
       " \"No, Iodine get into ' t need to go for the EMI route.\",\n",
       " \"No, I wear ' thymine need to go for the EMI path.\",\n",
       " \"No, I assume ' thyroxine want to operate for the EMI route.\",\n",
       " 'No, the interest charge per unit in Affects is to a fault in high spirits.',\n",
       " 'No, the interest group rate in Affects be likewise high.',\n",
       " 'No, the interest charge per unit in Affect is likewise in high spirits.',\n",
       " 'No. This service cycle per second make up too long.',\n",
       " 'No. This robert william service cycle personify overly long.',\n",
       " 'No. This help round is too long.',\n",
       " 'No, non this i.',\n",
       " 'No, non this ace.',\n",
       " 'No, non this unity.',\n",
       " \"Atomic number 53 didn ' t get you. Can you double?\",\n",
       " \"One didn ' t get you. Lavatory you recapitulate?\",\n",
       " \"Iodin didn ' t get you. Force out you repeat?\",\n",
       " 'Give notice you ingeminate?',\n",
       " 'Hind end you recapitulate?',\n",
       " 'Can you retell?',\n",
       " 'Withal, you told pine tree state non to reveal any information.',\n",
       " 'However, you secern me not to expose any information.',\n",
       " 'Even so, you tell maine not to reveal any selective information.',\n",
       " 'Rather than a mortgage, I require a loanword.',\n",
       " 'Instead than a mortgage, I want a loanword.',\n",
       " 'Rather than a mortgage, One want a loanword.',\n",
       " 'No, Iodine desire to talk to your agent.',\n",
       " 'No, Iodin want to talk to your agent.',\n",
       " 'No, 1 want to mouth to your agent.',\n",
       " \"I didn ' t get you. Can you echo?\",\n",
       " \"I didn ' t get you. Can you echo?\",\n",
       " \"I didn ' t get you. Commode you repeat?\",\n",
       " \"No, I wear ' t want to exit for EMI.\",\n",
       " \"No, 1 don ' tetraiodothyronine need to go for EMI.\",\n",
       " \"No, One get into ' t desire to go for EMI.\",\n",
       " 'Stern you ingeminate the information again?',\n",
       " 'Stern you repeat the info again?',\n",
       " 'Can you retell the selective information once more?',\n",
       " 'However, you severalize me non to unveil any information.',\n",
       " 'Even so, you told pine tree state not to unveil any selective information.',\n",
       " 'However, you told pine tree state non to uncover any information.',\n",
       " 'Single am not happy with the current schmooze. One want to spill to your agent.',\n",
       " '1 be not happy with the current chat. I want to talk to your federal agent.',\n",
       " 'I am not well chosen with the current confab. I want to verbalize to your broker.',\n",
       " 'I have a dubiety world health organization all leave this insurance policy cover?',\n",
       " 'I have a doubtfulness world health organization all volition this policy covering fire?',\n",
       " 'I have a question who all bequeath this insurance policy binding?',\n",
       " 'No, Ane comprise not concerned.',\n",
       " 'No, Single be not concerned.',\n",
       " 'No, Ane be not concerned.',\n",
       " \"Single ' m busy right nowadays. Can you ring me tomorrow?\",\n",
       " \"1 ' chiliad busy right now. Can you shout me tomorrow?\",\n",
       " \"I ' m busy right on now. Nates you call up me tomorrow?\",\n",
       " 'No, 1 live non interested.',\n",
       " 'No, Iodine exist not concerned.',\n",
       " 'No, Atomic number 53 personify non interested.',\n",
       " 'No, non this i.',\n",
       " 'No, non this single.',\n",
       " 'No, non this 1.',\n",
       " 'No, One require the transaction done on Snapdeal.',\n",
       " 'No, I desire the dealing done on Snapdeal.',\n",
       " 'No, Unity want the transaction fare on Snapdeal.',\n",
       " \"Ace didn ' t get you. Can you iterate?\",\n",
       " \"Iodine didn ' t get you. Hind end you recapitulate?\",\n",
       " \"Iodine didn ' t get you. Can you repeat?\",\n",
       " 'But you tell me non to percentage any details.',\n",
       " 'But you told pine tree state non to share any inside information.',\n",
       " 'But you told maine not to share any contingent.',\n",
       " 'No, Ane change my mind.',\n",
       " 'No, Iodin changed my idea.',\n",
       " 'No, I interchange my nous.',\n",
       " 'Ane have cancelled your update limit request, Is there anything else 1 can facilitate you with?',\n",
       " 'Ace have cancelled your update limit request, Is on that point anything else I fanny aid you with?',\n",
       " 'I have cancelled your update limit request, Be in that location anything else I can help you with?',\n",
       " \"No, Ace deliver changed my brain. I ' m happy to pay broad defrayment.\",\n",
       " \"No, I have got changed my mind. 1 ' m happy to pay total defrayment.\",\n",
       " \"No, I ingest changed my mind. I ' m happy to make up full defrayment.\",\n",
       " \"No, I don ' t want to locomote for EMI alternative.\",\n",
       " \"No, Iodine assume ' t want to lead for EMI option.\",\n",
       " \"No, I don ' triiodothyronine want to belong for EMI option.\",\n",
       " 'No, 1 am happy to compensate total payment.',\n",
       " 'No, Iodin am felicitous to pay full defrayment.',\n",
       " 'No, I am happy to compensate full requital.',\n",
       " \"No, you ' atomic number 75, An interest pace comprise too mellow.\",\n",
       " \"No, you ' atomic number 75, An stake charge per unit is too high.\",\n",
       " \"No, you ' re, An stake pace is also high.\",\n",
       " 'No. This term of office period be too long.',\n",
       " 'No. This land tenure period represent as well long.',\n",
       " 'No. This term of office period is likewise long.']"
      ]
     },
     "execution_count": 50,
     "metadata": {},
     "output_type": "execute_result"
    }
   ],
   "source": [
    "sent"
   ]
  },
  {
   "cell_type": "code",
   "execution_count": 51,
   "id": "a984db35",
   "metadata": {},
   "outputs": [
    {
     "data": {
      "text/html": [
       "<div>\n",
       "<style scoped>\n",
       "    .dataframe tbody tr th:only-of-type {\n",
       "        vertical-align: middle;\n",
       "    }\n",
       "\n",
       "    .dataframe tbody tr th {\n",
       "        vertical-align: top;\n",
       "    }\n",
       "\n",
       "    .dataframe thead th {\n",
       "        text-align: right;\n",
       "    }\n",
       "</style>\n",
       "<table border=\"1\" class=\"dataframe\">\n",
       "  <thead>\n",
       "    <tr style=\"text-align: right;\">\n",
       "      <th></th>\n",
       "      <th>sentence</th>\n",
       "      <th>tag</th>\n",
       "    </tr>\n",
       "  </thead>\n",
       "  <tbody>\n",
       "    <tr>\n",
       "      <th>0</th>\n",
       "      <td>Welcome to celebal tech,IVR automation demo.</td>\n",
       "      <td>1</td>\n",
       "    </tr>\n",
       "    <tr>\n",
       "      <th>1</th>\n",
       "      <td>Hello. Hi, how are you?</td>\n",
       "      <td>1</td>\n",
       "    </tr>\n",
       "    <tr>\n",
       "      <th>2</th>\n",
       "      <td>I'm fine. Thank you for calling CT,Health insu...</td>\n",
       "      <td>2</td>\n",
       "    </tr>\n",
       "    <tr>\n",
       "      <th>3</th>\n",
       "      <td>I have an health policy with you. I wanted to ...</td>\n",
       "      <td>1</td>\n",
       "    </tr>\n",
       "    <tr>\n",
       "      <th>4</th>\n",
       "      <td>Of course I can do that,Could you please confi...</td>\n",
       "      <td>1</td>\n",
       "    </tr>\n",
       "  </tbody>\n",
       "</table>\n",
       "</div>"
      ],
      "text/plain": [
       "                                            sentence  tag\n",
       "0       Welcome to celebal tech,IVR automation demo.    1\n",
       "1                            Hello. Hi, how are you?    1\n",
       "2  I'm fine. Thank you for calling CT,Health insu...    2\n",
       "3  I have an health policy with you. I wanted to ...    1\n",
       "4  Of course I can do that,Could you please confi...    1"
      ]
     },
     "execution_count": 51,
     "metadata": {},
     "output_type": "execute_result"
    }
   ],
   "source": [
    "data_all.head()"
   ]
  },
  {
   "cell_type": "code",
   "execution_count": 52,
   "id": "394157cc",
   "metadata": {},
   "outputs": [
    {
     "data": {
      "text/plain": [
       "'I have a question. Will this insurance track my family equally intimately?'"
      ]
     },
     "execution_count": 52,
     "metadata": {},
     "output_type": "execute_result"
    }
   ],
   "source": [
    "sent[0]"
   ]
  },
  {
   "cell_type": "code",
   "execution_count": 53,
   "id": "552328aa",
   "metadata": {},
   "outputs": [],
   "source": [
    "dataneg = pd.DataFrame(data=sent,columns=['sentence'])"
   ]
  },
  {
   "cell_type": "code",
   "execution_count": 54,
   "id": "c277e0f0",
   "metadata": {},
   "outputs": [
    {
     "data": {
      "text/html": [
       "<div>\n",
       "<style scoped>\n",
       "    .dataframe tbody tr th:only-of-type {\n",
       "        vertical-align: middle;\n",
       "    }\n",
       "\n",
       "    .dataframe tbody tr th {\n",
       "        vertical-align: top;\n",
       "    }\n",
       "\n",
       "    .dataframe thead th {\n",
       "        text-align: right;\n",
       "    }\n",
       "</style>\n",
       "<table border=\"1\" class=\"dataframe\">\n",
       "  <thead>\n",
       "    <tr style=\"text-align: right;\">\n",
       "      <th></th>\n",
       "      <th>sentence</th>\n",
       "      <th>tag</th>\n",
       "    </tr>\n",
       "  </thead>\n",
       "  <tbody>\n",
       "    <tr>\n",
       "      <th>0</th>\n",
       "      <td>I have a question. Will this insurance track m...</td>\n",
       "      <td>0</td>\n",
       "    </tr>\n",
       "    <tr>\n",
       "      <th>1</th>\n",
       "      <td>One take a doubt. Will this insurance policy c...</td>\n",
       "      <td>0</td>\n",
       "    </tr>\n",
       "    <tr>\n",
       "      <th>2</th>\n",
       "      <td>One have a doubt. Testament this insurance pol...</td>\n",
       "      <td>0</td>\n",
       "    </tr>\n",
       "    <tr>\n",
       "      <th>3</th>\n",
       "      <td>No, non this unity.</td>\n",
       "      <td>0</td>\n",
       "    </tr>\n",
       "    <tr>\n",
       "      <th>4</th>\n",
       "      <td>No, non this i.</td>\n",
       "      <td>0</td>\n",
       "    </tr>\n",
       "  </tbody>\n",
       "</table>\n",
       "</div>"
      ],
      "text/plain": [
       "                                            sentence  tag\n",
       "0  I have a question. Will this insurance track m...    0\n",
       "1  One take a doubt. Will this insurance policy c...    0\n",
       "2  One have a doubt. Testament this insurance pol...    0\n",
       "3                                No, non this unity.    0\n",
       "4                                    No, non this i.    0"
      ]
     },
     "execution_count": 54,
     "metadata": {},
     "output_type": "execute_result"
    }
   ],
   "source": [
    "dataneg['tag'] = 0\n",
    "dataneg.head()"
   ]
  },
  {
   "cell_type": "code",
   "execution_count": 55,
   "id": "c275a90c",
   "metadata": {},
   "outputs": [
    {
     "data": {
      "text/plain": [
       "(807, 2)"
      ]
     },
     "execution_count": 55,
     "metadata": {},
     "output_type": "execute_result"
    }
   ],
   "source": [
    "merged = pd.concat([data_all, dataneg])\n",
    "merged.shape"
   ]
  },
  {
   "cell_type": "code",
   "execution_count": 56,
   "id": "5ad612e2",
   "metadata": {},
   "outputs": [
    {
     "data": {
      "text/plain": [
       "0    0.351921\n",
       "1    0.343247\n",
       "2    0.304833\n",
       "Name: tag, dtype: float64"
      ]
     },
     "execution_count": 56,
     "metadata": {},
     "output_type": "execute_result"
    }
   ],
   "source": [
    "merged['tag'].value_counts()/merged.shape[0]"
   ]
  },
  {
   "cell_type": "code",
   "execution_count": 57,
   "id": "e016a3b7",
   "metadata": {},
   "outputs": [],
   "source": [
    "merged.to_csv('merged.csv')"
   ]
  },
  {
   "cell_type": "code",
   "execution_count": 58,
   "id": "ed63d8ed",
   "metadata": {},
   "outputs": [],
   "source": [
    "data = merged"
   ]
  },
  {
   "cell_type": "code",
   "execution_count": 59,
   "id": "7f77115c",
   "metadata": {},
   "outputs": [
    {
     "data": {
      "text/plain": [
       "<AxesSubplot:xlabel='tag', ylabel='count'>"
      ]
     },
     "execution_count": 59,
     "metadata": {},
     "output_type": "execute_result"
    },
    {
     "data": {
      "image/png": "[encoded data removed]",
      "text/plain": [
       "<Figure size 864x576 with 1 Axes>"
      ]
     },
     "metadata": {
      "image/png": {
       "height": 487,
       "width": 732
      }
     },
     "output_type": "display_data"
    }
   ],
   "source": [
    "sns.countplot(merged.tag)"
   ]
  },
  {
   "cell_type": "code",
   "execution_count": 60,
   "id": "a06bb950",
   "metadata": {},
   "outputs": [],
   "source": [
    "df_train, df_test = train_test_split(data, test_size=0.2, random_state=RANDOM_SEED)\n",
    "df_val, df_test = train_test_split(df_test, test_size=0.5, random_state=RANDOM_SEED)"
   ]
  },
  {
   "cell_type": "code",
   "execution_count": 61,
   "id": "329950b7",
   "metadata": {},
   "outputs": [
    {
     "data": {
      "text/plain": [
       "((645, 2), (81, 2), (81, 2))"
      ]
     },
     "execution_count": 61,
     "metadata": {},
     "output_type": "execute_result"
    }
   ],
   "source": [
    "df_train.shape, df_val.shape, df_test.shape"
   ]
  },
  {
   "cell_type": "markdown",
   "id": "78e9d871",
   "metadata": {},
   "source": [
    "## `Data-Loaders`"
   ]
  },
  {
   "cell_type": "code",
   "execution_count": 62,
   "id": "0436a920",
   "metadata": {},
   "outputs": [],
   "source": [
    "def create_data_loader(df, tokenizer, max_len, batch_size):\n",
    "    ds = GPReviewDataset(\n",
    "        reviews=data.sentence.values,\n",
    "        targets=data.tag.values,\n",
    "        tokenizer=tokenizer,\n",
    "        max_len=max_len\n",
    "  )                                  # Dataset would be created which can be used to create and return dataloader.\n",
    "\n",
    "    return DataLoader(\n",
    "    ds,\n",
    "    batch_size=batch_size,\n",
    "    #num_workers=4\n",
    "  )"
   ]
  },
  {
   "cell_type": "code",
   "execution_count": 63,
   "id": "2aeaa811",
   "metadata": {},
   "outputs": [],
   "source": [
    "BATCH_SIZE = 8\n",
    "\n",
    "train_data_loader = create_data_loader(df_train, tokenizer, MAX_LEN, BATCH_SIZE)\n",
    "val_data_loader = create_data_loader(df_val, tokenizer, MAX_LEN, BATCH_SIZE)\n",
    "test_data_loader = create_data_loader(df_test, tokenizer, MAX_LEN, BATCH_SIZE)"
   ]
  },
  {
   "cell_type": "code",
   "execution_count": 64,
   "id": "e34804a1",
   "metadata": {},
   "outputs": [
    {
     "data": {
      "text/plain": [
       "dict_keys(['review_text', 'input_ids', 'attention_mask', 'targets'])"
      ]
     },
     "execution_count": 64,
     "metadata": {},
     "output_type": "execute_result"
    }
   ],
   "source": [
    "data = next(iter(train_data_loader))\n",
    "data.keys()"
   ]
  },
  {
   "cell_type": "code",
   "execution_count": 65,
   "id": "96b0c7ad",
   "metadata": {},
   "outputs": [
    {
     "name": "stdout",
     "output_type": "stream",
     "text": [
      "torch.Size([8, 150])\n",
      "torch.Size([8, 150])\n",
      "torch.Size([8])\n"
     ]
    }
   ],
   "source": [
    "print(data['input_ids'].shape)\n",
    "print(data['attention_mask'].shape)\n",
    "print(data['targets'].shape)"
   ]
  },
  {
   "cell_type": "markdown",
   "id": "fbf1cbb5",
   "metadata": {},
   "source": [
    "## `Sentiment Classification with BERT and Hugging Face`"
   ]
  },
  {
   "cell_type": "code",
   "execution_count": 66,
   "id": "728e88be",
   "metadata": {},
   "outputs": [
    {
     "name": "stderr",
     "output_type": "stream",
     "text": [
      "Some weights of the model checkpoint at bert-base-cased were not used when initializing BertModel: ['cls.predictions.transform.dense.bias', 'cls.seq_relationship.weight', 'cls.seq_relationship.bias', 'cls.predictions.transform.LayerNorm.weight', 'cls.predictions.transform.dense.weight', 'cls.predictions.bias', 'cls.predictions.transform.LayerNorm.bias', 'cls.predictions.decoder.weight']\n",
      "- This IS expected if you are initializing BertModel from the checkpoint of a model trained on another task or with another architecture (e.g. initializing a BertForSequenceClassification model from a BertForPreTraining model).\n",
      "- This IS NOT expected if you are initializing BertModel from the checkpoint of a model that you expect to be exactly identical (initializing a BertForSequenceClassification model from a BertForSequenceClassification model).\n"
     ]
    }
   ],
   "source": [
    "bert_model = BertModel.from_pretrained(PRE_TRAINED_MODEL_NAME)"
   ]
  },
  {
   "cell_type": "code",
   "execution_count": 67,
   "id": "940bc046",
   "metadata": {},
   "outputs": [
    {
     "data": {
      "text/plain": [
       "odict_keys(['last_hidden_state', 'pooler_output'])"
      ]
     },
     "execution_count": 67,
     "metadata": {},
     "output_type": "execute_result"
    }
   ],
   "source": [
    "model_test = bert_model(\n",
    "  input_ids=encoding_test['input_ids'], \n",
    "  attention_mask=encoding_test['attention_mask']\n",
    ")\n",
    "model_test.keys()"
   ]
  },
  {
   "cell_type": "code",
   "execution_count": 68,
   "id": "98419af1",
   "metadata": {},
   "outputs": [],
   "source": [
    "last_hidden_state=model_test['last_hidden_state']\n",
    "pooled_output=model_test['pooler_output']"
   ]
  },
  {
   "cell_type": "code",
   "execution_count": 69,
   "id": "03db1a3e",
   "metadata": {},
   "outputs": [
    {
     "data": {
      "text/plain": [
       "torch.Size([1, 32, 768])"
      ]
     },
     "execution_count": 69,
     "metadata": {},
     "output_type": "execute_result"
    }
   ],
   "source": [
    "last_hidden_state.shape"
   ]
  },
  {
   "cell_type": "code",
   "execution_count": 70,
   "id": "82679162",
   "metadata": {},
   "outputs": [
    {
     "data": {
      "text/plain": [
       "768"
      ]
     },
     "execution_count": 70,
     "metadata": {},
     "output_type": "execute_result"
    }
   ],
   "source": [
    "bert_model.config.hidden_size"
   ]
  },
  {
   "cell_type": "code",
   "execution_count": 71,
   "id": "d7359f71",
   "metadata": {},
   "outputs": [
    {
     "data": {
      "text/plain": [
       "torch.Size([1, 768])"
      ]
     },
     "execution_count": 71,
     "metadata": {},
     "output_type": "execute_result"
    }
   ],
   "source": [
    "pooled_output.shape"
   ]
  },
  {
   "cell_type": "markdown",
   "id": "1ca65e3d",
   "metadata": {},
   "source": [
    "# `---------------------------------------------------------------`\n",
    "# `Model Building and Training ----------------------`\n",
    "# `---------------------------------------------------------------`"
   ]
  },
  {
   "cell_type": "code",
   "execution_count": 72,
   "id": "3200b018",
   "metadata": {},
   "outputs": [],
   "source": [
    "class SentimentClassifier(nn.Module):\n",
    "\n",
    "    def __init__(self, n_classes):\n",
    "        super(SentimentClassifier, self).__init__()\n",
    "        self.bert = BertModel.from_pretrained(PRE_TRAINED_MODEL_NAME)\n",
    "        self.drop = nn.Dropout(p=0.3)                                 ## For regularization with dropout probability 0.3.\n",
    "        self.out = nn.Linear(self.bert.config.hidden_size, n_classes) ## append an Output fully connected layer representing the number of classes\n",
    "\n",
    "    def forward(self, input_ids, attention_mask):\n",
    "        returned = self.bert(\n",
    "          input_ids=input_ids,\n",
    "          attention_mask=attention_mask\n",
    "        )\n",
    "        pooled_output = returned[\"pooler_output\"]\n",
    "        output = self.drop(pooled_output)\n",
    "        return self.out(output)"
   ]
  },
  {
   "cell_type": "code",
   "execution_count": 73,
   "id": "ee2e5a2f",
   "metadata": {},
   "outputs": [
    {
     "name": "stderr",
     "output_type": "stream",
     "text": [
      "Some weights of the model checkpoint at bert-base-cased were not used when initializing BertModel: ['cls.predictions.transform.dense.bias', 'cls.seq_relationship.weight', 'cls.seq_relationship.bias', 'cls.predictions.transform.LayerNorm.weight', 'cls.predictions.transform.dense.weight', 'cls.predictions.bias', 'cls.predictions.transform.LayerNorm.bias', 'cls.predictions.decoder.weight']\n",
      "- This IS expected if you are initializing BertModel from the checkpoint of a model trained on another task or with another architecture (e.g. initializing a BertForSequenceClassification model from a BertForPreTraining model).\n",
      "- This IS NOT expected if you are initializing BertModel from the checkpoint of a model that you expect to be exactly identical (initializing a BertForSequenceClassification model from a BertForSequenceClassification model).\n"
     ]
    }
   ],
   "source": [
    "model = SentimentClassifier(3)\n",
    "model = model.to(device)"
   ]
  },
  {
   "cell_type": "code",
   "execution_count": 74,
   "id": "3f2cd703",
   "metadata": {},
   "outputs": [
    {
     "name": "stdout",
     "output_type": "stream",
     "text": [
      "torch.Size([8, 150])\n",
      "torch.Size([8, 150])\n"
     ]
    }
   ],
   "source": [
    "input_ids = data['input_ids'].to(device)\n",
    "attention_mask = data['attention_mask'].to(device)\n",
    "\n",
    "print(input_ids.shape)      # batch size x seq length\n",
    "print(attention_mask.shape) # batch size x seq length"
   ]
  },
  {
   "cell_type": "code",
   "execution_count": 75,
   "id": "5acd0f48",
   "metadata": {},
   "outputs": [
    {
     "data": {
      "text/plain": [
       "tensor([[0.2004, 0.4055, 0.3941],\n",
       "        [0.1985, 0.3327, 0.4688],\n",
       "        [0.3624, 0.2897, 0.3480],\n",
       "        [0.3439, 0.2798, 0.3764],\n",
       "        [0.2954, 0.4239, 0.2807],\n",
       "        [0.2119, 0.4038, 0.3843],\n",
       "        [0.3386, 0.2291, 0.4323],\n",
       "        [0.2181, 0.2058, 0.5761]], grad_fn=<SoftmaxBackward0>)"
      ]
     },
     "execution_count": 75,
     "metadata": {},
     "output_type": "execute_result"
    }
   ],
   "source": [
    "F.softmax(model(input_ids, attention_mask), dim=1)"
   ]
  },
  {
   "cell_type": "code",
   "execution_count": 76,
   "id": "d7fc2ec5",
   "metadata": {},
   "outputs": [],
   "source": [
    "EPOCHS = 3\n",
    "\n",
    "optimizer = AdamW(model.parameters(), lr=2e-5, correct_bias=False)\n",
    "total_steps = len(train_data_loader) * EPOCHS    # Number of batches * Epochs (Required for the scheduler.)\n",
    " \n",
    "scheduler = get_linear_schedule_with_warmup(\n",
    "  optimizer,\n",
    "  num_warmup_steps=0,     # Recommended in the BERT paper.\n",
    "  num_training_steps=total_steps  \n",
    ")\n",
    "\n",
    "loss_fn = nn.CrossEntropyLoss().to(device)"
   ]
  },
  {
   "cell_type": "code",
   "execution_count": 77,
   "id": "b3ca6ae9",
   "metadata": {},
   "outputs": [],
   "source": [
    "def train_epoch(\n",
    "  model, \n",
    "  data_loader, \n",
    "  loss_fn, \n",
    "  optimizer, \n",
    "  device, \n",
    "  scheduler, \n",
    "  n_examples\n",
    "):\n",
    "  model = model.train()    # To make sure that the droupout and normalization is enabled during the training.\n",
    "\n",
    "  losses = []\n",
    "  correct_predictions = 0\n",
    "  \n",
    "  for d in data_loader:\n",
    "    input_ids = d[\"input_ids\"].to(device)\n",
    "    attention_mask = d[\"attention_mask\"].to(device)\n",
    "    targets = d[\"targets\"].to(device)\n",
    "\n",
    "    outputs = model(\n",
    "      input_ids=input_ids,\n",
    "      attention_mask=attention_mask\n",
    "    )\n",
    "\n",
    "    max_prob, preds = torch.max(outputs, dim=1)    # Returns 2 tensors, one with max_probability and another with the respective predicted label.\n",
    "    loss = loss_fn(outputs, targets)\n",
    "\n",
    "    correct_predictions += torch.sum(preds == targets)\n",
    "    losses.append(loss.item())\n",
    "\n",
    "    loss.backward()     # Back_Propogation\n",
    "    nn.utils.clip_grad_norm_(model.parameters(), max_norm=1.0)  # Recommended by the BERT paper to clip the gradients to avoid exploding gradients.\n",
    "    optimizer.step()\n",
    "    scheduler.step()\n",
    "    optimizer.zero_grad()\n",
    "\n",
    "  return correct_predictions.double() / n_examples, np.mean(losses)     # Return the mean loss and the ratio of correct predictions."
   ]
  },
  {
   "cell_type": "code",
   "execution_count": 78,
   "id": "4e9c6a04",
   "metadata": {},
   "outputs": [],
   "source": [
    "def eval_model(model, data_loader, loss_fn, device, n_examples):\n",
    "  model = model.eval()        # To make sure that the droupout and normalization is disabled during the training.\n",
    "\n",
    "  losses = []\n",
    "  correct_predictions = 0\n",
    "\n",
    "  with torch.no_grad():        # Back propogation is not required. Torch would perform faster. \n",
    "    for d in data_loader:\n",
    "      input_ids = d[\"input_ids\"].to(device)\n",
    "      attention_mask = d[\"attention_mask\"].to(device)\n",
    "      targets = d[\"targets\"].to(device)\n",
    "\n",
    "      outputs = model(\n",
    "        input_ids=input_ids,\n",
    "        attention_mask=attention_mask\n",
    "      )\n",
    "      max_prob, preds = torch.max(outputs, dim=1)\n",
    "\n",
    "      loss = loss_fn(outputs, targets)\n",
    "\n",
    "      correct_predictions += torch.sum(preds == targets)\n",
    "      losses.append(loss.item())\n",
    "\n",
    "  return correct_predictions.double() / n_examples, np.mean(losses)"
   ]
  },
  {
   "cell_type": "code",
   "execution_count": 79,
   "id": "24ccbde5",
   "metadata": {},
   "outputs": [
    {
     "name": "stdout",
     "output_type": "stream",
     "text": [
      "Epoch 1/3\n",
      "----------\n",
      "Train loss 0.7134970826728473 accuracy 0.8465116279069768\n",
      "Val   loss 4.52144694420864 accuracy 3.6049382716049383\n",
      "\n",
      "Epoch 2/3\n",
      "----------\n"
     ]
    },
    {
     "ename": "KeyboardInterrupt",
     "evalue": "",
     "output_type": "error",
     "traceback": [
      "\u001b[1;31m---------------------------------------------------------------------------\u001b[0m",
      "\u001b[1;31mKeyboardInterrupt\u001b[0m                         Traceback (most recent call last)",
      "File \u001b[1;32m<timed exec>:9\u001b[0m, in \u001b[0;36m<module>\u001b[1;34m\u001b[0m\n",
      "Input \u001b[1;32mIn [77]\u001b[0m, in \u001b[0;36mtrain_epoch\u001b[1;34m(model, data_loader, loss_fn, optimizer, device, scheduler, n_examples)\u001b[0m\n\u001b[0;32m     31\u001b[0m loss\u001b[38;5;241m.\u001b[39mbackward()     \u001b[38;5;66;03m# Back_Propogation\u001b[39;00m\n\u001b[0;32m     32\u001b[0m nn\u001b[38;5;241m.\u001b[39mutils\u001b[38;5;241m.\u001b[39mclip_grad_norm_(model\u001b[38;5;241m.\u001b[39mparameters(), max_norm\u001b[38;5;241m=\u001b[39m\u001b[38;5;241m1.0\u001b[39m)  \u001b[38;5;66;03m# Recommended by the BERT paper to clip the gradients to avoid exploding gradients.\u001b[39;00m\n\u001b[1;32m---> 33\u001b[0m \u001b[43moptimizer\u001b[49m\u001b[38;5;241;43m.\u001b[39;49m\u001b[43mstep\u001b[49m\u001b[43m(\u001b[49m\u001b[43m)\u001b[49m\n\u001b[0;32m     34\u001b[0m scheduler\u001b[38;5;241m.\u001b[39mstep()\n\u001b[0;32m     35\u001b[0m optimizer\u001b[38;5;241m.\u001b[39mzero_grad()\n",
      "File \u001b[1;32m~\\Anaconda3\\lib\\site-packages\\torch\\optim\\lr_scheduler.py:65\u001b[0m, in \u001b[0;36m_LRScheduler.__init__.<locals>.with_counter.<locals>.wrapper\u001b[1;34m(*args, **kwargs)\u001b[0m\n\u001b[0;32m     63\u001b[0m instance\u001b[38;5;241m.\u001b[39m_step_count \u001b[38;5;241m+\u001b[39m\u001b[38;5;241m=\u001b[39m \u001b[38;5;241m1\u001b[39m\n\u001b[0;32m     64\u001b[0m wrapped \u001b[38;5;241m=\u001b[39m func\u001b[38;5;241m.\u001b[39m\u001b[38;5;21m__get__\u001b[39m(instance, \u001b[38;5;28mcls\u001b[39m)\n\u001b[1;32m---> 65\u001b[0m \u001b[38;5;28;01mreturn\u001b[39;00m wrapped(\u001b[38;5;241m*\u001b[39margs, \u001b[38;5;241m*\u001b[39m\u001b[38;5;241m*\u001b[39mkwargs)\n",
      "File \u001b[1;32m~\\Anaconda3\\lib\\site-packages\\torch\\optim\\optimizer.py:88\u001b[0m, in \u001b[0;36mOptimizer._hook_for_profile.<locals>.profile_hook_step.<locals>.wrapper\u001b[1;34m(*args, **kwargs)\u001b[0m\n\u001b[0;32m     86\u001b[0m profile_name \u001b[38;5;241m=\u001b[39m \u001b[38;5;124m\"\u001b[39m\u001b[38;5;124mOptimizer.step#\u001b[39m\u001b[38;5;132;01m{}\u001b[39;00m\u001b[38;5;124m.step\u001b[39m\u001b[38;5;124m\"\u001b[39m\u001b[38;5;241m.\u001b[39mformat(obj\u001b[38;5;241m.\u001b[39m\u001b[38;5;18m__class__\u001b[39m\u001b[38;5;241m.\u001b[39m\u001b[38;5;18m__name__\u001b[39m)\n\u001b[0;32m     87\u001b[0m \u001b[38;5;28;01mwith\u001b[39;00m torch\u001b[38;5;241m.\u001b[39mautograd\u001b[38;5;241m.\u001b[39mprofiler\u001b[38;5;241m.\u001b[39mrecord_function(profile_name):\n\u001b[1;32m---> 88\u001b[0m     \u001b[38;5;28;01mreturn\u001b[39;00m func(\u001b[38;5;241m*\u001b[39margs, \u001b[38;5;241m*\u001b[39m\u001b[38;5;241m*\u001b[39mkwargs)\n",
      "File \u001b[1;32m~\\Anaconda3\\lib\\site-packages\\transformers\\optimization.py:360\u001b[0m, in \u001b[0;36mAdamW.step\u001b[1;34m(self, closure)\u001b[0m\n\u001b[0;32m    357\u001b[0m \u001b[38;5;66;03m# Decay the first and second moment running average coefficient\u001b[39;00m\n\u001b[0;32m    358\u001b[0m \u001b[38;5;66;03m# In-place operations to update the averages at the same time\u001b[39;00m\n\u001b[0;32m    359\u001b[0m exp_avg\u001b[38;5;241m.\u001b[39mmul_(beta1)\u001b[38;5;241m.\u001b[39madd_(grad, alpha\u001b[38;5;241m=\u001b[39m(\u001b[38;5;241m1.0\u001b[39m \u001b[38;5;241m-\u001b[39m beta1))\n\u001b[1;32m--> 360\u001b[0m \u001b[43mexp_avg_sq\u001b[49m\u001b[38;5;241;43m.\u001b[39;49m\u001b[43mmul_\u001b[49m\u001b[43m(\u001b[49m\u001b[43mbeta2\u001b[49m\u001b[43m)\u001b[49m\u001b[38;5;241m.\u001b[39maddcmul_(grad, grad, value\u001b[38;5;241m=\u001b[39m\u001b[38;5;241m1.0\u001b[39m \u001b[38;5;241m-\u001b[39m beta2)\n\u001b[0;32m    361\u001b[0m denom \u001b[38;5;241m=\u001b[39m exp_avg_sq\u001b[38;5;241m.\u001b[39msqrt()\u001b[38;5;241m.\u001b[39madd_(group[\u001b[38;5;124m\"\u001b[39m\u001b[38;5;124meps\u001b[39m\u001b[38;5;124m\"\u001b[39m])\n\u001b[0;32m    363\u001b[0m step_size \u001b[38;5;241m=\u001b[39m group[\u001b[38;5;124m\"\u001b[39m\u001b[38;5;124mlr\u001b[39m\u001b[38;5;124m\"\u001b[39m]\n",
      "\u001b[1;31mKeyboardInterrupt\u001b[0m: "
     ]
    }
   ],
   "source": [
    "%%time\n",
    "\n",
    "history = defaultdict(list)          # Similar to Keras library saves history\n",
    "best_accuracy = 0                    \n",
    "\n",
    "for epoch in range(EPOCHS):\n",
    "\n",
    "  print(f'Epoch {epoch + 1}/{EPOCHS}')\n",
    "  print('-' * 10)\n",
    "\n",
    "  train_acc, train_loss = train_epoch(\n",
    "    model,\n",
    "    train_data_loader,    \n",
    "    loss_fn, \n",
    "    optimizer, \n",
    "    device, \n",
    "    scheduler, \n",
    "    len(df_train)\n",
    "  )\n",
    "\n",
    "  print(f'Train loss {train_loss} accuracy {train_acc}')\n",
    "\n",
    "  val_acc, val_loss = eval_model(\n",
    "    model,\n",
    "    val_data_loader,\n",
    "    loss_fn, \n",
    "    device, \n",
    "    len(df_val)\n",
    "  )\n",
    "\n",
    "  print(f'Val   loss {val_loss} accuracy {val_acc}')\n",
    "  print()\n",
    "\n",
    "  history['train_acc'].append(train_acc)\n",
    "  history['train_loss'].append(train_loss)\n",
    "  history['val_acc'].append(val_acc)\n",
    "  history['val_loss'].append(val_loss)\n",
    "\n",
    "  if val_acc > best_accuracy:\n",
    "    torch.save(model.state_dict(), 'best_model_state.bin')\n",
    "    best_accuracy = val_acc"
   ]
  },
  {
   "cell_type": "markdown",
   "id": "af110154",
   "metadata": {},
   "source": [
    "# `--------------------------------------------------------`\n",
    "# `Prediction ----------------------------------------`\n",
    "# `--------------------------------------------------------`"
   ]
  },
  {
   "cell_type": "code",
   "execution_count": 80,
   "id": "e1414960",
   "metadata": {},
   "outputs": [],
   "source": [
    "def predict(text):\n",
    "    review_text = text\n",
    "    encoded_review = tokenizer.encode_plus(\n",
    "      review_text,\n",
    "      max_length=MAX_LEN,\n",
    "      add_special_tokens=True,\n",
    "      return_token_type_ids=False,\n",
    "      pad_to_max_length=True,\n",
    "      return_attention_mask=True,\n",
    "      return_tensors='pt',\n",
    "    )\n",
    "    class_names = ['negative', 'neutral', 'positive']\n",
    "    input_ids = encoded_review['input_ids'].to(device)\n",
    "    attention_mask = encoded_review['attention_mask'].to(device)\n",
    "\n",
    "    output = model(input_ids, attention_mask)\n",
    "    _, prediction = torch.max(output, dim=1)\n",
    "    print(prediction)\n",
    "\n",
    "    print(f'Review text: {review_text}')\n",
    "    print(f'Sentiment  : {class_names[prediction]}')"
   ]
  },
  {
   "cell_type": "code",
   "execution_count": 81,
   "id": "a85fdeb2",
   "metadata": {},
   "outputs": [
    {
     "name": "stdout",
     "output_type": "stream",
     "text": [
      "tensor([2])\n",
      "Review text: Hello. Hi, how are you?\n",
      "Sentiment  : positive\n"
     ]
    }
   ],
   "source": [
    "predict('Hello. Hi, how are you?')"
   ]
  },
  {
   "cell_type": "code",
   "execution_count": 82,
   "id": "4caedd9b",
   "metadata": {},
   "outputs": [
    {
     "name": "stdout",
     "output_type": "stream",
     "text": [
      "tensor([2])\n",
      "Review text: That's no issue\n",
      "Sentiment  : positive\n"
     ]
    }
   ],
   "source": [
    "predict('That\\'s no issue')"
   ]
  },
  {
   "cell_type": "markdown",
   "id": "14a277d3",
   "metadata": {},
   "source": [
    "## `Negative`"
   ]
  },
  {
   "cell_type": "code",
   "execution_count": 83,
   "id": "7cd64665",
   "metadata": {},
   "outputs": [
    {
     "data": {
      "text/html": [
       "<div>\n",
       "<style scoped>\n",
       "    .dataframe tbody tr th:only-of-type {\n",
       "        vertical-align: middle;\n",
       "    }\n",
       "\n",
       "    .dataframe tbody tr th {\n",
       "        vertical-align: top;\n",
       "    }\n",
       "\n",
       "    .dataframe thead th {\n",
       "        text-align: right;\n",
       "    }\n",
       "</style>\n",
       "<table border=\"1\" class=\"dataframe\">\n",
       "  <thead>\n",
       "    <tr style=\"text-align: right;\">\n",
       "      <th></th>\n",
       "      <th>sentence</th>\n",
       "      <th>tag</th>\n",
       "    </tr>\n",
       "  </thead>\n",
       "  <tbody>\n",
       "    <tr>\n",
       "      <th>13</th>\n",
       "      <td>I have a doubt. Will this policy cover my fami...</td>\n",
       "      <td>0</td>\n",
       "    </tr>\n",
       "    <tr>\n",
       "      <th>23</th>\n",
       "      <td>No, not this one.</td>\n",
       "      <td>0</td>\n",
       "    </tr>\n",
       "    <tr>\n",
       "      <th>27</th>\n",
       "      <td>I didn't get you. Can you repeat?</td>\n",
       "      <td>0</td>\n",
       "    </tr>\n",
       "    <tr>\n",
       "      <th>29</th>\n",
       "      <td>Hold on for a second.</td>\n",
       "      <td>0</td>\n",
       "    </tr>\n",
       "    <tr>\n",
       "      <th>41</th>\n",
       "      <td>What will happen,If I preclose this EMI.</td>\n",
       "      <td>0</td>\n",
       "    </tr>\n",
       "  </tbody>\n",
       "</table>\n",
       "</div>"
      ],
      "text/plain": [
       "                                             sentence  tag\n",
       "13  I have a doubt. Will this policy cover my fami...    0\n",
       "23                                  No, not this one.    0\n",
       "27                  I didn't get you. Can you repeat?    0\n",
       "29                              Hold on for a second.    0\n",
       "41           What will happen,If I preclose this EMI.    0"
      ]
     },
     "execution_count": 83,
     "metadata": {},
     "output_type": "execute_result"
    }
   ],
   "source": [
    "merged[merged.tag == 0][:5]"
   ]
  },
  {
   "cell_type": "code",
   "execution_count": 84,
   "id": "ebcd9079",
   "metadata": {},
   "outputs": [
    {
     "name": "stdout",
     "output_type": "stream",
     "text": [
      "tensor([2])\n",
      "Review text: No, not this one\n",
      "Sentiment  : positive\n"
     ]
    }
   ],
   "source": [
    "predict('No, not this one')"
   ]
  },
  {
   "cell_type": "code",
   "execution_count": 85,
   "id": "9f967b55",
   "metadata": {},
   "outputs": [
    {
     "name": "stdout",
     "output_type": "stream",
     "text": [
      "tensor([2])\n",
      "Review text: I didn't get you. Can you repeat?\n",
      "Sentiment  : positive\n"
     ]
    }
   ],
   "source": [
    "predict('I didn\\'t get you. Can you repeat?')"
   ]
  },
  {
   "cell_type": "code",
   "execution_count": 86,
   "id": "709ae874",
   "metadata": {},
   "outputs": [
    {
     "name": "stdout",
     "output_type": "stream",
     "text": [
      "tensor([2])\n",
      "Review text: Hold on for a second.\n",
      "Sentiment  : positive\n"
     ]
    }
   ],
   "source": [
    "predict('Hold on for a second.')"
   ]
  },
  {
   "cell_type": "markdown",
   "id": "5b596337",
   "metadata": {},
   "source": [
    "## `Positive`"
   ]
  },
  {
   "cell_type": "code",
   "execution_count": 87,
   "id": "03f3f482",
   "metadata": {},
   "outputs": [
    {
     "data": {
      "text/html": [
       "<div>\n",
       "<style scoped>\n",
       "    .dataframe tbody tr th:only-of-type {\n",
       "        vertical-align: middle;\n",
       "    }\n",
       "\n",
       "    .dataframe tbody tr th {\n",
       "        vertical-align: top;\n",
       "    }\n",
       "\n",
       "    .dataframe thead th {\n",
       "        text-align: right;\n",
       "    }\n",
       "</style>\n",
       "<table border=\"1\" class=\"dataframe\">\n",
       "  <thead>\n",
       "    <tr style=\"text-align: right;\">\n",
       "      <th></th>\n",
       "      <th>sentence</th>\n",
       "      <th>tag</th>\n",
       "    </tr>\n",
       "  </thead>\n",
       "  <tbody>\n",
       "    <tr>\n",
       "      <th>76</th>\n",
       "      <td>Thanks for confirming your name Manoj.</td>\n",
       "      <td>2</td>\n",
       "    </tr>\n",
       "    <tr>\n",
       "      <th>17</th>\n",
       "      <td>Thank you.</td>\n",
       "      <td>2</td>\n",
       "    </tr>\n",
       "    <tr>\n",
       "      <th>466</th>\n",
       "      <td>It's OK,'s fine.</td>\n",
       "      <td>2</td>\n",
       "    </tr>\n",
       "    <tr>\n",
       "      <th>210</th>\n",
       "      <td>Yes, my name is Manoj, and my date of birth is...</td>\n",
       "      <td>2</td>\n",
       "    </tr>\n",
       "    <tr>\n",
       "      <th>403</th>\n",
       "      <td>Hello, everyone. Celebal technologies power th...</td>\n",
       "      <td>2</td>\n",
       "    </tr>\n",
       "  </tbody>\n",
       "</table>\n",
       "</div>"
      ],
      "text/plain": [
       "                                              sentence  tag\n",
       "76              Thanks for confirming your name Manoj.    2\n",
       "17                                          Thank you.    2\n",
       "466                                   It's OK,'s fine.    2\n",
       "210  Yes, my name is Manoj, and my date of birth is...    2\n",
       "403  Hello, everyone. Celebal technologies power th...    2"
      ]
     },
     "execution_count": 87,
     "metadata": {},
     "output_type": "execute_result"
    }
   ],
   "source": [
    "merged[merged.tag == 2].sample(5)"
   ]
  },
  {
   "cell_type": "code",
   "execution_count": 88,
   "id": "3a068426",
   "metadata": {},
   "outputs": [
    {
     "name": "stdout",
     "output_type": "stream",
     "text": [
      "tensor([1])\n",
      "Review text: Thank you\n",
      "Sentiment  : neutral\n"
     ]
    }
   ],
   "source": [
    "predict('Thank you')"
   ]
  },
  {
   "cell_type": "code",
   "execution_count": 89,
   "id": "6894c1f0",
   "metadata": {},
   "outputs": [
    {
     "name": "stdout",
     "output_type": "stream",
     "text": [
      "tensor([1])\n",
      "Review text: It's OK,'s fine\n",
      "Sentiment  : neutral\n"
     ]
    }
   ],
   "source": [
    "predict('It\\'s OK,\\'s fine')"
   ]
  },
  {
   "cell_type": "code",
   "execution_count": 90,
   "id": "22745106",
   "metadata": {},
   "outputs": [
    {
     "name": "stdout",
     "output_type": "stream",
     "text": [
      "tensor([2])\n",
      "Review text: Thanks for confirming your name Manoj\n",
      "Sentiment  : positive\n"
     ]
    }
   ],
   "source": [
    "predict('Thanks for confirming your name Manoj')"
   ]
  },
  {
   "cell_type": "markdown",
   "id": "c18634fe",
   "metadata": {},
   "source": [
    "## `Neutral`"
   ]
  },
  {
   "cell_type": "code",
   "execution_count": 91,
   "id": "55f0e007",
   "metadata": {},
   "outputs": [
    {
     "data": {
      "text/html": [
       "<div>\n",
       "<style scoped>\n",
       "    .dataframe tbody tr th:only-of-type {\n",
       "        vertical-align: middle;\n",
       "    }\n",
       "\n",
       "    .dataframe tbody tr th {\n",
       "        vertical-align: top;\n",
       "    }\n",
       "\n",
       "    .dataframe thead th {\n",
       "        text-align: right;\n",
       "    }\n",
       "</style>\n",
       "<table border=\"1\" class=\"dataframe\">\n",
       "  <thead>\n",
       "    <tr style=\"text-align: right;\">\n",
       "      <th></th>\n",
       "      <th>sentence</th>\n",
       "      <th>tag</th>\n",
       "    </tr>\n",
       "  </thead>\n",
       "  <tbody>\n",
       "    <tr>\n",
       "      <th>508</th>\n",
       "      <td>OK, I can also see a transaction of 32,000 don...</td>\n",
       "      <td>1</td>\n",
       "    </tr>\n",
       "    <tr>\n",
       "      <th>164</th>\n",
       "      <td>I want to go for a two-year plan.</td>\n",
       "      <td>1</td>\n",
       "    </tr>\n",
       "    <tr>\n",
       "      <th>104</th>\n",
       "      <td>I want to,Upgrade my,Online transaction limit ...</td>\n",
       "      <td>1</td>\n",
       "    </tr>\n",
       "    <tr>\n",
       "      <th>206</th>\n",
       "      <td>I want to know more about my Insurance policy.</td>\n",
       "      <td>1</td>\n",
       "    </tr>\n",
       "    <tr>\n",
       "      <th>245</th>\n",
       "      <td>This call is being recorded by a celebal tech ...</td>\n",
       "      <td>1</td>\n",
       "    </tr>\n",
       "  </tbody>\n",
       "</table>\n",
       "</div>"
      ],
      "text/plain": [
       "                                              sentence  tag\n",
       "508  OK, I can also see a transaction of 32,000 don...    1\n",
       "164                  I want to go for a two-year plan.    1\n",
       "104  I want to,Upgrade my,Online transaction limit ...    1\n",
       "206     I want to know more about my Insurance policy.    1\n",
       "245  This call is being recorded by a celebal tech ...    1"
      ]
     },
     "execution_count": 91,
     "metadata": {},
     "output_type": "execute_result"
    }
   ],
   "source": [
    "merged[merged.tag == 1].sample(5)"
   ]
  },
  {
   "cell_type": "code",
   "execution_count": 92,
   "id": "46bb6146",
   "metadata": {},
   "outputs": [
    {
     "name": "stdout",
     "output_type": "stream",
     "text": [
      "tensor([2])\n",
      "Review text: I want to know more about my Insurance policy.\n",
      "Sentiment  : positive\n"
     ]
    }
   ],
   "source": [
    "predict('I want to know more about my Insurance policy.')"
   ]
  },
  {
   "cell_type": "code",
   "execution_count": 93,
   "id": "fac28056",
   "metadata": {},
   "outputs": [
    {
     "name": "stdout",
     "output_type": "stream",
     "text": [
      "tensor([2])\n",
      "Review text: I want to go for a two-year plan\n",
      "Sentiment  : positive\n"
     ]
    }
   ],
   "source": [
    "predict('I want to go for a two-year plan')"
   ]
  },
  {
   "cell_type": "code",
   "execution_count": 94,
   "id": "9b9fd826",
   "metadata": {},
   "outputs": [
    {
     "name": "stdout",
     "output_type": "stream",
     "text": [
      "tensor([2])\n",
      "Review text: So should I proceed?\n",
      "Sentiment  : positive\n"
     ]
    }
   ],
   "source": [
    "predict('So should I proceed?')"
   ]
  },
  {
   "cell_type": "code",
   "execution_count": 95,
   "id": "5dc904ca",
   "metadata": {},
   "outputs": [
    {
     "name": "stdout",
     "output_type": "stream",
     "text": [
      "tensor([2])\n",
      "Review text: How much money will you need for this loan?\n",
      "Sentiment  : positive\n"
     ]
    }
   ],
   "source": [
    "predict('How much money will you need for this loan?')"
   ]
  },
  {
   "cell_type": "code",
   "execution_count": 96,
   "id": "5976abdb",
   "metadata": {},
   "outputs": [
    {
     "name": "stdout",
     "output_type": "stream",
     "text": [
      "tensor([2])\n",
      "Review text: What is,Tenure period.\n",
      "Sentiment  : positive\n"
     ]
    }
   ],
   "source": [
    "predict('What is,Tenure period.')"
   ]
  },
  {
   "cell_type": "markdown",
   "id": "7c436cae",
   "metadata": {},
   "source": [
    "# NOTE: `Needs more epoch training, atleast 10`"
   ]
  },
  {
   "cell_type": "code",
   "execution_count": null,
   "id": "a7363002",
   "metadata": {},
   "outputs": [],
   "source": []
  }
 ],
 "metadata": {
  "kernelspec": {
   "display_name": "Python 3 (ipykernel)",
   "language": "python",
   "name": "python3"
  },
  "language_info": {
   "codemirror_mode": {
    "name": "ipython",
    "version": 3
   },
   "file_extension": ".py",
   "mimetype": "text/x-python",
   "name": "python",
   "nbconvert_exporter": "python",
   "pygments_lexer": "ipython3",
   "version": "3.9.12"
  }
 },
 "nbformat": 4,
 "nbformat_minor": 5
}

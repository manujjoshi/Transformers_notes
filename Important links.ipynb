{
 "cells": [
  {
   "cell_type": "markdown",
   "id": "ffd73fb9",
   "metadata": {},
   "source": [
    "# `Important Links related to transformers`\n",
    "## [Transformers from Scratch with Pytorch](https://medium.com/the-dl/transformers-from-scratch-in-pytorch-8777e346ca51)"
   ]
  },
  {
   "cell_type": "code",
   "execution_count": null,
   "id": "dce27949",
   "metadata": {},
   "outputs": [],
   "source": []
  }
 ],
 "metadata": {
  "kernelspec": {
   "display_name": "Python 3 (ipykernel)",
   "language": "python",
   "name": "python3"
  },
  "language_info": {
   "codemirror_mode": {
    "name": "ipython",
    "version": 3
   },
   "file_extension": ".py",
   "mimetype": "text/x-python",
   "name": "python",
   "nbconvert_exporter": "python",
   "pygments_lexer": "ipython3",
   "version": "3.9.12"
  }
 },
 "nbformat": 4,
 "nbformat_minor": 5
}

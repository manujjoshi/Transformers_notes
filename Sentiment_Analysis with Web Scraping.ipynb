{
  "nbformat": 4,
  "nbformat_minor": 0,
  "metadata": {
    "colab": {
      "name": "Sentiment Analysis.ipynb",
      "provenance": []
    },
    "kernelspec": {
      "name": "python3",
      "display_name": "Python 3"
    },
    "language_info": {
      "name": "python"
    },
    "gpuClass": "standard"
  },
  "cells": [
    {
      "cell_type": "markdown",
      "source": [
        "## [Sentiment Analysis medium blog](https://niteshkumardew11.medium.com/fine-tuning-bert-base-using-pytorch-for-sentiment-analysis-c44a3ce79091)\n",
        "## [Sentiment Analysis Github notebook](https://github.com/Nitesh0406/-Fine-Tuning-BERT-base-for-Sentiment-Analysis./blob/main/BERT_Sentiment.ipynb)"
      ],
      "metadata": {
        "id": "BvBRsOaJggnx"
      }
    },
    {
      "cell_type": "code",
      "source": [
        "!pip install transformers\n",
        "!pip install google_play_scraper"
      ],
      "metadata": {
        "colab": {
          "base_uri": "https://localhost:8080/"
        },
        "id": "suo7dVCoij6z",
        "outputId": "4285b76d-0856-4d41-8aad-d891cf440692"
      },
      "execution_count": 1,
      "outputs": [
        {
          "output_type": "stream",
          "name": "stdout",
          "text": [
            "Looking in indexes: https://pypi.org/simple, https://us-python.pkg.dev/colab-wheels/public/simple/\n",
            "Requirement already satisfied: transformers in /usr/local/lib/python3.7/dist-packages (4.21.1)\n",
            "Requirement already satisfied: filelock in /usr/local/lib/python3.7/dist-packages (from transformers) (3.8.0)\n",
            "Requirement already satisfied: regex!=2019.12.17 in /usr/local/lib/python3.7/dist-packages (from transformers) (2022.6.2)\n",
            "Requirement already satisfied: numpy>=1.17 in /usr/local/lib/python3.7/dist-packages (from transformers) (1.21.6)\n",
            "Requirement already satisfied: packaging>=20.0 in /usr/local/lib/python3.7/dist-packages (from transformers) (21.3)\n",
            "Requirement already satisfied: requests in /usr/local/lib/python3.7/dist-packages (from transformers) (2.23.0)\n",
            "Requirement already satisfied: tqdm>=4.27 in /usr/local/lib/python3.7/dist-packages (from transformers) (4.64.0)\n",
            "Requirement already satisfied: tokenizers!=0.11.3,<0.13,>=0.11.1 in /usr/local/lib/python3.7/dist-packages (from transformers) (0.12.1)\n",
            "Requirement already satisfied: huggingface-hub<1.0,>=0.1.0 in /usr/local/lib/python3.7/dist-packages (from transformers) (0.8.1)\n",
            "Requirement already satisfied: pyyaml>=5.1 in /usr/local/lib/python3.7/dist-packages (from transformers) (6.0)\n",
            "Requirement already satisfied: importlib-metadata in /usr/local/lib/python3.7/dist-packages (from transformers) (4.12.0)\n",
            "Requirement already satisfied: typing-extensions>=3.7.4.3 in /usr/local/lib/python3.7/dist-packages (from huggingface-hub<1.0,>=0.1.0->transformers) (4.1.1)\n",
            "Requirement already satisfied: pyparsing!=3.0.5,>=2.0.2 in /usr/local/lib/python3.7/dist-packages (from packaging>=20.0->transformers) (3.0.9)\n",
            "Requirement already satisfied: zipp>=0.5 in /usr/local/lib/python3.7/dist-packages (from importlib-metadata->transformers) (3.8.1)\n",
            "Requirement already satisfied: certifi>=2017.4.17 in /usr/local/lib/python3.7/dist-packages (from requests->transformers) (2022.6.15)\n",
            "Requirement already satisfied: urllib3!=1.25.0,!=1.25.1,<1.26,>=1.21.1 in /usr/local/lib/python3.7/dist-packages (from requests->transformers) (1.24.3)\n",
            "Requirement already satisfied: idna<3,>=2.5 in /usr/local/lib/python3.7/dist-packages (from requests->transformers) (2.10)\n",
            "Requirement already satisfied: chardet<4,>=3.0.2 in /usr/local/lib/python3.7/dist-packages (from requests->transformers) (3.0.4)\n",
            "Looking in indexes: https://pypi.org/simple, https://us-python.pkg.dev/colab-wheels/public/simple/\n",
            "Requirement already satisfied: google_play_scraper in /usr/local/lib/python3.7/dist-packages (1.2.2)\n"
          ]
        }
      ]
    },
    {
      "cell_type": "code",
      "source": [
        "import torch\n",
        "import torchvision\n",
        "import torch.nn as nn\n",
        "import transformers\n",
        "from transformers import BertModel\n",
        "from torch.utils.data import Dataset, DataLoader\n",
        "import numpy as np\n",
        "\n",
        "import json\n",
        "import pandas as pd\n",
        "from tqdm import tqdm\n",
        "\n",
        "import seaborn as sns\n",
        "import matplotlib.pyplot as plt\n",
        "\n",
        "from pygments import highlight\n",
        "from pygments.lexers import JsonLexer\n",
        "from pygments.formatters import TerminalFormatter\n",
        "\n",
        "from google_play_scraper import Sort, reviews, app\n",
        "\n",
        "%matplotlib inline\n",
        "%config InlineBackend.figure_format='retina'\n",
        "import warnings\n",
        "warnings.filterwarnings('ignore')\n",
        "\n",
        "sns.set(style='whitegrid', palette='muted', font_scale=1.2)"
      ],
      "metadata": {
        "id": "D2KKgnKjgg5S"
      },
      "execution_count": 2,
      "outputs": []
    },
    {
      "cell_type": "code",
      "source": [
        "## Setting up some global variable\n",
        "\n",
        "COLORS = ['#01BEFE','#FFDD00','#FF7D00','#FF006D','#ADFF02','#8F00FF']\n",
        "from torch.utils import data\n",
        "sns.set_palette(sns.color_palette(COLORS))\n",
        "RANDOM_SEED = 42\n",
        "np.random.seed(RANDOM_SEED)\n",
        "torch.manual_seed(RANDOM_SEED)\n",
        "fig_size = (10,7)"
      ],
      "metadata": {
        "id": "BpDx_vVsiW_N"
      },
      "execution_count": 3,
      "outputs": []
    },
    {
      "cell_type": "markdown",
      "source": [
        "## Webscraping"
      ],
      "metadata": {
        "id": "XbTCsO18jAeH"
      }
    },
    {
      "cell_type": "code",
      "source": [
        "# 15 applications\n",
        "## https://play.google.com/store/apps/details?id= application_id\n",
        "# you can visit the above link with any of the below app id to see the contents of that application. \n",
        "app_packages = [\n",
        "  'com.anydo',\n",
        "  'com.todoist',\n",
        "  'com.ticktick.task',\n",
        "  'com.habitrpg.android.habitica',\n",
        "  'cc.forestapp',\n",
        "  'com.oristats.habitbull',\n",
        "  'com.levor.liferpgtasks',\n",
        "  'com.habitnow',\n",
        "  'com.microsoft.todos',\n",
        "  'prox.lab.calclock',\n",
        "  'com.gmail.jmartindev.timetune',\n",
        "  'com.artfulagenda.app',\n",
        "  'com.tasks.android',\n",
        "  'com.appgenix.bizcal',\n",
        "  'com.appxy.planner'\n",
        "]"
      ],
      "metadata": {
        "id": "CN9BM0BXi8D0"
      },
      "execution_count": 4,
      "outputs": []
    },
    {
      "cell_type": "code",
      "source": [
        "## app_reviews is list of json files.\n",
        "app_reviews = []\n",
        "\n",
        "for app_id in tqdm(app_packages):\n",
        "    for score in range(1,6):\n",
        "        for review_status in [Sort.MOST_RELEVANT , Sort.NEWEST]:\n",
        "            rv,_ = reviews(app_id              # google_play_scaper has a module caled reviews that returns\n",
        "                           ,lang='en'          # app_id,content,review_id,score etc. we can control the \n",
        "                           ,country='us'       # scraping by changing variable such as sort,count,filter_score_with etc.\n",
        "                           ,sort=review_status #\n",
        "                           ,count =  200 if score == 3 else 100\n",
        "                           ,filter_score_with=score)\n",
        "\n",
        "            for r in rv:\n",
        "                r['app_id'] = app_id     # we are adding two more  columns app_id and review_status.\n",
        "                r['review_status'] = 'most_relevent' if review_status==Sort.MOST_RELEVANT else 'newest'\n",
        "            app_reviews.extend(rv)\n",
        "print(len(app_reviews))"
      ],
      "metadata": {
        "colab": {
          "base_uri": "https://localhost:8080/"
        },
        "id": "ie3wj2YFjNbq",
        "outputId": "7a67205d-8b54-4ad8-9967-3c3447966796"
      },
      "execution_count": 5,
      "outputs": [
        {
          "output_type": "stream",
          "name": "stderr",
          "text": [
            "100%|██████████| 15/15 [00:38<00:00,  2.58s/it]"
          ]
        },
        {
          "output_type": "stream",
          "name": "stdout",
          "text": [
            "17220\n"
          ]
        },
        {
          "output_type": "stream",
          "name": "stderr",
          "text": [
            "\n"
          ]
        }
      ]
    },
    {
      "cell_type": "code",
      "source": [
        "## Get information about app\n",
        "def json_formatting(obj):\n",
        "    '''\n",
        "    This function formates dictionary into json (just for reading purpose)\n",
        "    '''\n",
        "    json_object = json.dumps(obj , indent=3, sort_keys= True , default=str)\n",
        "    print(highlight(json_object , JsonLexer() , TerminalFormatter()))\n",
        "\n",
        "json_formatting(app_reviews[0])"
      ],
      "metadata": {
        "colab": {
          "base_uri": "https://localhost:8080/"
        },
        "id": "czOhhb1ljdh_",
        "outputId": "cb19d4a5-5175-4454-eaee-5d9886e21c9e"
      },
      "execution_count": 6,
      "outputs": [
        {
          "output_type": "stream",
          "name": "stdout",
          "text": [
            "{\n",
            "   \u001b[94m\"app_id\"\u001b[39;49;00m: \u001b[33m\"com.anydo\"\u001b[39;49;00m,\n",
            "   \u001b[94m\"at\"\u001b[39;49;00m: \u001b[33m\"2022-02-22 03:24:11\"\u001b[39;49;00m,\n",
            "   \u001b[94m\"content\"\u001b[39;49;00m: \u001b[33m\"After a task is done a duplicate will appear for the same task causing me to have to remove one. Then even if I haven't done a task that day it will still have one of them marked done (the duplicate is always unmarked). I believe this is due to an error in the day tracking it. It seems to be unable to tell whether or not the day is ended. It's rather unfortunate considering it is very easy to personalize and even allows you to create a grocery list. Uninstalled and will not be reinstalling :/\"\u001b[39;49;00m,\n",
            "   \u001b[94m\"repliedAt\"\u001b[39;49;00m: \u001b[33m\"2022-02-24 16:34:04\"\u001b[39;49;00m,\n",
            "   \u001b[94m\"replyContent\"\u001b[39;49;00m: \u001b[33m\"We would be happy to help you resolve all of the issues you have encountered should you send us a bug report via (Settings-Bug Report).\\n\"\u001b[39;49;00m,\n",
            "   \u001b[94m\"reviewCreatedVersion\"\u001b[39;49;00m: \u001b[34mnull\u001b[39;49;00m,\n",
            "   \u001b[94m\"reviewId\"\u001b[39;49;00m: \u001b[33m\"e056d73d-0ff3-4890-8848-8cfdfb63b7be\"\u001b[39;49;00m,\n",
            "   \u001b[94m\"review_status\"\u001b[39;49;00m: \u001b[33m\"most_relevent\"\u001b[39;49;00m,\n",
            "   \u001b[94m\"score\"\u001b[39;49;00m: \u001b[34m1\u001b[39;49;00m,\n",
            "   \u001b[94m\"thumbsUpCount\"\u001b[39;49;00m: \u001b[34m3\u001b[39;49;00m,\n",
            "   \u001b[94m\"userImage\"\u001b[39;49;00m: \u001b[33m\"https://play-lh.googleusercontent.com/a-/AFdZucrgwq2leXsNvf_1vyo-ET3P9vbOf_zWDv4ZIn8NWw\"\u001b[39;49;00m,\n",
            "   \u001b[94m\"userName\"\u001b[39;49;00m: \u001b[33m\"Emie Hickman\"\u001b[39;49;00m\n",
            "}\n",
            "\n"
          ]
        }
      ]
    },
    {
      "cell_type": "code",
      "source": [
        "len(app_reviews)"
      ],
      "metadata": {
        "colab": {
          "base_uri": "https://localhost:8080/"
        },
        "id": "sedktwXfjx22",
        "outputId": "ce87306e-8b04-42ae-c6b5-bac0eef3fe37"
      },
      "execution_count": 7,
      "outputs": [
        {
          "output_type": "execute_result",
          "data": {
            "text/plain": [
              "17220"
            ]
          },
          "metadata": {},
          "execution_count": 7
        }
      ]
    },
    {
      "cell_type": "code",
      "source": [
        "reviews_df = pd.DataFrame(app_reviews)\n",
        "reviews_df.head(2)"
      ],
      "metadata": {
        "colab": {
          "base_uri": "https://localhost:8080/",
          "height": 278
        },
        "id": "J1pfk3kkj_Gs",
        "outputId": "2f49e57e-f0f8-4fb1-e780-c904b73c649a"
      },
      "execution_count": 8,
      "outputs": [
        {
          "output_type": "execute_result",
          "data": {
            "text/plain": [
              "                               reviewId       userName  \\\n",
              "0  e056d73d-0ff3-4890-8848-8cfdfb63b7be   Emie Hickman   \n",
              "1  a6b21375-312e-41b5-90ab-3d56273ca01b  A Google user   \n",
              "\n",
              "                                           userImage  \\\n",
              "0  https://play-lh.googleusercontent.com/a-/AFdZu...   \n",
              "1  https://play-lh.googleusercontent.com/EGemoI2N...   \n",
              "\n",
              "                                             content  score  thumbsUpCount  \\\n",
              "0  After a task is done a duplicate will appear f...      1              3   \n",
              "1  This app was great until the latest update and...      1             24   \n",
              "\n",
              "  reviewCreatedVersion                  at  \\\n",
              "0                 None 2022-02-22 03:24:11   \n",
              "1             4.12.0.5 2019-01-12 13:20:28   \n",
              "\n",
              "                                        replyContent           repliedAt  \\\n",
              "0  We would be happy to help you resolve all of t... 2022-02-24 16:34:04   \n",
              "1  We are sorry you feel this way, please note th... 2019-01-27 15:44:37   \n",
              "\n",
              "      app_id  review_status  \n",
              "0  com.anydo  most_relevent  \n",
              "1  com.anydo  most_relevent  "
            ],
            "text/html": [
              "\n",
              "  <div id=\"df-219a6cce-47ba-44a8-909d-002202f81302\">\n",
              "    <div class=\"colab-df-container\">\n",
              "      <div>\n",
              "<style scoped>\n",
              "    .dataframe tbody tr th:only-of-type {\n",
              "        vertical-align: middle;\n",
              "    }\n",
              "\n",
              "    .dataframe tbody tr th {\n",
              "        vertical-align: top;\n",
              "    }\n",
              "\n",
              "    .dataframe thead th {\n",
              "        text-align: right;\n",
              "    }\n",
              "</style>\n",
              "<table border=\"1\" class=\"dataframe\">\n",
              "  <thead>\n",
              "    <tr style=\"text-align: right;\">\n",
              "      <th></th>\n",
              "      <th>reviewId</th>\n",
              "      <th>userName</th>\n",
              "      <th>userImage</th>\n",
              "      <th>content</th>\n",
              "      <th>score</th>\n",
              "      <th>thumbsUpCount</th>\n",
              "      <th>reviewCreatedVersion</th>\n",
              "      <th>at</th>\n",
              "      <th>replyContent</th>\n",
              "      <th>repliedAt</th>\n",
              "      <th>app_id</th>\n",
              "      <th>review_status</th>\n",
              "    </tr>\n",
              "  </thead>\n",
              "  <tbody>\n",
              "    <tr>\n",
              "      <th>0</th>\n",
              "      <td>e056d73d-0ff3-4890-8848-8cfdfb63b7be</td>\n",
              "      <td>Emie Hickman</td>\n",
              "      <td>https://play-lh.googleusercontent.com/a-/AFdZu...</td>\n",
              "      <td>After a task is done a duplicate will appear f...</td>\n",
              "      <td>1</td>\n",
              "      <td>3</td>\n",
              "      <td>None</td>\n",
              "      <td>2022-02-22 03:24:11</td>\n",
              "      <td>We would be happy to help you resolve all of t...</td>\n",
              "      <td>2022-02-24 16:34:04</td>\n",
              "      <td>com.anydo</td>\n",
              "      <td>most_relevent</td>\n",
              "    </tr>\n",
              "    <tr>\n",
              "      <th>1</th>\n",
              "      <td>a6b21375-312e-41b5-90ab-3d56273ca01b</td>\n",
              "      <td>A Google user</td>\n",
              "      <td>https://play-lh.googleusercontent.com/EGemoI2N...</td>\n",
              "      <td>This app was great until the latest update and...</td>\n",
              "      <td>1</td>\n",
              "      <td>24</td>\n",
              "      <td>4.12.0.5</td>\n",
              "      <td>2019-01-12 13:20:28</td>\n",
              "      <td>We are sorry you feel this way, please note th...</td>\n",
              "      <td>2019-01-27 15:44:37</td>\n",
              "      <td>com.anydo</td>\n",
              "      <td>most_relevent</td>\n",
              "    </tr>\n",
              "  </tbody>\n",
              "</table>\n",
              "</div>\n",
              "      <button class=\"colab-df-convert\" onclick=\"convertToInteractive('df-219a6cce-47ba-44a8-909d-002202f81302')\"\n",
              "              title=\"Convert this dataframe to an interactive table.\"\n",
              "              style=\"display:none;\">\n",
              "        \n",
              "  <svg xmlns=\"http://www.w3.org/2000/svg\" height=\"24px\"viewBox=\"0 0 24 24\"\n",
              "       width=\"24px\">\n",
              "    <path d=\"M0 0h24v24H0V0z\" fill=\"none\"/>\n",
              "    <path d=\"M18.56 5.44l.94 2.06.94-2.06 2.06-.94-2.06-.94-.94-2.06-.94 2.06-2.06.94zm-11 1L8.5 8.5l.94-2.06 2.06-.94-2.06-.94L8.5 2.5l-.94 2.06-2.06.94zm10 10l.94 2.06.94-2.06 2.06-.94-2.06-.94-.94-2.06-.94 2.06-2.06.94z\"/><path d=\"M17.41 7.96l-1.37-1.37c-.4-.4-.92-.59-1.43-.59-.52 0-1.04.2-1.43.59L10.3 9.45l-7.72 7.72c-.78.78-.78 2.05 0 2.83L4 21.41c.39.39.9.59 1.41.59.51 0 1.02-.2 1.41-.59l7.78-7.78 2.81-2.81c.8-.78.8-2.07 0-2.86zM5.41 20L4 18.59l7.72-7.72 1.47 1.35L5.41 20z\"/>\n",
              "  </svg>\n",
              "      </button>\n",
              "      \n",
              "  <style>\n",
              "    .colab-df-container {\n",
              "      display:flex;\n",
              "      flex-wrap:wrap;\n",
              "      gap: 12px;\n",
              "    }\n",
              "\n",
              "    .colab-df-convert {\n",
              "      background-color: #E8F0FE;\n",
              "      border: none;\n",
              "      border-radius: 50%;\n",
              "      cursor: pointer;\n",
              "      display: none;\n",
              "      fill: #1967D2;\n",
              "      height: 32px;\n",
              "      padding: 0 0 0 0;\n",
              "      width: 32px;\n",
              "    }\n",
              "\n",
              "    .colab-df-convert:hover {\n",
              "      background-color: #E2EBFA;\n",
              "      box-shadow: 0px 1px 2px rgba(60, 64, 67, 0.3), 0px 1px 3px 1px rgba(60, 64, 67, 0.15);\n",
              "      fill: #174EA6;\n",
              "    }\n",
              "\n",
              "    [theme=dark] .colab-df-convert {\n",
              "      background-color: #3B4455;\n",
              "      fill: #D2E3FC;\n",
              "    }\n",
              "\n",
              "    [theme=dark] .colab-df-convert:hover {\n",
              "      background-color: #434B5C;\n",
              "      box-shadow: 0px 1px 3px 1px rgba(0, 0, 0, 0.15);\n",
              "      filter: drop-shadow(0px 1px 2px rgba(0, 0, 0, 0.3));\n",
              "      fill: #FFFFFF;\n",
              "    }\n",
              "  </style>\n",
              "\n",
              "      <script>\n",
              "        const buttonEl =\n",
              "          document.querySelector('#df-219a6cce-47ba-44a8-909d-002202f81302 button.colab-df-convert');\n",
              "        buttonEl.style.display =\n",
              "          google.colab.kernel.accessAllowed ? 'block' : 'none';\n",
              "\n",
              "        async function convertToInteractive(key) {\n",
              "          const element = document.querySelector('#df-219a6cce-47ba-44a8-909d-002202f81302');\n",
              "          const dataTable =\n",
              "            await google.colab.kernel.invokeFunction('convertToInteractive',\n",
              "                                                     [key], {});\n",
              "          if (!dataTable) return;\n",
              "\n",
              "          const docLinkHtml = 'Like what you see? Visit the ' +\n",
              "            '<a target=\"_blank\" href=https://colab.research.google.com/notebooks/data_table.ipynb>data table notebook</a>'\n",
              "            + ' to learn more about interactive tables.';\n",
              "          element.innerHTML = '';\n",
              "          dataTable['output_type'] = 'display_data';\n",
              "          await google.colab.output.renderOutput(dataTable, element);\n",
              "          const docLink = document.createElement('div');\n",
              "          docLink.innerHTML = docLinkHtml;\n",
              "          element.appendChild(docLink);\n",
              "        }\n",
              "      </script>\n",
              "    </div>\n",
              "  </div>\n",
              "  "
            ]
          },
          "metadata": {},
          "execution_count": 8
        }
      ]
    },
    {
      "cell_type": "code",
      "source": [
        " reviews_df.to_csv('review.csv',header=True,index=False)"
      ],
      "metadata": {
        "id": "PWK_d8OPkTMW"
      },
      "execution_count": 9,
      "outputs": []
    },
    {
      "cell_type": "code",
      "source": [
        "reviews_df.shape"
      ],
      "metadata": {
        "colab": {
          "base_uri": "https://localhost:8080/"
        },
        "id": "uWpP-GRckfx_",
        "outputId": "b7d46ddd-2af0-4528-f608-0bc574e64f79"
      },
      "execution_count": 10,
      "outputs": [
        {
          "output_type": "execute_result",
          "data": {
            "text/plain": [
              "(17220, 12)"
            ]
          },
          "metadata": {},
          "execution_count": 10
        }
      ]
    },
    {
      "cell_type": "code",
      "source": [
        "plt.figure(figsize=fig_size)\n",
        "sns.countplot(reviews_df.score)\n",
        "plt.xlabel('score')\n",
        "plt.show()"
      ],
      "metadata": {
        "colab": {
          "base_uri": "https://localhost:8080/",
          "height": 452
        },
        "id": "Fyg1qmetko1D",
        "outputId": "e519fc84-6242-45f7-adbc-4fda07c90464"
      },
      "execution_count": 11,
      "outputs": [
        {
          "output_type": "display_data",
          "data": {
            "text/plain": [
              "<Figure size 720x504 with 1 Axes>"
            ],
            "image/png": "[encoded data removed]"
          },
          "metadata": {
            "image/png": {
              "width": 633,
              "height": 435
            }
          }
        }
      ]
    },
    {
      "cell_type": "code",
      "source": [
        "def get_sentiment(score):\n",
        "    if score<=2:\n",
        "        return 0 # negative sentiment\n",
        "    elif score==3:\n",
        "        return 1 # neutral sentiment\n",
        "    else:\n",
        "        return 2 # positive sentiment\n",
        "    \n",
        "\n",
        "reviews_df['sentiment'] = reviews_df.score.apply(get_sentiment)\n",
        "reviews_df.head(2)"
      ],
      "metadata": {
        "colab": {
          "base_uri": "https://localhost:8080/",
          "height": 364
        },
        "id": "wRsdhiO3kspS",
        "outputId": "3bcdf2ea-75dd-47cf-eab0-de5445d47126"
      },
      "execution_count": 12,
      "outputs": [
        {
          "output_type": "execute_result",
          "data": {
            "text/plain": [
              "                               reviewId       userName  \\\n",
              "0  e056d73d-0ff3-4890-8848-8cfdfb63b7be   Emie Hickman   \n",
              "1  a6b21375-312e-41b5-90ab-3d56273ca01b  A Google user   \n",
              "\n",
              "                                           userImage  \\\n",
              "0  https://play-lh.googleusercontent.com/a-/AFdZu...   \n",
              "1  https://play-lh.googleusercontent.com/EGemoI2N...   \n",
              "\n",
              "                                             content  score  thumbsUpCount  \\\n",
              "0  After a task is done a duplicate will appear f...      1              3   \n",
              "1  This app was great until the latest update and...      1             24   \n",
              "\n",
              "  reviewCreatedVersion                  at  \\\n",
              "0                 None 2022-02-22 03:24:11   \n",
              "1             4.12.0.5 2019-01-12 13:20:28   \n",
              "\n",
              "                                        replyContent           repliedAt  \\\n",
              "0  We would be happy to help you resolve all of t... 2022-02-24 16:34:04   \n",
              "1  We are sorry you feel this way, please note th... 2019-01-27 15:44:37   \n",
              "\n",
              "      app_id  review_status  sentiment  \n",
              "0  com.anydo  most_relevent          0  \n",
              "1  com.anydo  most_relevent          0  "
            ],
            "text/html": [
              "\n",
              "  <div id=\"df-9f47b6e0-e41f-4e26-bce5-d0f26854e630\">\n",
              "    <div class=\"colab-df-container\">\n",
              "      <div>\n",
              "<style scoped>\n",
              "    .dataframe tbody tr th:only-of-type {\n",
              "        vertical-align: middle;\n",
              "    }\n",
              "\n",
              "    .dataframe tbody tr th {\n",
              "        vertical-align: top;\n",
              "    }\n",
              "\n",
              "    .dataframe thead th {\n",
              "        text-align: right;\n",
              "    }\n",
              "</style>\n",
              "<table border=\"1\" class=\"dataframe\">\n",
              "  <thead>\n",
              "    <tr style=\"text-align: right;\">\n",
              "      <th></th>\n",
              "      <th>reviewId</th>\n",
              "      <th>userName</th>\n",
              "      <th>userImage</th>\n",
              "      <th>content</th>\n",
              "      <th>score</th>\n",
              "      <th>thumbsUpCount</th>\n",
              "      <th>reviewCreatedVersion</th>\n",
              "      <th>at</th>\n",
              "      <th>replyContent</th>\n",
              "      <th>repliedAt</th>\n",
              "      <th>app_id</th>\n",
              "      <th>review_status</th>\n",
              "      <th>sentiment</th>\n",
              "    </tr>\n",
              "  </thead>\n",
              "  <tbody>\n",
              "    <tr>\n",
              "      <th>0</th>\n",
              "      <td>e056d73d-0ff3-4890-8848-8cfdfb63b7be</td>\n",
              "      <td>Emie Hickman</td>\n",
              "      <td>https://play-lh.googleusercontent.com/a-/AFdZu...</td>\n",
              "      <td>After a task is done a duplicate will appear f...</td>\n",
              "      <td>1</td>\n",
              "      <td>3</td>\n",
              "      <td>None</td>\n",
              "      <td>2022-02-22 03:24:11</td>\n",
              "      <td>We would be happy to help you resolve all of t...</td>\n",
              "      <td>2022-02-24 16:34:04</td>\n",
              "      <td>com.anydo</td>\n",
              "      <td>most_relevent</td>\n",
              "      <td>0</td>\n",
              "    </tr>\n",
              "    <tr>\n",
              "      <th>1</th>\n",
              "      <td>a6b21375-312e-41b5-90ab-3d56273ca01b</td>\n",
              "      <td>A Google user</td>\n",
              "      <td>https://play-lh.googleusercontent.com/EGemoI2N...</td>\n",
              "      <td>This app was great until the latest update and...</td>\n",
              "      <td>1</td>\n",
              "      <td>24</td>\n",
              "      <td>4.12.0.5</td>\n",
              "      <td>2019-01-12 13:20:28</td>\n",
              "      <td>We are sorry you feel this way, please note th...</td>\n",
              "      <td>2019-01-27 15:44:37</td>\n",
              "      <td>com.anydo</td>\n",
              "      <td>most_relevent</td>\n",
              "      <td>0</td>\n",
              "    </tr>\n",
              "  </tbody>\n",
              "</table>\n",
              "</div>\n",
              "      <button class=\"colab-df-convert\" onclick=\"convertToInteractive('df-9f47b6e0-e41f-4e26-bce5-d0f26854e630')\"\n",
              "              title=\"Convert this dataframe to an interactive table.\"\n",
              "              style=\"display:none;\">\n",
              "        \n",
              "  <svg xmlns=\"http://www.w3.org/2000/svg\" height=\"24px\"viewBox=\"0 0 24 24\"\n",
              "       width=\"24px\">\n",
              "    <path d=\"M0 0h24v24H0V0z\" fill=\"none\"/>\n",
              "    <path d=\"M18.56 5.44l.94 2.06.94-2.06 2.06-.94-2.06-.94-.94-2.06-.94 2.06-2.06.94zm-11 1L8.5 8.5l.94-2.06 2.06-.94-2.06-.94L8.5 2.5l-.94 2.06-2.06.94zm10 10l.94 2.06.94-2.06 2.06-.94-2.06-.94-.94-2.06-.94 2.06-2.06.94z\"/><path d=\"M17.41 7.96l-1.37-1.37c-.4-.4-.92-.59-1.43-.59-.52 0-1.04.2-1.43.59L10.3 9.45l-7.72 7.72c-.78.78-.78 2.05 0 2.83L4 21.41c.39.39.9.59 1.41.59.51 0 1.02-.2 1.41-.59l7.78-7.78 2.81-2.81c.8-.78.8-2.07 0-2.86zM5.41 20L4 18.59l7.72-7.72 1.47 1.35L5.41 20z\"/>\n",
              "  </svg>\n",
              "      </button>\n",
              "      \n",
              "  <style>\n",
              "    .colab-df-container {\n",
              "      display:flex;\n",
              "      flex-wrap:wrap;\n",
              "      gap: 12px;\n",
              "    }\n",
              "\n",
              "    .colab-df-convert {\n",
              "      background-color: #E8F0FE;\n",
              "      border: none;\n",
              "      border-radius: 50%;\n",
              "      cursor: pointer;\n",
              "      display: none;\n",
              "      fill: #1967D2;\n",
              "      height: 32px;\n",
              "      padding: 0 0 0 0;\n",
              "      width: 32px;\n",
              "    }\n",
              "\n",
              "    .colab-df-convert:hover {\n",
              "      background-color: #E2EBFA;\n",
              "      box-shadow: 0px 1px 2px rgba(60, 64, 67, 0.3), 0px 1px 3px 1px rgba(60, 64, 67, 0.15);\n",
              "      fill: #174EA6;\n",
              "    }\n",
              "\n",
              "    [theme=dark] .colab-df-convert {\n",
              "      background-color: #3B4455;\n",
              "      fill: #D2E3FC;\n",
              "    }\n",
              "\n",
              "    [theme=dark] .colab-df-convert:hover {\n",
              "      background-color: #434B5C;\n",
              "      box-shadow: 0px 1px 3px 1px rgba(0, 0, 0, 0.15);\n",
              "      filter: drop-shadow(0px 1px 2px rgba(0, 0, 0, 0.3));\n",
              "      fill: #FFFFFF;\n",
              "    }\n",
              "  </style>\n",
              "\n",
              "      <script>\n",
              "        const buttonEl =\n",
              "          document.querySelector('#df-9f47b6e0-e41f-4e26-bce5-d0f26854e630 button.colab-df-convert');\n",
              "        buttonEl.style.display =\n",
              "          google.colab.kernel.accessAllowed ? 'block' : 'none';\n",
              "\n",
              "        async function convertToInteractive(key) {\n",
              "          const element = document.querySelector('#df-9f47b6e0-e41f-4e26-bce5-d0f26854e630');\n",
              "          const dataTable =\n",
              "            await google.colab.kernel.invokeFunction('convertToInteractive',\n",
              "                                                     [key], {});\n",
              "          if (!dataTable) return;\n",
              "\n",
              "          const docLinkHtml = 'Like what you see? Visit the ' +\n",
              "            '<a target=\"_blank\" href=https://colab.research.google.com/notebooks/data_table.ipynb>data table notebook</a>'\n",
              "            + ' to learn more about interactive tables.';\n",
              "          element.innerHTML = '';\n",
              "          dataTable['output_type'] = 'display_data';\n",
              "          await google.colab.output.renderOutput(dataTable, element);\n",
              "          const docLink = document.createElement('div');\n",
              "          docLink.innerHTML = docLinkHtml;\n",
              "          element.appendChild(docLink);\n",
              "        }\n",
              "      </script>\n",
              "    </div>\n",
              "  </div>\n",
              "  "
            ]
          },
          "metadata": {},
          "execution_count": 12
        }
      ]
    },
    {
      "cell_type": "code",
      "source": [
        "plt.figure(figsize=fig_size)\n",
        "sns.countplot(reviews_df['sentiment'])\n",
        "plt.xticks([0, 1, 2],['Negative','Neutral','Positive'])\n",
        "plt.title('sentiment')\n",
        "plt.show()"
      ],
      "metadata": {
        "colab": {
          "base_uri": "https://localhost:8080/",
          "height": 469
        },
        "id": "SpPfEsqUlI-W",
        "outputId": "e09a0432-6712-4d9a-d4cd-b1d92b4be63b"
      },
      "execution_count": 13,
      "outputs": [
        {
          "output_type": "display_data",
          "data": {
            "text/plain": [
              "<Figure size 720x504 with 1 Axes>"
            ],
            "image/png": "[encoded data removed]"
          },
          "metadata": {
            "image/png": {
              "width": 633,
              "height": 452
            }
          }
        }
      ]
    },
    {
      "cell_type": "markdown",
      "source": [
        "## Our dataset is ready, Scrapped properly\n",
        "# Prepare training , validation data\n",
        "--> convert reviews into tokens --> convert tokens into token ids --> set max len --> creating padding --> all this will done by tokenizer.encode_plus"
      ],
      "metadata": {
        "id": "7AaJfwdhlXek"
      }
    },
    {
      "cell_type": "code",
      "source": [
        "bert_model_name = 'bert-base-cased'\n",
        "tokenizer = transformers.BertTokenizer.from_pretrained(bert_model_name)\n",
        "\n",
        "sample_text = \"originally gave this a 2 star but I think it only deserves 1. I simply can't wrap my head around the following. picture this, you add a task to your list. the reminder feature is on.you want to change the time on the reminder feature so you click it.\"\n",
        "               \n",
        "tokens = tokenizer.tokenize(sample_text)\n",
        "ids = tokenizer.convert_tokens_to_ids(tokens)\n",
        "print(f'{sample_text}')\n",
        "print('='*60)\n",
        "print(tokens)\n",
        "print('='*60)\n",
        "print(ids)"
      ],
      "metadata": {
        "colab": {
          "base_uri": "https://localhost:8080/"
        },
        "id": "goSgzsSVlQMl",
        "outputId": "50aed6d5-f406-4f96-e3e9-d7608ee98111"
      },
      "execution_count": 14,
      "outputs": [
        {
          "output_type": "stream",
          "name": "stdout",
          "text": [
            "originally gave this a 2 star but I think it only deserves 1. I simply can't wrap my head around the following. picture this, you add a task to your list. the reminder feature is on.you want to change the time on the reminder feature so you click it.\n",
            "============================================================\n",
            "['originally', 'gave', 'this', 'a', '2', 'star', 'but', 'I', 'think', 'it', 'only', 'deserves', '1', '.', 'I', 'simply', 'can', \"'\", 't', 'wrap', 'my', 'head', 'around', 'the', 'following', '.', 'picture', 'this', ',', 'you', 'add', 'a', 'task', 'to', 'your', 'list', '.', 'the', 'reminder', 'feature', 'is', 'on', '.', 'you', 'want', 'to', 'change', 'the', 'time', 'on', 'the', 'reminder', 'feature', 'so', 'you', 'click', 'it', '.']\n",
            "============================================================\n",
            "[2034, 1522, 1142, 170, 123, 2851, 1133, 146, 1341, 1122, 1178, 18641, 122, 119, 146, 2566, 1169, 112, 189, 10561, 1139, 1246, 1213, 1103, 1378, 119, 3439, 1142, 117, 1128, 5194, 170, 4579, 1106, 1240, 2190, 119, 1103, 15656, 2672, 1110, 1113, 119, 1128, 1328, 1106, 1849, 1103, 1159, 1113, 1103, 15656, 2672, 1177, 1128, 13440, 1122, 119]\n"
          ]
        }
      ]
    },
    {
      "cell_type": "code",
      "source": [
        "# special tokens\n",
        "print(tokenizer.sep_token , tokenizer.sep_token_id)\n",
        "print(tokenizer.cls_token,tokenizer.cls_token_id)\n",
        "print(tokenizer.unk_token,tokenizer.unk_token_id)\n",
        "print(tokenizer.pad_token,tokenizer.pad_token_id)"
      ],
      "metadata": {
        "colab": {
          "base_uri": "https://localhost:8080/"
        },
        "id": "sN6EtJ5goiJO",
        "outputId": "38a470d4-a768-427e-df1c-eb4749872f40"
      },
      "execution_count": 15,
      "outputs": [
        {
          "output_type": "stream",
          "name": "stdout",
          "text": [
            "[SEP] 102\n",
            "[CLS] 101\n",
            "[UNK] 100\n",
            "[PAD] 0\n"
          ]
        }
      ]
    },
    {
      "cell_type": "markdown",
      "source": [
        "## Hugging face library provides another function called tokenizer.encode_plus() which we will use to perform almost entire preprocessing steps in one go. It\n",
        "\n",
        "- converts reviews into tokens\n",
        "- adds [CLS] token at the beginning of input\n",
        "- performs padding if sequence length is less than max_len\n",
        "- performs truncation if sequence length is greater than max_len\n",
        "- adds [SEP] token at the end of sequence."
      ],
      "metadata": {
        "id": "RlIGLqtApiYZ"
      }
    },
    {
      "cell_type": "code",
      "source": [
        "encoding = tokenizer.encode_plus(\n",
        "      sample_text,\n",
        "      add_special_tokens=True,\n",
        "      max_length=128,\n",
        "      truncation=True,\n",
        "      return_token_type_ids=False,\n",
        "      pad_to_max_length=True,\n",
        "      return_attention_mask=True,\n",
        "      return_tensors='pt')"
      ],
      "metadata": {
        "id": "4-yj5Uj4oy78"
      },
      "execution_count": 16,
      "outputs": []
    },
    {
      "cell_type": "code",
      "source": [
        "print(encoding['input_ids'].shape)\n",
        "print(encoding['input_ids'])\n",
        "print()\n",
        "print()\n",
        "print(encoding['attention_mask'].shape)\n",
        "print(encoding['attention_mask'])"
      ],
      "metadata": {
        "colab": {
          "base_uri": "https://localhost:8080/"
        },
        "id": "3-7YTyxxqmau",
        "outputId": "05ae07f9-8dc9-4020-e319-2e6114fbb0ed"
      },
      "execution_count": 17,
      "outputs": [
        {
          "output_type": "stream",
          "name": "stdout",
          "text": [
            "torch.Size([1, 128])\n",
            "tensor([[  101,  2034,  1522,  1142,   170,   123,  2851,  1133,   146,  1341,\n",
            "          1122,  1178, 18641,   122,   119,   146,  2566,  1169,   112,   189,\n",
            "         10561,  1139,  1246,  1213,  1103,  1378,   119,  3439,  1142,   117,\n",
            "          1128,  5194,   170,  4579,  1106,  1240,  2190,   119,  1103, 15656,\n",
            "          2672,  1110,  1113,   119,  1128,  1328,  1106,  1849,  1103,  1159,\n",
            "          1113,  1103, 15656,  2672,  1177,  1128, 13440,  1122,   119,   102,\n",
            "             0,     0,     0,     0,     0,     0,     0,     0,     0,     0,\n",
            "             0,     0,     0,     0,     0,     0,     0,     0,     0,     0,\n",
            "             0,     0,     0,     0,     0,     0,     0,     0,     0,     0,\n",
            "             0,     0,     0,     0,     0,     0,     0,     0,     0,     0,\n",
            "             0,     0,     0,     0,     0,     0,     0,     0,     0,     0,\n",
            "             0,     0,     0,     0,     0,     0,     0,     0,     0,     0,\n",
            "             0,     0,     0,     0,     0,     0,     0,     0]])\n",
            "\n",
            "\n",
            "torch.Size([1, 128])\n",
            "tensor([[1, 1, 1, 1, 1, 1, 1, 1, 1, 1, 1, 1, 1, 1, 1, 1, 1, 1, 1, 1, 1, 1, 1, 1,\n",
            "         1, 1, 1, 1, 1, 1, 1, 1, 1, 1, 1, 1, 1, 1, 1, 1, 1, 1, 1, 1, 1, 1, 1, 1,\n",
            "         1, 1, 1, 1, 1, 1, 1, 1, 1, 1, 1, 1, 0, 0, 0, 0, 0, 0, 0, 0, 0, 0, 0, 0,\n",
            "         0, 0, 0, 0, 0, 0, 0, 0, 0, 0, 0, 0, 0, 0, 0, 0, 0, 0, 0, 0, 0, 0, 0, 0,\n",
            "         0, 0, 0, 0, 0, 0, 0, 0, 0, 0, 0, 0, 0, 0, 0, 0, 0, 0, 0, 0, 0, 0, 0, 0,\n",
            "         0, 0, 0, 0, 0, 0, 0, 0]])\n"
          ]
        }
      ]
    },
    {
      "cell_type": "code",
      "source": [
        "reviews_df.head()"
      ],
      "metadata": {
        "colab": {
          "base_uri": "https://localhost:8080/",
          "height": 753
        },
        "id": "vqh9xC0Dqya9",
        "outputId": "3fafa916-b581-469a-b7da-15eb4d4488dd"
      },
      "execution_count": 18,
      "outputs": [
        {
          "output_type": "execute_result",
          "data": {
            "text/plain": [
              "                               reviewId       userName  \\\n",
              "0  e056d73d-0ff3-4890-8848-8cfdfb63b7be   Emie Hickman   \n",
              "1  a6b21375-312e-41b5-90ab-3d56273ca01b  A Google user   \n",
              "2  1177566d-6443-42ab-8320-7e8b3342cec8  A Google user   \n",
              "3  82d2f0c3-dbff-4722-89fa-d8af997ba4ab      Hyco Syco   \n",
              "4  9f47e332-2c56-426c-8430-ce8ffde55706  A Google user   \n",
              "\n",
              "                                           userImage  \\\n",
              "0  https://play-lh.googleusercontent.com/a-/AFdZu...   \n",
              "1  https://play-lh.googleusercontent.com/EGemoI2N...   \n",
              "2  https://play-lh.googleusercontent.com/EGemoI2N...   \n",
              "3  https://play-lh.googleusercontent.com/a/AItbvm...   \n",
              "4  https://play-lh.googleusercontent.com/EGemoI2N...   \n",
              "\n",
              "                                             content  score  thumbsUpCount  \\\n",
              "0  After a task is done a duplicate will appear f...      1              3   \n",
              "1  This app was great until the latest update and...      1             24   \n",
              "2  Product images show the month view at the top ...      1              4   \n",
              "3  This app used to be great when paired with Ale...      1              3   \n",
              "4  Very annoyed that I have to keep signing in an...      1             21   \n",
              "\n",
              "  reviewCreatedVersion                  at  \\\n",
              "0                 None 2022-02-22 03:24:11   \n",
              "1             4.12.0.5 2019-01-12 13:20:28   \n",
              "2                 None 2019-07-06 21:14:32   \n",
              "3             4.15.9.6 2020-06-17 17:32:55   \n",
              "4            4.15.8.11 2019-09-29 16:03:25   \n",
              "\n",
              "                                        replyContent           repliedAt  \\\n",
              "0  We would be happy to help you resolve all of t... 2022-02-24 16:34:04   \n",
              "1  We are sorry you feel this way, please note th... 2019-01-27 15:44:37   \n",
              "2  We appreciate the feedback. The images for iOS... 2019-07-09 11:45:56   \n",
              "3  Sorry about that, our team is currently workin... 2020-06-18 06:47:52   \n",
              "4  Hi, that's odd, please send us a bug report in... 2019-10-02 19:51:43   \n",
              "\n",
              "      app_id  review_status  sentiment  \n",
              "0  com.anydo  most_relevent          0  \n",
              "1  com.anydo  most_relevent          0  \n",
              "2  com.anydo  most_relevent          0  \n",
              "3  com.anydo  most_relevent          0  \n",
              "4  com.anydo  most_relevent          0  "
            ],
            "text/html": [
              "\n",
              "  <div id=\"df-7d209814-bf58-4280-ae20-3ec2dd908cfe\">\n",
              "    <div class=\"colab-df-container\">\n",
              "      <div>\n",
              "<style scoped>\n",
              "    .dataframe tbody tr th:only-of-type {\n",
              "        vertical-align: middle;\n",
              "    }\n",
              "\n",
              "    .dataframe tbody tr th {\n",
              "        vertical-align: top;\n",
              "    }\n",
              "\n",
              "    .dataframe thead th {\n",
              "        text-align: right;\n",
              "    }\n",
              "</style>\n",
              "<table border=\"1\" class=\"dataframe\">\n",
              "  <thead>\n",
              "    <tr style=\"text-align: right;\">\n",
              "      <th></th>\n",
              "      <th>reviewId</th>\n",
              "      <th>userName</th>\n",
              "      <th>userImage</th>\n",
              "      <th>content</th>\n",
              "      <th>score</th>\n",
              "      <th>thumbsUpCount</th>\n",
              "      <th>reviewCreatedVersion</th>\n",
              "      <th>at</th>\n",
              "      <th>replyContent</th>\n",
              "      <th>repliedAt</th>\n",
              "      <th>app_id</th>\n",
              "      <th>review_status</th>\n",
              "      <th>sentiment</th>\n",
              "    </tr>\n",
              "  </thead>\n",
              "  <tbody>\n",
              "    <tr>\n",
              "      <th>0</th>\n",
              "      <td>e056d73d-0ff3-4890-8848-8cfdfb63b7be</td>\n",
              "      <td>Emie Hickman</td>\n",
              "      <td>https://play-lh.googleusercontent.com/a-/AFdZu...</td>\n",
              "      <td>After a task is done a duplicate will appear f...</td>\n",
              "      <td>1</td>\n",
              "      <td>3</td>\n",
              "      <td>None</td>\n",
              "      <td>2022-02-22 03:24:11</td>\n",
              "      <td>We would be happy to help you resolve all of t...</td>\n",
              "      <td>2022-02-24 16:34:04</td>\n",
              "      <td>com.anydo</td>\n",
              "      <td>most_relevent</td>\n",
              "      <td>0</td>\n",
              "    </tr>\n",
              "    <tr>\n",
              "      <th>1</th>\n",
              "      <td>a6b21375-312e-41b5-90ab-3d56273ca01b</td>\n",
              "      <td>A Google user</td>\n",
              "      <td>https://play-lh.googleusercontent.com/EGemoI2N...</td>\n",
              "      <td>This app was great until the latest update and...</td>\n",
              "      <td>1</td>\n",
              "      <td>24</td>\n",
              "      <td>4.12.0.5</td>\n",
              "      <td>2019-01-12 13:20:28</td>\n",
              "      <td>We are sorry you feel this way, please note th...</td>\n",
              "      <td>2019-01-27 15:44:37</td>\n",
              "      <td>com.anydo</td>\n",
              "      <td>most_relevent</td>\n",
              "      <td>0</td>\n",
              "    </tr>\n",
              "    <tr>\n",
              "      <th>2</th>\n",
              "      <td>1177566d-6443-42ab-8320-7e8b3342cec8</td>\n",
              "      <td>A Google user</td>\n",
              "      <td>https://play-lh.googleusercontent.com/EGemoI2N...</td>\n",
              "      <td>Product images show the month view at the top ...</td>\n",
              "      <td>1</td>\n",
              "      <td>4</td>\n",
              "      <td>None</td>\n",
              "      <td>2019-07-06 21:14:32</td>\n",
              "      <td>We appreciate the feedback. The images for iOS...</td>\n",
              "      <td>2019-07-09 11:45:56</td>\n",
              "      <td>com.anydo</td>\n",
              "      <td>most_relevent</td>\n",
              "      <td>0</td>\n",
              "    </tr>\n",
              "    <tr>\n",
              "      <th>3</th>\n",
              "      <td>82d2f0c3-dbff-4722-89fa-d8af997ba4ab</td>\n",
              "      <td>Hyco Syco</td>\n",
              "      <td>https://play-lh.googleusercontent.com/a/AItbvm...</td>\n",
              "      <td>This app used to be great when paired with Ale...</td>\n",
              "      <td>1</td>\n",
              "      <td>3</td>\n",
              "      <td>4.15.9.6</td>\n",
              "      <td>2020-06-17 17:32:55</td>\n",
              "      <td>Sorry about that, our team is currently workin...</td>\n",
              "      <td>2020-06-18 06:47:52</td>\n",
              "      <td>com.anydo</td>\n",
              "      <td>most_relevent</td>\n",
              "      <td>0</td>\n",
              "    </tr>\n",
              "    <tr>\n",
              "      <th>4</th>\n",
              "      <td>9f47e332-2c56-426c-8430-ce8ffde55706</td>\n",
              "      <td>A Google user</td>\n",
              "      <td>https://play-lh.googleusercontent.com/EGemoI2N...</td>\n",
              "      <td>Very annoyed that I have to keep signing in an...</td>\n",
              "      <td>1</td>\n",
              "      <td>21</td>\n",
              "      <td>4.15.8.11</td>\n",
              "      <td>2019-09-29 16:03:25</td>\n",
              "      <td>Hi, that's odd, please send us a bug report in...</td>\n",
              "      <td>2019-10-02 19:51:43</td>\n",
              "      <td>com.anydo</td>\n",
              "      <td>most_relevent</td>\n",
              "      <td>0</td>\n",
              "    </tr>\n",
              "  </tbody>\n",
              "</table>\n",
              "</div>\n",
              "      <button class=\"colab-df-convert\" onclick=\"convertToInteractive('df-7d209814-bf58-4280-ae20-3ec2dd908cfe')\"\n",
              "              title=\"Convert this dataframe to an interactive table.\"\n",
              "              style=\"display:none;\">\n",
              "        \n",
              "  <svg xmlns=\"http://www.w3.org/2000/svg\" height=\"24px\"viewBox=\"0 0 24 24\"\n",
              "       width=\"24px\">\n",
              "    <path d=\"M0 0h24v24H0V0z\" fill=\"none\"/>\n",
              "    <path d=\"M18.56 5.44l.94 2.06.94-2.06 2.06-.94-2.06-.94-.94-2.06-.94 2.06-2.06.94zm-11 1L8.5 8.5l.94-2.06 2.06-.94-2.06-.94L8.5 2.5l-.94 2.06-2.06.94zm10 10l.94 2.06.94-2.06 2.06-.94-2.06-.94-.94-2.06-.94 2.06-2.06.94z\"/><path d=\"M17.41 7.96l-1.37-1.37c-.4-.4-.92-.59-1.43-.59-.52 0-1.04.2-1.43.59L10.3 9.45l-7.72 7.72c-.78.78-.78 2.05 0 2.83L4 21.41c.39.39.9.59 1.41.59.51 0 1.02-.2 1.41-.59l7.78-7.78 2.81-2.81c.8-.78.8-2.07 0-2.86zM5.41 20L4 18.59l7.72-7.72 1.47 1.35L5.41 20z\"/>\n",
              "  </svg>\n",
              "      </button>\n",
              "      \n",
              "  <style>\n",
              "    .colab-df-container {\n",
              "      display:flex;\n",
              "      flex-wrap:wrap;\n",
              "      gap: 12px;\n",
              "    }\n",
              "\n",
              "    .colab-df-convert {\n",
              "      background-color: #E8F0FE;\n",
              "      border: none;\n",
              "      border-radius: 50%;\n",
              "      cursor: pointer;\n",
              "      display: none;\n",
              "      fill: #1967D2;\n",
              "      height: 32px;\n",
              "      padding: 0 0 0 0;\n",
              "      width: 32px;\n",
              "    }\n",
              "\n",
              "    .colab-df-convert:hover {\n",
              "      background-color: #E2EBFA;\n",
              "      box-shadow: 0px 1px 2px rgba(60, 64, 67, 0.3), 0px 1px 3px 1px rgba(60, 64, 67, 0.15);\n",
              "      fill: #174EA6;\n",
              "    }\n",
              "\n",
              "    [theme=dark] .colab-df-convert {\n",
              "      background-color: #3B4455;\n",
              "      fill: #D2E3FC;\n",
              "    }\n",
              "\n",
              "    [theme=dark] .colab-df-convert:hover {\n",
              "      background-color: #434B5C;\n",
              "      box-shadow: 0px 1px 3px 1px rgba(0, 0, 0, 0.15);\n",
              "      filter: drop-shadow(0px 1px 2px rgba(0, 0, 0, 0.3));\n",
              "      fill: #FFFFFF;\n",
              "    }\n",
              "  </style>\n",
              "\n",
              "      <script>\n",
              "        const buttonEl =\n",
              "          document.querySelector('#df-7d209814-bf58-4280-ae20-3ec2dd908cfe button.colab-df-convert');\n",
              "        buttonEl.style.display =\n",
              "          google.colab.kernel.accessAllowed ? 'block' : 'none';\n",
              "\n",
              "        async function convertToInteractive(key) {\n",
              "          const element = document.querySelector('#df-7d209814-bf58-4280-ae20-3ec2dd908cfe');\n",
              "          const dataTable =\n",
              "            await google.colab.kernel.invokeFunction('convertToInteractive',\n",
              "                                                     [key], {});\n",
              "          if (!dataTable) return;\n",
              "\n",
              "          const docLinkHtml = 'Like what you see? Visit the ' +\n",
              "            '<a target=\"_blank\" href=https://colab.research.google.com/notebooks/data_table.ipynb>data table notebook</a>'\n",
              "            + ' to learn more about interactive tables.';\n",
              "          element.innerHTML = '';\n",
              "          dataTable['output_type'] = 'display_data';\n",
              "          await google.colab.output.renderOutput(dataTable, element);\n",
              "          const docLink = document.createElement('div');\n",
              "          docLink.innerHTML = docLinkHtml;\n",
              "          element.appendChild(docLink);\n",
              "        }\n",
              "      </script>\n",
              "    </div>\n",
              "  </div>\n",
              "  "
            ]
          },
          "metadata": {},
          "execution_count": 18
        }
      ]
    },
    {
      "cell_type": "code",
      "source": [
        "# max length of sequence \n",
        "\n",
        "lengths = np.array([len(x.split()) for x in reviews_df.content])\n",
        "plt.figure(figsize = fig_size)\n",
        "sns.distplot(lengths)\n",
        "plt.xlabel('review length')\n",
        "plt.title('Distribution of review lengths')\n",
        "plt.show()"
      ],
      "metadata": {
        "colab": {
          "base_uri": "https://localhost:8080/",
          "height": 469
        },
        "id": "mcUF9y1zz4cs",
        "outputId": "a88d3ed9-8186-4589-c106-ab263f72fc8b"
      },
      "execution_count": 19,
      "outputs": [
        {
          "output_type": "display_data",
          "data": {
            "text/plain": [
              "<Figure size 720x504 with 1 Axes>"
            ],
            "image/png": "[encoded data removed]"
          },
          "metadata": {
            "image/png": {
              "width": 646,
              "height": 452
            }
          }
        }
      ]
    },
    {
      "cell_type": "code",
      "source": [
        "### Train , val and test data \n",
        "from sklearn.model_selection import train_test_split\n",
        "\n",
        "train_df , test_df  = train_test_split(reviews_df, test_size = 0.2, random_state = RANDOM_SEED, shuffle = True)\n",
        "val_df , test_df  = train_test_split(test_df, test_size = 0.5, random_state = RANDOM_SEED, shuffle = True)\n",
        "\n",
        "print(train_df.shape , test_df.shape , val_df.shape)"
      ],
      "metadata": {
        "colab": {
          "base_uri": "https://localhost:8080/"
        },
        "id": "kHahrq2w0BHV",
        "outputId": "3bc8df80-d6e7-4d5d-d11d-5b5f35393892"
      },
      "execution_count": 20,
      "outputs": [
        {
          "output_type": "stream",
          "name": "stdout",
          "text": [
            "(13776, 13) (1722, 13) (1722, 13)\n"
          ]
        }
      ]
    },
    {
      "cell_type": "markdown",
      "source": [
        "## Dataset and Dataloader\n",
        "We will use pytorch for fine tuing our BERT model for Sentiment analysis and we will use pytorch module such as Dataset and Dataloader which will finally convert out data into batches.\n",
        "\n",
        "We designed a class called GoogleAppReview which is child class of Dataset provided by pytorch and this class contains blue print for the data which will be feed to our BERT model."
      ],
      "metadata": {
        "id": "2kEBlL9P01uw"
      }
    },
    {
      "cell_type": "code",
      "source": [
        "class GoogleAppReview(Dataset):\n",
        "    def __init__(self, review, target, tokenizer, max_len):\n",
        "        self.review = review\n",
        "        self.target = target\n",
        "        self.tokenizer = tokenizer\n",
        "        self.max_len = max_len\n",
        "        \n",
        "    def __len__(self):\n",
        "        return len(self.review)\n",
        "    \n",
        "    def __getitem__(self,index):\n",
        "        review = self.review[index]\n",
        "        encoding = self.tokenizer.encode_plus(\n",
        "                          review,\n",
        "                          add_special_tokens=True,\n",
        "                          max_length=128,\n",
        "                          truncation=True,\n",
        "                          return_token_type_ids=False,\n",
        "                          pad_to_max_length=True,\n",
        "                          return_attention_mask=True,\n",
        "                          return_tensors='pt')\n",
        "        \n",
        "        return {'review' : review,\n",
        "                'input_id': encoding['input_ids'].flatten(),\n",
        "                'attention_mask':encoding['attention_mask'].flatten(),\n",
        "                'target': torch.tensor(self.target[index], dtype = torch.long)\n",
        "               }\n",
        "        "
      ],
      "metadata": {
        "id": "k_V7ETp-0WEB"
      },
      "execution_count": 21,
      "outputs": []
    },
    {
      "cell_type": "markdown",
      "source": [
        "## Now we will create class object training_data, validation_data and test_data of class GoogleAppReview."
      ],
      "metadata": {
        "id": "D-NQMM0e1nkc"
      }
    },
    {
      "cell_type": "code",
      "source": [
        "tokenizer = transformers.BertTokenizer.from_pretrained(bert_model_name)\n",
        "MAX_LEN = 128\n",
        "\n",
        "training_data = GoogleAppReview(review = train_df.content.to_numpy(),\n",
        "                               target = train_df.sentiment.to_numpy(),\n",
        "                               tokenizer = tokenizer,\n",
        "                               max_len = MAX_LEN)\n",
        "\n",
        "validation_data = GoogleAppReview(review = val_df.content.to_numpy(),\n",
        "                               target = val_df.sentiment.to_numpy(),\n",
        "                               tokenizer = tokenizer,\n",
        "                               max_len = MAX_LEN)\n",
        "\n",
        "test_data = GoogleAppReview(review = test_df.content.to_numpy(),\n",
        "                               target = test_df.sentiment.to_numpy(),\n",
        "                               tokenizer = tokenizer,\n",
        "                               max_len = MAX_LEN)"
      ],
      "metadata": {
        "id": "BzZ6LUVZ1Jo1"
      },
      "execution_count": 22,
      "outputs": []
    },
    {
      "cell_type": "code",
      "source": [
        "print(len(training_data),len(test_data),len(validation_data))"
      ],
      "metadata": {
        "colab": {
          "base_uri": "https://localhost:8080/"
        },
        "id": "RvOtJp9q1yUN",
        "outputId": "9829e421-adcd-46fa-9927-36f2eaf31d10"
      },
      "execution_count": 23,
      "outputs": [
        {
          "output_type": "stream",
          "name": "stdout",
          "text": [
            "13776 1722 1722\n"
          ]
        }
      ]
    },
    {
      "cell_type": "code",
      "source": [
        "## DataLoader\n",
        "BATCH_SIZE = 16\n",
        "train_loader = DataLoader(training_data , batch_size = BATCH_SIZE , shuffle = True)\n",
        "test_loader = DataLoader(test_data , batch_size = BATCH_SIZE , shuffle = False)\n",
        "val_loader = DataLoader(validation_data , batch_size = BATCH_SIZE , shuffle = False)"
      ],
      "metadata": {
        "id": "mXYdLqB42D2N"
      },
      "execution_count": 24,
      "outputs": []
    },
    {
      "cell_type": "code",
      "source": [
        "sample_batch = next(iter(train_loader))\n",
        "sample_batch.keys()"
      ],
      "metadata": {
        "colab": {
          "base_uri": "https://localhost:8080/"
        },
        "id": "xqEFgdhN2rbo",
        "outputId": "41b54244-7d77-44f1-eac1-3b1664af91b3"
      },
      "execution_count": 25,
      "outputs": [
        {
          "output_type": "execute_result",
          "data": {
            "text/plain": [
              "dict_keys(['review', 'input_id', 'attention_mask', 'target'])"
            ]
          },
          "metadata": {},
          "execution_count": 25
        }
      ]
    },
    {
      "cell_type": "code",
      "source": [
        "print(sample_batch['review'][0])\n",
        "print(sample_batch['input_id'][0])\n",
        "print(sample_batch['attention_mask'][0])\n",
        "print(sample_batch['target'][0])\n",
        "print('='*50)\n",
        "print(sample_batch['input_id'].shape,sample_batch['attention_mask'].shape,sample_batch['target'].shape)"
      ],
      "metadata": {
        "colab": {
          "base_uri": "https://localhost:8080/"
        },
        "id": "ehmHaw-T2y6w",
        "outputId": "d87e1c0f-ee6e-48bc-90c6-ba1d103edc06"
      },
      "execution_count": 26,
      "outputs": [
        {
          "output_type": "stream",
          "name": "stdout",
          "text": [
            "I never thought I'd turn to Microsoft for the optional task tracker but here I am! I used Any.Do for a weekly but it was \"too helpful\" and pushed me into a corner. Switched to Google Tasks which has nice integration with Gmail and Google calendar but was too simple for a power user. This app is just right. It does the simple things with ease, allows for ample customization, let's you set up your day like any.do without being too inflexible, and has decent cross platform integrations.\n",
            "tensor([  101,   146,  1309,  1354,   146,   112,   173,  1885,  1106,  6998,\n",
            "         1111,  1103, 13027,  4579,  1854,  1200,  1133,  1303,   146,  1821,\n",
            "          106,   146,  1215,  6291,   119,  2091,  1111,   170,  5392,  1133,\n",
            "         1122,  1108,   107,  1315, 14739,   107,  1105,  2873,  1143,  1154,\n",
            "          170,  2655,   119,   156, 18548,  1174,  1106,  7986, 11513,  1116,\n",
            "         1134,  1144,  3505,  9111,  1114,   144, 14746,  1105,  7986,  8729,\n",
            "         1133,  1108,  1315,  3014,  1111,   170,  1540,  4795,   119,  1188,\n",
            "        12647,  1110,  1198,  1268,   119,  1135,  1674,  1103,  3014,  1614,\n",
            "         1114,  7166,   117,  3643,  1111, 23336,  8156,  2734,   117,  1519,\n",
            "          112,   188,  1128,  1383,  1146,  1240,  1285,  1176,  1251,   119,\n",
            "         1202,  1443,  1217,  1315,  1107, 23445,  8745,  2165,   117,  1105,\n",
            "         1144, 11858,  2771,  3482,  9111,  1116,   119,   102,     0,     0,\n",
            "            0,     0,     0,     0,     0,     0,     0,     0])\n",
            "tensor([1, 1, 1, 1, 1, 1, 1, 1, 1, 1, 1, 1, 1, 1, 1, 1, 1, 1, 1, 1, 1, 1, 1, 1,\n",
            "        1, 1, 1, 1, 1, 1, 1, 1, 1, 1, 1, 1, 1, 1, 1, 1, 1, 1, 1, 1, 1, 1, 1, 1,\n",
            "        1, 1, 1, 1, 1, 1, 1, 1, 1, 1, 1, 1, 1, 1, 1, 1, 1, 1, 1, 1, 1, 1, 1, 1,\n",
            "        1, 1, 1, 1, 1, 1, 1, 1, 1, 1, 1, 1, 1, 1, 1, 1, 1, 1, 1, 1, 1, 1, 1, 1,\n",
            "        1, 1, 1, 1, 1, 1, 1, 1, 1, 1, 1, 1, 1, 1, 1, 1, 1, 1, 1, 1, 1, 1, 0, 0,\n",
            "        0, 0, 0, 0, 0, 0, 0, 0])\n",
            "tensor(2)\n",
            "==================================================\n",
            "torch.Size([16, 128]) torch.Size([16, 128]) torch.Size([16])\n"
          ]
        }
      ]
    },
    {
      "cell_type": "markdown",
      "source": [
        "## Model Selection\n",
        "The BERT model comes with two configurations or we can say two different sizes BERT-base and BERT-large and we haven't talked about which model we are going to select. Performance wise BERT-large is more accurate as it has more bert-layer(24) and embedding size = 1024 but it is very hard to fine tune as I do not have any powerful GPUs on other hand BERT-base comes with 12 bert-layer and 768 embedding size which is much more easy to train as compare to BERT-large and performance wise also BERT-base give reasonably good performance.\n",
        "\n",
        "By considering all those factors I will use BERT-base for our sentiment analysis model."
      ],
      "metadata": {
        "id": "NhsMs4Os4Cdg"
      }
    },
    {
      "cell_type": "code",
      "source": [
        "# Load BERT base model\n",
        "\n",
        "bert_model_name = 'bert-base-cased'\n",
        "bert_model = BertModel.from_pretrained(bert_model_name)\n",
        "\n",
        "\n",
        "## testing the output of bert model\n",
        "x = bert_model(sample_batch['input_id'].view(BATCH_SIZE,MAX_LEN)\n",
        "               ,sample_batch['attention_mask'].view(BATCH_SIZE,MAX_LEN))\n"
      ],
      "metadata": {
        "colab": {
          "base_uri": "https://localhost:8080/"
        },
        "id": "aCLExZzU3FQN",
        "outputId": "b3629e43-6f6b-4468-bef4-aca8000c552f"
      },
      "execution_count": 27,
      "outputs": [
        {
          "output_type": "stream",
          "name": "stderr",
          "text": [
            "Some weights of the model checkpoint at bert-base-cased were not used when initializing BertModel: ['cls.predictions.transform.dense.weight', 'cls.predictions.transform.LayerNorm.weight', 'cls.predictions.decoder.weight', 'cls.predictions.transform.dense.bias', 'cls.predictions.transform.LayerNorm.bias', 'cls.seq_relationship.bias', 'cls.predictions.bias', 'cls.seq_relationship.weight']\n",
            "- This IS expected if you are initializing BertModel from the checkpoint of a model trained on another task or with another architecture (e.g. initializing a BertForSequenceClassification model from a BertForPreTraining model).\n",
            "- This IS NOT expected if you are initializing BertModel from the checkpoint of a model that you expect to be exactly identical (initializing a BertForSequenceClassification model from a BertForSequenceClassification model).\n"
          ]
        }
      ]
    },
    {
      "cell_type": "code",
      "source": [
        "print('Last hidden layer size for input as batch',x[0].shape)\n",
        "print('Pooled output size for input as batch',x[1].shape)"
      ],
      "metadata": {
        "colab": {
          "base_uri": "https://localhost:8080/"
        },
        "id": "fHss1B3q4cLC",
        "outputId": "a89b9981-8aff-41e6-ea24-3ca5ca319bf6"
      },
      "execution_count": 28,
      "outputs": [
        {
          "output_type": "stream",
          "name": "stdout",
          "text": [
            "Last hidden layer size for input as batch torch.Size([16, 128, 768])\n",
            "Pooled output size for input as batch torch.Size([16, 768])\n"
          ]
        }
      ]
    },
    {
      "cell_type": "markdown",
      "source": [
        "## Model Architecture\n",
        "We will add one more linear layer on top of the BERT-base model which takes inputs from a pooled layer of BERT base and generates 3 output for each input. These three outputs will indicate the chance of a review to its respective sentiments where First output represents Negative and second and third output represents Neutral and positive respectively."
      ],
      "metadata": {
        "id": "VNdgnL_f40Ss"
      }
    },
    {
      "cell_type": "code",
      "source": [
        "## build model \n",
        "# input to the model -->review ids and attention mask\n",
        "\n",
        "class SentimentClassifier(nn.Module):\n",
        "    def __init__(self,num_classes):\n",
        "        super(SentimentClassifier,self).__init__()\n",
        "        self.bert = BertModel.from_pretrained(bert_model_name)\n",
        "        self.dropout = nn.Dropout(p = 0.3)\n",
        "        self.linear = nn.Linear(self.bert.config.hidden_size,num_classes)\n",
        "        self.softmax = nn.Softmax(dim = 1)\n",
        "        \n",
        "    def forward(self,input_ids , attention_mask):\n",
        "        temp = self.bert(input_ids,attention_mask) # Here we have added one linear layer on top of \n",
        "        pooled_output = temp[1]                    # BERT-base with number of output = 3 \n",
        "        out = self.dropout(pooled_output)          # \n",
        "        out = self.linear(out)\n",
        "        return out"
      ],
      "metadata": {
        "id": "pb5NGl7p4PTk"
      },
      "execution_count": 29,
      "outputs": []
    },
    {
      "cell_type": "markdown",
      "source": [
        "## Above model takes a batch as input and linear layer as (size = 3) as output, to get the final output we must apply softmax at the end. Let's check with a sample batch."
      ],
      "metadata": {
        "id": "qmn0JPCD9UUD"
      }
    },
    {
      "cell_type": "code",
      "source": [
        "num_classes = 3\n",
        "model = SentimentClassifier(num_classes)\n",
        "\n",
        "sample_linear_output = model(sample_batch['input_id']\n",
        "                             ,sample_batch['attention_mask'])\n",
        "\n",
        "s = nn.Softmax(dim=1)\n",
        "final_out = s(sample_linear_output)\n",
        "final_out"
      ],
      "metadata": {
        "colab": {
          "base_uri": "https://localhost:8080/"
        },
        "id": "j7-iUtud9VMF",
        "outputId": "4c76e145-29fb-4911-f0c9-e8733ec6ffa9"
      },
      "execution_count": 30,
      "outputs": [
        {
          "output_type": "stream",
          "name": "stderr",
          "text": [
            "Some weights of the model checkpoint at bert-base-cased were not used when initializing BertModel: ['cls.predictions.transform.dense.weight', 'cls.predictions.transform.LayerNorm.weight', 'cls.predictions.decoder.weight', 'cls.predictions.transform.dense.bias', 'cls.predictions.transform.LayerNorm.bias', 'cls.seq_relationship.bias', 'cls.predictions.bias', 'cls.seq_relationship.weight']\n",
            "- This IS expected if you are initializing BertModel from the checkpoint of a model trained on another task or with another architecture (e.g. initializing a BertForSequenceClassification model from a BertForPreTraining model).\n",
            "- This IS NOT expected if you are initializing BertModel from the checkpoint of a model that you expect to be exactly identical (initializing a BertForSequenceClassification model from a BertForSequenceClassification model).\n"
          ]
        },
        {
          "output_type": "execute_result",
          "data": {
            "text/plain": [
              "tensor([[0.4179, 0.4275, 0.1546],\n",
              "        [0.4438, 0.3791, 0.1771],\n",
              "        [0.3160, 0.3924, 0.2916],\n",
              "        [0.3448, 0.2625, 0.3928],\n",
              "        [0.3351, 0.4721, 0.1928],\n",
              "        [0.6845, 0.2076, 0.1079],\n",
              "        [0.4128, 0.4278, 0.1594],\n",
              "        [0.5874, 0.3415, 0.0710],\n",
              "        [0.3967, 0.4113, 0.1920],\n",
              "        [0.4903, 0.4047, 0.1049],\n",
              "        [0.3661, 0.3420, 0.2919],\n",
              "        [0.4718, 0.2083, 0.3200],\n",
              "        [0.4810, 0.3497, 0.1693],\n",
              "        [0.4955, 0.3169, 0.1876],\n",
              "        [0.3725, 0.3922, 0.2353],\n",
              "        [0.3284, 0.4848, 0.1868]], grad_fn=<SoftmaxBackward0>)"
            ]
          },
          "metadata": {},
          "execution_count": 30
        }
      ]
    },
    {
      "cell_type": "markdown",
      "source": [
        "## The following initial steps are performed to train any deep learning model using pytorch which are\n",
        "\n",
        "- define loss function\n",
        "- define optimizer\n",
        "- define scheduler (it will modify learning rate after each iteration that speed-up the convergence. using it is optional but recommended)\n",
        "\n",
        "## Below function trains model (forward pass and backward pass) for one epoch and also calculate accuracy and average loss for an epoch."
      ],
      "metadata": {
        "id": "Ql0ElIUe901y"
      }
    },
    {
      "cell_type": "code",
      "source": [
        "## loss and optimizer\n",
        "learning_rate = 1e-5\n",
        "EPOCHS = 20\n",
        "total_steps = len(train_loader) * EPOCHS\n",
        "\n",
        "criterian = torch.nn.CrossEntropyLoss()\n",
        "\n",
        "optimizer = transformers.AdamW(params = model.parameters(),lr = learning_rate, correct_bias= False)\n",
        "\n",
        "scheduler = transformers.get_linear_schedule_with_warmup(optimizer = optimizer,\n",
        "                                                        num_warmup_steps = 0,\n",
        "                                                        num_training_steps = total_steps)"
      ],
      "metadata": {
        "id": "tIz4Tgfz_Jzi"
      },
      "execution_count": 31,
      "outputs": []
    },
    {
      "cell_type": "code",
      "source": [
        "def train_model(model, data_loader, criterian, optimizer, scheduler, BATCH_SIZE ,MAX_LEN, n_examples):\n",
        "    \n",
        "    model.train()\n",
        "    train_loss = []\n",
        "    correct_pred = 0\n",
        "    \n",
        "    for d in data_loader:\n",
        "        input_ids = d['input_id']\n",
        "        attention_masks = d['attention_mask']\n",
        "        targets = d['target']\n",
        "\n",
        "        # forward prop\n",
        "        predictions = model(input_ids , attention_masks)\n",
        "        loss = criterian(predictions, targets)\n",
        "        _,pred_classes = torch.max(predictions, dim=1)\n",
        "        #backprop\n",
        "        loss.backward()\n",
        "        nn.utils.clip_grad_norm_(model.parameters(), max_norm=1.0) # hack to avoid gradient explotion\n",
        "        optimizer.step()\n",
        "        scheduler.step()\n",
        "        optimizer.zero_grad()\n",
        "        # training loss and number of correct prediction\n",
        "        train_loss.append(loss.item())\n",
        "        correct_pred += torch.sum(pred_classes==targets)\n",
        "    return correct_pred / n_examples , np.mean(train_loss)"
      ],
      "metadata": {
        "id": "U9BnSBYc9e07"
      },
      "execution_count": 32,
      "outputs": []
    },
    {
      "cell_type": "markdown",
      "source": [
        "## This fuction evaluate model performance on evaluation data for every epoch by calculation accuracy and average loss."
      ],
      "metadata": {
        "id": "9EMyYNbN-V1W"
      }
    },
    {
      "cell_type": "code",
      "source": [
        "def eval_model(model, data_loader, criterian, BATCH_SIZE ,MAX_LEN, n_examples):\n",
        "    model.eval()  # to make model in evaluastion model , Dropout will not apply \n",
        "    eval_loss = []\n",
        "    correct_pred = 0\n",
        "    \n",
        "    with torch.no_grad():  # calculation of gradient is not required on evaluation\n",
        "        for d in data_loader:\n",
        "            input_ids = d['input_id']\n",
        "            attention_masks = d['attention_mask']\n",
        "            targets = d['target']\n",
        "\n",
        "            # forward prop\n",
        "            predictions = model(input_ids , attention_masks)\n",
        "            loss = criterian(predictions, targets)\n",
        "            _,pred_classes = torch.max(predictions, dim=1)\n",
        "\n",
        "            eval_loss.append(loss.item())\n",
        "            correct_pred += torch.sum(pred_classes==targets)\n",
        "    return correct_pred / n_examples , np.mean(eval_loss)"
      ],
      "metadata": {
        "id": "v_jNWRRx-QsD"
      },
      "execution_count": 33,
      "outputs": []
    },
    {
      "cell_type": "code",
      "source": [
        "from collections import defaultdict\n",
        "\n",
        "history = defaultdict(list)\n",
        "best_accuracy = 0\n",
        "\n",
        "for epoch in range(EPOCHS):\n",
        "    \n",
        "    # training part \n",
        "    \n",
        "    print(f'epoch : {epoch+1}/{EPOCHS}')\n",
        "    model = SentimentClassifier(num_classes)\n",
        "    train_acc , train_loss = train_model(model,\n",
        "                                         train_loader,\n",
        "                                         criterian,\n",
        "                                         optimizer, \n",
        "                                         scheduler, \n",
        "                                         BATCH_SIZE,\n",
        "                                         MAX_LEN,\n",
        "                                         len(train_df))\n",
        "    # validation part\n",
        "    \n",
        "    val_acc , val_loss = eval_model(model, \n",
        "                                    val_loader,\n",
        "                                    criterian,\n",
        "                                    BATCH_SIZE,\n",
        "                                    MAX_LEN, len(val_df))\n",
        "    \n",
        "    # saving training logs\n",
        "    \n",
        "    history['train_acc'].append(train_acc)\n",
        "    history['train_loss'].append(train_loss)\n",
        "    history['val_acc'].append(val_acc)\n",
        "    history['val_loss'].append(val_loss)\n",
        "    \n",
        "    print(f'train_loss: {train_loss}, train_acc: {train_acc} ,val_loss: {val_loss}, val_acc: {val_acc}')\n",
        "    \n",
        "    # saving model if performance improved \n",
        "    \n",
        "    if val_acc > best_accuracy:\n",
        "        best_model_name = f'best_model_state_{val_acc}.bin'\n",
        "        torch.save(model.state_dict(), best_model_name)\n",
        "        best_accuracy = val_acc"
      ],
      "metadata": {
        "colab": {
          "base_uri": "https://localhost:8080/"
        },
        "id": "-8bweach-a5I",
        "outputId": "fa7e294e-800d-495f-ee01-40328d601116"
      },
      "execution_count": null,
      "outputs": [
        {
          "output_type": "stream",
          "name": "stdout",
          "text": [
            "epoch : 1/20\n"
          ]
        },
        {
          "output_type": "stream",
          "name": "stderr",
          "text": [
            "Some weights of the model checkpoint at bert-base-cased were not used when initializing BertModel: ['cls.predictions.transform.dense.weight', 'cls.predictions.transform.LayerNorm.weight', 'cls.predictions.decoder.weight', 'cls.predictions.transform.dense.bias', 'cls.predictions.transform.LayerNorm.bias', 'cls.seq_relationship.bias', 'cls.predictions.bias', 'cls.seq_relationship.weight']\n",
            "- This IS expected if you are initializing BertModel from the checkpoint of a model trained on another task or with another architecture (e.g. initializing a BertForSequenceClassification model from a BertForPreTraining model).\n",
            "- This IS NOT expected if you are initializing BertModel from the checkpoint of a model that you expect to be exactly identical (initializing a BertForSequenceClassification model from a BertForSequenceClassification model).\n"
          ]
        }
      ]
    },
    {
      "cell_type": "markdown",
      "source": [
        "## Evaluation on Test Data"
      ],
      "metadata": {
        "id": "5RSbGugIEGdP"
      }
    },
    {
      "cell_type": "code",
      "source": [
        "def get_predictions(model, data_loader):\n",
        "    model = model.eval()\n",
        "\n",
        "    review_texts = []\n",
        "    predictions = []\n",
        "    prediction_probs = []\n",
        "    real_values = []\n",
        "\n",
        "    with torch.no_grad():\n",
        "        for d in tqdm(data_loader):\n",
        "\n",
        "            texts = d[\"review\"]\n",
        "            input_ids = d[\"input_id\"]\n",
        "            attention_mask = d[\"attention_mask\"]\n",
        "            targets = d[\"target\"]\n",
        "\n",
        "            outputs = model(input_ids=input_ids,\n",
        "                            attention_mask=attention_mask)\n",
        "            \n",
        "            _, preds = torch.max(outputs, dim=1)\n",
        "\n",
        "            probs = F.softmax(outputs, dim=1)\n",
        "\n",
        "            review_texts.extend(texts)\n",
        "            predictions.extend(preds)\n",
        "            prediction_probs.extend(probs)\n",
        "            real_values.extend(targets)\n",
        "\n",
        "    predictions = torch.stack(predictions).cpu()\n",
        "    prediction_probs = torch.stack(prediction_probs).cpu()\n",
        "    real_values = torch.stack(real_values).cpu()\n",
        "    return review_texts, predictions, prediction_probs, real_values"
      ],
      "metadata": {
        "id": "9UcVIuGj-uU4"
      },
      "execution_count": null,
      "outputs": []
    },
    {
      "cell_type": "code",
      "source": [
        "from tqdm import tqdm\n",
        "import torch.nn.functional as F\n",
        "y_review_texts, y_pred, y_pred_probs, y_test = get_predictions(model,test_loader)"
      ],
      "metadata": {
        "id": "lsFrun0fEuX7"
      },
      "execution_count": null,
      "outputs": []
    },
    {
      "cell_type": "code",
      "source": [
        "from sklearn.metrics import classification_report\n",
        "\n",
        "class_names = ['negative', 'neutral', 'positive']\n",
        "print(classification_report(y_test, y_pred, target_names=class_names))"
      ],
      "metadata": {
        "id": "HjXh3XF7E5OA"
      },
      "execution_count": null,
      "outputs": []
    },
    {
      "cell_type": "code",
      "source": [
        "import pandas as pd\n",
        "from sklearn.metrics import confusion_matrix\n",
        "def show_confusion_matrix(confusion_matrix):\n",
        "    hmap = sns.heatmap(confusion_matrix, annot=True, fmt=\"d\", cmap=\"Blues\")\n",
        "    hmap.yaxis.set_ticklabels(hmap.yaxis.get_ticklabels(), rotation=0, ha='right')\n",
        "    hmap.xaxis.set_ticklabels(hmap.xaxis.get_ticklabels(), rotation=30, ha='right')\n",
        "    plt.ylabel('True sentiment')\n",
        "    plt.xlabel('Predicted sentiment');\n",
        "\n",
        "cm = confusion_matrix(y_test, y_pred)\n",
        "df_cm = pd.DataFrame(cm, index=class_names, columns=class_names)\n",
        "show_confusion_matrix(df_cm)"
      ],
      "metadata": {
        "id": "JGYFRFplE-f1"
      },
      "execution_count": null,
      "outputs": []
    },
    {
      "cell_type": "markdown",
      "source": [
        "## Testing model on unseen data"
      ],
      "metadata": {
        "id": "1oRPQhjGFLB2"
      }
    },
    {
      "cell_type": "code",
      "source": [
        "### Predicting on Raw text data\n",
        "\n",
        "def get_sentiment(sample_review):\n",
        "    # get input ids and attention mask\n",
        "    encode_sample_review = tokenizer.encode_plus(\n",
        "                              sample_review,\n",
        "                              add_special_tokens=True,\n",
        "                              max_length=128,\n",
        "                              truncation=True,\n",
        "                              return_token_type_ids=False,\n",
        "                              pad_to_max_length=True,\n",
        "                              return_attention_mask=True,\n",
        "                              return_tensors='pt')\n",
        "\n",
        "    input_ids = encode_sample_review['input_ids']\n",
        "    attention_mask = encode_sample_review['attention_mask']\n",
        "    # predict output\n",
        "    output = model(input_ids, attention_mask)\n",
        "    _, prediction = torch.max(output, dim=1)\n",
        "    # output as probabilities\n",
        "    pred_probs = F.softmax(output,dim=1).detach().numpy().reshape(3)\n",
        "    \n",
        "    class_names = ['negative', 'neutral', 'positive']\n",
        "    data = {'class_names':class_names, \n",
        "            'value':pred_probs} \n",
        "\n",
        "    # Create DataFrame \n",
        "    df = pd.DataFrame(data)\n",
        "    # plot bars for probability of each sentiment\n",
        "    sns.barplot(x='value', y='class_names', data=df, orient='h')\n",
        "    plt.ylabel('sentiment')\n",
        "    plt.xlabel('probability')\n",
        "    plt.xlim([0, 1]);\n",
        "    print(f'Review text: {sample_review}')\n",
        "    print('=*'*50)\n",
        "\n",
        "    print(f'negative % : {pred_probs[0]:.4f}, neutral % : {pred_probs[1]:.4f}, positive % : {pred_probs[2]:.4f}')\n",
        "\n",
        "    print(f'Sentiment  : {class_names[prediction]}')"
      ],
      "metadata": {
        "id": "-TOMdH9CFNke"
      },
      "execution_count": null,
      "outputs": []
    },
    {
      "cell_type": "code",
      "source": [
        "sample = '''I would have gave it 5 stars, but it was kind of weird, because when I tried to exit the game, it kept pulling me back inside of it, but I did not want that to happen, so I went to app store, I had to reset my phone, but it's still worth. I had to go to app store and I have to give me a one song because. Filled star wrong.anyway, I spelled that wrong too even star. I gave it one star because it was kind of creepy. He was following my finger, I got really scared, so I had to exit the game'''"
      ],
      "metadata": {
        "id": "T4RatePJFYSh"
      },
      "execution_count": null,
      "outputs": []
    },
    {
      "cell_type": "code",
      "source": [
        "get_sentiment(sample)"
      ],
      "metadata": {
        "id": "r6UvRgk7FcBK"
      },
      "execution_count": null,
      "outputs": []
    }
  ]
}